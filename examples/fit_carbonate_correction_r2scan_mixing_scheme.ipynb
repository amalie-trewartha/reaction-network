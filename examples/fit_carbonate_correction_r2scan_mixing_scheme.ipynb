{
 "cells": [
  {
   "cell_type": "markdown",
   "id": "3c39eef3",
   "metadata": {},
   "source": [
    "# Fitting a Carbonate Correction for MP-sourced Gibbs free energy of formation data (300 K)\n",
    "\n",
    "Author: Matthew McDermott\n",
    "\n",
    "Date: May 24, 2022"
   ]
  },
  {
   "cell_type": "markdown",
   "id": "18332b60",
   "metadata": {},
   "source": [
    "#### Imports"
   ]
  },
  {
   "cell_type": "code",
   "execution_count": 4,
   "id": "e17d4141",
   "metadata": {},
   "outputs": [
    {
     "name": "stdout",
     "output_type": "stream",
     "text": [
      "The autoreload extension is already loaded. To reload it, use:\n",
      "  %reload_ext autoreload\n"
     ]
    }
   ],
   "source": [
    "from emmet.core.thermo import ThermoType\n",
    "from mp_api.client import MPRester\n",
    "from pymatgen.core.composition import Composition, Element\n",
    "from pymatgen.entries.mixing_scheme import MaterialsProjectDFTMixingScheme\n",
    "\n",
    "import numpy as np\n",
    "import pandas\n",
    "import plotly.express as px\n",
    "import plotly.graph_objects as go\n",
    "from scipy.optimize import minimize\n",
    "\n",
    "from rxn_network.entries.entry_set import GibbsEntrySet\n",
    "\n",
    "%load_ext autoreload\n",
    "%autoreload 2"
   ]
  },
  {
   "cell_type": "markdown",
   "id": "d7030528",
   "metadata": {},
   "source": [
    "### Chemical systems"
   ]
  },
  {
   "cell_type": "code",
   "execution_count": 5,
   "id": "154b4764",
   "metadata": {},
   "outputs": [],
   "source": [
    "metals = [\"Ag\", \"Ba\", \"Ca\", \"Cd\", \"Cs\", \"Fe\", \"K\", \n",
    "          \"Li\", \"Mg\", \"Mn\", \"Na\", \"Pb\", \"Rb\", \"Sr\", \"Zn\"]  # all metals with carbonate energies available\n",
    "\n",
    "systems = [(m, \"C\", \"O\") for m in metals]"
   ]
  },
  {
   "cell_type": "markdown",
   "id": "a830c805",
   "metadata": {},
   "source": [
    "### Downloading Materials Project (MP) data using API"
   ]
  },
  {
   "cell_type": "code",
   "execution_count": 6,
   "id": "8ecd4040",
   "metadata": {},
   "outputs": [
    {
     "data": {
      "application/vnd.jupyter.widget-view+json": {
       "model_id": "b1934a50b682499689463f5b30945d18",
       "version_major": 2,
       "version_minor": 0
      },
      "text/plain": [
       "Retrieving ThermoDoc documents:   0%|          | 0/182 [00:00<?, ?it/s]"
      ]
     },
     "metadata": {},
     "output_type": "display_data"
    },
    {
     "name": "stdout",
     "output_type": "stream",
     "text": [
      "Processing 140 GGA(+U) and 42 R2SCAN entries...\n",
      "  Processed 140 compatible GGA(+U) entries with MaterialsProject2020Compatibility\n",
      "  Entries belong to the {'O', 'Ag', 'C'} chemical system\n",
      "  Generating mixing state data from provided entries.\n"
     ]
    },
    {
     "name": "stderr",
     "output_type": "stream",
     "text": [
      "Failed to guess oxidation states for Entry mp-1214896-GGA (AgO2). Assigning anion correction to only the most electronegative atom.\n",
      "Failed to guess oxidation states for Entry mp-27819-GGA (Ag3O). Assigning anion correction to only the most electronegative atom.\n",
      "Failed to guess oxidation states for Entry mp-1197923-GGA (C61O2). Assigning anion correction to only the most electronegative atom.\n"
     ]
    },
    {
     "name": "stdout",
     "output_type": "stream",
     "text": [
      "  Entries contain R2SCAN calculations for 7 of 8 GGA(+U) hull entries.\n",
      "  R2SCAN energies will be adjusted to the GGA(+U) scale\n",
      "  The energy above hull for R2SCAN materials at compositions with R2SCAN hull entries will be preserved. For other compositions, Energies of R2SCAN materials will be set equal to those of matching GGA(+U) materials\n",
      "  Discarding GGA entry mp-47-GGA for C4 because there is a matching R2SCAN material\n",
      "  Discarding GGA entry mp-644607-GGA for C2 O4 because there is a matching R2SCAN material\n",
      "  Discarding GGA entry mp-124-GGA for Ag1 because there is a matching R2SCAN material\n",
      "  Discarding GGA entry mp-8566-GGA for Ag4 because there is a matching R2SCAN material\n",
      "  Discarding GGA entry mp-990448-GGA for C2 because there is a matching R2SCAN material\n",
      "  Discarding GGA entry mp-611448-GGA for C12 because there is a matching R2SCAN material\n",
      "  Discarding GGA entry mp-606949-GGA for C12 because there is a matching R2SCAN material\n",
      "  Discarding GGA entry mp-1190699-GGA for C8 O16 because there is a matching R2SCAN material\n",
      "  Discarding GGA entry mp-353-GGA for Ag4 O2 because it is a GGA(+U) ground state that matches a R2SCAN material.\n",
      "  Discarding GGA entry mp-1077906-GGA for C2 O4 because there is a matching R2SCAN material\n",
      "  Discarding GGA entry mp-569304-GGA for C4 because there is a matching R2SCAN material\n",
      "  Discarding GGA entry mp-10597-GGA for Ag2 because there is a matching R2SCAN material\n",
      "  Discarding GGA entry mp-1065190-GGA for Ag2 O2 because there is a matching R2SCAN material\n",
      "  Discarding GGA entry mp-569567-GGA for C14 because there is a matching R2SCAN material\n",
      "  Discarding GGA entry mp-27819-GGA for Ag6 O2 because there is a matching R2SCAN material\n",
      "  Discarding GGA entry mp-616440-GGA for C16 because there is a matching R2SCAN material\n",
      "  Discarding GGA entry mp-4691-GGA for Ag4 C2 O6 because it is a GGA(+U) ground state that matches a R2SCAN material.\n",
      "  Discarding GGA entry mp-556034-GGA for C4 O8 because there is a matching R2SCAN material\n",
      "  Discarding GGA entry mp-169-GGA for C2 because there is a matching R2SCAN material\n",
      "  Discarding GGA entry mp-754338-GGA for Ag8 O4 because there is a matching R2SCAN material\n",
      "  Discarding GGA entry mp-1066100-GGA for O4 because there is a matching R2SCAN material\n",
      "  Discarding GGA entry mp-20066-GGA for C4 O8 because it is a GGA(+U) ground state that matches a R2SCAN material.\n",
      "  Discarding GGA entry mp-611426-GGA for C8 because there is a matching R2SCAN material\n",
      "  Discarding GGA entry mp-546190-GGA for Ag4 O6 because there is a matching R2SCAN material\n",
      "  Discarding GGA entry mp-989737-GGA for Ag3 because it is a GGA(+U) ground state that matches a R2SCAN material.\n",
      "  Discarding GGA entry mp-610917-GGA for O2 because there is a matching R2SCAN material\n",
      "  Discarding GGA entry mp-499-GGA for Ag2 O2 because it is a GGA(+U) ground state that matches a R2SCAN material.\n",
      "  Discarding GGA entry mp-990424-GGA for C4 because there is a matching R2SCAN material\n",
      "  Discarding GGA entry mp-11725-GGA for C2 O4 because there is a matching R2SCAN material\n",
      "  Discarding GGA entry mp-1009490-GGA for O2 because there is a matching R2SCAN material\n",
      "  Discarding GGA entry mp-997182-GGA for C4 because there is a matching R2SCAN material\n",
      "  Discarding GGA entry mp-66-GGA for C2 because there is a matching R2SCAN material\n",
      "  Discarding GGA entry mp-569517-GGA for C10 because there is a matching R2SCAN material\n",
      "  Discarding GGA entry mp-723285-GGA for O8 because it is a GGA(+U) ground state that matches a R2SCAN material.\n",
      "  Discarding GGA entry mp-1605-GGA for Ag6 O8 because it is a GGA(+U) ground state that matches a R2SCAN material.\n",
      "  Discarding GGA entry mp-48-GGA for C4 because there is a matching R2SCAN material\n",
      "  Discarding GGA entry mp-1079720-GGA for Ag4 O4 because there is a matching R2SCAN material\n",
      "  Discarding GGA entry mp-753176-GGA for Ag2 C2 O6 because there is a matching R2SCAN material\n",
      "  Discarding GGA entry mp-569416-GGA for C8 because there is a matching R2SCAN material\n"
     ]
    },
    {
     "name": "stderr",
     "output_type": "stream",
     "text": [
      "WARNING! Discarding GGA entry mp-1065697-GGA for O1 because it was not found in the mixing state data. This can occur when there are duplicate structures. In such cases, only the lowest energy entry with that structure appears in the mixing state data.\n",
      "WARNING! Discarding GGA entry mp-611836-GGA for O2 because it was not found in the mixing state data. This can occur when there are duplicate structures. In such cases, only the lowest energy entry with that structure appears in the mixing state data.\n",
      "WARNING! Discarding GGA entry mp-1023923-GGA for O6 because it was not found in the mixing state data. This can occur when there are duplicate structures. In such cases, only the lowest energy entry with that structure appears in the mixing state data.\n",
      "WARNING! Discarding GGA entry mp-1180050-GGA for O8 because it was not found in the mixing state data. This can occur when there are duplicate structures. In such cases, only the lowest energy entry with that structure appears in the mixing state data.\n",
      "WARNING! Discarding GGA entry mp-1102442-GGA for O12 because it was not found in the mixing state data. This can occur when there are duplicate structures. In such cases, only the lowest energy entry with that structure appears in the mixing state data.\n"
     ]
    },
    {
     "name": "stdout",
     "output_type": "stream",
     "text": [
      "  Discarding R2SCAN entry mp-568806-R2SCAN for C8 because there is no matching GGA(+U) entry and no R2SCAN ground state at this composition.\n",
      "  Discarding R2SCAN entry mp-937760-R2SCAN for C4 because there is no matching GGA(+U) entry and no R2SCAN ground state at this composition.\n",
      "\n",
      "Processing complete. Mixed entries contain 96 GGA(+U) and 39 R2SCAN entries.\n",
      "\n",
      "entry_id    formula     spacegroup  run_type  eV/atom corr/atom e_above_hull\n",
      "mp-8566-R2SCANAg          P6_3/mmc    R2SCAN    -2.843  18.513    0.000    \n",
      "mp-124-R2SCANAg          Fm-3m       R2SCAN    -2.841  18.513    0.002    \n",
      "mp-10597-R2SCANAg          P6_3/mmc    R2SCAN    -2.835  18.513    0.008    \n",
      "mp-989737-R2SCANAg          R-3m        R2SCAN    -2.833  18.513    0.010    \n",
      "mp-2646971-GGAAg          Im-3m       GGA       -2.798  0.000     0.045    \n",
      "mp-654937-GGAAg(CO)2     C2/c        GGA       -6.884  -0.275    0.417    \n",
      "mp-600237-GGAAg(CO)2     C2          GGA       -6.864  -0.275    0.436    \n",
      "mp-4691-R2SCANAg2CO3      P2_1/m      R2SCAN    -6.050  6.551     0.000    \n",
      "mp-560717-GGAAg2CO3      P31c        GGA       -6.023  -0.344    0.027    \n",
      "mp-1178578-GGAAg2CO3      Ima2        GGA       -6.022  -0.344    0.027    \n",
      "mp-1229177-GGAAg2CO3      P-6         GGA       -6.020  -0.344    0.030    \n",
      "mp-676581-GGAAg2CO3      Pmc2_1      GGA       -6.020  -0.344    0.030    \n",
      "mp-353-R2SCANAg2O        Pn-3m       R2SCAN    -3.860  12.533    0.000    \n",
      "mp-754338-R2SCANAg2O        Ibam        R2SCAN    -3.841  12.533    0.019    \n",
      "mp-38238-GGAAg2O        P1          GGA       -3.752  -0.229    0.109    \n",
      "mp-7711-GGA Ag2O        P-3m1       GGA       -3.741  -0.229    0.119    \n",
      "mp-546190-R2SCANAg2O3       Fdd2        R2SCAN    -4.461  7.735     0.020    \n",
      "mp-11872-GGAAg2O3       Pn-3m       GGA       -4.291  -0.412    0.190    \n",
      "mp-1046809-GGAAg2O3       Cmcm        GGA       -4.224  -0.412    0.257    \n",
      "mp-27819-R2SCANAg3O        P-31m       R2SCAN    -3.586  14.062    0.020    \n",
      "mp-1605-R2SCANAg3O4       P2_1/c      R2SCAN    -4.447  8.236     0.000    \n",
      "mp-1008653-GGAAgC         Fm-3m       GGA       -3.794  0.000     2.242    \n",
      "mp-1183141-GGAAgC         P6_3mc      GGA       -3.785  0.000     2.251    \n",
      "mp-1008912-GGAAgC         F-43m       GGA       -3.772  0.000     2.264    \n",
      "mp-1214982-GGAAgC6        Cmmm        GGA       -6.926  0.000     1.390    \n",
      "mp-5282-GGA AgCO2       P2_1/c      GGA       -6.598  -0.344    0.221    \n",
      "mp-1182953-GGAAgCO2       P2_1/c      GGA       -6.573  -0.344    0.246    \n",
      "mp-753176-R2SCANAgCO3       R-3c        R2SCAN    -6.617  4.110     0.004    \n",
      "mp-499-R2SCANAgO         C2/c        R2SCAN    -4.335  9.508     0.000    \n",
      "mp-1079720-R2SCANAgO         P2_1/c      R2SCAN    -4.335  9.508     0.000    \n",
      "mp-1065190-R2SCANAgO         C2/c        R2SCAN    -4.335  9.508     0.001    \n",
      "mp-1066856-GGAAgO         C2/c        GGA       -4.329  -0.344    0.006    \n",
      "mp-1288-GGA AgO         I4_1/a      GGA       -4.291  -0.344    0.045    \n",
      "mp-8222-GGA AgO         F-43m       GGA       -4.029  -0.344    0.306    \n",
      "mp-1214946-GGAAgO2        I4_1/acd    GGA       -4.253  -0.107    0.307    \n",
      "mp-1214896-GGAAgO2        Pn-3m       GGA       -3.855  -0.458    0.704    \n",
      "mp-2516584-GGAC           R-3m        GGA       -9.229  0.000     0.000    \n",
      "mp-569304-R2SCANC           R-3m        R2SCAN    -9.227  0.711     0.002    \n",
      "mp-169-R2SCANC           C2/m        R2SCAN    -9.225  0.721     0.003    \n",
      "mp-937760-GGAC           Fmmm        GGA       -9.223  0.000     0.006    \n",
      "mp-568286-GGAC           Cmme        GGA       -9.220  0.000     0.008    \n",
      "mp-568363-GGAC           Cmme        GGA       -9.220  0.000     0.008    \n",
      "mp-48-R2SCANC           P6_3/mmc    R2SCAN    -9.220  0.724     0.008    \n",
      "mp-990448-R2SCANC           P6/mmm      R2SCAN    -9.220  0.715     0.009    \n",
      "mp-1040425-GGAC           P6/mmm      GGA       -9.219  0.000     0.009    \n",
      "mp-997182-R2SCANC           P6_3/mmc    R2SCAN    -9.219  0.714     0.010    \n",
      "mp-990424-R2SCANC           P-3m1       R2SCAN    -9.219  0.719     0.010    \n",
      "mp-606949-R2SCANC           P6_3mc      R2SCAN    -9.218  0.723     0.010    \n",
      "mp-568806-GGAC           P6/mmm      GGA       -9.217  0.000     0.012    \n",
      "mp-632329-GGAC           C2/m        GGA       -9.215  0.000     0.014    \n",
      "mp-569416-R2SCANC           R-3m        R2SCAN    -9.198  0.747     0.030    \n",
      "mp-1096869-GGAC           Cm          GGA       -9.111  0.000     0.118    \n",
      "mp-66-R2SCANC           Fd-3m       R2SCAN    -9.090  0.745     0.138    \n",
      "mp-616440-R2SCANC           P6_3/mmc    R2SCAN    -9.086  0.744     0.143    \n",
      "mp-611448-R2SCANC           P6_3/mmc    R2SCAN    -9.084  0.744     0.144    \n",
      "mp-569567-R2SCANC           R-3m        R2SCAN    -9.082  0.747     0.146    \n",
      "mp-569517-R2SCANC           R-3m        R2SCAN    -9.082  0.745     0.147    \n",
      "mp-611426-R2SCANC           P6_3/mmc    R2SCAN    -9.081  0.744     0.148    \n",
      "mp-47-R2SCANC           P6_3/mmc    R2SCAN    -9.065  0.742     0.163    \n",
      "mp-2647017-GGAC           P2_1/m      GGA       -9.051  0.000     0.178    \n",
      "mp-1078845-GGAC           Cmmm        GGA       -8.961  0.000     0.268    \n",
      "mp-1190171-GGAC           Pnma        GGA       -8.936  0.000     0.293    \n",
      "mp-1080826-GGAC           C2/m        GGA       -8.928  0.000     0.301    \n",
      "mp-1008395-GGAC           I4/mmm      GGA       -8.894  0.000     0.335    \n",
      "mp-683919-GGAC           Cmcm        GGA       -8.878  0.000     0.350    \n",
      "mp-1196583-GGAC           Pa-3        GGA       -8.844  0.000     0.385    \n",
      "mp-1147718-GGAC           Pnnm        GGA       -8.840  0.000     0.389    \n",
      "mp-667273-GGAC           Fm-3        GGA       -8.838  0.000     0.391    \n",
      "mp-630227-GGAC           Immm        GGA       -8.833  0.000     0.396    \n",
      "mp-680372-GGAC           R-3m        GGA       -8.820  0.000     0.409    \n",
      "mp-1008374-GGAC           Cmmm        GGA       -8.790  0.000     0.438    \n",
      "mp-568410-GGAC           Cmmm        GGA       -8.720  0.000     0.509    \n",
      "mp-568028-GGAC           Pnnm        GGA       -8.698  0.000     0.531    \n",
      "mp-2646980-GGAC           Pmmm        GGA       -8.586  0.000     0.643    \n",
      "mp-1205283-GGAC           Pnnm        GGA       -8.529  0.000     0.699    \n",
      "mp-1188817-GGAC           Pm-3m       GGA       -8.463  0.000     0.765    \n",
      "mp-570002-GGAC           Im-3m       GGA       -8.463  0.000     0.766    \n",
      "mp-24-GGA   C           Ia-3        GGA       -8.394  0.000     0.835    \n",
      "mp-1244964-GGAC           P1          GGA       -8.294  0.000     0.935    \n",
      "mp-579909-GGAC           Cmmm        GGA       -8.284  0.000     0.945    \n",
      "mp-1244913-GGAC           P1          GGA       -8.234  0.000     0.994    \n",
      "mp-1095633-GGAC           I4/mmm      GGA       -8.230  0.000     0.999    \n",
      "mp-1182029-GGAC           P2/m        GGA       -8.226  0.000     1.002    \n",
      "mp-1245190-GGAC           P1          GGA       -8.214  0.000     1.015    \n",
      "mp-723638-GGAC           P2_1/c      GGA       -8.187  0.000     1.041    \n",
      "mp-1095534-GGAC           I4/mmm      GGA       -8.105  0.000     1.123    \n",
      "mp-1205417-GGAC           I4/mmm      GGA       -8.060  0.000     1.169    \n",
      "mp-624889-GGAC           Cmme        GGA       -7.973  0.000     1.256    \n",
      "mp-1018088-GGAC           I4_132      GGA       -7.923  0.000     1.306    \n",
      "mp-1197903-GGAC           P1          GGA       -7.818  0.000     1.410    \n",
      "mp-731594-GGAC           P2_1        GGA       -7.728  0.000     1.501    \n",
      "mp-1182684-GGAC           P2_12_12_1  GGA       -7.699  0.000     1.530    \n",
      "mp-1196857-GGAC           Pnma        GGA       -7.628  0.000     1.601    \n",
      "mp-1192619-GGAC           I-43m       GGA       -7.308  0.000     1.920    \n",
      "mp-1097832-GGAC           Cmcm        GGA       -6.621  0.000     2.608    \n",
      "mp-1056957-GGAC           Cmcm        GGA       -6.610  0.000     2.618    \n",
      "mp-1181996-GGAC           I4/mmm      GGA       -6.592  0.000     2.637    \n",
      "mp-998866-GGAC           Pm-3m       GGA       -6.472  0.000     2.757    \n",
      "mp-561848-GGAC3O2        Pnma        GGA       -8.069  -0.275    0.509    \n",
      "mp-1001594-GGAC4O3        R3          GGA       -8.295  -0.294    0.237    \n"
     ]
    },
    {
     "name": "stderr",
     "output_type": "stream",
     "text": [
      "WARNING! Discarding R2SCAN entry mp-1009490-R2SCAN for O2 because it was not found in the mixing state data. This can occur when there are duplicate structures. In such cases, only the lowest energy entry with that structure appears in the mixing state data.\n"
     ]
    },
    {
     "name": "stdout",
     "output_type": "stream",
     "text": [
      "mp-1001608-GGAC4O3        P1          GGA       -6.646  -0.294    1.886    \n",
      "mp-1197923-GGAC61O2       P2_1/c      GGA       -8.810  -0.022    0.367    \n",
      "mp-995183-GGACO          Pnma        GGA       -7.867  -0.344    0.549    \n",
      "mp-11875-GGACO          P2_13       GGA       -7.754  -0.344    0.661    \n",
      "mp-729933-GGACO          P2_12_12_1  GGA       -7.746  -0.344    0.669    \n",
      "mp-556660-GGACO          R3c         GGA       -7.739  -0.344    0.677    \n",
      "mp-20066-R2SCANCO2         Pa-3        R2SCAN    -8.144  0.452     0.000    \n",
      "mp-644607-R2SCANCO2         P4_2/mnm    R2SCAN    -8.139  0.452     0.005    \n",
      "mp-1077906-R2SCANCO2         Cmce        R2SCAN    -8.137  0.452     0.007    \n",
      "mp-1190699-R2SCANCO2         R-3c        R2SCAN    -8.137  0.452     0.007    \n",
      "mp-11725-R2SCANCO2         P4_2/mnm    R2SCAN    -8.135  0.452     0.009    \n",
      "mp-556034-R2SCANCO2         Pbcn        R2SCAN    -8.134  0.452     0.011    \n",
      "mp-1102227-GGACO2         P4_12_12    GGA       -8.128  -0.458    0.017    \n",
      "mp-729728-GGACO2         Pna2_1      GGA       -8.126  -0.458    0.018    \n",
      "mp-995224-GGACO2         I4_1/a      GGA       -7.847  -0.458    0.297    \n",
      "mp-995198-GGACO2         P2_1/c      GGA       -7.826  -0.458    0.319    \n",
      "mp-1077316-GGACO2         I-42d       GGA       -7.695  -0.458    0.450    \n",
      "mp-1190685-GGACO2         P2_12_12_1  GGA       -7.634  -0.458    0.511    \n",
      "mp-995196-GGACO3         P4/mmm      GGA       -4.271  -0.515    3.075    \n",
      "mp-611836-R2SCANO2          C2/m        R2SCAN    -4.952  1.008     0.000    \n",
      "mp-610917-R2SCANO2          R-3m        R2SCAN    -4.947  1.008     0.005    \n",
      "mp-723285-R2SCANO2          P4_12_12    R2SCAN    -4.947  1.008     0.006    \n",
      "mp-1087546-GGAO2          C2/c        GGA       -4.930  0.000     0.022    \n",
      "mp-1180036-GGAO2          P2/c        GGA       -4.918  0.000     0.034    \n",
      "mp-607540-GGAO2          Fmmm        GGA       -4.827  0.000     0.125    \n",
      "mp-1066100-R2SCANO2          P6_3/mmc    R2SCAN    -4.684  1.008     0.269    \n",
      "mp-1180064-GGAO2          P1          GGA       -4.561  0.000     0.391    \n",
      "mp-560602-GGAO2          Pbca        GGA       -4.537  0.000     0.416    \n",
      "mp-1180008-GGAO2          P1          GGA       -4.528  0.000     0.424    \n",
      "mp-734188-GGAO2          P4_1        GGA       -4.513  0.000     0.439    \n",
      "mp-2421172-GGAO2          R3c         GGA       -4.032  0.000     0.921    \n",
      "mp-1056831-GGAO2          P2/m        GGA       -3.637  0.000     1.315    \n",
      "mp-1056059-GGAO2          P4/mmm      GGA       -3.390  0.000     1.562    \n",
      "mp-1058623-GGAO2          Cmcm        GGA       -3.377  0.000     1.575    \n",
      "mp-1057818-GGAO2          Fd-3m       GGA       -3.067  0.000     1.885    \n"
     ]
    },
    {
     "data": {
      "application/vnd.jupyter.widget-view+json": {
       "model_id": "b8530d5028ba48aab2785d56ecbe50a2",
       "version_major": 2,
       "version_minor": 0
      },
      "text/plain": [
       "Retrieving ThermoDoc documents:   0%|          | 0/214 [00:00<?, ?it/s]"
      ]
     },
     "metadata": {},
     "output_type": "display_data"
    },
    {
     "name": "stdout",
     "output_type": "stream",
     "text": [
      "Processing 173 GGA(+U) and 41 R2SCAN entries...\n",
      "  Processed 173 compatible GGA(+U) entries with MaterialsProject2020Compatibility\n",
      "  Entries belong to the {'O', 'Ba', 'C'} chemical system\n",
      "  Generating mixing state data from provided entries.\n"
     ]
    },
    {
     "name": "stderr",
     "output_type": "stream",
     "text": [
      "Failed to guess oxidation states for Entry mp-1214434-GGA (BaCO4). Assigning anion correction to only the most electronegative atom.\n",
      "Failed to guess oxidation states for Entry mp-1197923-GGA (C61O2). Assigning anion correction to only the most electronegative atom.\n",
      "Failed to guess oxidation states for Entry mp-1182169-GGA (BaO6). Assigning anion correction to only the most electronegative atom.\n",
      "Failed to guess oxidation states for Entry mp-1182259-GGA (BaO2). Assigning anion correction to only the most electronegative atom.\n",
      "Failed to guess oxidation states for Entry mp-1182327-GGA (BaO4). Assigning anion correction to only the most electronegative atom.\n",
      "Failed to guess oxidation states for Entry mp-1182404-GGA (BaO10). Assigning anion correction to only the most electronegative atom.\n",
      "Failed to guess oxidation states for Entry mp-1182433-GGA (BaO4). Assigning anion correction to only the most electronegative atom.\n",
      "Failed to guess oxidation states for Entry mp-1182511-GGA (BaO10). Assigning anion correction to only the most electronegative atom.\n",
      "Failed to guess oxidation states for Entry mp-1182576-GGA (BaO10). Assigning anion correction to only the most electronegative atom.\n",
      "Failed to guess oxidation states for Entry mp-1182720-GGA (BaO10). Assigning anion correction to only the most electronegative atom.\n",
      "Failed to guess oxidation states for Entry mp-1198148-GGA (BaO10). Assigning anion correction to only the most electronegative atom.\n",
      "Failed to guess oxidation states for Entry mp-1198787-GGA (BaO6). Assigning anion correction to only the most electronegative atom.\n",
      "Failed to guess oxidation states for Entry mp-1206655-GGA (BaO3). Assigning anion correction to only the most electronegative atom.\n",
      "Failed to guess oxidation states for Entry mp-1214539-GGA (BaO5). Assigning anion correction to only the most electronegative atom.\n"
     ]
    },
    {
     "name": "stdout",
     "output_type": "stream",
     "text": [
      "  Entries contain R2SCAN calculations for 6 of 9 GGA(+U) hull entries.\n",
      "  R2SCAN energies will be adjusted to the GGA(+U) scale\n",
      "  The energy above hull for R2SCAN materials at compositions with R2SCAN hull entries will be preserved. For other compositions, Energies of R2SCAN materials will be set equal to those of matching GGA(+U) materials\n",
      "  Discarding GGA entry mp-47-GGA for C4 because there is a matching R2SCAN material\n",
      "  Discarding GGA entry mp-776658-GGA for Ba16 O16 because there is a matching R2SCAN material\n",
      "  Discarding GGA entry mp-5504-GGA for Ba4 C4 O12 because it is a GGA(+U) ground state that matches a R2SCAN material.\n",
      "  Discarding GGA entry mp-644607-GGA for C2 O4 because there is a matching R2SCAN material\n",
      "  Discarding GGA entry mp-10679-GGA for Ba1 because there is a matching R2SCAN material\n",
      "  Discarding GGA entry mp-990448-GGA for C2 because there is a matching R2SCAN material\n",
      "  Discarding GGA entry mp-611448-GGA for C12 because there is a matching R2SCAN material\n",
      "  Discarding GGA entry mp-606949-GGA for C12 because there is a matching R2SCAN material\n",
      "  Discarding GGA entry mp-1190699-GGA for C8 O16 because there is a matching R2SCAN material\n",
      "  Discarding GGA entry mp-605790-GGA for Ba1 because there is a matching R2SCAN material\n",
      "  Discarding GGA entry mp-1077906-GGA for C2 O4 because there is a matching R2SCAN material\n",
      "  Discarding GGA entry mp-1342-GGA for Ba1 O1 because it is a GGA(+U) ground state that matches a R2SCAN material.\n",
      "  Discarding GGA entry mp-569304-GGA for C4 because there is a matching R2SCAN material\n",
      "  Discarding GGA entry mp-1105-GGA for Ba1 O2 because it is a GGA(+U) ground state that matches a R2SCAN material.\n",
      "  Discarding GGA entry mp-569567-GGA for C14 because there is a matching R2SCAN material\n",
      "  Discarding GGA entry mp-570384-GGA for Ba4 because there is a matching R2SCAN material\n",
      "  Discarding GGA entry mp-616440-GGA for C16 because there is a matching R2SCAN material\n",
      "  Discarding GGA entry mp-556034-GGA for C4 O8 because there is a matching R2SCAN material\n",
      "  Discarding GGA entry mp-169-GGA for C2 because there is a matching R2SCAN material\n",
      "  Discarding GGA entry mp-1066100-GGA for O4 because there is a matching R2SCAN material\n",
      "  Discarding GGA entry mp-20066-GGA for C4 O8 because it is a GGA(+U) ground state that matches a R2SCAN material.\n",
      "  Discarding GGA entry mp-2506699-GGA for Ba2 C2 O6 because there is a matching R2SCAN material\n",
      "  Discarding GGA entry mp-611426-GGA for C8 because there is a matching R2SCAN material\n",
      "  Discarding GGA entry mp-610917-GGA for O2 because there is a matching R2SCAN material\n",
      "  Discarding GGA entry mp-990424-GGA for C4 because there is a matching R2SCAN material\n",
      "  Discarding GGA entry mp-1214417-GGA for Ba2 C12 because it is a GGA(+U) ground state that matches a R2SCAN material.\n",
      "  Discarding GGA entry mp-11725-GGA for C2 O4 because there is a matching R2SCAN material\n",
      "  Discarding GGA entry mp-1009490-GGA for O2 because there is a matching R2SCAN material\n",
      "  Discarding GGA entry mp-997182-GGA for C4 because there is a matching R2SCAN material\n",
      "  Discarding GGA entry mp-1008500-GGA for Ba2 O2 because there is a matching R2SCAN material\n",
      "  Discarding GGA entry mp-726415-GGA for Ba8 O16 because there is a matching R2SCAN material\n",
      "  Discarding GGA entry mp-66-GGA for C2 because there is a matching R2SCAN material\n",
      "  Discarding GGA entry mp-569517-GGA for C10 because there is a matching R2SCAN material\n",
      "  Discarding GGA entry mp-723285-GGA for O8 because it is a GGA(+U) ground state that matches a R2SCAN material.\n",
      "  Discarding GGA entry mp-48-GGA for C4 because there is a matching R2SCAN material\n",
      "  Discarding GGA entry mp-56-GGA for Ba2 because there is a matching R2SCAN material\n",
      "  Discarding GGA entry mp-569416-GGA for C8 because there is a matching R2SCAN material\n"
     ]
    },
    {
     "name": "stderr",
     "output_type": "stream",
     "text": [
      "WARNING! Discarding GGA entry mp-1065697-GGA for O1 because it was not found in the mixing state data. This can occur when there are duplicate structures. In such cases, only the lowest energy entry with that structure appears in the mixing state data.\n",
      "WARNING! Discarding GGA entry mp-611836-GGA for O2 because it was not found in the mixing state data. This can occur when there are duplicate structures. In such cases, only the lowest energy entry with that structure appears in the mixing state data.\n",
      "WARNING! Discarding GGA entry mp-1023923-GGA for O6 because it was not found in the mixing state data. This can occur when there are duplicate structures. In such cases, only the lowest energy entry with that structure appears in the mixing state data.\n",
      "WARNING! Discarding GGA entry mp-1180050-GGA for O8 because it was not found in the mixing state data. This can occur when there are duplicate structures. In such cases, only the lowest energy entry with that structure appears in the mixing state data.\n",
      "WARNING! Discarding GGA entry mp-1102442-GGA for O12 because it was not found in the mixing state data. This can occur when there are duplicate structures. In such cases, only the lowest energy entry with that structure appears in the mixing state data.\n"
     ]
    },
    {
     "name": "stdout",
     "output_type": "stream",
     "text": [
      "  Discarding R2SCAN entry mp-122-R2SCAN for Ba2 because there is no matching GGA(+U) entry and no R2SCAN ground state at this composition.\n",
      "  Discarding R2SCAN entry mp-568806-R2SCAN for C8 because there is no matching GGA(+U) entry and no R2SCAN ground state at this composition.\n",
      "  Discarding R2SCAN entry mp-937760-R2SCAN for C4 because there is no matching GGA(+U) entry and no R2SCAN ground state at this composition.\n",
      "\n",
      "Processing complete. Mixed entries contain 131 GGA(+U) and 37 R2SCAN entries.\n",
      "\n",
      "entry_id    formula     spacegroup  run_type  eV/atom corr/atom e_above_hull\n",
      "mp-122-GGA  Ba          Im-3m       GGA       -1.919  0.000     0.000    \n",
      "mp-1096840-GGABa          Cmcm        GGA       -1.919  0.000     0.000    \n",
      "mp-10679-R2SCANBa          Fm-3m       R2SCAN    -1.906  24.500    0.013    \n",
      "mp-56-R2SCANBa          Cmcm        R2SCAN    -1.903  24.597    0.016    \n",
      "mp-1058581-GGABa          Cmcm        GGA       -1.900  0.000     0.019    \n",
      "mp-570384-R2SCANBa          I4/mcm      R2SCAN    -1.789  24.501    0.130    \n",
      "mp-605790-R2SCANBa          P6/mmm      R2SCAN    -1.744  24.540    0.175    \n",
      "mp-639747-GGABa          Pm-3m       GGA       -1.623  0.000     0.296    \n",
      "mp-1977763-GGABa          P4/mmm      GGA       -1.560  0.000     0.359    \n",
      "mp-1096835-GGABa          Cmcm        GGA       -1.405  0.000     0.514    \n",
      "mp-1008283-GGABa          P6/mmm      GGA       -1.191  0.000     0.728    \n",
      "mp-1214983-GGABa(C2O5)2   C2/c        GGA       -7.461  -0.458    0.383    \n",
      "mp-30237-GGABa(CO)4     I4/mcm      GGA       -8.010  -0.305    0.290    \n",
      "mp-1194021-GGABa(CO2)2    P-1         GGA       -7.954  -0.393    0.080    \n",
      "mp-1193053-GGABa(CO2)2    P2_12_12_1  GGA       -7.509  -0.393    0.525    \n",
      "mp-732336-GGABa(CO2)2    P2_12_12_1  GGA       -7.473  -0.393    0.562    \n",
      "mp-1214990-GGABa(CO3)2    P2_1/c      GGA       -7.004  -0.107    0.640    \n",
      "mp-1215131-GGABa2C4O9     P-1         GGA       -7.892  -0.412    0.113    \n",
      "mp-1215050-GGABa2C4O9     P-1         GGA       -7.491  -0.097    0.515    \n",
      "mp-997616-GGABaC         Fm-3m       GGA       -4.181  0.000     1.442    \n",
      "mp-18027-GGABaC10       Im-3        GGA       -8.393  0.000     0.224    \n",
      "mp-10293-GGABaC2        C2/c        GGA       -6.710  0.000     0.147    \n",
      "mp-1735-GGA BaC2        I4/mmm      GGA       -6.697  0.000     0.160    \n",
      "mp-1018141-GGABaC2        R-3m        GGA       -6.616  0.000     0.241    \n",
      "mp-1192077-GGABaC2        Pnma        GGA       -6.379  0.000     0.478    \n",
      "mp-1227975-GGABaC2        P4/mmm      GGA       -3.377  0.000     3.480    \n",
      "mp-28979-GGABaC20       Pm-3n       GGA       -8.647  0.000     0.261    \n",
      "mp-1214493-GGABaC2O5      C2/m        GGA       -7.367  -0.429    0.613    \n",
      "mp-1214417-R2SCANBaC6        P6_3/mmc    R2SCAN    -8.268  4.163     0.000    \n",
      "mp-5504-R2SCANBaCO3       Pnma        R2SCAN    -7.882  5.393     0.000    \n",
      "mp-762225-GGABaCO3       P2_1        GGA       -7.868  -0.412    0.013    \n",
      "mp-2506699-R2SCANBaCO3       P2_1        R2SCAN    -7.866  5.393     0.015    \n",
      "mp-4559-GGA BaCO3       R3m         GGA       -7.860  -0.412    0.022    \n",
      "mp-676020-GGABaCO3       C2/m        GGA       -7.848  -0.412    0.034    \n",
      "mp-34195-GGABaCO3       P2_1/m      GGA       -7.846  -0.412    0.035    \n",
      "mp-2626703-GGABaCO3       Pnn2        GGA       -7.838  -0.412    0.044    \n",
      "mp-1227982-GGABaCO3       R32         GGA       -7.832  -0.412    0.049    \n",
      "mp-674478-GGABaCO3       R-3c        GGA       -7.832  -0.412    0.050    \n",
      "mp-675324-GGABaCO3       Pnn2        GGA       -7.806  -0.412    0.076    \n",
      "mp-545643-GGABaCO3       P6_3/mmc    GGA       -7.777  -0.412    0.104    \n",
      "mp-1214434-GGABaCO4       Pnma        GGA       -7.105  -0.458    0.288    \n",
      "mp-1342-R2SCANBaO         Fm-3m       R2SCAN    -6.257  12.658    0.000    \n",
      "mp-776658-R2SCANBaO         Amm2        R2SCAN    -6.246  12.658    0.011    \n",
      "mp-1178514-GGABaO         P6_3mc      GGA       -6.240  -0.344    0.018    \n",
      "mp-1008500-R2SCANBaO         P6_3/mmc    R2SCAN    -6.238  12.658    0.019    \n",
      "mp-1178531-GGABaO         Pbcm        GGA       -6.237  -0.344    0.020    \n",
      "mp-7487-GGA BaO         P4/nmm      GGA       -6.125  -0.344    0.132    \n",
      "mp-1245311-GGABaO         P1          GGA       -6.086  -0.344    0.171    \n",
      "mp-1245298-GGABaO         P1          GGA       -6.058  -0.344    0.199    \n",
      "mp-1244871-GGABaO         P1          GGA       -6.053  -0.344    0.204    \n",
      "mp-1245192-GGABaO         P1          GGA       -6.051  -0.344    0.206    \n",
      "mp-1245276-GGABaO         P1          GGA       -6.028  -0.344    0.229    \n",
      "mp-1182576-GGABaO10       P4/mcc      GGA       -5.274  -0.146    0.000    \n",
      "mp-1182404-GGABaO10       P4/mcc      GGA       -5.233  -0.146    0.041    \n",
      "mp-1182511-GGABaO10       P4/mcc      GGA       -5.207  -0.146    0.067    \n",
      "mp-1198148-GGABaO10       P2_1/c      GGA       -5.092  0.000     0.182    \n",
      "mp-1182720-GGABaO10       P2_1/c      GGA       -5.056  0.000     0.219    \n",
      "mp-1105-R2SCANBaO2        I4/mmm      R2SCAN    -6.108  8.738     0.000    \n",
      "mp-726415-R2SCANBaO2        P2_1/c      R2SCAN    -6.039  8.738     0.070    \n",
      "mp-1006878-GGABaO2        Cmmm        GGA       -5.988  -0.310    0.120    \n",
      "mp-1182238-GGABaO2        P2_1/c      GGA       -5.690  -0.458    0.418    \n",
      "mp-1182141-GGABaO2        P2_1/c      GGA       -5.690  -0.458    0.419    \n",
      "mp-1182259-GGABaO2        P2_1/c      GGA       -5.675  -0.458    0.433    \n",
      "mp-1206655-GGABaO3        Pmc2_1      GGA       -5.394  -0.515    0.428    \n",
      "mp-1182327-GGABaO4        P2_1/c      GGA       -5.545  -0.129    0.104    \n",
      "mp-1182433-GGABaO4        P2_1/c      GGA       -5.530  -0.129    0.120    \n",
      "mp-1214539-GGABaO5        Pnma        GGA       -5.257  -0.134    0.278    \n",
      "mp-1182169-GGABaO6        C2/c        GGA       -5.413  -0.138    0.039    \n",
      "mp-1198787-GGABaO6        Pbca        GGA       -5.409  -0.138    0.044    \n",
      "mp-2516584-GGAC           R-3m        GGA       -9.229  0.000     0.000    \n",
      "mp-569304-R2SCANC           R-3m        R2SCAN    -9.227  0.711     0.002    \n",
      "mp-169-R2SCANC           C2/m        R2SCAN    -9.225  0.721     0.003    \n",
      "mp-937760-GGAC           Fmmm        GGA       -9.223  0.000     0.006    \n",
      "mp-568286-GGAC           Cmme        GGA       -9.220  0.000     0.008    \n",
      "mp-568363-GGAC           Cmme        GGA       -9.220  0.000     0.008    \n",
      "mp-48-R2SCANC           P6_3/mmc    R2SCAN    -9.220  0.724     0.008    \n",
      "mp-990448-R2SCANC           P6/mmm      R2SCAN    -9.220  0.715     0.009    \n",
      "mp-1040425-GGAC           P6/mmm      GGA       -9.219  0.000     0.009    \n",
      "mp-997182-R2SCANC           P6_3/mmc    R2SCAN    -9.219  0.714     0.010    \n",
      "mp-990424-R2SCANC           P-3m1       R2SCAN    -9.219  0.719     0.010    \n",
      "mp-606949-R2SCANC           P6_3mc      R2SCAN    -9.218  0.723     0.010    \n",
      "mp-568806-GGAC           P6/mmm      GGA       -9.217  0.000     0.012    \n",
      "mp-632329-GGAC           C2/m        GGA       -9.215  0.000     0.014    \n",
      "mp-569416-R2SCANC           R-3m        R2SCAN    -9.198  0.747     0.030    \n",
      "mp-1096869-GGAC           Cm          GGA       -9.111  0.000     0.118    \n",
      "mp-66-R2SCANC           Fd-3m       R2SCAN    -9.090  0.745     0.138    \n",
      "mp-616440-R2SCANC           P6_3/mmc    R2SCAN    -9.086  0.744     0.143    \n",
      "mp-611448-R2SCANC           P6_3/mmc    R2SCAN    -9.084  0.744     0.144    \n",
      "mp-569567-R2SCANC           R-3m        R2SCAN    -9.082  0.747     0.146    \n",
      "mp-569517-R2SCANC           R-3m        R2SCAN    -9.082  0.745     0.147    \n",
      "mp-611426-R2SCANC           P6_3/mmc    R2SCAN    -9.081  0.744     0.148    \n",
      "mp-47-R2SCANC           P6_3/mmc    R2SCAN    -9.065  0.742     0.163    \n",
      "mp-2647017-GGAC           P2_1/m      GGA       -9.051  0.000     0.178    \n",
      "mp-1078845-GGAC           Cmmm        GGA       -8.961  0.000     0.268    \n",
      "mp-1190171-GGAC           Pnma        GGA       -8.936  0.000     0.293    \n",
      "mp-1080826-GGAC           C2/m        GGA       -8.928  0.000     0.301    \n",
      "mp-1008395-GGAC           I4/mmm      GGA       -8.894  0.000     0.335    \n",
      "mp-683919-GGAC           Cmcm        GGA       -8.878  0.000     0.350    \n",
      "mp-1196583-GGAC           Pa-3        GGA       -8.844  0.000     0.385    \n",
      "mp-1147718-GGAC           Pnnm        GGA       -8.840  0.000     0.389    \n",
      "mp-667273-GGAC           Fm-3        GGA       -8.838  0.000     0.391    \n",
      "mp-630227-GGAC           Immm        GGA       -8.833  0.000     0.396    \n",
      "mp-680372-GGAC           R-3m        GGA       -8.820  0.000     0.409    \n",
      "mp-1008374-GGAC           Cmmm        GGA       -8.790  0.000     0.438    \n",
      "mp-568410-GGAC           Cmmm        GGA       -8.720  0.000     0.509    \n",
      "mp-568028-GGAC           Pnnm        GGA       -8.698  0.000     0.531    \n",
      "mp-2646980-GGAC           Pmmm        GGA       -8.586  0.000     0.643    \n",
      "mp-1205283-GGAC           Pnnm        GGA       -8.529  0.000     0.699    \n",
      "mp-1188817-GGAC           Pm-3m       GGA       -8.463  0.000     0.765    \n",
      "mp-570002-GGAC           Im-3m       GGA       -8.463  0.000     0.766    \n",
      "mp-24-GGA   C           Ia-3        GGA       -8.394  0.000     0.835    \n",
      "mp-1244964-GGAC           P1          GGA       -8.294  0.000     0.935    \n",
      "mp-579909-GGAC           Cmmm        GGA       -8.284  0.000     0.945    \n",
      "mp-1244913-GGAC           P1          GGA       -8.234  0.000     0.994    \n",
      "mp-1095633-GGAC           I4/mmm      GGA       -8.230  0.000     0.999    \n",
      "mp-1182029-GGAC           P2/m        GGA       -8.226  0.000     1.002    \n",
      "mp-1245190-GGAC           P1          GGA       -8.214  0.000     1.015    \n",
      "mp-723638-GGAC           P2_1/c      GGA       -8.187  0.000     1.041    \n",
      "mp-1095534-GGAC           I4/mmm      GGA       -8.105  0.000     1.123    \n",
      "mp-1205417-GGAC           I4/mmm      GGA       -8.060  0.000     1.169    \n",
      "mp-624889-GGAC           Cmme        GGA       -7.973  0.000     1.256    \n",
      "mp-1018088-GGAC           I4_132      GGA       -7.923  0.000     1.306    \n",
      "mp-1197903-GGAC           P1          GGA       -7.818  0.000     1.410    \n",
      "mp-731594-GGAC           P2_1        GGA       -7.728  0.000     1.501    \n",
      "mp-1182684-GGAC           P2_12_12_1  GGA       -7.699  0.000     1.530    \n",
      "mp-1196857-GGAC           Pnma        GGA       -7.628  0.000     1.601    \n",
      "mp-1192619-GGAC           I-43m       GGA       -7.308  0.000     1.920    \n",
      "mp-1097832-GGAC           Cmcm        GGA       -6.621  0.000     2.608    \n",
      "mp-1056957-GGAC           Cmcm        GGA       -6.610  0.000     2.618    \n",
      "mp-1181996-GGAC           I4/mmm      GGA       -6.592  0.000     2.637    \n",
      "mp-998866-GGAC           Pm-3m       GGA       -6.472  0.000     2.757    \n",
      "mp-561848-GGAC3O2        Pnma        GGA       -8.069  -0.275    0.509    \n",
      "mp-1001594-GGAC4O3        R3          GGA       -8.295  -0.294    0.237    \n",
      "mp-1001608-GGAC4O3        P1          GGA       -6.646  -0.294    1.886    \n"
     ]
    },
    {
     "name": "stderr",
     "output_type": "stream",
     "text": [
      "WARNING! Discarding R2SCAN entry mp-1009490-R2SCAN for O2 because it was not found in the mixing state data. This can occur when there are duplicate structures. In such cases, only the lowest energy entry with that structure appears in the mixing state data.\n"
     ]
    },
    {
     "name": "stdout",
     "output_type": "stream",
     "text": [
      "mp-1197923-GGAC61O2       P2_1/c      GGA       -8.810  -0.022    0.367    \n",
      "mp-995183-GGACO          Pnma        GGA       -7.867  -0.344    0.549    \n",
      "mp-11875-GGACO          P2_13       GGA       -7.754  -0.344    0.661    \n",
      "mp-729933-GGACO          P2_12_12_1  GGA       -7.746  -0.344    0.669    \n",
      "mp-556660-GGACO          R3c         GGA       -7.739  -0.344    0.677    \n",
      "mp-20066-R2SCANCO2         Pa-3        R2SCAN    -8.144  0.452     0.000    \n",
      "mp-644607-R2SCANCO2         P4_2/mnm    R2SCAN    -8.139  0.452     0.005    \n",
      "mp-1077906-R2SCANCO2         Cmce        R2SCAN    -8.137  0.452     0.007    \n",
      "mp-1190699-R2SCANCO2         R-3c        R2SCAN    -8.137  0.452     0.007    \n",
      "mp-11725-R2SCANCO2         P4_2/mnm    R2SCAN    -8.135  0.452     0.009    \n",
      "mp-556034-R2SCANCO2         Pbcn        R2SCAN    -8.134  0.452     0.011    \n",
      "mp-1102227-GGACO2         P4_12_12    GGA       -8.128  -0.458    0.017    \n",
      "mp-729728-GGACO2         Pna2_1      GGA       -8.126  -0.458    0.018    \n",
      "mp-995224-GGACO2         I4_1/a      GGA       -7.847  -0.458    0.297    \n",
      "mp-995198-GGACO2         P2_1/c      GGA       -7.826  -0.458    0.319    \n",
      "mp-1077316-GGACO2         I-42d       GGA       -7.695  -0.458    0.450    \n",
      "mp-1190685-GGACO2         P2_12_12_1  GGA       -7.634  -0.458    0.511    \n",
      "mp-995196-GGACO3         P4/mmm      GGA       -4.271  -0.515    3.075    \n",
      "mp-611836-R2SCANO2          C2/m        R2SCAN    -4.952  1.008     0.000    \n",
      "mp-610917-R2SCANO2          R-3m        R2SCAN    -4.947  1.008     0.005    \n",
      "mp-723285-R2SCANO2          P4_12_12    R2SCAN    -4.947  1.008     0.006    \n",
      "mp-1087546-GGAO2          C2/c        GGA       -4.930  0.000     0.022    \n",
      "mp-1180036-GGAO2          P2/c        GGA       -4.918  0.000     0.034    \n",
      "mp-607540-GGAO2          Fmmm        GGA       -4.827  0.000     0.125    \n",
      "mp-1066100-R2SCANO2          P6_3/mmc    R2SCAN    -4.684  1.008     0.269    \n",
      "mp-1180064-GGAO2          P1          GGA       -4.561  0.000     0.391    \n",
      "mp-560602-GGAO2          Pbca        GGA       -4.537  0.000     0.416    \n",
      "mp-1180008-GGAO2          P1          GGA       -4.528  0.000     0.424    \n",
      "mp-734188-GGAO2          P4_1        GGA       -4.513  0.000     0.439    \n",
      "mp-2421172-GGAO2          R3c         GGA       -4.032  0.000     0.921    \n",
      "mp-1056831-GGAO2          P2/m        GGA       -3.637  0.000     1.315    \n",
      "mp-1056059-GGAO2          P4/mmm      GGA       -3.390  0.000     1.562    \n",
      "mp-1058623-GGAO2          Cmcm        GGA       -3.377  0.000     1.575    \n",
      "mp-1057818-GGAO2          Fd-3m       GGA       -3.067  0.000     1.885    \n"
     ]
    },
    {
     "data": {
      "application/vnd.jupyter.widget-view+json": {
       "model_id": "af52fa7e96084fa293a172e6df93ee73",
       "version_major": 2,
       "version_minor": 0
      },
      "text/plain": [
       "Retrieving ThermoDoc documents:   0%|          | 0/225 [00:00<?, ?it/s]"
      ]
     },
     "metadata": {},
     "output_type": "display_data"
    },
    {
     "name": "stdout",
     "output_type": "stream",
     "text": [
      "Processing 175 GGA(+U) and 50 R2SCAN entries...\n",
      "  Processed 175 compatible GGA(+U) entries with MaterialsProject2020Compatibility\n",
      "  Entries belong to the {'Ca', 'C', 'O'} chemical system\n",
      "  Generating mixing state data from provided entries.\n"
     ]
    },
    {
     "name": "stderr",
     "output_type": "stream",
     "text": [
      "Failed to guess oxidation states for Entry mp-1214358-GGA (CaCO4). Assigning anion correction to only the most electronegative atom.\n",
      "Failed to guess oxidation states for Entry mp-1182183-GGA (CaO10). Assigning anion correction to only the most electronegative atom.\n",
      "Failed to guess oxidation states for Entry mp-1182382-GGA (CaO10). Assigning anion correction to only the most electronegative atom.\n",
      "Failed to guess oxidation states for Entry mp-1197923-GGA (C61O2). Assigning anion correction to only the most electronegative atom.\n"
     ]
    },
    {
     "name": "stdout",
     "output_type": "stream",
     "text": [
      "  Entries contain R2SCAN calculations for 6 of 7 GGA(+U) hull entries.\n",
      "  R2SCAN energies will be adjusted to the GGA(+U) scale\n",
      "  The energy above hull for R2SCAN materials at compositions with R2SCAN hull entries will be preserved. For other compositions, Energies of R2SCAN materials will be set equal to those of matching GGA(+U) materials\n",
      "  Discarding GGA entry mp-2717324-GGA for Ca3 C3 O9 because there is a matching R2SCAN material\n",
      "  Discarding GGA entry mp-47-GGA for C4 because there is a matching R2SCAN material\n",
      "  Discarding GGA entry mp-1188902-GGA for Ca4 C4 O12 because there is a matching R2SCAN material\n",
      "  Discarding GGA entry mp-644607-GGA for C2 O4 because there is a matching R2SCAN material\n",
      "  Discarding GGA entry mp-990448-GGA for C2 because there is a matching R2SCAN material\n",
      "  Discarding GGA entry mp-3953-GGA for Ca2 C2 O6 because it is a GGA(+U) ground state that matches a R2SCAN material.\n",
      "  Discarding GGA entry mp-611448-GGA for C12 because there is a matching R2SCAN material\n",
      "  Discarding GGA entry mp-2605-GGA for Ca1 O1 because it is a GGA(+U) ground state that matches a R2SCAN material.\n",
      "  Discarding GGA entry mp-21-GGA for Ca1 because there is a matching R2SCAN material\n",
      "  Discarding GGA entry mp-606949-GGA for C12 because there is a matching R2SCAN material\n",
      "  Discarding GGA entry mp-1190699-GGA for C8 O16 because there is a matching R2SCAN material\n",
      "  Discarding GGA entry mp-1008498-GGA for Ca4 because there is a matching R2SCAN material\n",
      "  Discarding GGA entry mp-1077906-GGA for C2 O4 because there is a matching R2SCAN material\n",
      "  Discarding GGA entry mp-569304-GGA for C4 because there is a matching R2SCAN material\n",
      "  Discarding GGA entry mp-1194399-GGA for Ca6 C6 O18 because there is a matching R2SCAN material\n",
      "  Discarding GGA entry mp-569567-GGA for C14 because there is a matching R2SCAN material\n",
      "  Discarding GGA entry mp-616440-GGA for C16 because there is a matching R2SCAN material\n",
      "  Discarding GGA entry mp-556034-GGA for C4 O8 because there is a matching R2SCAN material\n",
      "  Discarding GGA entry mp-169-GGA for C2 because there is a matching R2SCAN material\n",
      "  Discarding GGA entry mp-2482-GGA for Ca1 C2 because there is a matching R2SCAN material\n",
      "  Discarding GGA entry mp-1066100-GGA for O4 because there is a matching R2SCAN material\n",
      "  Discarding GGA entry mp-20066-GGA for C4 O8 because it is a GGA(+U) ground state that matches a R2SCAN material.\n",
      "  Discarding GGA entry mp-553939-GGA for Ca4 C4 O12 because there is a matching R2SCAN material\n",
      "  Discarding GGA entry mp-611426-GGA for C8 because there is a matching R2SCAN material\n",
      "  Discarding GGA entry mp-610917-GGA for O2 because there is a matching R2SCAN material\n",
      "  Discarding GGA entry mp-990424-GGA for C4 because there is a matching R2SCAN material\n",
      "  Discarding GGA entry mp-1064227-GGA for Ca2 because there is a matching R2SCAN material\n",
      "  Discarding GGA entry mp-11725-GGA for C2 O4 because there is a matching R2SCAN material\n",
      "  Discarding GGA entry mp-1009490-GGA for O2 because there is a matching R2SCAN material\n",
      "  Discarding GGA entry mp-997182-GGA for C4 because there is a matching R2SCAN material\n",
      "  Discarding GGA entry mp-545512-GGA for Ca2 O2 because there is a matching R2SCAN material\n",
      "  Discarding GGA entry mp-556235-GGA for Ca4 C4 O12 because there is a matching R2SCAN material\n",
      "  Discarding GGA entry mp-1079918-GGA for Ca2 C2 O6 because there is a matching R2SCAN material\n",
      "  Discarding GGA entry mp-66-GGA for C2 because there is a matching R2SCAN material\n",
      "  Discarding GGA entry mp-1575-GGA for Ca2 C4 because there is a matching R2SCAN material\n",
      "  Discarding GGA entry mp-1183484-GGA for Ca4 because there is a matching R2SCAN material\n",
      "  Discarding GGA entry mp-45-GGA for Ca1 because it is a GGA(+U) ground state that matches a R2SCAN material.\n",
      "  Discarding GGA entry mp-1077545-GGA for Ca2 C4 because there is a matching R2SCAN material\n",
      "  Discarding GGA entry mp-569517-GGA for C10 because there is a matching R2SCAN material\n",
      "  Discarding GGA entry mp-723285-GGA for O8 because it is a GGA(+U) ground state that matches a R2SCAN material.\n",
      "  Discarding GGA entry mp-634859-GGA for Ca1 O2 because it is a GGA(+U) ground state that matches a R2SCAN material.\n",
      "  Discarding GGA entry mp-48-GGA for C4 because there is a matching R2SCAN material\n",
      "  Discarding GGA entry mp-917-GGA for Ca2 C4 because there is a matching R2SCAN material\n",
      "  Discarding GGA entry mp-569416-GGA for C8 because there is a matching R2SCAN material\n"
     ]
    },
    {
     "name": "stderr",
     "output_type": "stream",
     "text": [
      "WARNING! Discarding GGA entry mp-1065697-GGA for O1 because it was not found in the mixing state data. This can occur when there are duplicate structures. In such cases, only the lowest energy entry with that structure appears in the mixing state data.\n",
      "WARNING! Discarding GGA entry mp-611836-GGA for O2 because it was not found in the mixing state data. This can occur when there are duplicate structures. In such cases, only the lowest energy entry with that structure appears in the mixing state data.\n",
      "WARNING! Discarding GGA entry mp-1023923-GGA for O6 because it was not found in the mixing state data. This can occur when there are duplicate structures. In such cases, only the lowest energy entry with that structure appears in the mixing state data.\n",
      "WARNING! Discarding GGA entry mp-1180050-GGA for O8 because it was not found in the mixing state data. This can occur when there are duplicate structures. In such cases, only the lowest energy entry with that structure appears in the mixing state data.\n",
      "WARNING! Discarding GGA entry mp-1102442-GGA for O12 because it was not found in the mixing state data. This can occur when there are duplicate structures. In such cases, only the lowest energy entry with that structure appears in the mixing state data.\n"
     ]
    },
    {
     "name": "stdout",
     "output_type": "stream",
     "text": [
      "  Discarding R2SCAN entry mp-568806-R2SCAN for C8 because there is no matching GGA(+U) entry and no R2SCAN ground state at this composition.\n",
      "  Discarding R2SCAN entry mp-642822-R2SCAN for Ca4 C8 because there is no matching GGA(+U) entry and no R2SCAN ground state at this composition.\n",
      "  Discarding R2SCAN entry mp-937760-R2SCAN for C4 because there is no matching GGA(+U) entry and no R2SCAN ground state at this composition.\n",
      "\n",
      "Processing complete. Mixed entries contain 126 GGA(+U) and 46 R2SCAN entries.\n",
      "\n",
      "entry_id    formula     spacegroup  run_type  eV/atom corr/atom e_above_hull\n",
      "mp-2516584-GGAC           R-3m        GGA       -9.229  0.000     0.000    \n",
      "mp-569304-R2SCANC           R-3m        R2SCAN    -9.227  0.711     0.002    \n",
      "mp-169-R2SCANC           C2/m        R2SCAN    -9.225  0.721     0.003    \n",
      "mp-937760-GGAC           Fmmm        GGA       -9.223  0.000     0.006    \n",
      "mp-568286-GGAC           Cmme        GGA       -9.220  0.000     0.008    \n",
      "mp-568363-GGAC           Cmme        GGA       -9.220  0.000     0.008    \n",
      "mp-48-R2SCANC           P6_3/mmc    R2SCAN    -9.220  0.724     0.008    \n",
      "mp-990448-R2SCANC           P6/mmm      R2SCAN    -9.220  0.715     0.009    \n",
      "mp-1040425-GGAC           P6/mmm      GGA       -9.219  0.000     0.009    \n",
      "mp-997182-R2SCANC           P6_3/mmc    R2SCAN    -9.219  0.714     0.010    \n",
      "mp-990424-R2SCANC           P-3m1       R2SCAN    -9.219  0.719     0.010    \n",
      "mp-606949-R2SCANC           P6_3mc      R2SCAN    -9.218  0.723     0.010    \n",
      "mp-568806-GGAC           P6/mmm      GGA       -9.217  0.000     0.012    \n",
      "mp-632329-GGAC           C2/m        GGA       -9.215  0.000     0.014    \n",
      "mp-569416-R2SCANC           R-3m        R2SCAN    -9.198  0.747     0.030    \n",
      "mp-1096869-GGAC           Cm          GGA       -9.111  0.000     0.118    \n",
      "mp-66-R2SCANC           Fd-3m       R2SCAN    -9.090  0.745     0.138    \n",
      "mp-616440-R2SCANC           P6_3/mmc    R2SCAN    -9.086  0.744     0.143    \n",
      "mp-611448-R2SCANC           P6_3/mmc    R2SCAN    -9.084  0.744     0.144    \n",
      "mp-569567-R2SCANC           R-3m        R2SCAN    -9.082  0.747     0.146    \n",
      "mp-569517-R2SCANC           R-3m        R2SCAN    -9.082  0.745     0.147    \n",
      "mp-611426-R2SCANC           P6_3/mmc    R2SCAN    -9.081  0.744     0.148    \n",
      "mp-47-R2SCANC           P6_3/mmc    R2SCAN    -9.065  0.742     0.163    \n",
      "mp-2647017-GGAC           P2_1/m      GGA       -9.051  0.000     0.178    \n",
      "mp-1078845-GGAC           Cmmm        GGA       -8.961  0.000     0.268    \n",
      "mp-1190171-GGAC           Pnma        GGA       -8.936  0.000     0.293    \n",
      "mp-1080826-GGAC           C2/m        GGA       -8.928  0.000     0.301    \n",
      "mp-1008395-GGAC           I4/mmm      GGA       -8.894  0.000     0.335    \n",
      "mp-683919-GGAC           Cmcm        GGA       -8.878  0.000     0.350    \n",
      "mp-1196583-GGAC           Pa-3        GGA       -8.844  0.000     0.385    \n",
      "mp-1147718-GGAC           Pnnm        GGA       -8.840  0.000     0.389    \n",
      "mp-667273-GGAC           Fm-3        GGA       -8.838  0.000     0.391    \n",
      "mp-630227-GGAC           Immm        GGA       -8.833  0.000     0.396    \n",
      "mp-680372-GGAC           R-3m        GGA       -8.820  0.000     0.409    \n",
      "mp-1008374-GGAC           Cmmm        GGA       -8.790  0.000     0.438    \n",
      "mp-568410-GGAC           Cmmm        GGA       -8.720  0.000     0.509    \n",
      "mp-568028-GGAC           Pnnm        GGA       -8.698  0.000     0.531    \n",
      "mp-2646980-GGAC           Pmmm        GGA       -8.586  0.000     0.643    \n",
      "mp-1205283-GGAC           Pnnm        GGA       -8.529  0.000     0.699    \n",
      "mp-1188817-GGAC           Pm-3m       GGA       -8.463  0.000     0.765    \n",
      "mp-570002-GGAC           Im-3m       GGA       -8.463  0.000     0.766    \n",
      "mp-24-GGA   C           Ia-3        GGA       -8.394  0.000     0.835    \n",
      "mp-1244964-GGAC           P1          GGA       -8.294  0.000     0.935    \n",
      "mp-579909-GGAC           Cmmm        GGA       -8.284  0.000     0.945    \n",
      "mp-1244913-GGAC           P1          GGA       -8.234  0.000     0.994    \n",
      "mp-1095633-GGAC           I4/mmm      GGA       -8.230  0.000     0.999    \n",
      "mp-1182029-GGAC           P2/m        GGA       -8.226  0.000     1.002    \n",
      "mp-1245190-GGAC           P1          GGA       -8.214  0.000     1.015    \n",
      "mp-723638-GGAC           P2_1/c      GGA       -8.187  0.000     1.041    \n",
      "mp-1095534-GGAC           I4/mmm      GGA       -8.105  0.000     1.123    \n",
      "mp-1205417-GGAC           I4/mmm      GGA       -8.060  0.000     1.169    \n",
      "mp-624889-GGAC           Cmme        GGA       -7.973  0.000     1.256    \n",
      "mp-1018088-GGAC           I4_132      GGA       -7.923  0.000     1.306    \n",
      "mp-1197903-GGAC           P1          GGA       -7.818  0.000     1.410    \n",
      "mp-731594-GGAC           P2_1        GGA       -7.728  0.000     1.501    \n",
      "mp-1182684-GGAC           P2_12_12_1  GGA       -7.699  0.000     1.530    \n",
      "mp-1196857-GGAC           Pnma        GGA       -7.628  0.000     1.601    \n",
      "mp-1192619-GGAC           I-43m       GGA       -7.308  0.000     1.920    \n",
      "mp-1097832-GGAC           Cmcm        GGA       -6.621  0.000     2.608    \n",
      "mp-1056957-GGAC           Cmcm        GGA       -6.610  0.000     2.618    \n",
      "mp-1181996-GGAC           I4/mmm      GGA       -6.592  0.000     2.637    \n",
      "mp-998866-GGAC           Pm-3m       GGA       -6.472  0.000     2.757    \n",
      "mp-561848-GGAC3O2        Pnma        GGA       -8.069  -0.275    0.509    \n",
      "mp-1001594-GGAC4O3        R3          GGA       -8.295  -0.294    0.237    \n",
      "mp-1001608-GGAC4O3        P1          GGA       -6.646  -0.294    1.886    \n",
      "mp-1197923-GGAC61O2       P2_1/c      GGA       -8.810  -0.022    0.367    \n",
      "mp-995183-GGACO          Pnma        GGA       -7.867  -0.344    0.549    \n",
      "mp-11875-GGACO          P2_13       GGA       -7.754  -0.344    0.661    \n",
      "mp-729933-GGACO          P2_12_12_1  GGA       -7.746  -0.344    0.669    \n",
      "mp-556660-GGACO          R3c         GGA       -7.739  -0.344    0.677    \n",
      "mp-20066-R2SCANCO2         Pa-3        R2SCAN    -8.144  0.452     0.000    \n",
      "mp-644607-R2SCANCO2         P4_2/mnm    R2SCAN    -8.139  0.452     0.005    \n",
      "mp-1077906-R2SCANCO2         Cmce        R2SCAN    -8.137  0.452     0.007    \n",
      "mp-1190699-R2SCANCO2         R-3c        R2SCAN    -8.137  0.452     0.007    \n",
      "mp-11725-R2SCANCO2         P4_2/mnm    R2SCAN    -8.135  0.452     0.009    \n",
      "mp-556034-R2SCANCO2         Pbcn        R2SCAN    -8.134  0.452     0.011    \n",
      "mp-1102227-GGACO2         P4_12_12    GGA       -8.128  -0.458    0.017    \n",
      "mp-729728-GGACO2         Pna2_1      GGA       -8.126  -0.458    0.018    \n",
      "mp-995224-GGACO2         I4_1/a      GGA       -7.847  -0.458    0.297    \n",
      "mp-995198-GGACO2         P2_1/c      GGA       -7.826  -0.458    0.319    \n",
      "mp-1077316-GGACO2         I-42d       GGA       -7.695  -0.458    0.450    \n",
      "mp-1190685-GGACO2         P2_12_12_1  GGA       -7.634  -0.458    0.511    \n",
      "mp-995196-GGACO3         P4/mmm      GGA       -4.271  -0.515    3.075    \n",
      "mp-45-R2SCANCa          Fm-3m       R2SCAN    -2.006  5.033     0.000    \n",
      "mp-21-R2SCANCa          Im-3m       R2SCAN    -2.002  5.033     0.003    \n",
      "mp-132-GGA  Ca          P6_3/mmc    GGA       -2.000  0.000     0.006    \n",
      "mp-132-R2SCANCa          Cmcm        R2SCAN    -1.997  5.033     0.008    \n",
      "mp-1183484-R2SCANCa          P6_3/mmc    R2SCAN    -1.997  5.033     0.009    \n",
      "mp-1064227-R2SCANCa          Cmcm        R2SCAN    -1.995  5.033     0.010    \n",
      "mp-1183455-GGACa          I4/mmm      GGA       -1.993  0.000     0.013    \n",
      "mp-1183455-R2SCANCa          I4/mmm      R2SCAN    -1.991  5.033     0.015    \n",
      "mp-1078638-GGACa          P4_12_12    GGA       -1.986  0.000     0.019    \n",
      "mp-166-GGA  Ca          I4/mmm      GGA       -1.984  0.000     0.021    \n",
      "mp-1008498-R2SCANCa          I4/mcm      R2SCAN    -1.826  5.033     0.180    \n",
      "mp-1067285-GGACa          Cmce        GGA       -1.729  0.000     0.277    \n",
      "mp-10683-GGACa          Pm-3m       GGA       -1.606  0.000     0.400    \n",
      "mp-1227541-GGACa          P4/mmm      GGA       -1.033  0.000     0.973    \n",
      "mp-1188325-GGACa(CO)4     I4_1/amd    GGA       -7.984  -0.305    0.328    \n",
      "mp-558543-GGACa(CO2)2    P2/m        GGA       -8.004  -0.393    0.045    \n",
      "mp-1196658-GGACa(CO2)2    Pbca        GGA       -7.435  -0.393    0.615    \n",
      "mp-1181830-GGACa(CO2)2    P2/m        GGA       -7.234  -0.092    0.816    \n",
      "mp-1120811-GGACa2O3       P1          GGA       -6.203  -0.412    0.214    \n"
     ]
    },
    {
     "name": "stderr",
     "output_type": "stream",
     "text": [
      "WARNING! Discarding R2SCAN entry mp-1009490-R2SCAN for O2 because it was not found in the mixing state data. This can occur when there are duplicate structures. In such cases, only the lowest energy entry with that structure appears in the mixing state data.\n"
     ]
    },
    {
     "name": "stdout",
     "output_type": "stream",
     "text": [
      "mp-1213965-GGACaC         Fm-3m       GGA       -4.481  0.000     1.136    \n",
      "mp-1214610-GGACaC12       Cmmm        GGA       -5.554  0.000     3.119    \n",
      "mp-917-R2SCANCaC2        C2/m        R2SCAN    -6.807  2.309     0.014    \n",
      "mp-1575-R2SCANCaC2        C2/c        R2SCAN    -6.806  2.310     0.015    \n",
      "mp-2382752-GGACaC2        Immm        GGA       -6.805  0.000     0.016    \n",
      "mp-1077545-R2SCANCaC2        Cmcm        R2SCAN    -6.801  2.249     0.020    \n",
      "mp-2482-R2SCANCaC2        I4/mmm      R2SCAN    -6.799  2.314     0.022    \n",
      "mp-642822-GGACaC2        P-1         GGA       -6.796  0.000     0.025    \n",
      "mp-1227257-GGACaC2        R-3m        GGA       -6.765  0.000     0.056    \n",
      "mp-684668-GGACaC2        Pnnm        GGA       -6.752  0.000     0.069    \n",
      "mp-1009653-GGACaC2        R-3m        GGA       -6.616  0.000     0.205    \n",
      "mp-1072492-GGACaC2        Immm        GGA       -6.603  0.000     0.218    \n",
      "mp-1009655-GGACaC2        P6/mmm      GGA       -6.076  0.000     0.745    \n",
      "mp-570697-GGACaC2        Pn-3m       GGA       -6.057  0.000     0.764    \n",
      "mp-1071152-GGACaC2        C2/m        GGA       -5.837  0.000     0.984    \n",
      "mp-1071565-GGACaC2        C2/m        GGA       -3.188  0.000     3.633    \n",
      "mp-1061823-GGACaC2        C2/m        GGA       -2.867  0.000     3.954    \n",
      "mp-729142-GGACaC2O5      P2_1/c      GGA       -7.390  -0.429    0.604    \n",
      "mp-1214028-GGACaC2O5      C2/m        GGA       -7.390  -0.429    0.604    \n",
      "mp-1196896-GGACaC2O5      P2_1/c      GGA       -7.208  -0.101    0.786    \n",
      "mp-1022724-GGACaC4        P4/mmm      GGA       -7.458  0.000     0.326    \n",
      "mp-1214031-GGACaC4        Pn-3m       GGA       -2.655  0.000     5.129    \n",
      "mp-1206211-GGACaC6        P-1         GGA       -7.441  0.000     0.756    \n",
      "mp-3953-R2SCANCaCO3       R-3c        R2SCAN    -7.904  1.493     0.000    \n",
      "mp-556235-R2SCANCaCO3       P2_1/c      R2SCAN    -7.903  1.493     0.001    \n",
      "mp-1188902-R2SCANCaCO3       P-1         R2SCAN    -7.901  1.493     0.003    \n",
      "mp-1079918-R2SCANCaCO3       P-1         R2SCAN    -7.897  1.493     0.007    \n",
      "mp-561412-GGACaCO3       C2          GGA       -7.896  -0.412    0.007    \n",
      "mp-1194399-R2SCANCaCO3       C2/c        R2SCAN    -7.896  1.493     0.007    \n",
      "mp-560265-GGACaCO3       P6_522      GGA       -7.896  -0.412    0.008    \n",
      "mp-1197939-GGACaCO3       P-1         GGA       -7.895  -0.412    0.008    \n",
      "mp-2717324-R2SCANCaCO3       C2          R2SCAN    -7.895  1.493     0.008    \n",
      "mp-553939-R2SCANCaCO3       Pnma        R2SCAN    -7.891  1.493     0.013    \n",
      "mp-4626-GGA CaCO3       Pnma        GGA       -7.879  -0.412    0.024    \n",
      "mp-1197230-GGACaCO3       P-1         GGA       -7.879  -0.412    0.024    \n",
      "mp-3205-GGA CaCO3       Pmmn        GGA       -7.735  -0.412    0.169    \n",
      "mp-548403-GGACaCO3       C222_1      GGA       -7.594  -0.412    0.310    \n",
      "mp-641635-GGACaCO3       Pnma        GGA       -6.526  -0.412    1.378    \n",
      "mp-696740-GGACaCO3       C2/c        GGA       -6.031  -0.097    1.873    \n",
      "mp-1214358-GGACaCO4       P3_1        GGA       -7.101  -0.458    0.311    \n",
      "mp-2605-R2SCANCaO         Fm-3m       R2SCAN    -6.783  2.947     0.000    \n",
      "mp-545512-R2SCANCaO         P6_3/mmc    R2SCAN    -6.678  2.947     0.104    \n",
      "mp-1079707-GGACaO         Cmce        GGA       -6.573  -0.344    0.210    \n",
      "mp-1064492-GGACaO         I4/mmm      GGA       -6.573  -0.344    0.210    \n",
      "mp-1245305-GGACaO         P1          GGA       -6.487  -0.344    0.295    \n",
      "mp-1244902-GGACaO         P1          GGA       -6.472  -0.344    0.311    \n",
      "mp-1245200-GGACaO         P1          GGA       -6.441  -0.344    0.342    \n",
      "mp-1181903-GGACaO         Fd-3m       GGA       -4.055  -0.344    2.728    \n",
      "mp-1182382-GGACaO10       P4/mcc      GGA       -5.232  -0.146    0.053    \n",
      "mp-1182183-GGACaO10       P4/mcc      GGA       -5.205  -0.146    0.081    \n",
      "mp-634859-R2SCANCaO2        I4/mmm      R2SCAN    -6.174  2.248     0.000    \n",
      "mp-1181909-GGACaO2        C2/m        GGA       -5.892  -0.458    0.281    \n",
      "mp-1095665-GGACaO2        C2/c        GGA       -5.890  -0.458    0.283    \n",
      "mp-1062228-GGACaO2        P-3m1       GGA       -5.679  -0.458    0.494    \n",
      "mp-611836-R2SCANO2          C2/m        R2SCAN    -4.952  1.008     0.000    \n",
      "mp-610917-R2SCANO2          R-3m        R2SCAN    -4.947  1.008     0.005    \n",
      "mp-723285-R2SCANO2          P4_12_12    R2SCAN    -4.947  1.008     0.006    \n",
      "mp-1087546-GGAO2          C2/c        GGA       -4.930  0.000     0.022    \n",
      "mp-1180036-GGAO2          P2/c        GGA       -4.918  0.000     0.034    \n",
      "mp-607540-GGAO2          Fmmm        GGA       -4.827  0.000     0.125    \n",
      "mp-1066100-R2SCANO2          P6_3/mmc    R2SCAN    -4.684  1.008     0.269    \n",
      "mp-1180064-GGAO2          P1          GGA       -4.561  0.000     0.391    \n",
      "mp-560602-GGAO2          Pbca        GGA       -4.537  0.000     0.416    \n",
      "mp-1180008-GGAO2          P1          GGA       -4.528  0.000     0.424    \n",
      "mp-734188-GGAO2          P4_1        GGA       -4.513  0.000     0.439    \n",
      "mp-2421172-GGAO2          R3c         GGA       -4.032  0.000     0.921    \n",
      "mp-1056831-GGAO2          P2/m        GGA       -3.637  0.000     1.315    \n",
      "mp-1056059-GGAO2          P4/mmm      GGA       -3.390  0.000     1.562    \n",
      "mp-1058623-GGAO2          Cmcm        GGA       -3.377  0.000     1.575    \n",
      "mp-1057818-GGAO2          Fd-3m       GGA       -3.067  0.000     1.885    \n"
     ]
    },
    {
     "data": {
      "application/vnd.jupyter.widget-view+json": {
       "model_id": "20aa0531bafb455a88fd8b980cc20c69",
       "version_major": 2,
       "version_minor": 0
      },
      "text/plain": [
       "Retrieving ThermoDoc documents:   0%|          | 0/160 [00:00<?, ?it/s]"
      ]
     },
     "metadata": {},
     "output_type": "display_data"
    },
    {
     "name": "stdout",
     "output_type": "stream",
     "text": [
      "Processing 125 GGA(+U) and 35 R2SCAN entries...\n",
      "  Processed 125 compatible GGA(+U) entries with MaterialsProject2020Compatibility\n",
      "  Entries belong to the {'Cd', 'O', 'C'} chemical system\n",
      "  Generating mixing state data from provided entries.\n"
     ]
    },
    {
     "name": "stderr",
     "output_type": "stream",
     "text": [
      "Failed to guess oxidation states for Entry mp-1183622-GGA (Cd3C). Assigning anion correction to only the most electronegative atom.\n",
      "Failed to guess oxidation states for Entry mp-1182178-GGA (CdC2O7). Assigning anion correction to only the most electronegative atom.\n",
      "Failed to guess oxidation states for Entry mp-1197923-GGA (C61O2). Assigning anion correction to only the most electronegative atom.\n"
     ]
    },
    {
     "name": "stdout",
     "output_type": "stream",
     "text": [
      "  Entries contain R2SCAN calculations for 5 of 6 GGA(+U) hull entries.\n",
      "  R2SCAN energies will be adjusted to the GGA(+U) scale\n",
      "  The energy above hull for R2SCAN materials at compositions with R2SCAN hull entries will be preserved. For other compositions, Energies of R2SCAN materials will be set equal to those of matching GGA(+U) materials\n",
      "  Discarding GGA entry mp-47-GGA for C4 because there is a matching R2SCAN material\n",
      "  Discarding GGA entry mp-644607-GGA for C2 O4 because there is a matching R2SCAN material\n",
      "  Discarding GGA entry mp-13119-GGA for Cd2 O2 because there is a matching R2SCAN material\n",
      "  Discarding GGA entry mp-4385-GGA for Cd2 C2 O6 because it is a GGA(+U) ground state that matches a R2SCAN material.\n",
      "  Discarding GGA entry mp-990448-GGA for C2 because there is a matching R2SCAN material\n",
      "  Discarding GGA entry mp-611448-GGA for C12 because there is a matching R2SCAN material\n",
      "  Discarding GGA entry mp-606949-GGA for C12 because there is a matching R2SCAN material\n",
      "  Discarding GGA entry mp-1190699-GGA for C8 O16 because there is a matching R2SCAN material\n",
      "  Discarding GGA entry mp-1077906-GGA for C2 O4 because there is a matching R2SCAN material\n",
      "  Discarding GGA entry mp-569304-GGA for C4 because there is a matching R2SCAN material\n",
      "  Discarding GGA entry mp-569567-GGA for C14 because there is a matching R2SCAN material\n",
      "  Discarding GGA entry mp-616440-GGA for C16 because there is a matching R2SCAN material\n",
      "  Discarding GGA entry mp-556034-GGA for C4 O8 because there is a matching R2SCAN material\n",
      "  Discarding GGA entry mp-169-GGA for C2 because there is a matching R2SCAN material\n",
      "  Discarding GGA entry mp-1132-GGA for Cd1 O1 because it is a GGA(+U) ground state that matches a R2SCAN material.\n",
      "  Discarding GGA entry mp-1066100-GGA for O4 because there is a matching R2SCAN material\n",
      "  Discarding GGA entry mp-20066-GGA for C4 O8 because it is a GGA(+U) ground state that matches a R2SCAN material.\n",
      "  Discarding GGA entry mp-611426-GGA for C8 because there is a matching R2SCAN material\n",
      "  Discarding GGA entry mp-610917-GGA for O2 because there is a matching R2SCAN material\n",
      "  Discarding GGA entry mp-1183542-GGA for Cd1 because there is a matching R2SCAN material\n",
      "  Discarding GGA entry mp-990424-GGA for C4 because there is a matching R2SCAN material\n",
      "  Discarding GGA entry mp-11725-GGA for C2 O4 because there is a matching R2SCAN material\n",
      "  Discarding GGA entry mp-1009490-GGA for O2 because there is a matching R2SCAN material\n",
      "  Discarding GGA entry mp-997182-GGA for C4 because there is a matching R2SCAN material\n",
      "  Discarding GGA entry mp-94-GGA for Cd2 because there is a matching R2SCAN material\n",
      "  Discarding GGA entry mp-66-GGA for C2 because there is a matching R2SCAN material\n",
      "  Discarding GGA entry mp-1096861-GGA for Cd1 because it is a GGA(+U) ground state that matches a R2SCAN material.\n",
      "  Discarding GGA entry mp-569517-GGA for C10 because there is a matching R2SCAN material\n",
      "  Discarding GGA entry mp-723285-GGA for O8 because it is a GGA(+U) ground state that matches a R2SCAN material.\n",
      "  Discarding GGA entry mp-1183591-GGA for Cd4 because there is a matching R2SCAN material\n",
      "  Discarding GGA entry mp-48-GGA for C4 because there is a matching R2SCAN material\n",
      "  Discarding GGA entry mp-569416-GGA for C8 because there is a matching R2SCAN material\n"
     ]
    },
    {
     "name": "stderr",
     "output_type": "stream",
     "text": [
      "WARNING! Discarding GGA entry mp-1065697-GGA for O1 because it was not found in the mixing state data. This can occur when there are duplicate structures. In such cases, only the lowest energy entry with that structure appears in the mixing state data.\n",
      "WARNING! Discarding GGA entry mp-611836-GGA for O2 because it was not found in the mixing state data. This can occur when there are duplicate structures. In such cases, only the lowest energy entry with that structure appears in the mixing state data.\n",
      "WARNING! Discarding GGA entry mp-1023923-GGA for O6 because it was not found in the mixing state data. This can occur when there are duplicate structures. In such cases, only the lowest energy entry with that structure appears in the mixing state data.\n",
      "WARNING! Discarding GGA entry mp-1180050-GGA for O8 because it was not found in the mixing state data. This can occur when there are duplicate structures. In such cases, only the lowest energy entry with that structure appears in the mixing state data.\n",
      "WARNING! Discarding GGA entry mp-1102442-GGA for O12 because it was not found in the mixing state data. This can occur when there are duplicate structures. In such cases, only the lowest energy entry with that structure appears in the mixing state data.\n"
     ]
    },
    {
     "name": "stdout",
     "output_type": "stream",
     "text": [
      "  Discarding R2SCAN entry mp-568806-R2SCAN for C8 because there is no matching GGA(+U) entry and no R2SCAN ground state at this composition.\n",
      "  Discarding R2SCAN entry mp-937760-R2SCAN for C4 because there is no matching GGA(+U) entry and no R2SCAN ground state at this composition.\n",
      "\n",
      "Processing complete. Mixed entries contain 88 GGA(+U) and 32 R2SCAN entries.\n",
      "\n",
      "entry_id    formula     spacegroup  run_type  eV/atom corr/atom e_above_hull\n",
      "mp-2516584-GGAC           R-3m        GGA       -9.229  0.000     0.000    \n",
      "mp-569304-R2SCANC           R-3m        R2SCAN    -9.227  0.711     0.002    \n",
      "mp-169-R2SCANC           C2/m        R2SCAN    -9.225  0.721     0.003    \n",
      "mp-937760-GGAC           Fmmm        GGA       -9.223  0.000     0.006    \n",
      "mp-568286-GGAC           Cmme        GGA       -9.220  0.000     0.008    \n",
      "mp-568363-GGAC           Cmme        GGA       -9.220  0.000     0.008    \n",
      "mp-48-R2SCANC           P6_3/mmc    R2SCAN    -9.220  0.724     0.008    \n",
      "mp-990448-R2SCANC           P6/mmm      R2SCAN    -9.220  0.715     0.009    \n",
      "mp-1040425-GGAC           P6/mmm      GGA       -9.219  0.000     0.009    \n",
      "mp-997182-R2SCANC           P6_3/mmc    R2SCAN    -9.219  0.714     0.010    \n",
      "mp-990424-R2SCANC           P-3m1       R2SCAN    -9.219  0.719     0.010    \n",
      "mp-606949-R2SCANC           P6_3mc      R2SCAN    -9.218  0.723     0.010    \n",
      "mp-568806-GGAC           P6/mmm      GGA       -9.217  0.000     0.012    \n",
      "mp-632329-GGAC           C2/m        GGA       -9.215  0.000     0.014    \n",
      "mp-569416-R2SCANC           R-3m        R2SCAN    -9.198  0.747     0.030    \n",
      "mp-1096869-GGAC           Cm          GGA       -9.111  0.000     0.118    \n",
      "mp-66-R2SCANC           Fd-3m       R2SCAN    -9.090  0.745     0.138    \n",
      "mp-616440-R2SCANC           P6_3/mmc    R2SCAN    -9.086  0.744     0.143    \n",
      "mp-611448-R2SCANC           P6_3/mmc    R2SCAN    -9.084  0.744     0.144    \n",
      "mp-569567-R2SCANC           R-3m        R2SCAN    -9.082  0.747     0.146    \n",
      "mp-569517-R2SCANC           R-3m        R2SCAN    -9.082  0.745     0.147    \n",
      "mp-611426-R2SCANC           P6_3/mmc    R2SCAN    -9.081  0.744     0.148    \n",
      "mp-47-R2SCANC           P6_3/mmc    R2SCAN    -9.065  0.742     0.163    \n",
      "mp-2647017-GGAC           P2_1/m      GGA       -9.051  0.000     0.178    \n",
      "mp-1078845-GGAC           Cmmm        GGA       -8.961  0.000     0.268    \n",
      "mp-1190171-GGAC           Pnma        GGA       -8.936  0.000     0.293    \n",
      "mp-1080826-GGAC           C2/m        GGA       -8.928  0.000     0.301    \n",
      "mp-1008395-GGAC           I4/mmm      GGA       -8.894  0.000     0.335    \n",
      "mp-683919-GGAC           Cmcm        GGA       -8.878  0.000     0.350    \n",
      "mp-1196583-GGAC           Pa-3        GGA       -8.844  0.000     0.385    \n",
      "mp-1147718-GGAC           Pnnm        GGA       -8.840  0.000     0.389    \n",
      "mp-667273-GGAC           Fm-3        GGA       -8.838  0.000     0.391    \n",
      "mp-630227-GGAC           Immm        GGA       -8.833  0.000     0.396    \n",
      "mp-680372-GGAC           R-3m        GGA       -8.820  0.000     0.409    \n",
      "mp-1008374-GGAC           Cmmm        GGA       -8.790  0.000     0.438    \n",
      "mp-568410-GGAC           Cmmm        GGA       -8.720  0.000     0.509    \n",
      "mp-568028-GGAC           Pnnm        GGA       -8.698  0.000     0.531    \n",
      "mp-2646980-GGAC           Pmmm        GGA       -8.586  0.000     0.643    \n",
      "mp-1205283-GGAC           Pnnm        GGA       -8.529  0.000     0.699    \n",
      "mp-1188817-GGAC           Pm-3m       GGA       -8.463  0.000     0.765    \n",
      "mp-570002-GGAC           Im-3m       GGA       -8.463  0.000     0.766    \n",
      "mp-24-GGA   C           Ia-3        GGA       -8.394  0.000     0.835    \n",
      "mp-1244964-GGAC           P1          GGA       -8.294  0.000     0.935    \n",
      "mp-579909-GGAC           Cmmm        GGA       -8.284  0.000     0.945    \n",
      "mp-1244913-GGAC           P1          GGA       -8.234  0.000     0.994    \n",
      "mp-1095633-GGAC           I4/mmm      GGA       -8.230  0.000     0.999    \n",
      "mp-1182029-GGAC           P2/m        GGA       -8.226  0.000     1.002    \n",
      "mp-1245190-GGAC           P1          GGA       -8.214  0.000     1.015    \n",
      "mp-723638-GGAC           P2_1/c      GGA       -8.187  0.000     1.041    \n",
      "mp-1095534-GGAC           I4/mmm      GGA       -8.105  0.000     1.123    \n",
      "mp-1205417-GGAC           I4/mmm      GGA       -8.060  0.000     1.169    \n",
      "mp-624889-GGAC           Cmme        GGA       -7.973  0.000     1.256    \n",
      "mp-1018088-GGAC           I4_132      GGA       -7.923  0.000     1.306    \n",
      "mp-1197903-GGAC           P1          GGA       -7.818  0.000     1.410    \n",
      "mp-731594-GGAC           P2_1        GGA       -7.728  0.000     1.501    \n",
      "mp-1182684-GGAC           P2_12_12_1  GGA       -7.699  0.000     1.530    \n",
      "mp-1196857-GGAC           Pnma        GGA       -7.628  0.000     1.601    \n",
      "mp-1192619-GGAC           I-43m       GGA       -7.308  0.000     1.920    \n",
      "mp-1097832-GGAC           Cmcm        GGA       -6.621  0.000     2.608    \n",
      "mp-1056957-GGAC           Cmcm        GGA       -6.610  0.000     2.618    \n",
      "mp-1181996-GGAC           I4/mmm      GGA       -6.592  0.000     2.637    \n",
      "mp-998866-GGAC           Pm-3m       GGA       -6.472  0.000     2.757    \n",
      "mp-561848-GGAC3O2        Pnma        GGA       -8.069  -0.275    0.509    \n",
      "mp-1001594-GGAC4O3        R3          GGA       -8.295  -0.294    0.237    \n",
      "mp-1001608-GGAC4O3        P1          GGA       -6.646  -0.294    1.886    \n",
      "mp-1197923-GGAC61O2       P2_1/c      GGA       -8.810  -0.022    0.367    \n",
      "mp-995183-GGACO          Pnma        GGA       -7.867  -0.344    0.549    \n",
      "mp-11875-GGACO          P2_13       GGA       -7.754  -0.344    0.661    \n",
      "mp-729933-GGACO          P2_12_12_1  GGA       -7.746  -0.344    0.669    \n",
      "mp-556660-GGACO          R3c         GGA       -7.739  -0.344    0.677    \n",
      "mp-20066-R2SCANCO2         Pa-3        R2SCAN    -8.144  0.452     0.000    \n",
      "mp-644607-R2SCANCO2         P4_2/mnm    R2SCAN    -8.139  0.452     0.005    \n",
      "mp-1077906-R2SCANCO2         Cmce        R2SCAN    -8.137  0.452     0.007    \n",
      "mp-1190699-R2SCANCO2         R-3c        R2SCAN    -8.137  0.452     0.007    \n",
      "mp-11725-R2SCANCO2         P4_2/mnm    R2SCAN    -8.135  0.452     0.009    \n",
      "mp-556034-R2SCANCO2         Pbcn        R2SCAN    -8.134  0.452     0.011    \n",
      "mp-1102227-GGACO2         P4_12_12    GGA       -8.128  -0.458    0.017    \n",
      "mp-729728-GGACO2         Pna2_1      GGA       -8.126  -0.458    0.018    \n",
      "mp-995224-GGACO2         I4_1/a      GGA       -7.847  -0.458    0.297    \n",
      "mp-995198-GGACO2         P2_1/c      GGA       -7.826  -0.458    0.319    \n",
      "mp-1077316-GGACO2         I-42d       GGA       -7.695  -0.458    0.450    \n",
      "mp-1190685-GGACO2         P2_12_12_1  GGA       -7.634  -0.458    0.511    \n",
      "mp-995196-GGACO3         P4/mmm      GGA       -4.271  -0.515    3.075    \n",
      "mp-94-R2SCANCd          P6_3/mmc    R2SCAN    -0.960  19.145    0.000    \n",
      "mp-1183591-R2SCANCd          P6_3/mmc    R2SCAN    -0.938  19.145    0.022    \n",
      "mp-1183542-R2SCANCd          R-3m        R2SCAN    -0.936  19.145    0.024    \n"
     ]
    },
    {
     "name": "stderr",
     "output_type": "stream",
     "text": [
      "WARNING! Discarding R2SCAN entry mp-1009490-R2SCAN for O2 because it was not found in the mixing state data. This can occur when there are duplicate structures. In such cases, only the lowest energy entry with that structure appears in the mixing state data.\n"
     ]
    },
    {
     "name": "stdout",
     "output_type": "stream",
     "text": [
      "mp-1096861-R2SCANCd          Fm-3m       R2SCAN    -0.923  19.145    0.037    \n",
      "mp-2647135-GGACd          Im-3m       GGA       -0.858  0.000     0.102    \n",
      "mp-1214952-GGACd(CO)6     C2/c        GGA       -6.393  -0.074    1.512    \n",
      "mp-555064-GGACd(CO2)2    P2_1/c      GGA       -7.163  -0.393    0.072    \n",
      "mp-1183622-GGACd3C        Pm-3m       GGA       -1.779  0.000     1.248    \n",
      "mp-1006887-GGACdC         Fm-3m       GGA       -3.086  0.000     2.009    \n",
      "mp-1183628-GGACdC         P6_3/mmc    GGA       -3.085  0.000     2.009    \n",
      "mp-1006882-GGACdC         F-43m       GGA       -2.967  0.000     2.127    \n",
      "mp-1182178-GGACdC2O7      P-1         GGA       -6.181  -0.113    0.634    \n",
      "mp-4385-R2SCANCdCO3       R-3c        R2SCAN    -6.762  4.314     0.000    \n",
      "mp-1198558-GGACdCO3       P2_1/c      GGA       -6.195  -0.412    0.567    \n",
      "mp-654812-GGACdCO3       R-3m        GGA       -3.873  -0.412    2.889    \n",
      "mp-547864-GGACdCO3       R-3m        GGA       -3.529  -0.412    3.233    \n",
      "mp-1132-R2SCANCdO         Fm-3m       R2SCAN    -4.300  9.982     0.000    \n",
      "mp-13119-R2SCANCdO         P6_3mc      R2SCAN    -4.221  9.982     0.079    \n",
      "mp-2310-GGA CdO2        Pa-3        GGA       -4.460  -0.310    0.058    \n",
      "mp-1096876-GGACdO2        Cm          GGA       -4.110  -0.458    0.407    \n",
      "mp-1096866-GGACdO2        P-3m1       GGA       -4.084  -0.458    0.434    \n",
      "mp-611836-R2SCANO2          C2/m        R2SCAN    -4.952  1.008     0.000    \n",
      "mp-610917-R2SCANO2          R-3m        R2SCAN    -4.947  1.008     0.005    \n",
      "mp-723285-R2SCANO2          P4_12_12    R2SCAN    -4.947  1.008     0.006    \n",
      "mp-1087546-GGAO2          C2/c        GGA       -4.930  0.000     0.022    \n",
      "mp-1180036-GGAO2          P2/c        GGA       -4.918  0.000     0.034    \n",
      "mp-607540-GGAO2          Fmmm        GGA       -4.827  0.000     0.125    \n",
      "mp-1066100-R2SCANO2          P6_3/mmc    R2SCAN    -4.684  1.008     0.269    \n",
      "mp-1180064-GGAO2          P1          GGA       -4.561  0.000     0.391    \n",
      "mp-560602-GGAO2          Pbca        GGA       -4.537  0.000     0.416    \n",
      "mp-1180008-GGAO2          P1          GGA       -4.528  0.000     0.424    \n",
      "mp-734188-GGAO2          P4_1        GGA       -4.513  0.000     0.439    \n",
      "mp-2421172-GGAO2          R3c         GGA       -4.032  0.000     0.921    \n",
      "mp-1056831-GGAO2          P2/m        GGA       -3.637  0.000     1.315    \n",
      "mp-1056059-GGAO2          P4/mmm      GGA       -3.390  0.000     1.562    \n",
      "mp-1058623-GGAO2          Cmcm        GGA       -3.377  0.000     1.575    \n",
      "mp-1057818-GGAO2          Fd-3m       GGA       -3.067  0.000     1.885    \n"
     ]
    },
    {
     "data": {
      "application/vnd.jupyter.widget-view+json": {
       "model_id": "331cc550f3b94221bd111f390e58a306",
       "version_major": 2,
       "version_minor": 0
      },
      "text/plain": [
       "Retrieving ThermoDoc documents:   0%|          | 0/199 [00:00<?, ?it/s]"
      ]
     },
     "metadata": {},
     "output_type": "display_data"
    },
    {
     "name": "stdout",
     "output_type": "stream",
     "text": [
      "Processing 148 GGA(+U) and 51 R2SCAN entries...\n",
      "  Processed 148 compatible GGA(+U) entries with MaterialsProject2020Compatibility\n",
      "  Entries belong to the {'Cs', 'O', 'C'} chemical system\n",
      "  Generating mixing state data from provided entries.\n"
     ]
    },
    {
     "name": "stderr",
     "output_type": "stream",
     "text": [
      "Failed to guess oxidation states for Entry mp-545487-GGA (Cs(CO)2). Assigning anion correction to only the most electronegative atom.\n",
      "Failed to guess oxidation states for Entry mp-1096936-GGA (CsO2). Assigning anion correction to only the most electronegative atom.\n",
      "Failed to guess oxidation states for Entry mp-1105918-GGA (Cs4O3). Assigning anion correction to only the most electronegative atom.\n",
      "Failed to guess oxidation states for Entry mp-1181502-GGA (CsO2). Assigning anion correction to only the most electronegative atom.\n",
      "Failed to guess oxidation states for Entry mp-1185535-GGA (Cs2O3). Assigning anion correction to only the most electronegative atom.\n",
      "Failed to guess oxidation states for Entry mp-1189507-GGA (CsO3). Assigning anion correction to only the most electronegative atom.\n",
      "Failed to guess oxidation states for Entry mp-1213719-GGA (Cs2O3). Assigning anion correction to only the most electronegative atom.\n",
      "Failed to guess oxidation states for Entry mp-1441-GGA (CsO2). Assigning anion correction to only the most electronegative atom.\n",
      "Failed to guess oxidation states for Entry mp-510262-GGA (Cs3O). Assigning anion correction to only the most electronegative atom.\n",
      "Failed to guess oxidation states for Entry mp-561735-GGA (Cs7O). Assigning anion correction to only the most electronegative atom.\n",
      "Failed to guess oxidation states for Entry mp-562001-GGA (Cs11O3). Assigning anion correction to only the most electronegative atom.\n",
      "Failed to guess oxidation states for Entry mp-684583-GGA (CsO2). Assigning anion correction to only the most electronegative atom.\n",
      "Failed to guess oxidation states for Entry mp-1197923-GGA (C61O2). Assigning anion correction to only the most electronegative atom.\n"
     ]
    },
    {
     "name": "stdout",
     "output_type": "stream",
     "text": [
      "  Entries contain R2SCAN calculations for 9 of 11 GGA(+U) hull entries.\n",
      "  R2SCAN energies will be adjusted to the GGA(+U) scale\n",
      "  The energy above hull for R2SCAN materials at compositions with R2SCAN hull entries will be preserved. For other compositions, Energies of R2SCAN materials will be set equal to those of matching GGA(+U) materials\n",
      "  Discarding GGA entry mp-1181502-GGA for Cs1 O2 because there is a matching R2SCAN material\n",
      "  Discarding GGA entry mp-47-GGA for C4 because there is a matching R2SCAN material\n",
      "  Discarding GGA entry mp-11832-GGA for Cs2 because there is a matching R2SCAN material\n",
      "  Discarding GGA entry mp-1183897-GGA for Cs20 because there is a matching R2SCAN material\n",
      "  Discarding GGA entry mp-7988-GGA for Cs2 O1 because it is a GGA(+U) ground state that matches a R2SCAN material.\n",
      "  Discarding GGA entry mp-644607-GGA for C2 O4 because there is a matching R2SCAN material\n",
      "  Discarding GGA entry mp-555131-GGA for Cs8 C8 O16 because it is a GGA(+U) ground state that matches a R2SCAN material.\n",
      "  Discarding GGA entry mp-1055940-GGA for Cs1 because there is a matching R2SCAN material\n",
      "  Discarding GGA entry mp-990448-GGA for C2 because there is a matching R2SCAN material\n",
      "  Discarding GGA entry mp-1184151-GGA for Cs29 because it is a GGA(+U) ground state that matches a R2SCAN material.\n",
      "  Discarding GGA entry mp-611448-GGA for C12 because there is a matching R2SCAN material\n",
      "  Discarding GGA entry mp-606949-GGA for C12 because there is a matching R2SCAN material\n",
      "  Discarding GGA entry mp-561735-GGA for Cs21 O3 because there is a matching R2SCAN material\n",
      "  Discarding GGA entry mp-1190699-GGA for C8 O16 because there is a matching R2SCAN material\n",
      "  Discarding GGA entry mp-1183694-GGA for Cs1 because there is a matching R2SCAN material\n",
      "  Discarding GGA entry mp-1077906-GGA for C2 O4 because there is a matching R2SCAN material\n",
      "  Discarding GGA entry mp-569304-GGA for C4 because there is a matching R2SCAN material\n",
      "  Discarding GGA entry mp-639727-GGA for Cs4 because there is a matching R2SCAN material\n",
      "  Discarding GGA entry mp-672241-GGA for Cs8 because there is a matching R2SCAN material\n",
      "  Discarding GGA entry mp-755573-GGA for Cs8 O4 because there is a matching R2SCAN material\n",
      "  Discarding GGA entry mp-569567-GGA for C14 because there is a matching R2SCAN material\n",
      "  Discarding GGA entry mp-616440-GGA for C16 because there is a matching R2SCAN material\n",
      "  Discarding GGA entry mp-556034-GGA for C4 O8 because there is a matching R2SCAN material\n",
      "  Discarding GGA entry mp-1441-GGA for Cs1 O2 because it is a GGA(+U) ground state that matches a R2SCAN material.\n",
      "  Discarding GGA entry mp-169-GGA for C2 because there is a matching R2SCAN material\n",
      "  Discarding GGA entry mp-755060-GGA for Cs4 O2 because there is a matching R2SCAN material\n",
      "  Discarding GGA entry mp-1066100-GGA for O4 because there is a matching R2SCAN material\n",
      "  Discarding GGA entry mp-20066-GGA for C4 O8 because it is a GGA(+U) ground state that matches a R2SCAN material.\n",
      "  Discarding GGA entry mp-1182809-GGA for Cs4 because there is a matching R2SCAN material\n",
      "  Discarding GGA entry mp-510262-GGA for Cs6 O2 because it is a GGA(+U) ground state that matches a R2SCAN material.\n",
      "  Discarding GGA entry mp-611426-GGA for C8 because there is a matching R2SCAN material\n",
      "  Discarding GGA entry mp-610917-GGA for O2 because there is a matching R2SCAN material\n",
      "  Discarding GGA entry mp-616458-GGA for Cs8 C4 O12 because it is a GGA(+U) ground state that matches a R2SCAN material.\n",
      "  Discarding GGA entry mp-990424-GGA for C4 because there is a matching R2SCAN material\n",
      "  Discarding GGA entry mp-11725-GGA for C2 O4 because there is a matching R2SCAN material\n",
      "  Discarding GGA entry mp-1009490-GGA for O2 because there is a matching R2SCAN material\n",
      "  Discarding GGA entry mp-1-GGA for Cs1 because there is a matching R2SCAN material\n",
      "  Discarding GGA entry mp-997182-GGA for C4 because there is a matching R2SCAN material\n",
      "  Discarding GGA entry mp-3-GGA for Cs2 because there is a matching R2SCAN material\n",
      "  Discarding GGA entry mp-66-GGA for C2 because there is a matching R2SCAN material\n",
      "  Discarding GGA entry mp-1012110-GGA for Cs4 because there is a matching R2SCAN material\n",
      "  Discarding GGA entry mp-569517-GGA for C10 because there is a matching R2SCAN material\n",
      "  Discarding GGA entry mp-723285-GGA for O8 because it is a GGA(+U) ground state that matches a R2SCAN material.\n",
      "  Discarding GGA entry mp-949029-GGA for Cs8 because there is a matching R2SCAN material\n",
      "  Discarding GGA entry mp-48-GGA for C4 because there is a matching R2SCAN material\n",
      "  Discarding GGA entry mp-569416-GGA for C8 because there is a matching R2SCAN material\n",
      "  Discarding GGA entry mp-7896-GGA for Cs2 O2 because it is a GGA(+U) ground state that matches a R2SCAN material.\n"
     ]
    },
    {
     "name": "stderr",
     "output_type": "stream",
     "text": [
      "WARNING! Discarding GGA entry mp-1065697-GGA for O1 because it was not found in the mixing state data. This can occur when there are duplicate structures. In such cases, only the lowest energy entry with that structure appears in the mixing state data.\n",
      "WARNING! Discarding GGA entry mp-611836-GGA for O2 because it was not found in the mixing state data. This can occur when there are duplicate structures. In such cases, only the lowest energy entry with that structure appears in the mixing state data.\n",
      "WARNING! Discarding GGA entry mp-1023923-GGA for O6 because it was not found in the mixing state data. This can occur when there are duplicate structures. In such cases, only the lowest energy entry with that structure appears in the mixing state data.\n",
      "WARNING! Discarding GGA entry mp-1180050-GGA for O8 because it was not found in the mixing state data. This can occur when there are duplicate structures. In such cases, only the lowest energy entry with that structure appears in the mixing state data.\n",
      "WARNING! Discarding GGA entry mp-1102442-GGA for O12 because it was not found in the mixing state data. This can occur when there are duplicate structures. In such cases, only the lowest energy entry with that structure appears in the mixing state data.\n"
     ]
    },
    {
     "name": "stdout",
     "output_type": "stream",
     "text": [
      "  Discarding R2SCAN entry mp-568806-R2SCAN for C8 because there is no matching GGA(+U) entry and no R2SCAN ground state at this composition.\n",
      "  Discarding R2SCAN entry mp-28861-R2SCAN for Cs3 C24 because there is no matching GGA(+U) entry and no R2SCAN ground state at this composition.\n",
      "  Discarding R2SCAN entry mp-937760-R2SCAN for C4 because there is no matching GGA(+U) entry and no R2SCAN ground state at this composition.\n",
      "\n",
      "Processing complete. Mixed entries contain 96 GGA(+U) and 47 R2SCAN entries.\n",
      "\n",
      "entry_id    formula     spacegroup  run_type  eV/atom corr/atom e_above_hull\n",
      "mp-2516584-GGAC           R-3m        GGA       -9.229  0.000     0.000    \n",
      "mp-569304-R2SCANC           R-3m        R2SCAN    -9.227  0.711     0.002    \n",
      "mp-169-R2SCANC           C2/m        R2SCAN    -9.225  0.721     0.003    \n",
      "mp-937760-GGAC           Fmmm        GGA       -9.223  0.000     0.006    \n",
      "mp-568286-GGAC           Cmme        GGA       -9.220  0.000     0.008    \n",
      "mp-568363-GGAC           Cmme        GGA       -9.220  0.000     0.008    \n",
      "mp-48-R2SCANC           P6_3/mmc    R2SCAN    -9.220  0.724     0.008    \n",
      "mp-990448-R2SCANC           P6/mmm      R2SCAN    -9.220  0.715     0.009    \n",
      "mp-1040425-GGAC           P6/mmm      GGA       -9.219  0.000     0.009    \n",
      "mp-997182-R2SCANC           P6_3/mmc    R2SCAN    -9.219  0.714     0.010    \n",
      "mp-990424-R2SCANC           P-3m1       R2SCAN    -9.219  0.719     0.010    \n",
      "mp-606949-R2SCANC           P6_3mc      R2SCAN    -9.218  0.723     0.010    \n",
      "mp-568806-GGAC           P6/mmm      GGA       -9.217  0.000     0.012    \n",
      "mp-632329-GGAC           C2/m        GGA       -9.215  0.000     0.014    \n",
      "mp-569416-R2SCANC           R-3m        R2SCAN    -9.198  0.747     0.030    \n",
      "mp-1096869-GGAC           Cm          GGA       -9.111  0.000     0.118    \n",
      "mp-66-R2SCANC           Fd-3m       R2SCAN    -9.090  0.745     0.138    \n",
      "mp-616440-R2SCANC           P6_3/mmc    R2SCAN    -9.086  0.744     0.143    \n",
      "mp-611448-R2SCANC           P6_3/mmc    R2SCAN    -9.084  0.744     0.144    \n",
      "mp-569567-R2SCANC           R-3m        R2SCAN    -9.082  0.747     0.146    \n",
      "mp-569517-R2SCANC           R-3m        R2SCAN    -9.082  0.745     0.147    \n",
      "mp-611426-R2SCANC           P6_3/mmc    R2SCAN    -9.081  0.744     0.148    \n",
      "mp-47-R2SCANC           P6_3/mmc    R2SCAN    -9.065  0.742     0.163    \n",
      "mp-2647017-GGAC           P2_1/m      GGA       -9.051  0.000     0.178    \n",
      "mp-1078845-GGAC           Cmmm        GGA       -8.961  0.000     0.268    \n",
      "mp-1190171-GGAC           Pnma        GGA       -8.936  0.000     0.293    \n",
      "mp-1080826-GGAC           C2/m        GGA       -8.928  0.000     0.301    \n",
      "mp-1008395-GGAC           I4/mmm      GGA       -8.894  0.000     0.335    \n",
      "mp-683919-GGAC           Cmcm        GGA       -8.878  0.000     0.350    \n",
      "mp-1196583-GGAC           Pa-3        GGA       -8.844  0.000     0.385    \n",
      "mp-1147718-GGAC           Pnnm        GGA       -8.840  0.000     0.389    \n",
      "mp-667273-GGAC           Fm-3        GGA       -8.838  0.000     0.391    \n",
      "mp-630227-GGAC           Immm        GGA       -8.833  0.000     0.396    \n",
      "mp-680372-GGAC           R-3m        GGA       -8.820  0.000     0.409    \n",
      "mp-1008374-GGAC           Cmmm        GGA       -8.790  0.000     0.438    \n",
      "mp-568410-GGAC           Cmmm        GGA       -8.720  0.000     0.509    \n",
      "mp-568028-GGAC           Pnnm        GGA       -8.698  0.000     0.531    \n",
      "mp-2646980-GGAC           Pmmm        GGA       -8.586  0.000     0.643    \n",
      "mp-1205283-GGAC           Pnnm        GGA       -8.529  0.000     0.699    \n",
      "mp-1188817-GGAC           Pm-3m       GGA       -8.463  0.000     0.765    \n",
      "mp-570002-GGAC           Im-3m       GGA       -8.463  0.000     0.766    \n",
      "mp-24-GGA   C           Ia-3        GGA       -8.394  0.000     0.835    \n",
      "mp-1244964-GGAC           P1          GGA       -8.294  0.000     0.935    \n",
      "mp-579909-GGAC           Cmmm        GGA       -8.284  0.000     0.945    \n",
      "mp-1244913-GGAC           P1          GGA       -8.234  0.000     0.994    \n",
      "mp-1095633-GGAC           I4/mmm      GGA       -8.230  0.000     0.999    \n",
      "mp-1182029-GGAC           P2/m        GGA       -8.226  0.000     1.002    \n",
      "mp-1245190-GGAC           P1          GGA       -8.214  0.000     1.015    \n",
      "mp-723638-GGAC           P2_1/c      GGA       -8.187  0.000     1.041    \n",
      "mp-1095534-GGAC           I4/mmm      GGA       -8.105  0.000     1.123    \n",
      "mp-1205417-GGAC           I4/mmm      GGA       -8.060  0.000     1.169    \n",
      "mp-624889-GGAC           Cmme        GGA       -7.973  0.000     1.256    \n",
      "mp-1018088-GGAC           I4_132      GGA       -7.923  0.000     1.306    \n",
      "mp-1197903-GGAC           P1          GGA       -7.818  0.000     1.410    \n",
      "mp-731594-GGAC           P2_1        GGA       -7.728  0.000     1.501    \n",
      "mp-1182684-GGAC           P2_12_12_1  GGA       -7.699  0.000     1.530    \n",
      "mp-1196857-GGAC           Pnma        GGA       -7.628  0.000     1.601    \n",
      "mp-1192619-GGAC           I-43m       GGA       -7.308  0.000     1.920    \n",
      "mp-1097832-GGAC           Cmcm        GGA       -6.621  0.000     2.608    \n",
      "mp-1056957-GGAC           Cmcm        GGA       -6.610  0.000     2.618    \n",
      "mp-1181996-GGAC           I4/mmm      GGA       -6.592  0.000     2.637    \n",
      "mp-998866-GGAC           Pm-3m       GGA       -6.472  0.000     2.757    \n",
      "mp-561848-GGAC3O2        Pnma        GGA       -8.069  -0.275    0.509    \n",
      "mp-1001594-GGAC4O3        R3          GGA       -8.295  -0.294    0.237    \n",
      "mp-1001608-GGAC4O3        P1          GGA       -6.646  -0.294    1.886    \n",
      "mp-1197923-GGAC61O2       P2_1/c      GGA       -8.810  -0.022    0.367    \n",
      "mp-995183-GGACO          Pnma        GGA       -7.867  -0.344    0.549    \n",
      "mp-11875-GGACO          P2_13       GGA       -7.754  -0.344    0.661    \n",
      "mp-729933-GGACO          P2_12_12_1  GGA       -7.746  -0.344    0.669    \n",
      "mp-556660-GGACO          R3c         GGA       -7.739  -0.344    0.677    \n",
      "mp-20066-R2SCANCO2         Pa-3        R2SCAN    -8.144  0.452     0.000    \n",
      "mp-644607-R2SCANCO2         P4_2/mnm    R2SCAN    -8.139  0.452     0.005    \n",
      "mp-1077906-R2SCANCO2         Cmce        R2SCAN    -8.137  0.452     0.007    \n",
      "mp-1190699-R2SCANCO2         R-3c        R2SCAN    -8.137  0.452     0.007    \n",
      "mp-11725-R2SCANCO2         P4_2/mnm    R2SCAN    -8.135  0.452     0.009    \n",
      "mp-556034-R2SCANCO2         Pbcn        R2SCAN    -8.134  0.452     0.011    \n",
      "mp-1102227-GGACO2         P4_12_12    GGA       -8.128  -0.458    0.017    \n",
      "mp-729728-GGACO2         Pna2_1      GGA       -8.126  -0.458    0.018    \n",
      "mp-995224-GGACO2         I4_1/a      GGA       -7.847  -0.458    0.297    \n",
      "mp-995198-GGACO2         P2_1/c      GGA       -7.826  -0.458    0.319    \n",
      "mp-1077316-GGACO2         I-42d       GGA       -7.695  -0.458    0.450    \n",
      "mp-1190685-GGACO2         P2_12_12_1  GGA       -7.634  -0.458    0.511    \n",
      "mp-995196-GGACO3         P4/mmm      GGA       -4.271  -0.515    3.075    \n"
     ]
    },
    {
     "name": "stderr",
     "output_type": "stream",
     "text": [
      "WARNING! Discarding R2SCAN entry mp-1009490-R2SCAN for O2 because it was not found in the mixing state data. This can occur when there are duplicate structures. In such cases, only the lowest energy entry with that structure appears in the mixing state data.\n"
     ]
    },
    {
     "name": "stdout",
     "output_type": "stream",
     "text": [
      "mp-1055940-R2SCANCs          Fm-3m       R2SCAN    -0.899  24.200    0.000    \n",
      "mp-1184151-R2SCANCs          I-43m       R2SCAN    -0.895  24.200    0.003    \n",
      "mp-1183897-R2SCANCs          P4_132      R2SCAN    -0.895  24.200    0.004    \n",
      "mp-1-R2SCAN Cs          Im-3m       R2SCAN    -0.889  24.200    0.010    \n",
      "mp-1183694-R2SCANCs          I4/mmm      R2SCAN    -0.888  24.200    0.010    \n",
      "mp-639727-R2SCANCs          P6_3/mmc    R2SCAN    -0.888  24.200    0.011    \n",
      "mp-11832-R2SCANCs          P6_3/mmc    R2SCAN    -0.888  24.200    0.011    \n",
      "mp-1182809-R2SCANCs          Pbcm        R2SCAN    -0.884  24.200    0.015    \n",
      "mp-1012110-R2SCANCs          Pbcm        R2SCAN    -0.884  24.200    0.015    \n",
      "mp-672241-R2SCANCs          P4_2/mbc    R2SCAN    -0.880  24.200    0.018    \n",
      "mp-949029-R2SCANCs          Pm-3n       R2SCAN    -0.875  24.200    0.024    \n",
      "mp-1096915-GGACs          C2/m        GGA       -0.853  0.000     0.046    \n",
      "mp-573579-GGACs          Cmce        GGA       -0.841  0.000     0.057    \n",
      "mp-1007976-GGACs          Pnma        GGA       -0.840  0.000     0.058    \n",
      "mp-3-R2SCAN Cs          I4_1/amd    R2SCAN    -0.833  24.200    0.065    \n",
      "mp-545487-GGACs(CO)2     C2/m        GGA       -7.172  -0.275    0.198    \n",
      "mp-562001-GGACs11O3      P2_1/c      GGA       -2.556  -0.147    0.004    \n",
      "mp-616458-R2SCANCs2CO3      P2_1/c      R2SCAN    -6.378  8.497     0.000    \n",
      "mp-7988-R2SCANCs2O        R-3m        R2SCAN    -3.435  16.400    0.000    \n",
      "mp-755573-R2SCANCs2O        Pnma        R2SCAN    -3.378  16.400    0.057    \n",
      "mp-755060-R2SCANCs2O        Pnnm        R2SCAN    -3.377  16.400    0.058    \n",
      "mp-7896-R2SCANCs2O2       Immm        R2SCAN    -4.152  12.533    0.000    \n",
      "mp-1213702-GGACs2O2       Fm-3m       GGA       -3.851  -0.344    0.301    \n",
      "mp-1063779-GGACs2O2       Cmcm        GGA       -3.803  -0.344    0.350    \n",
      "mp-1213719-GGACs2O3       I-43d       GGA       -4.355  -0.097    0.054    \n",
      "mp-1185535-GGACs2O3       Pm-3m       GGA       -3.727  -0.412    0.682    \n",
      "mp-510262-R2SCANCs3O        P6_3/mcm    R2SCAN    -2.837  18.355    0.000    \n",
      "mp-561834-GGACs4CO4      C2          GGA       -5.187  -0.305    0.210    \n",
      "mp-645330-GGACs4CO4      C2          GGA       -5.167  -0.305    0.230    \n",
      "mp-645303-GGACs4CO4      I-42m       GGA       -5.164  -0.305    0.234    \n",
      "mp-605824-GGACs4CO4      P-43m       GGA       -5.150  -0.305    0.247    \n",
      "mp-562815-GGACs4CO4      R3          GGA       -5.147  -0.305    0.250    \n",
      "mp-1105918-GGACs4O3       I-43d       GGA       -3.709  -0.294    0.136    \n",
      "mp-561735-R2SCANCs7O        P-6m2       R2SCAN    -1.862  21.291    0.006    \n",
      "mp-505806-GGACsC         Pnma        GGA       -4.722  0.000     0.366    \n",
      "mp-1721-GGA CsC10       Im-3        GGA       -8.267  0.000     0.241    \n",
      "mp-1213691-GGACsC15       Immm        GGA       -8.459  0.000     0.274    \n",
      "mp-28861-GGACsC8        P6/mmm      GGA       -8.347  0.000     0.000    \n",
      "mp-555131-R2SCANCsCO2       P2_1/c      R2SCAN    -6.905  6.496     0.000    \n",
      "mp-1181502-R2SCANCsO2        Cmmm        R2SCAN    -4.580  8.697     0.000    \n",
      "mp-1441-R2SCANCsO2        I4/mmm      R2SCAN    -4.577  8.697     0.003    \n",
      "mp-684583-GGACsO2        Pnnm        GGA       -4.533  -0.107    0.047    \n",
      "mp-1096936-GGACsO2        Cmmm        GGA       -4.518  -0.107    0.062    \n",
      "mp-1189507-GGACsO3        P2_1/c      GGA       -4.587  0.000     0.086    \n",
      "mp-611836-R2SCANO2          C2/m        R2SCAN    -4.952  1.008     0.000    \n",
      "mp-610917-R2SCANO2          R-3m        R2SCAN    -4.947  1.008     0.005    \n",
      "mp-723285-R2SCANO2          P4_12_12    R2SCAN    -4.947  1.008     0.006    \n",
      "mp-1087546-GGAO2          C2/c        GGA       -4.930  0.000     0.022    \n",
      "mp-1180036-GGAO2          P2/c        GGA       -4.918  0.000     0.034    \n",
      "mp-607540-GGAO2          Fmmm        GGA       -4.827  0.000     0.125    \n",
      "mp-1066100-R2SCANO2          P6_3/mmc    R2SCAN    -4.684  1.008     0.269    \n",
      "mp-1180064-GGAO2          P1          GGA       -4.561  0.000     0.391    \n",
      "mp-560602-GGAO2          Pbca        GGA       -4.537  0.000     0.416    \n",
      "mp-1180008-GGAO2          P1          GGA       -4.528  0.000     0.424    \n",
      "mp-734188-GGAO2          P4_1        GGA       -4.513  0.000     0.439    \n",
      "mp-2421172-GGAO2          R3c         GGA       -4.032  0.000     0.921    \n",
      "mp-1056831-GGAO2          P2/m        GGA       -3.637  0.000     1.315    \n",
      "mp-1056059-GGAO2          P4/mmm      GGA       -3.390  0.000     1.562    \n",
      "mp-1058623-GGAO2          Cmcm        GGA       -3.377  0.000     1.575    \n",
      "mp-1057818-GGAO2          Fd-3m       GGA       -3.067  0.000     1.885    \n"
     ]
    },
    {
     "data": {
      "application/vnd.jupyter.widget-view+json": {
       "model_id": "006088d3d5844b13a18893063d29afd2",
       "version_major": 2,
       "version_minor": 0
      },
      "text/plain": [
       "Retrieving ThermoDoc documents:   0%|          | 0/325 [00:00<?, ?it/s]"
      ]
     },
     "metadata": {},
     "output_type": "display_data"
    },
    {
     "name": "stdout",
     "output_type": "stream",
     "text": [
      "Processing 288 GGA(+U) and 37 R2SCAN entries...\n",
      "  Processed 288 compatible GGA(+U) entries with MaterialsProject2020Compatibility\n",
      "  Entries belong to the {'O', 'C', 'Fe'} chemical system\n",
      "  Generating mixing state data from provided entries.\n"
     ]
    },
    {
     "name": "stderr",
     "output_type": "stream",
     "text": [
      "Failed to guess oxidation states for Entry mp-13154-GGA (Fe3C). Assigning anion correction to only the most electronegative atom.\n",
      "Failed to guess oxidation states for Entry mp-18257-GGA (Fe7C3). Assigning anion correction to only the most electronegative atom.\n",
      "Failed to guess oxidation states for Entry mp-1283232-GGA+U (Fe(CO3)2). Assigning anion correction to only the most electronegative atom.\n",
      "Failed to guess oxidation states for Entry mp-752929-GGA+U (Fe(CO3)2). Assigning anion correction to only the most electronegative atom.\n",
      "Failed to guess oxidation states for Entry mp-1197923-GGA (C61O2). Assigning anion correction to only the most electronegative atom.\n",
      "Failed to guess oxidation states for Entry mp-1181334-GGA+U (Fe4O13). Assigning anion correction to only the most electronegative atom.\n",
      "Failed to guess oxidation states for Entry mp-1181411-GGA+U (Fe4O13). Assigning anion correction to only the most electronegative atom.\n",
      "Failed to guess oxidation states for Entry mp-1184320-GGA+U (Fe3O). Assigning anion correction to only the most electronegative atom.\n",
      "Failed to guess oxidation states for Entry mp-1225001-GGA+U (Fe5O8). Assigning anion correction to only the most electronegative atom.\n",
      "Failed to guess oxidation states for Entry mp-1225007-GGA+U (Fe5O8). Assigning anion correction to only the most electronegative atom.\n",
      "Failed to guess oxidation states for Entry mp-1350825-GGA+U (FeO2). Assigning anion correction to only the most electronegative atom.\n",
      "Failed to guess oxidation states for Entry mp-1354450-GGA+U (FeO2). Assigning anion correction to only the most electronegative atom.\n",
      "Failed to guess oxidation states for Entry mp-1355192-GGA+U (FeO2). Assigning anion correction to only the most electronegative atom.\n",
      "Failed to guess oxidation states for Entry mp-1355579-GGA+U (FeO2). Assigning anion correction to only the most electronegative atom.\n",
      "Failed to guess oxidation states for Entry mp-1359196-GGA+U (FeO2). Assigning anion correction to only the most electronegative atom.\n",
      "Failed to guess oxidation states for Entry mp-1395285-GGA+U (FeO2). Assigning anion correction to only the most electronegative atom.\n",
      "Failed to guess oxidation states for Entry mp-510746-GGA+U (Fe5O8). Assigning anion correction to only the most electronegative atom.\n",
      "Failed to guess oxidation states for Entry mp-530048-GGA+U (Fe21O32). Assigning anion correction to only the most electronegative atom.\n",
      "Failed to guess oxidation states for Entry mp-863316-GGA+U (FeO3). Assigning anion correction to only the most electronegative atom.\n"
     ]
    },
    {
     "name": "stdout",
     "output_type": "stream",
     "text": [
      "  Entries contain R2SCAN calculations for 5 of 8 GGA(+U) hull entries.\n",
      "  R2SCAN energies will be adjusted to the GGA(+U) scale\n",
      "  The energy above hull for R2SCAN materials at compositions with R2SCAN hull entries will be preserved. For other compositions, Energies of R2SCAN materials will be set equal to those of matching GGA(+U) materials\n",
      "  Discarding GGA entry mp-47-GGA for C4 because there is a matching R2SCAN material\n",
      "  Discarding GGA entry mp-1271198-GGA for Fe4 because there is a matching R2SCAN material\n",
      "  Discarding GGA entry mp-644607-GGA for C2 O4 because there is a matching R2SCAN material\n",
      "  Discarding GGA entry mp-990448-GGA for C2 because there is a matching R2SCAN material\n",
      "  Discarding GGA entry mp-611448-GGA for C12 because there is a matching R2SCAN material\n",
      "  Discarding GGA entry mp-606949-GGA for C12 because there is a matching R2SCAN material\n",
      "  Discarding GGA entry mp-1190699-GGA for C8 O16 because there is a matching R2SCAN material\n",
      "  Discarding GGA entry mp-1077906-GGA for C2 O4 because there is a matching R2SCAN material\n",
      "  Discarding GGA+U entry mp-19306-GGA+U for Fe6 O8 because it is a GGA(+U) ground state that matches a R2SCAN material.\n",
      "  Discarding GGA entry mp-569304-GGA for C4 because there is a matching R2SCAN material\n",
      "  Discarding GGA entry mp-150-GGA for Fe1 because there is a matching R2SCAN material\n",
      "  Discarding GGA entry mp-136-GGA for Fe2 because there is a matching R2SCAN material\n",
      "  Discarding GGA entry mp-569567-GGA for C14 because there is a matching R2SCAN material\n",
      "  Discarding GGA entry mp-616440-GGA for C16 because there is a matching R2SCAN material\n",
      "  Discarding GGA entry mp-556034-GGA for C4 O8 because there is a matching R2SCAN material\n",
      "  Discarding GGA entry mp-169-GGA for C2 because there is a matching R2SCAN material\n",
      "  Discarding GGA entry mp-1066100-GGA for O4 because there is a matching R2SCAN material\n",
      "  Discarding GGA entry mp-20066-GGA for C4 O8 because it is a GGA(+U) ground state that matches a R2SCAN material.\n",
      "  Discarding GGA entry mp-611426-GGA for C8 because there is a matching R2SCAN material\n",
      "  Discarding GGA entry mp-610917-GGA for O2 because there is a matching R2SCAN material\n",
      "  Discarding GGA entry mp-990424-GGA for C4 because there is a matching R2SCAN material\n",
      "  Discarding GGA entry mp-13154-GGA for Fe6 C2 because there is a matching R2SCAN material\n",
      "  Discarding GGA entry mp-11725-GGA for C2 O4 because there is a matching R2SCAN material\n",
      "  Discarding GGA entry mp-1009490-GGA for O2 because there is a matching R2SCAN material\n",
      "  Discarding GGA entry mp-997182-GGA for C4 because there is a matching R2SCAN material\n"
     ]
    },
    {
     "name": "stderr",
     "output_type": "stream",
     "text": [
      "WARNING! Discarding GGA entry mp-1065697-GGA for O1 because it was not found in the mixing state data. This can occur when there are duplicate structures. In such cases, only the lowest energy entry with that structure appears in the mixing state data.\n",
      "WARNING! Discarding GGA entry mp-611836-GGA for O2 because it was not found in the mixing state data. This can occur when there are duplicate structures. In such cases, only the lowest energy entry with that structure appears in the mixing state data.\n",
      "WARNING! Discarding GGA entry mp-1023923-GGA for O6 because it was not found in the mixing state data. This can occur when there are duplicate structures. In such cases, only the lowest energy entry with that structure appears in the mixing state data.\n",
      "WARNING! Discarding GGA+U entry mp-1181334-GGA+U for Fe4 O13 because it was not found in the mixing state data. This can occur when there are duplicate structures. In such cases, only the lowest energy entry with that structure appears in the mixing state data.\n",
      "WARNING! Discarding GGA entry mp-1180050-GGA for O8 because it was not found in the mixing state data. This can occur when there are duplicate structures. In such cases, only the lowest energy entry with that structure appears in the mixing state data.\n",
      "WARNING! Discarding GGA entry mp-1102442-GGA for O12 because it was not found in the mixing state data. This can occur when there are duplicate structures. In such cases, only the lowest energy entry with that structure appears in the mixing state data.\n"
     ]
    },
    {
     "name": "stdout",
     "output_type": "stream",
     "text": [
      "  Discarding GGA entry mp-66-GGA for C2 because there is a matching R2SCAN material\n",
      "  Discarding GGA entry mp-569517-GGA for C10 because there is a matching R2SCAN material\n",
      "  Discarding GGA entry mp-723285-GGA for O8 because it is a GGA(+U) ground state that matches a R2SCAN material.\n",
      "  Discarding GGA entry mp-48-GGA for C4 because there is a matching R2SCAN material\n",
      "  Discarding GGA+U entry mp-19770-GGA+U for Fe4 O6 because it is a GGA(+U) ground state that matches a R2SCAN material.\n",
      "  Discarding GGA+U entry mp-18969-GGA+U for Fe2 C2 O6 because it is a GGA(+U) ground state that matches a R2SCAN material.\n",
      "  Discarding GGA entry mp-569416-GGA for C8 because there is a matching R2SCAN material\n",
      "  Discarding R2SCAN entry mp-13-R2SCAN for Fe2 because there is no matching GGA(+U) entry and no R2SCAN ground state at this composition.\n",
      "  Discarding R2SCAN entry mp-18905-R2SCAN for Fe2 O2 because there is no matching GGA(+U) entry and no R2SCAN ground state at this composition.\n",
      "  Discarding R2SCAN entry mp-568806-R2SCAN for C8 because there is no matching GGA(+U) entry and no R2SCAN ground state at this composition.\n",
      "  Discarding R2SCAN entry mp-937760-R2SCAN for C4 because there is no matching GGA(+U) entry and no R2SCAN ground state at this composition.\n",
      "\n",
      "Processing complete. Mixed entries contain 250 GGA(+U) and 32 R2SCAN entries.\n",
      "\n",
      "entry_id    formula     spacegroup  run_type  eV/atom corr/atom e_above_hull\n",
      "mp-2516584-GGAC           R-3m        GGA       -9.229  0.000     0.000    \n",
      "mp-569304-R2SCANC           R-3m        R2SCAN    -9.227  0.711     0.002    \n",
      "mp-169-R2SCANC           C2/m        R2SCAN    -9.225  0.721     0.003    \n",
      "mp-937760-GGAC           Fmmm        GGA       -9.223  0.000     0.006    \n",
      "mp-568286-GGAC           Cmme        GGA       -9.220  0.000     0.008    \n",
      "mp-568363-GGAC           Cmme        GGA       -9.220  0.000     0.008    \n",
      "mp-48-R2SCANC           P6_3/mmc    R2SCAN    -9.220  0.724     0.008    \n",
      "mp-990448-R2SCANC           P6/mmm      R2SCAN    -9.220  0.715     0.009    \n",
      "mp-1040425-GGAC           P6/mmm      GGA       -9.219  0.000     0.009    \n",
      "mp-997182-R2SCANC           P6_3/mmc    R2SCAN    -9.219  0.714     0.010    \n",
      "mp-990424-R2SCANC           P-3m1       R2SCAN    -9.219  0.719     0.010    \n",
      "mp-606949-R2SCANC           P6_3mc      R2SCAN    -9.218  0.723     0.010    \n",
      "mp-568806-GGAC           P6/mmm      GGA       -9.217  0.000     0.012    \n",
      "mp-632329-GGAC           C2/m        GGA       -9.215  0.000     0.014    \n",
      "mp-569416-R2SCANC           R-3m        R2SCAN    -9.198  0.747     0.030    \n",
      "mp-1096869-GGAC           Cm          GGA       -9.111  0.000     0.118    \n",
      "mp-66-R2SCANC           Fd-3m       R2SCAN    -9.090  0.745     0.138    \n",
      "mp-616440-R2SCANC           P6_3/mmc    R2SCAN    -9.086  0.744     0.143    \n",
      "mp-611448-R2SCANC           P6_3/mmc    R2SCAN    -9.084  0.744     0.144    \n",
      "mp-569567-R2SCANC           R-3m        R2SCAN    -9.082  0.747     0.146    \n",
      "mp-569517-R2SCANC           R-3m        R2SCAN    -9.082  0.745     0.147    \n",
      "mp-611426-R2SCANC           P6_3/mmc    R2SCAN    -9.081  0.744     0.148    \n",
      "mp-47-R2SCANC           P6_3/mmc    R2SCAN    -9.065  0.742     0.163    \n",
      "mp-2647017-GGAC           P2_1/m      GGA       -9.051  0.000     0.178    \n",
      "mp-1078845-GGAC           Cmmm        GGA       -8.961  0.000     0.268    \n",
      "mp-1190171-GGAC           Pnma        GGA       -8.936  0.000     0.293    \n",
      "mp-1080826-GGAC           C2/m        GGA       -8.928  0.000     0.301    \n",
      "mp-1008395-GGAC           I4/mmm      GGA       -8.894  0.000     0.335    \n",
      "mp-683919-GGAC           Cmcm        GGA       -8.878  0.000     0.350    \n",
      "mp-1196583-GGAC           Pa-3        GGA       -8.844  0.000     0.385    \n",
      "mp-1147718-GGAC           Pnnm        GGA       -8.840  0.000     0.389    \n",
      "mp-667273-GGAC           Fm-3        GGA       -8.838  0.000     0.391    \n",
      "mp-630227-GGAC           Immm        GGA       -8.833  0.000     0.396    \n",
      "mp-680372-GGAC           R-3m        GGA       -8.820  0.000     0.409    \n",
      "mp-1008374-GGAC           Cmmm        GGA       -8.790  0.000     0.438    \n",
      "mp-568410-GGAC           Cmmm        GGA       -8.720  0.000     0.509    \n",
      "mp-568028-GGAC           Pnnm        GGA       -8.698  0.000     0.531    \n",
      "mp-2646980-GGAC           Pmmm        GGA       -8.586  0.000     0.643    \n",
      "mp-1205283-GGAC           Pnnm        GGA       -8.529  0.000     0.699    \n",
      "mp-1188817-GGAC           Pm-3m       GGA       -8.463  0.000     0.765    \n",
      "mp-570002-GGAC           Im-3m       GGA       -8.463  0.000     0.766    \n",
      "mp-24-GGA   C           Ia-3        GGA       -8.394  0.000     0.835    \n",
      "mp-1244964-GGAC           P1          GGA       -8.294  0.000     0.935    \n",
      "mp-579909-GGAC           Cmmm        GGA       -8.284  0.000     0.945    \n",
      "mp-1244913-GGAC           P1          GGA       -8.234  0.000     0.994    \n",
      "mp-1095633-GGAC           I4/mmm      GGA       -8.230  0.000     0.999    \n",
      "mp-1182029-GGAC           P2/m        GGA       -8.226  0.000     1.002    \n",
      "mp-1245190-GGAC           P1          GGA       -8.214  0.000     1.015    \n",
      "mp-723638-GGAC           P2_1/c      GGA       -8.187  0.000     1.041    \n",
      "mp-1095534-GGAC           I4/mmm      GGA       -8.105  0.000     1.123    \n",
      "mp-1205417-GGAC           I4/mmm      GGA       -8.060  0.000     1.169    \n",
      "mp-624889-GGAC           Cmme        GGA       -7.973  0.000     1.256    \n",
      "mp-1018088-GGAC           I4_132      GGA       -7.923  0.000     1.306    \n",
      "mp-1197903-GGAC           P1          GGA       -7.818  0.000     1.410    \n",
      "mp-731594-GGAC           P2_1        GGA       -7.728  0.000     1.501    \n"
     ]
    },
    {
     "name": "stderr",
     "output_type": "stream",
     "text": [
      "WARNING! Discarding R2SCAN entry mp-1009490-R2SCAN for O2 because it was not found in the mixing state data. This can occur when there are duplicate structures. In such cases, only the lowest energy entry with that structure appears in the mixing state data.\n"
     ]
    },
    {
     "name": "stdout",
     "output_type": "stream",
     "text": [
      "mp-1182684-GGAC           P2_12_12_1  GGA       -7.699  0.000     1.530    \n",
      "mp-1196857-GGAC           Pnma        GGA       -7.628  0.000     1.601    \n",
      "mp-1192619-GGAC           I-43m       GGA       -7.308  0.000     1.920    \n",
      "mp-1097832-GGAC           Cmcm        GGA       -6.621  0.000     2.608    \n",
      "mp-1056957-GGAC           Cmcm        GGA       -6.610  0.000     2.618    \n",
      "mp-1181996-GGAC           I4/mmm      GGA       -6.592  0.000     2.637    \n",
      "mp-998866-GGAC           Pm-3m       GGA       -6.472  0.000     2.757    \n",
      "mp-561848-GGAC3O2        Pnma        GGA       -8.069  -0.275    0.509    \n",
      "mp-1001594-GGAC4O3        R3          GGA       -8.295  -0.294    0.237    \n",
      "mp-1001608-GGAC4O3        P1          GGA       -6.646  -0.294    1.886    \n",
      "mp-1197923-GGAC61O2       P2_1/c      GGA       -8.810  -0.022    0.367    \n",
      "mp-995183-GGACO          Pnma        GGA       -7.867  -0.344    0.549    \n",
      "mp-11875-GGACO          P2_13       GGA       -7.754  -0.344    0.661    \n",
      "mp-729933-GGACO          P2_12_12_1  GGA       -7.746  -0.344    0.669    \n",
      "mp-556660-GGACO          R3c         GGA       -7.739  -0.344    0.677    \n",
      "mp-20066-R2SCANCO2         Pa-3        R2SCAN    -8.144  0.452     0.000    \n",
      "mp-644607-R2SCANCO2         P4_2/mnm    R2SCAN    -8.139  0.452     0.005    \n",
      "mp-1077906-R2SCANCO2         Cmce        R2SCAN    -8.137  0.452     0.007    \n",
      "mp-1190699-R2SCANCO2         R-3c        R2SCAN    -8.137  0.452     0.007    \n",
      "mp-11725-R2SCANCO2         P4_2/mnm    R2SCAN    -8.135  0.452     0.009    \n",
      "mp-556034-R2SCANCO2         Pbcn        R2SCAN    -8.134  0.452     0.011    \n",
      "mp-1102227-GGACO2         P4_12_12    GGA       -8.128  -0.458    0.017    \n",
      "mp-729728-GGACO2         Pna2_1      GGA       -8.126  -0.458    0.018    \n",
      "mp-995224-GGACO2         I4_1/a      GGA       -7.847  -0.458    0.297    \n",
      "mp-995198-GGACO2         P2_1/c      GGA       -7.826  -0.458    0.319    \n",
      "mp-1077316-GGACO2         I-42d       GGA       -7.695  -0.458    0.450    \n",
      "mp-1190685-GGACO2         P2_12_12_1  GGA       -7.634  -0.458    0.511    \n",
      "mp-995196-GGACO3         P4/mmm      GGA       -4.271  -0.515    3.075    \n",
      "mp-13-GGA   Fe          Im-3m       GGA       -8.470  0.000     0.000    \n",
      "mp-1271068-GGAFe          Fmmm        GGA       -8.453  0.000     0.017    \n",
      "mp-1271198-R2SCANFe          P2_1/m      R2SCAN    -8.415  5.878     0.055    \n",
      "mp-136-R2SCANFe          P6_3/mmc    R2SCAN    -8.372  5.381     0.098    \n",
      "mp-1271128-GGAFe          Fmmm        GGA       -8.371  0.000     0.099    \n",
      "mp-150-R2SCANFe          Fm-3m       R2SCAN    -8.322  5.982     0.148    \n",
      "mp-1194030-GGAFe          P4_2/mnm    GGA       -8.295  0.000     0.175    \n",
      "mp-1245108-GGAFe          P1          GGA       -8.191  0.000     0.279    \n",
      "mp-1096950-GGAFe          P6/mmm      GGA       -7.993  0.000     0.477    \n",
      "mp-568345-GGAFe          Pm-3m       GGA       -7.709  0.000     0.761    \n",
      "mp-616561-GGA+UFe(CO)5     C2/c        GGA+U     -7.899  -0.517    0.612    \n",
      "mp-837859-GGA+UFe(CO)5     Cc          GGA+U     -7.799  -0.517    0.711    \n",
      "mp-1212773-GGA+UFe(CO)6     C2/m        GGA+U     -7.380  -0.248    1.116    \n",
      "mp-752929-GGA+UFe(CO3)2    R-3         GGA+U     -7.875  -0.709    0.070    \n",
      "mp-1283232-GGA+UFe(CO3)2    P-1         GGA+U     -7.873  -0.709    0.071    \n",
      "mp-1181535-GGA+UFe(CO3)2    Cccm        GGA+U     -7.396  -0.709    0.548    \n",
      "mp-725152-GGA+UFe(CO3)2    C2/c        GGA+U     -7.261  -0.709    0.684    \n",
      "mp-1196665-GGA+UFe(CO3)2    Cccm        GGA+U     -7.229  -0.709    0.716    \n",
      "mp-705555-GGA+UFe10O11     P-1         GGA+U     -8.116  -1.434    0.045    \n",
      "mp-759504-GGA+UFe10O11     P-1         GGA+U     -8.104  -1.434    0.057    \n",
      "mp-799417-GGA+UFe10O11     P-1         GGA+U     -7.449  -1.434    0.713    \n",
      "mp-705417-GGA+UFe11O12     P-1         GGA+U     -8.114  -1.437    0.050    \n",
      "mp-764326-GGA+UFe12O13     R-3         GGA+U     -8.083  -1.440    0.083    \n",
      "mp-705414-GGA+UFe13O14     R-3         GGA+U     -8.096  -1.442    0.072    \n",
      "mp-756693-GGA+UFe13O15     P-1         GGA+U     -8.069  -1.415    0.078    \n",
      "mp-1195927-GGA+UFe13O19     C2/m        GGA+U     -7.770  -1.324    0.303    \n",
      "mp-764417-GGA+UFe14O15     I4/m        GGA+U     -8.110  -1.444    0.059    \n",
      "mp-705551-GGA+UFe15O16     P1          GGA+U     -8.094  -1.446    0.077    \n",
      "mp-1224936-GGA+UFe15O16     R-3m        GGA+U     -8.087  -1.446    0.084    \n",
      "mp-705424-GGA+UFe17O18     P-1         GGA+U     -8.133  -1.449    0.040    \n",
      "mp-643081-GGA+UFe2(CO)9    P6_3/m      GGA+U     -7.865  -0.535    0.655    \n",
      "mp-758121-GGA+UFe2(CO3)3   R3          GGA+U     -8.054  -0.764    0.062    \n",
      "mp-706875-GGA+UFe21O23     P1          GGA+U     -8.109  -1.436    0.053    \n",
      "mp-530048-GGA+UFe21O32     R32         GGA+U     -7.840  -1.309    0.195    \n",
      "mp-1192884-GGAFe23C6      Fm-3m       GGA       -8.574  0.000     0.053    \n",
      "mp-705553-GGA+UFe23O25     P-1         GGA+U     -8.115  -1.439    0.050    \n",
      "mp-776135-GGA+UFe23O32     P1          GGA+U     -7.980  -1.343    0.109    \n",
      "mp-774295-GGA+UFe23O32     R-3m        GGA+U     -7.900  -1.343    0.188    \n",
      "mp-1194978-GGA+UFe25O32     Amm2        GGA+U     -7.930  -1.375    0.185    \n",
      "mp-1871-GGA Fe2C        Pnnm        GGA       -8.664  0.000     0.059    \n",
      "mp-1102779-GGAFe2C        Pnma        GGA       -8.544  0.000     0.179    \n",
      "mp-568503-GGAFe2C        P6/mmm      GGA       -7.581  0.000     1.142    \n",
      "mp-759204-GGA+UFe2C2O7     C2          GGA+U     -8.041  -0.847    0.067    \n",
      "mp-758768-GGA+UFe2C2O7     P2_1/c      GGA+U     -8.031  -0.847    0.077    \n",
      "mp-752896-GGA+UFe2C2O7     P-1         GGA+U     -8.020  -0.847    0.088    \n",
      "mp-758060-GGA+UFe2C2O7     P2_1/c      GGA+U     -8.012  -0.847    0.096    \n",
      "mp-1345659-GGA+UFe2C2O7     C2/c        GGA+U     -7.637  -0.847    0.471    \n",
      "mp-1199200-GGA+UFe2CO5      P2_1/c      GGA+U     -7.867  -0.993    0.227    \n",
      "mp-19770-R2SCANFe2O3       R-3c        R2SCAN    -8.064  2.830     0.000    \n",
      "mp-565814-GGA+UFe2O3       Ia-3        GGA+U     -7.993  -1.315    0.071    \n",
      "mp-715572-GGA+UFe2O3       P1          GGA+U     -7.987  -1.315    0.077    \n",
      "mp-1356129-GGA+UFe2O3       C2          GGA+U     -7.979  -1.315    0.085    \n",
      "mp-715276-GGA+UFe2O3       P1          GGA+U     -7.978  -1.315    0.086    \n",
      "mp-1178392-GGA+UFe2O3       Pbca        GGA+U     -7.951  -1.315    0.113    \n",
      "mp-542896-GGA+UFe2O3       Pna2_1      GGA+U     -7.948  -1.315    0.116    \n",
      "mp-1456-GGA+UFe2O3       P4_12_12    GGA+U     -7.945  -1.315    0.119    \n",
      "mp-776606-GGA+UFe2O3       P1          GGA+U     -7.941  -1.315    0.123    \n",
      "mp-510080-GGA+UFe2O3       Pbcn        GGA+U     -7.933  -1.315    0.131    \n",
      "mp-705547-GGA+UFe2O3       Cm          GGA+U     -7.904  -1.315    0.160    \n",
      "mp-1181824-GGA+UFe2O3       C2/c        GGA+U     -7.896  -1.315    0.168    \n",
      "mp-1205415-GGA+UFe2O3       Pnma        GGA+U     -7.887  -1.315    0.177    \n",
      "mp-685153-GGA+UFe2O3       P1          GGA+U     -7.839  -1.315    0.225    \n",
      "mp-1078361-GGA+UFe2O3       Cmcm        GGA+U     -7.827  -1.315    0.236    \n",
      "mp-1244911-GGA+UFe2O3       P1          GGA+U     -7.790  -1.315    0.274    \n",
      "mp-1378486-GGA+UFe2O3       Cmcm        GGA+U     -7.789  -1.315    0.275    \n",
      "mp-1245019-GGA+UFe2O3       P1          GGA+U     -7.775  -1.315    0.289    \n",
      "mp-1244869-GGA+UFe2O3       P1          GGA+U     -7.774  -1.315    0.290    \n",
      "mp-1245078-GGA+UFe2O3       P1          GGA+U     -7.758  -1.315    0.306    \n",
      "mp-1245154-GGA+UFe2O3       P1          GGA+U     -7.743  -1.315    0.321    \n",
      "mp-1245277-GGA+UFe2O3       P1          GGA+U     -7.720  -1.315    0.344    \n",
      "mp-716814-GGA+UFe2O3       P3          GGA+U     -7.561  -1.315    0.503    \n",
      "mp-557546-GGA+UFe2O3       P3          GGA+U     -7.536  -1.315    0.528    \n",
      "mp-1245084-GGA+UFe2O3       P1          GGA+U     -7.512  -1.181    0.552    \n",
      "mp-1068212-GGA+UFe2O3       Pm-3m       GGA+U     -7.204  -1.315    0.860    \n",
      "mp-1147691-GGA+UFe2O5       P-1         GGA+U     -6.799  -1.135    0.376    \n",
      "mp-863766-GGA+UFe32O35     P1          GGA+U     -8.105  -1.436    0.058    \n",
      "mp-694910-GGA+UFe35O36     P1          GGA+U     -7.398  -1.460    0.784    \n",
      "mp-705753-GGA+UFe38O39     P-1         GGA+U     -8.111  -1.461    0.071    \n",
      "mp-13154-R2SCANFe3C        P6_322      R2SCAN    -8.604  4.542     0.056    \n",
      "mp-510623-GGAFe3C        Pnma        GGA       -8.604  0.000     0.056    \n",
      "mp-613523-GGAFe3C        Pnma        GGA       -8.536  0.000     0.124    \n",
      "mp-1205444-GGAFe3C        C2/m        GGA       -8.500  0.000     0.160    \n",
      "mp-1205436-GGAFe3C        I-42m       GGA       -8.500  0.000     0.160    \n",
      "mp-1182630-GGAFe3C        Pnma        GGA       -8.383  0.000     0.277    \n",
      "mp-1188724-GGAFe3C        Pnma        GGA       -4.333  0.000     4.326    \n",
      "mp-1228683-GGA+UFe3C7O19    P-1         GGA+U     -7.274  -0.339    0.794    \n",
      "mp-1184320-GGA+UFe3O        P6_3/mmc    GGA+U     -6.819  -1.864    1.511    \n",
      "mp-19306-R2SCANFe3O4       Fd-3m       R2SCAN    -8.103  3.043     0.000    \n",
      "mp-31770-GGA+UFe3O4       Cc          GGA+U     -8.085  -1.359    0.017    \n",
      "mp-1271821-GGA+UFe3O4       P-1         GGA+U     -8.078  -1.359    0.024    \n",
      "mp-1271978-GGA+UFe3O4       P1          GGA+U     -8.074  -1.359    0.029    \n",
      "mp-715811-GGA+UFe3O4       P2/m        GGA+U     -8.065  -1.359    0.037    \n",
      "mp-1181657-GGA+UFe3O4       P2/m        GGA+U     -8.062  -1.359    0.040    \n",
      "mp-1181813-GGA+UFe3O4       Pmc2_1      GGA+U     -8.054  -1.359    0.048    \n",
      "mp-1182249-GGA+UFe3O4       P1          GGA+U     -8.050  -1.359    0.052    \n",
      "mp-1185276-GGA+UFe3O4       P1          GGA+U     -8.044  -1.359    0.059    \n",
      "mp-650112-GGA+UFe3O4       Pbcm        GGA+U     -8.043  -1.359    0.059    \n",
      "mp-1271729-GGA+UFe3O4       P1          GGA+U     -8.041  -1.359    0.062    \n",
      "mp-510252-GGA+UFe3O4       Pmma        GGA+U     -8.028  -1.359    0.075    \n",
      "mp-716052-GGA+UFe3O4       P2/m        GGA+U     -8.027  -1.359    0.075    \n",
      "mp-1181546-GGA+UFe3O4       P2/m        GGA+U     -8.027  -1.359    0.076    \n",
      "mp-715438-GGA+UFe3O4       P1          GGA+U     -8.024  -1.359    0.078    \n",
      "mp-715558-GGA+UFe3O4       P2/m        GGA+U     -8.024  -1.359    0.079    \n",
      "mp-1192788-GGA+UFe3O4       Pbcm        GGA+U     -7.994  -1.359    0.109    \n",
      "mp-715275-GGA+UFe3O4       Pc          GGA+U     -7.989  -1.359    0.114    \n",
      "mp-505595-GGA+UFe3O4       P2_1        GGA+U     -7.988  -1.359    0.114    \n",
      "mp-1181340-GGA+UFe3O4       P2/m        GGA+U     -7.978  -1.359    0.124    \n",
      "mp-1182229-GGA+UFe3O4       P1          GGA+U     -7.971  -1.359    0.131    \n",
      "mp-1181570-GGA+UFe3O4       Pc          GGA+U     -7.970  -1.359    0.133    \n",
      "mp-705416-GGA+UFe3O4       Pbcm        GGA+U     -7.957  -1.359    0.146    \n",
      "mp-612405-GGA+UFe3O4       Cm          GGA+U     -7.925  -1.359    0.177    \n",
      "mp-715614-GGA+UFe3O4       C2/m        GGA+U     -7.634  -1.359    0.468    \n",
      "mp-611817-GGA+UFe3O4       F-43m       GGA+U     -7.397  -1.359    0.706    \n",
      "mp-1379262-GGA+UFe3O4       Pm          GGA+U     -7.126  -1.359    0.976    \n",
      "mp-1104628-GGA+UFe3O4       Pmma        GGA+U     -7.034  -1.233    1.068    \n",
      "mp-757565-GGA+UFe41O56     R3          GGA+U     -8.008  -1.350    0.087    \n",
      "mp-530050-GGA+UFe43O64     C2          GGA+U     -7.950  -1.318    0.116    \n",
      "mp-1078579-GGAFe4C        P2_1/m      GGA       -8.489  0.000     0.133    \n",
      "mp-1070333-GGAFe4C        I4/m        GGA       -8.343  0.000     0.279    \n",
      "mp-1246-GGA Fe4C        P-43m       GGA       -8.106  0.000     0.515    \n",
      "mp-706459-GGA+UFe4C14O13   P2_1/c      GGA+U     -7.183  -0.359    1.393    \n",
      "mp-1181411-GGA+UFe4O13      Immm        GGA+U     -6.201  -1.056    0.582    \n",
      "mp-1188678-GGA+UFe4O5       Cmcm        GGA+U     -8.033  -1.384    0.090    \n",
      "mp-2794-GGA Fe5C2       C2/c        GGA       -8.628  0.000     0.059    \n",
      "mp-645339-GGAFe5C2       P2/c        GGA       -8.626  0.000     0.061    \n",
      "mp-1095382-GGA+UFe5O7       C2/m        GGA+U     -7.915  -1.341    0.171    \n",
      "mp-1326275-GGA+UFe5O7       Cmcm        GGA+U     -7.873  -1.341    0.213    \n",
      "mp-510746-GGA+UFe5O8       P4_332      GGA+U     -7.781  -1.290    0.164    \n",
      "mp-1225007-GGA+UFe5O8       F-43m       GGA+U     -7.762  -1.290    0.182    \n",
      "mp-1225001-GGA+UFe5O8       R-3m        GGA+U     -7.759  -1.290    0.185    \n",
      "mp-21717-GGAFe7C3       Pnma        GGA       -8.633  0.000     0.064    \n",
      "mp-18257-GGAFe7C3       P6_3mc      GGA       -8.617  0.000     0.080    \n",
      "mp-715333-GGA+UFe7O8       P-1         GGA+U     -8.085  -1.419    0.064    \n",
      "mp-32939-GGA+UFe7O8       Fm-3m       GGA+U     -8.050  -1.419    0.099    \n",
      "mp-705558-GGA+UFe7O9       P1          GGA+U     -7.894  -1.373    0.220    \n",
      "mp-1182503-GGA+UFe8O17      P1          GGA+U     -7.190  -1.189    0.251    \n",
      "mp-705588-GGA+UFe8O9       P1          GGA+U     -8.105  -1.425    0.050    \n",
      "mp-763787-GGA+UFe8O9       P-1         GGA+U     -8.092  -1.425    0.062    \n",
      "mp-759037-GGA+UFe9O10      P-1         GGA+U     -8.118  -1.430    0.040    \n",
      "mp-1342828-GGA+UFe9O13      C2/m        GGA+U     -7.812  -1.329    0.264    \n",
      "mp-18969-R2SCANFeCO3       R-3c        R2SCAN    -8.298  1.536     0.000    \n",
      "mp-675126-GGA+UFeCO3       Cc          GGA+U     -6.781  -0.548    1.518    \n",
      "mp-1274279-GGA+UFeO         P-1         GGA+U     -8.191  -1.471    0.000    \n",
      "mp-715262-GGA+UFeO         I4/mmm      GGA+U     -8.181  -1.471    0.009    \n",
      "mp-1178232-GGA+UFeO         P1          GGA+U     -8.178  -1.471    0.012    \n",
      "mp-1283030-GGA+UFeO         P-1         GGA+U     -8.176  -1.471    0.014    \n",
      "mp-753682-GGA+UFeO         P4_2/mmc    GGA+U     -8.103  -1.471    0.087    \n",
      "mp-849689-GGA+UFeO         P-62c       GGA+U     -8.087  -1.471    0.104    \n",
      "mp-1178247-GGA+UFeO         P31c        GGA+U     -8.079  -1.471    0.111    \n",
      "mp-755189-GGA+UFeO         C2/m        GGA+U     -8.077  -1.471    0.113    \n",
      "mp-756436-GGA+UFeO         C2/m        GGA+U     -8.075  -1.471    0.116    \n",
      "mp-1244983-GGA+UFeO         P1          GGA+U     -7.913  -1.472    0.278    \n",
      "mp-1178239-GGA+UFeO         Cc          GGA+U     -7.890  -1.471    0.300    \n",
      "mp-1245168-GGA+UFeO         P1          GGA+U     -7.885  -1.472    0.306    \n",
      "mp-1245001-GGA+UFeO         P1          GGA+U     -7.870  -1.472    0.320    \n",
      "mp-18905-GGA+UFeO         I4/mmm      GGA+U     -7.780  -1.471    0.410    \n",
      "mp-754765-GGA+UFeO         P6_3mc      GGA+U     -7.728  -1.471    0.463    \n",
      "mp-1181437-GGA+UFeO         I4/mmm      GGA+U     -7.138  -1.471    1.053    \n",
      "mp-850222-GGA+UFeO2        P4_2/mnm    GGA+U     -7.399  -1.210    0.146    \n",
      "mp-25332-GGA+UFeO2        I4_1/amd    GGA+U     -7.377  -1.210    0.168    \n",
      "mp-796324-GGA+UFeO2        I4/m        GGA+U     -7.365  -1.210    0.181    \n",
      "mp-1181766-GGA+UFeO2        P2/m        GGA+U     -7.364  -1.210    0.181    \n",
      "mp-1205429-GGA+UFeO2        Pm          GGA+U     -7.358  -1.210    0.187    \n",
      "mp-796259-GGA+UFeO2        Pnma        GGA+U     -7.340  -1.210    0.205    \n",
      "mp-1062652-GGA+UFeO2        C2/m        GGA+U     -7.288  -1.210    0.257    \n",
      "mp-1395285-GGA+UFeO2        Imma        GGA+U     -7.286  -1.210    0.259    \n",
      "mp-1359196-GGA+UFeO2        Cm          GGA+U     -7.274  -1.210    0.272    \n",
      "mp-1354450-GGA+UFeO2        P1          GGA+U     -7.273  -1.210    0.272    \n",
      "mp-25236-GGA+UFeO2        R-3m        GGA+U     -7.271  -1.210    0.275    \n",
      "mp-821313-GGA+UFeO2        P-3m1       GGA+U     -7.270  -1.210    0.275    \n",
      "mp-1097003-GGA+UFeO2        Cmcm        GGA+U     -7.269  -1.210    0.276    \n",
      "mp-714904-GGA+UFeO2        I4_1/amd    GGA+U     -7.265  -1.210    0.280    \n",
      "mp-1355579-GGA+UFeO2        P3m1        GGA+U     -7.265  -1.210    0.281    \n",
      "mp-1443203-GGA+UFeO2        R3m         GGA+U     -7.235  -1.210    0.310    \n",
      "mp-1431292-GGA+UFeO2        R-3m        GGA+U     -7.235  -1.210    0.310    \n",
      "mp-1384466-GGA+UFeO2        P6_3/mmc    GGA+U     -7.225  -1.210    0.321    \n"
     ]
    },
    {
     "name": "stdout",
     "output_type": "stream",
     "text": [
      "mp-540003-GGA+UFeO2        Fd-3m       GGA+U     -7.224  -1.210    0.321    \n",
      "mp-1350825-GGA+UFeO2        Cm          GGA+U     -7.211  -1.210    0.335    \n",
      "mp-1355192-GGA+UFeO2        Cm          GGA+U     -7.204  -1.210    0.341    \n",
      "mp-1387762-GGA+UFeO2        Imma        GGA+U     -7.170  -1.210    0.375    \n",
      "mp-1047285-GGA+UFeO2        Pnma        GGA+U     -7.154  -1.210    0.391    \n",
      "mp-1412685-GGA+UFeO2        P6_3/mmc    GGA+U     -5.562  -1.210    1.983    \n",
      "mp-863316-GGA+UFeO3        C2/m        GGA+U     -6.355  -0.685    0.542    \n",
      "mp-611836-R2SCANO2          C2/m        R2SCAN    -4.952  1.008     0.000    \n",
      "mp-610917-R2SCANO2          R-3m        R2SCAN    -4.947  1.008     0.005    \n",
      "mp-723285-R2SCANO2          P4_12_12    R2SCAN    -4.947  1.008     0.006    \n",
      "mp-1087546-GGAO2          C2/c        GGA       -4.930  0.000     0.022    \n",
      "mp-1180036-GGAO2          P2/c        GGA       -4.918  0.000     0.034    \n",
      "mp-607540-GGAO2          Fmmm        GGA       -4.827  0.000     0.125    \n",
      "mp-1066100-R2SCANO2          P6_3/mmc    R2SCAN    -4.684  1.008     0.269    \n",
      "mp-1180064-GGAO2          P1          GGA       -4.561  0.000     0.391    \n",
      "mp-560602-GGAO2          Pbca        GGA       -4.537  0.000     0.416    \n",
      "mp-1180008-GGAO2          P1          GGA       -4.528  0.000     0.424    \n",
      "mp-734188-GGAO2          P4_1        GGA       -4.513  0.000     0.439    \n",
      "mp-2421172-GGAO2          R3c         GGA       -4.032  0.000     0.921    \n",
      "mp-1056831-GGAO2          P2/m        GGA       -3.637  0.000     1.315    \n",
      "mp-1056059-GGAO2          P4/mmm      GGA       -3.390  0.000     1.562    \n",
      "mp-1058623-GGAO2          Cmcm        GGA       -3.377  0.000     1.575    \n",
      "mp-1057818-GGAO2          Fd-3m       GGA       -3.067  0.000     1.885    \n"
     ]
    },
    {
     "data": {
      "application/vnd.jupyter.widget-view+json": {
       "model_id": "72c48305aacf40c4bdbcf14c98c58def",
       "version_major": 2,
       "version_minor": 0
      },
      "text/plain": [
       "Retrieving ThermoDoc documents:   0%|          | 0/238 [00:00<?, ?it/s]"
      ]
     },
     "metadata": {},
     "output_type": "display_data"
    },
    {
     "name": "stdout",
     "output_type": "stream",
     "text": [
      "Processing 183 GGA(+U) and 55 R2SCAN entries...\n",
      "  Processed 183 compatible GGA(+U) entries with MaterialsProject2020Compatibility\n",
      "  Entries belong to the {'O', 'C', 'K'} chemical system\n",
      "  Generating mixing state data from provided entries.\n"
     ]
    },
    {
     "name": "stderr",
     "output_type": "stream",
     "text": [
      "Failed to guess oxidation states for Entry mp-1071539-GGA (KO2). Assigning anion correction to only the most electronegative atom.\n",
      "Failed to guess oxidation states for Entry mp-1180711-GGA (KO2). Assigning anion correction to only the most electronegative atom.\n",
      "Failed to guess oxidation states for Entry mp-1180742-GGA (KO2). Assigning anion correction to only the most electronegative atom.\n",
      "Failed to guess oxidation states for Entry mp-1223320-GGA (KO2). Assigning anion correction to only the most electronegative atom.\n",
      "Failed to guess oxidation states for Entry mp-1726-GGA (KO3). Assigning anion correction to only the most electronegative atom.\n",
      "Failed to guess oxidation states for Entry mp-1866-GGA (KO2). Assigning anion correction to only the most electronegative atom.\n",
      "Failed to guess oxidation states for Entry mp-21325-GGA (KO2). Assigning anion correction to only the most electronegative atom.\n",
      "Failed to guess oxidation states for Entry mp-734250-GGA (KO2). Assigning anion correction to only the most electronegative atom.\n",
      "Failed to guess oxidation states for Entry mp-998913-GGA (KO3). Assigning anion correction to only the most electronegative atom.\n",
      "Failed to guess oxidation states for Entry mp-998916-GGA (KO2). Assigning anion correction to only the most electronegative atom.\n",
      "Failed to guess oxidation states for Entry mp-1105868-GGA (KCO3). Assigning anion correction to only the most electronegative atom.\n",
      "Failed to guess oxidation states for Entry mp-1106094-GGA (KCO3). Assigning anion correction to only the most electronegative atom.\n",
      "Failed to guess oxidation states for Entry mp-1211856-GGA (K4C2O9). Assigning anion correction to only the most electronegative atom.\n",
      "Failed to guess oxidation states for Entry mp-675766-GGA (K4CO6). Assigning anion correction to only the most electronegative atom.\n",
      "Failed to guess oxidation states for Entry mp-29687-GGA (KC60). Assigning anion correction to only the most electronegative atom.\n",
      "Failed to guess oxidation states for Entry mp-1197923-GGA (C61O2). Assigning anion correction to only the most electronegative atom.\n"
     ]
    },
    {
     "name": "stdout",
     "output_type": "stream",
     "text": [
      "  Entries contain R2SCAN calculations for 7 of 10 GGA(+U) hull entries.\n",
      "  R2SCAN energies will be adjusted to the GGA(+U) scale\n",
      "  The energy above hull for R2SCAN materials at compositions with R2SCAN hull entries will be preserved. For other compositions, Energies of R2SCAN materials will be set equal to those of matching GGA(+U) materials\n",
      "  Discarding GGA entry mp-1866-GGA for K1 O2 because it is a GGA(+U) ground state that matches a R2SCAN material.\n",
      "  Discarding GGA entry mp-47-GGA for C4 because there is a matching R2SCAN material\n",
      "  Discarding GGA entry mp-3963-GGA for K8 C4 O12 because it is a GGA(+U) ground state that matches a R2SCAN material.\n",
      "  Discarding GGA entry mp-1180961-GGA for K2 because there is a matching R2SCAN material\n",
      "  Discarding GGA entry mp-2672-GGA for K4 O4 because it is a GGA(+U) ground state that matches a R2SCAN material.\n",
      "  Discarding GGA entry mp-644607-GGA for C2 O4 because there is a matching R2SCAN material\n",
      "  Discarding GGA entry mp-998914-GGA for K4 O2 because there is a matching R2SCAN material\n",
      "  Discarding GGA entry mp-1180991-GGA for K5 because there is a matching R2SCAN material\n",
      "  Discarding GGA entry mp-936219-GGA for K4 O2 because there is a matching R2SCAN material\n",
      "  Discarding GGA entry mp-990448-GGA for C2 because there is a matching R2SCAN material\n",
      "  Discarding GGA entry mp-611448-GGA for C12 because there is a matching R2SCAN material\n",
      "  Discarding GGA entry mp-606949-GGA for C12 because there is a matching R2SCAN material\n",
      "  Discarding GGA entry mp-10157-GGA for K1 because there is a matching R2SCAN material\n",
      "  Discarding GGA entry mp-1190699-GGA for C8 O16 because there is a matching R2SCAN material\n",
      "  Discarding GGA entry mp-1077906-GGA for C2 O4 because there is a matching R2SCAN material\n",
      "  Discarding GGA entry mp-569304-GGA for C4 because there is a matching R2SCAN material\n",
      "  Discarding GGA entry mp-569567-GGA for C14 because there is a matching R2SCAN material\n",
      "  Discarding GGA entry mp-554072-GGA for K4 C2 O6 because there is a matching R2SCAN material\n",
      "  Discarding GGA entry mp-21325-GGA for K2 O4 because there is a matching R2SCAN material\n",
      "  Discarding GGA entry mp-616440-GGA for C16 because there is a matching R2SCAN material\n",
      "  Discarding GGA entry mp-556034-GGA for C4 O8 because there is a matching R2SCAN material\n",
      "  Discarding GGA entry mp-169-GGA for C2 because there is a matching R2SCAN material\n",
      "  Discarding GGA entry mp-10662-GGA for K4 C2 O6 because there is a matching R2SCAN material\n",
      "  Discarding GGA entry mp-1066100-GGA for O4 because there is a matching R2SCAN material\n",
      "  Discarding GGA entry mp-20066-GGA for C4 O8 because it is a GGA(+U) ground state that matches a R2SCAN material.\n",
      "  Discarding GGA entry mp-611426-GGA for C8 because there is a matching R2SCAN material\n",
      "  Discarding GGA entry mp-58-GGA for K1 because there is a matching R2SCAN material\n",
      "  Discarding GGA entry mp-776016-GGA for K16 O8 because there is a matching R2SCAN material\n",
      "  Discarding GGA entry mp-610917-GGA for O2 because there is a matching R2SCAN material\n",
      "  Discarding GGA entry mp-990424-GGA for C4 because there is a matching R2SCAN material\n",
      "  Discarding GGA entry mp-1185201-GGA for K29 because there is a matching R2SCAN material\n",
      "  Discarding GGA entry mp-11725-GGA for C2 O4 because there is a matching R2SCAN material\n",
      "  Discarding GGA entry mp-1009490-GGA for O2 because there is a matching R2SCAN material\n",
      "  Discarding GGA entry mp-997182-GGA for C4 because there is a matching R2SCAN material\n",
      "  Discarding GGA entry mp-1184764-GGA for K3 because there is a matching R2SCAN material\n",
      "  Discarding GGA entry mp-998917-GGA for K6 O6 because there is a matching R2SCAN material\n",
      "  Discarding GGA entry mp-604318-GGA for K4 because there is a matching R2SCAN material\n",
      "  Discarding GGA entry mp-998929-GGA for K6 O3 because there is a matching R2SCAN material\n",
      "  Discarding GGA entry mp-998881-GGA for K1 because there is a matching R2SCAN material\n",
      "  Discarding GGA entry mp-66-GGA for C2 because there is a matching R2SCAN material\n",
      "  Discarding GGA entry mp-1184808-GGA for K8 because there is a matching R2SCAN material\n",
      "  Discarding GGA entry mp-569517-GGA for C10 because there is a matching R2SCAN material\n",
      "  Discarding GGA entry mp-560616-GGA for K4 C4 O8 because there is a matching R2SCAN material\n",
      "  Discarding GGA entry mp-972981-GGA for K2 because there is a matching R2SCAN material\n",
      "  Discarding GGA entry mp-723285-GGA for O8 because it is a GGA(+U) ground state that matches a R2SCAN material.\n",
      "  Discarding GGA entry mp-1184804-GGA for K8 because there is a matching R2SCAN material\n",
      "  Discarding GGA entry mp-1184905-GGA for K20 because it is a GGA(+U) ground state that matches a R2SCAN material.\n",
      "  Discarding GGA entry mp-28930-GGA for K2 C16 because it is a GGA(+U) ground state that matches a R2SCAN material.\n",
      "  Discarding GGA entry mp-48-GGA for C4 because there is a matching R2SCAN material\n",
      "  Discarding GGA entry mp-1184755-GGA for K2 because there is a matching R2SCAN material\n",
      "  Discarding GGA entry mp-569416-GGA for C8 because there is a matching R2SCAN material\n",
      "  Discarding R2SCAN entry mp-971-R2SCAN for K4 O2 because there is no matching GGA(+U) entry and no R2SCAN ground state at this composition.\n"
     ]
    },
    {
     "name": "stderr",
     "output_type": "stream",
     "text": [
      "WARNING! Discarding GGA entry mp-1065697-GGA for O1 because it was not found in the mixing state data. This can occur when there are duplicate structures. In such cases, only the lowest energy entry with that structure appears in the mixing state data.\n",
      "WARNING! Discarding GGA entry mp-611836-GGA for O2 because it was not found in the mixing state data. This can occur when there are duplicate structures. In such cases, only the lowest energy entry with that structure appears in the mixing state data.\n",
      "WARNING! Discarding GGA entry mp-1023923-GGA for O6 because it was not found in the mixing state data. This can occur when there are duplicate structures. In such cases, only the lowest energy entry with that structure appears in the mixing state data.\n",
      "WARNING! Discarding GGA entry mp-1180050-GGA for O8 because it was not found in the mixing state data. This can occur when there are duplicate structures. In such cases, only the lowest energy entry with that structure appears in the mixing state data.\n",
      "WARNING! Discarding GGA entry mp-1102442-GGA for O12 because it was not found in the mixing state data. This can occur when there are duplicate structures. In such cases, only the lowest energy entry with that structure appears in the mixing state data.\n"
     ]
    },
    {
     "name": "stdout",
     "output_type": "stream",
     "text": [
      "  Discarding R2SCAN entry mp-568806-R2SCAN for C8 because there is no matching GGA(+U) entry and no R2SCAN ground state at this composition.\n",
      "  Discarding R2SCAN entry mp-937760-R2SCAN for C4 because there is no matching GGA(+U) entry and no R2SCAN ground state at this composition.\n",
      "\n",
      "Processing complete. Mixed entries contain 127 GGA(+U) and 51 R2SCAN entries.\n",
      "\n",
      "entry_id    formula     spacegroup  run_type  eV/atom corr/atom e_above_hull\n",
      "mp-2516584-GGAC           R-3m        GGA       -9.229  0.000     0.000    \n",
      "mp-569304-R2SCANC           R-3m        R2SCAN    -9.227  0.711     0.002    \n",
      "mp-169-R2SCANC           C2/m        R2SCAN    -9.225  0.721     0.003    \n",
      "mp-937760-GGAC           Fmmm        GGA       -9.223  0.000     0.006    \n",
      "mp-568286-GGAC           Cmme        GGA       -9.220  0.000     0.008    \n",
      "mp-568363-GGAC           Cmme        GGA       -9.220  0.000     0.008    \n",
      "mp-48-R2SCANC           P6_3/mmc    R2SCAN    -9.220  0.724     0.008    \n",
      "mp-990448-R2SCANC           P6/mmm      R2SCAN    -9.220  0.715     0.009    \n",
      "mp-1040425-GGAC           P6/mmm      GGA       -9.219  0.000     0.009    \n",
      "mp-997182-R2SCANC           P6_3/mmc    R2SCAN    -9.219  0.714     0.010    \n",
      "mp-990424-R2SCANC           P-3m1       R2SCAN    -9.219  0.719     0.010    \n",
      "mp-606949-R2SCANC           P6_3mc      R2SCAN    -9.218  0.723     0.010    \n",
      "mp-568806-GGAC           P6/mmm      GGA       -9.217  0.000     0.012    \n",
      "mp-632329-GGAC           C2/m        GGA       -9.215  0.000     0.014    \n",
      "mp-569416-R2SCANC           R-3m        R2SCAN    -9.198  0.747     0.030    \n",
      "mp-1096869-GGAC           Cm          GGA       -9.111  0.000     0.118    \n",
      "mp-66-R2SCANC           Fd-3m       R2SCAN    -9.090  0.745     0.138    \n",
      "mp-616440-R2SCANC           P6_3/mmc    R2SCAN    -9.086  0.744     0.143    \n",
      "mp-611448-R2SCANC           P6_3/mmc    R2SCAN    -9.084  0.744     0.144    \n",
      "mp-569567-R2SCANC           R-3m        R2SCAN    -9.082  0.747     0.146    \n",
      "mp-569517-R2SCANC           R-3m        R2SCAN    -9.082  0.745     0.147    \n",
      "mp-611426-R2SCANC           P6_3/mmc    R2SCAN    -9.081  0.744     0.148    \n",
      "mp-47-R2SCANC           P6_3/mmc    R2SCAN    -9.065  0.742     0.163    \n",
      "mp-2647017-GGAC           P2_1/m      GGA       -9.051  0.000     0.178    \n",
      "mp-1078845-GGAC           Cmmm        GGA       -8.961  0.000     0.268    \n",
      "mp-1190171-GGAC           Pnma        GGA       -8.936  0.000     0.293    \n",
      "mp-1080826-GGAC           C2/m        GGA       -8.928  0.000     0.301    \n",
      "mp-1008395-GGAC           I4/mmm      GGA       -8.894  0.000     0.335    \n",
      "mp-683919-GGAC           Cmcm        GGA       -8.878  0.000     0.350    \n",
      "mp-1196583-GGAC           Pa-3        GGA       -8.844  0.000     0.385    \n",
      "mp-1147718-GGAC           Pnnm        GGA       -8.840  0.000     0.389    \n",
      "mp-667273-GGAC           Fm-3        GGA       -8.838  0.000     0.391    \n",
      "mp-630227-GGAC           Immm        GGA       -8.833  0.000     0.396    \n",
      "mp-680372-GGAC           R-3m        GGA       -8.820  0.000     0.409    \n",
      "mp-1008374-GGAC           Cmmm        GGA       -8.790  0.000     0.438    \n",
      "mp-568410-GGAC           Cmmm        GGA       -8.720  0.000     0.509    \n",
      "mp-568028-GGAC           Pnnm        GGA       -8.698  0.000     0.531    \n",
      "mp-2646980-GGAC           Pmmm        GGA       -8.586  0.000     0.643    \n",
      "mp-1205283-GGAC           Pnnm        GGA       -8.529  0.000     0.699    \n",
      "mp-1188817-GGAC           Pm-3m       GGA       -8.463  0.000     0.765    \n",
      "mp-570002-GGAC           Im-3m       GGA       -8.463  0.000     0.766    \n",
      "mp-24-GGA   C           Ia-3        GGA       -8.394  0.000     0.835    \n",
      "mp-1244964-GGAC           P1          GGA       -8.294  0.000     0.935    \n",
      "mp-579909-GGAC           Cmmm        GGA       -8.284  0.000     0.945    \n",
      "mp-1244913-GGAC           P1          GGA       -8.234  0.000     0.994    \n",
      "mp-1095633-GGAC           I4/mmm      GGA       -8.230  0.000     0.999    \n",
      "mp-1182029-GGAC           P2/m        GGA       -8.226  0.000     1.002    \n",
      "mp-1245190-GGAC           P1          GGA       -8.214  0.000     1.015    \n",
      "mp-723638-GGAC           P2_1/c      GGA       -8.187  0.000     1.041    \n",
      "mp-1095534-GGAC           I4/mmm      GGA       -8.105  0.000     1.123    \n",
      "mp-1205417-GGAC           I4/mmm      GGA       -8.060  0.000     1.169    \n",
      "mp-624889-GGAC           Cmme        GGA       -7.973  0.000     1.256    \n",
      "mp-1018088-GGAC           I4_132      GGA       -7.923  0.000     1.306    \n",
      "mp-1197903-GGAC           P1          GGA       -7.818  0.000     1.410    \n",
      "mp-731594-GGAC           P2_1        GGA       -7.728  0.000     1.501    \n",
      "mp-1182684-GGAC           P2_12_12_1  GGA       -7.699  0.000     1.530    \n",
      "mp-1196857-GGAC           Pnma        GGA       -7.628  0.000     1.601    \n",
      "mp-1192619-GGAC           I-43m       GGA       -7.308  0.000     1.920    \n",
      "mp-1097832-GGAC           Cmcm        GGA       -6.621  0.000     2.608    \n",
      "mp-1056957-GGAC           Cmcm        GGA       -6.610  0.000     2.618    \n",
      "mp-1181996-GGAC           I4/mmm      GGA       -6.592  0.000     2.637    \n",
      "mp-998866-GGAC           Pm-3m       GGA       -6.472  0.000     2.757    \n",
      "mp-561848-GGAC3O2        Pnma        GGA       -8.069  -0.275    0.509    \n",
      "mp-1001594-GGAC4O3        R3          GGA       -8.295  -0.294    0.237    \n",
      "mp-1001608-GGAC4O3        P1          GGA       -6.646  -0.294    1.886    \n",
      "mp-1197923-GGAC61O2       P2_1/c      GGA       -8.810  -0.022    0.367    \n",
      "mp-995183-GGACO          Pnma        GGA       -7.867  -0.344    0.549    \n",
      "mp-11875-GGACO          P2_13       GGA       -7.754  -0.344    0.661    \n",
      "mp-729933-GGACO          P2_12_12_1  GGA       -7.746  -0.344    0.669    \n",
      "mp-556660-GGACO          R3c         GGA       -7.739  -0.344    0.677    \n",
      "mp-20066-R2SCANCO2         Pa-3        R2SCAN    -8.144  0.452     0.000    \n",
      "mp-644607-R2SCANCO2         P4_2/mnm    R2SCAN    -8.139  0.452     0.005    \n",
      "mp-1077906-R2SCANCO2         Cmce        R2SCAN    -8.137  0.452     0.007    \n",
      "mp-1190699-R2SCANCO2         R-3c        R2SCAN    -8.137  0.452     0.007    \n",
      "mp-11725-R2SCANCO2         P4_2/mnm    R2SCAN    -8.135  0.452     0.009    \n",
      "mp-556034-R2SCANCO2         Pbcn        R2SCAN    -8.134  0.452     0.011    \n",
      "mp-1102227-GGACO2         P4_12_12    GGA       -8.128  -0.458    0.017    \n",
      "mp-729728-GGACO2         Pna2_1      GGA       -8.126  -0.458    0.018    \n",
      "mp-995224-GGACO2         I4_1/a      GGA       -7.847  -0.458    0.297    \n",
      "mp-995198-GGACO2         P2_1/c      GGA       -7.826  -0.458    0.319    \n",
      "mp-1077316-GGACO2         I-42d       GGA       -7.695  -0.458    0.450    \n",
      "mp-1190685-GGACO2         P2_12_12_1  GGA       -7.634  -0.458    0.511    \n",
      "mp-995196-GGACO3         P4/mmm      GGA       -4.271  -0.515    3.075    \n",
      "mp-1184804-R2SCANK           Cmce        R2SCAN    -1.131  4.887     0.000    \n",
      "mp-972981-R2SCANK           Cmcm        R2SCAN    -1.125  4.887     0.007    \n",
      "mp-10157-R2SCANK           Fm-3m       R2SCAN    -1.124  4.887     0.007    \n",
      "mp-1184764-R2SCANK           R-3m        R2SCAN    -1.123  4.887     0.008    \n",
      "mp-1184755-R2SCANK           P6_3/mmc    R2SCAN    -1.123  4.887     0.009    \n",
      "mp-604318-R2SCANK           P6_3/mmc    R2SCAN    -1.123  4.887     0.009    \n",
      "mp-1184808-R2SCANK           Pm-3n       R2SCAN    -1.118  4.887     0.013    \n",
      "mp-58-R2SCANK           Im-3m       R2SCAN    -1.116  4.887     0.015    \n",
      "mp-1185201-R2SCANK           I-43m       R2SCAN    -1.115  4.887     0.016    \n",
      "mp-1184905-R2SCANK           P4_132      R2SCAN    -1.110  4.887     0.021    \n",
      "mp-573691-GGAK           Cmce        GGA       -1.078  0.000     0.053    \n",
      "mp-1199937-GGAK           Im-3        GGA       -1.061  0.000     0.071    \n",
      "mp-1180961-R2SCANK           I4_1/amd    R2SCAN    -1.060  4.887     0.071    \n",
      "mp-1080043-GGAK           Pnma        GGA       -1.047  0.000     0.085    \n",
      "mp-604325-GGAK           C2/c        GGA       -1.037  0.000     0.095    \n",
      "mp-998881-R2SCANK           Pm-3m       R2SCAN    -1.019  4.887     0.112    \n",
      "mp-1180991-R2SCANK           P4/mmm      R2SCAN    -1.013  4.887     0.119    \n",
      "mp-1078640-GGAK           I4/mcm      GGA       -0.944  0.000     0.187    \n",
      "mp-1068966-GGAK           Cmmm        GGA       -0.931  0.000     0.200    \n",
      "mp-1056027-GGAK           P4/mmm      GGA       -0.614  0.000     0.517    \n"
     ]
    },
    {
     "name": "stderr",
     "output_type": "stream",
     "text": [
      "WARNING! Discarding R2SCAN entry mp-1009490-R2SCAN for O2 because it was not found in the mixing state data. This can occur when there are duplicate structures. In such cases, only the lowest energy entry with that structure appears in the mixing state data.\n"
     ]
    },
    {
     "name": "stdout",
     "output_type": "stream",
     "text": [
      "mp-1211945-GGAK2C         Fm-3m       GGA       -2.440  0.000     1.403    \n",
      "mp-3963-R2SCANK2CO3       P2_1/c      R2SCAN    -6.499  2.054     0.000    \n",
      "mp-554072-R2SCANK2CO3       C2/c        R2SCAN    -6.497  2.054     0.002    \n",
      "mp-10662-R2SCANK2CO3       P6_3/mmc    R2SCAN    -6.484  2.054     0.015    \n",
      "mp-971-GGA  K2O         Fm-3m       GGA       -3.637  -0.229    0.000    \n",
      "mp-776016-R2SCANK2O         Pbca        R2SCAN    -3.617  3.530     0.020    \n",
      "mp-998915-GGAK2O         Pnnm        GGA       -3.608  -0.229    0.030    \n",
      "mp-936219-R2SCANK2O         P-1         R2SCAN    -3.598  3.494     0.039    \n",
      "mp-684904-GGAK2O         C2/c        GGA       -3.598  -0.229    0.040    \n",
      "mp-998914-R2SCANK2O         C2/m        R2SCAN    -3.596  3.522     0.041    \n",
      "mp-776104-GGAK2O         P4_2/nmc    GGA       -3.586  -0.229    0.051    \n",
      "mp-998929-R2SCANK2O         P1          R2SCAN    -3.578  3.558     0.059    \n",
      "mp-776081-GGAK2O         P2_1        GGA       -3.549  -0.229    0.088    \n",
      "mp-1223784-GGAK2O         P4/mmm      GGA       -3.437  -0.229    0.200    \n",
      "mp-2672-R2SCANK2O2        Cmce        R2SCAN    -4.325  2.867     0.000    \n",
      "mp-998917-R2SCANK2O2        P-62m       R2SCAN    -4.299  2.867     0.026    \n",
      "mp-1097008-GGAK2O2        Cmcm        GGA       -4.056  -0.344    0.268    \n",
      "mp-1070737-GGAK3CO        Pm-3m       GGA       -3.312  -0.137    1.051    \n",
      "mp-1206408-GGAK4C         I4/mmm      GGA       -1.784  0.000     0.974    \n",
      "mp-35889-GGAK4C2O3      P1          GGA       -5.145  -0.229    0.469    \n",
      "mp-1211856-GGAK4C2O9      C2/c        GGA       -5.873  -0.412    0.316    \n",
      "mp-572537-GGAK4CO4       P4_2/n      GGA       -5.384  -0.305    0.161    \n",
      "mp-549687-GGAK4CO4       I-42m       GGA       -5.363  -0.305    0.183    \n",
      "mp-551561-GGAK4CO4       C2          GGA       -5.357  -0.305    0.189    \n",
      "mp-605843-GGAK4CO4       Cm          GGA       -5.354  -0.305    0.191    \n",
      "mp-549869-GGAK4CO4       I-42m       GGA       -5.351  -0.305    0.194    \n",
      "mp-546643-GGAK4CO4       I-4         GGA       -5.351  -0.305    0.195    \n",
      "mp-550895-GGAK4CO4       Cm          GGA       -5.324  -0.305    0.221    \n",
      "mp-550547-GGAK4CO4       Cm          GGA       -5.284  -0.305    0.261    \n",
      "mp-551736-GGAK4CO4       P-43m       GGA       -5.263  -0.305    0.283    \n",
      "mp-545387-GGAK4CO4       R3          GGA       -5.261  -0.305    0.284    \n",
      "mp-545630-GGAK4CO4       R3m         GGA       -5.261  -0.305    0.285    \n",
      "mp-1182825-GGAK4CO4       P1          GGA       -4.682  -0.305    0.863    \n",
      "mp-675766-GGAK4CO6       P1          GGA       -5.275  -0.088    0.326    \n",
      "mp-243-GGA  KC          I4_1/acd    GGA       -4.921  0.000     0.278    \n",
      "mp-722819-GGAKC          Fm-3m       GGA       -2.852  0.000     2.346    \n",
      "mp-1064300-GGAKC          C2/c        GGA       -2.852  0.000     2.346    \n",
      "mp-1064814-GGAKC          C2/m        GGA       -2.852  0.000     2.346    \n",
      "mp-16791-GGAKC10        Im-3        GGA       -8.268  0.000     0.251    \n",
      "mp-2285616-GGAKC2         I4/mmm      GGA       -5.237  0.000     1.316    \n",
      "mp-1072274-GGAKC2         P4/nmm      GGA       -5.237  0.000     1.317    \n",
      "mp-1211632-GGAKC2         C2/c        GGA       -5.226  0.000     1.328    \n",
      "mp-1211583-GGAKC2         C2/m        GGA       -5.220  0.000     1.333    \n",
      "mp-1211615-GGAKC2         Immm        GGA       -5.213  0.000     1.340    \n",
      "mp-29687-GGAKC60        Pnnm        GGA       -8.737  0.000     0.363    \n",
      "mp-28930-R2SCANKC8         Fddd        R2SCAN    -8.361  1.196     0.000    \n",
      "mp-560616-R2SCANKCO2        Pbam        R2SCAN    -6.965  1.675     0.013    \n",
      "mp-1106094-GGAKCO3        P2_1/c      GGA       -6.852  -0.412    0.000    \n",
      "mp-1105868-GGAKCO3        P2_1/c      GGA       -6.840  -0.412    0.012    \n",
      "mp-1866-R2SCANKO2         I4/mmm      R2SCAN    -4.656  2.269     0.000    \n",
      "mp-1180711-GGAKO2         P2_1/c      GGA       -4.635  -0.107    0.021    \n",
      "mp-1180742-GGAKO2         P2_1/c      GGA       -4.629  -0.107    0.027    \n",
      "mp-21325-R2SCANKO2         C2/c        R2SCAN    -4.617  2.269     0.039    \n",
      "mp-998916-GGAKO2         Pa-3        GGA       -4.611  -0.107    0.045    \n",
      "mp-734250-GGAKO2         P2_1/c      GGA       -4.581  -0.107    0.075    \n",
      "mp-1071539-GGAKO2         C2/c        GGA       -4.456  -0.107    0.200    \n",
      "mp-1223320-GGAKO2         P4/mmm      GGA       -3.666  -0.458    0.990    \n",
      "mp-998913-GGAKO3         Imm2        GGA       -4.649  0.000     0.081    \n",
      "mp-1726-GGA KO3         I4/mcm      GGA       -4.645  0.000     0.085    \n",
      "mp-611836-R2SCANO2          C2/m        R2SCAN    -4.952  1.008     0.000    \n",
      "mp-610917-R2SCANO2          R-3m        R2SCAN    -4.947  1.008     0.005    \n",
      "mp-723285-R2SCANO2          P4_12_12    R2SCAN    -4.947  1.008     0.006    \n",
      "mp-1087546-GGAO2          C2/c        GGA       -4.930  0.000     0.022    \n",
      "mp-1180036-GGAO2          P2/c        GGA       -4.918  0.000     0.034    \n",
      "mp-607540-GGAO2          Fmmm        GGA       -4.827  0.000     0.125    \n",
      "mp-1066100-R2SCANO2          P6_3/mmc    R2SCAN    -4.684  1.008     0.269    \n",
      "mp-1180064-GGAO2          P1          GGA       -4.561  0.000     0.391    \n",
      "mp-560602-GGAO2          Pbca        GGA       -4.537  0.000     0.416    \n",
      "mp-1180008-GGAO2          P1          GGA       -4.528  0.000     0.424    \n",
      "mp-734188-GGAO2          P4_1        GGA       -4.513  0.000     0.439    \n",
      "mp-2421172-GGAO2          R3c         GGA       -4.032  0.000     0.921    \n",
      "mp-1056831-GGAO2          P2/m        GGA       -3.637  0.000     1.315    \n",
      "mp-1056059-GGAO2          P4/mmm      GGA       -3.390  0.000     1.562    \n",
      "mp-1058623-GGAO2          Cmcm        GGA       -3.377  0.000     1.575    \n",
      "mp-1057818-GGAO2          Fd-3m       GGA       -3.067  0.000     1.885    \n"
     ]
    },
    {
     "data": {
      "application/vnd.jupyter.widget-view+json": {
       "model_id": "babaa416ecd14bd385a63651ecf21c2c",
       "version_major": 2,
       "version_minor": 0
      },
      "text/plain": [
       "Retrieving ThermoDoc documents:   0%|          | 0/210 [00:00<?, ?it/s]"
      ]
     },
     "metadata": {},
     "output_type": "display_data"
    },
    {
     "name": "stdout",
     "output_type": "stream",
     "text": [
      "Processing 166 GGA(+U) and 44 R2SCAN entries...\n",
      "  Processed 166 compatible GGA(+U) entries with MaterialsProject2020Compatibility\n",
      "  Entries belong to the {'O', 'C', 'Li'} chemical system\n",
      "  Generating mixing state data from provided entries.\n"
     ]
    },
    {
     "name": "stderr",
     "output_type": "stream",
     "text": [
      "Failed to guess oxidation states for Entry mp-1223102-GGA (Li7C120). Assigning anion correction to only the most electronegative atom.\n",
      "Failed to guess oxidation states for Entry mp-1001790-GGA (LiO3). Assigning anion correction to only the most electronegative atom.\n",
      "Failed to guess oxidation states for Entry mp-1018789-GGA (LiO2). Assigning anion correction to only the most electronegative atom.\n",
      "Failed to guess oxidation states for Entry mp-1094129-GGA (LiO2). Assigning anion correction to only the most electronegative atom.\n",
      "Failed to guess oxidation states for Entry mp-1094135-GGA (LiO2). Assigning anion correction to only the most electronegative atom.\n",
      "Failed to guess oxidation states for Entry mp-1097725-GGA (LiO2). Assigning anion correction to only the most electronegative atom.\n",
      "Failed to guess oxidation states for Entry mp-1235059-GGA (LiO8). Assigning anion correction to only the most electronegative atom.\n",
      "Failed to guess oxidation states for Entry mp-1235185-GGA (LiO8). Assigning anion correction to only the most electronegative atom.\n",
      "Failed to guess oxidation states for Entry mp-1235252-GGA (LiO8). Assigning anion correction to only the most electronegative atom.\n",
      "Failed to guess oxidation states for Entry mp-1235698-GGA (LiO8). Assigning anion correction to only the most electronegative atom.\n",
      "Failed to guess oxidation states for Entry mp-1236127-GGA (LiO8). Assigning anion correction to only the most electronegative atom.\n",
      "Failed to guess oxidation states for Entry mp-1236522-GGA (LiO8). Assigning anion correction to only the most electronegative atom.\n",
      "Failed to guess oxidation states for Entry mp-1197923-GGA (C61O2). Assigning anion correction to only the most electronegative atom.\n"
     ]
    },
    {
     "name": "stdout",
     "output_type": "stream",
     "text": [
      "  Entries contain R2SCAN calculations for 7 of 9 GGA(+U) hull entries.\n",
      "  R2SCAN energies will be adjusted to the GGA(+U) scale\n",
      "  The energy above hull for R2SCAN materials at compositions with R2SCAN hull entries will be preserved. For other compositions, Energies of R2SCAN materials will be set equal to those of matching GGA(+U) materials\n",
      "  Discarding GGA entry mp-47-GGA for C4 because there is a matching R2SCAN material\n",
      "  Discarding GGA entry mp-1235252-GGA for Li1 O8 because there is a matching R2SCAN material\n",
      "  Discarding GGA entry mp-1063005-GGA for Li3 because there is a matching R2SCAN material\n",
      "  Discarding GGA entry mp-644607-GGA for C2 O4 because there is a matching R2SCAN material\n",
      "  Discarding GGA entry mp-841-GGA for Li4 O4 because it is a GGA(+U) ground state that matches a R2SCAN material.\n",
      "  Discarding GGA entry mp-1232339-GGA for Li2 C24 because there is a matching R2SCAN material\n",
      "  Discarding GGA entry mp-10173-GGA for Li2 because there is a matching R2SCAN material\n",
      "  Discarding GGA entry mp-990448-GGA for C2 because there is a matching R2SCAN material\n",
      "  Discarding GGA entry mp-611448-GGA for C12 because there is a matching R2SCAN material\n",
      "  Discarding GGA entry mp-606949-GGA for C12 because there is a matching R2SCAN material\n",
      "  Discarding GGA entry mp-1021323-GGA for Li1 C12 because it is a GGA(+U) ground state that matches a R2SCAN material.\n",
      "  Discarding GGA entry mp-755894-GGA for Li8 O4 because there is a matching R2SCAN material\n",
      "  Discarding GGA entry mp-1190699-GGA for C8 O16 because there is a matching R2SCAN material\n",
      "  Discarding GGA entry mp-1077906-GGA for C2 O4 because there is a matching R2SCAN material\n",
      "  Discarding GGA entry mp-569304-GGA for C4 because there is a matching R2SCAN material\n",
      "  Discarding GGA entry mp-1001581-GGA for Li1 C6 because there is a matching R2SCAN material\n",
      "  Discarding GGA entry mp-1960-GGA for Li2 O1 because it is a GGA(+U) ground state that matches a R2SCAN material.\n",
      "  Discarding GGA entry mp-569567-GGA for C14 because there is a matching R2SCAN material\n",
      "  Discarding GGA entry mp-51-GGA for Li1 because there is a matching R2SCAN material\n",
      "  Discarding GGA entry mp-1378-GGA for Li2 C2 because there is a matching R2SCAN material\n",
      "  Discarding GGA entry mp-616440-GGA for C16 because there is a matching R2SCAN material\n",
      "  Discarding GGA entry mp-556034-GGA for C4 O8 because there is a matching R2SCAN material\n",
      "  Discarding GGA entry mp-169-GGA for C2 because there is a matching R2SCAN material\n",
      "  Discarding GGA entry mp-135-GGA for Li1 because there is a matching R2SCAN material\n",
      "  Discarding GGA entry mp-1066100-GGA for O4 because there is a matching R2SCAN material\n",
      "  Discarding GGA entry mp-20066-GGA for C4 O8 because it is a GGA(+U) ground state that matches a R2SCAN material.\n",
      "  Discarding GGA entry mp-976411-GGA for Li4 because there is a matching R2SCAN material\n",
      "  Discarding GGA entry mp-611426-GGA for C8 because there is a matching R2SCAN material\n",
      "  Discarding GGA entry mp-610917-GGA for O2 because there is a matching R2SCAN material\n",
      "  Discarding GGA entry mp-990424-GGA for C4 because there is a matching R2SCAN material\n",
      "  Discarding GGA entry mp-11725-GGA for C2 O4 because there is a matching R2SCAN material\n",
      "  Discarding GGA entry mp-1009490-GGA for O2 because there is a matching R2SCAN material\n",
      "  Discarding GGA entry mp-997182-GGA for C4 because there is a matching R2SCAN material\n",
      "  Discarding GGA entry mp-66-GGA for C2 because there is a matching R2SCAN material\n",
      "  Discarding GGA entry mp-569517-GGA for C10 because there is a matching R2SCAN material\n",
      "  Discarding GGA entry mp-1018134-GGA for Li3 because it is a GGA(+U) ground state that matches a R2SCAN material.\n",
      "  Discarding GGA entry mp-723285-GGA for O8 because it is a GGA(+U) ground state that matches a R2SCAN material.\n",
      "  Discarding GGA entry mp-48-GGA for C4 because there is a matching R2SCAN material\n",
      "  Discarding GGA entry mp-567337-GGA for Li8 because there is a matching R2SCAN material\n",
      "  Discarding GGA entry mp-569416-GGA for C8 because there is a matching R2SCAN material\n",
      "  Discarding GGA entry mp-3054-GGA for Li4 C2 O6 because it is a GGA(+U) ground state that matches a R2SCAN material.\n"
     ]
    },
    {
     "name": "stderr",
     "output_type": "stream",
     "text": [
      "WARNING! Discarding GGA entry mp-1065697-GGA for O1 because it was not found in the mixing state data. This can occur when there are duplicate structures. In such cases, only the lowest energy entry with that structure appears in the mixing state data.\n",
      "WARNING! Discarding GGA entry mp-611836-GGA for O2 because it was not found in the mixing state data. This can occur when there are duplicate structures. In such cases, only the lowest energy entry with that structure appears in the mixing state data.\n",
      "WARNING! Discarding GGA entry mp-1023923-GGA for O6 because it was not found in the mixing state data. This can occur when there are duplicate structures. In such cases, only the lowest energy entry with that structure appears in the mixing state data.\n",
      "WARNING! Discarding GGA entry mp-1180050-GGA for O8 because it was not found in the mixing state data. This can occur when there are duplicate structures. In such cases, only the lowest energy entry with that structure appears in the mixing state data.\n",
      "WARNING! Discarding GGA entry mp-1102442-GGA for O12 because it was not found in the mixing state data. This can occur when there are duplicate structures. In such cases, only the lowest energy entry with that structure appears in the mixing state data.\n",
      "WARNING! Discarding R2SCAN entry mp-1009490-R2SCAN for O2 because it was not found in the mixing state data. This can occur when there are duplicate structures. In such cases, only the lowest energy entry with that structure appears in the mixing state data.\n"
     ]
    },
    {
     "name": "stdout",
     "output_type": "stream",
     "text": [
      "  Discarding R2SCAN entry mp-568806-R2SCAN for C8 because there is no matching GGA(+U) entry and no R2SCAN ground state at this composition.\n",
      "  Discarding R2SCAN entry mp-937760-R2SCAN for C4 because there is no matching GGA(+U) entry and no R2SCAN ground state at this composition.\n",
      "\n",
      "Processing complete. Mixed entries contain 120 GGA(+U) and 41 R2SCAN entries.\n",
      "\n",
      "entry_id    formula     spacegroup  run_type  eV/atom corr/atom e_above_hull\n",
      "mp-2516584-GGAC           R-3m        GGA       -9.229  0.000     0.000    \n",
      "mp-569304-R2SCANC           R-3m        R2SCAN    -9.227  0.711     0.002    \n",
      "mp-169-R2SCANC           C2/m        R2SCAN    -9.225  0.721     0.003    \n",
      "mp-937760-GGAC           Fmmm        GGA       -9.223  0.000     0.006    \n",
      "mp-568286-GGAC           Cmme        GGA       -9.220  0.000     0.008    \n",
      "mp-568363-GGAC           Cmme        GGA       -9.220  0.000     0.008    \n",
      "mp-48-R2SCANC           P6_3/mmc    R2SCAN    -9.220  0.724     0.008    \n",
      "mp-990448-R2SCANC           P6/mmm      R2SCAN    -9.220  0.715     0.009    \n",
      "mp-1040425-GGAC           P6/mmm      GGA       -9.219  0.000     0.009    \n",
      "mp-997182-R2SCANC           P6_3/mmc    R2SCAN    -9.219  0.714     0.010    \n",
      "mp-990424-R2SCANC           P-3m1       R2SCAN    -9.219  0.719     0.010    \n",
      "mp-606949-R2SCANC           P6_3mc      R2SCAN    -9.218  0.723     0.010    \n",
      "mp-568806-GGAC           P6/mmm      GGA       -9.217  0.000     0.012    \n",
      "mp-632329-GGAC           C2/m        GGA       -9.215  0.000     0.014    \n",
      "mp-569416-R2SCANC           R-3m        R2SCAN    -9.198  0.747     0.030    \n",
      "mp-1096869-GGAC           Cm          GGA       -9.111  0.000     0.118    \n",
      "mp-66-R2SCANC           Fd-3m       R2SCAN    -9.090  0.745     0.138    \n",
      "mp-616440-R2SCANC           P6_3/mmc    R2SCAN    -9.086  0.744     0.143    \n",
      "mp-611448-R2SCANC           P6_3/mmc    R2SCAN    -9.084  0.744     0.144    \n",
      "mp-569567-R2SCANC           R-3m        R2SCAN    -9.082  0.747     0.146    \n",
      "mp-569517-R2SCANC           R-3m        R2SCAN    -9.082  0.745     0.147    \n",
      "mp-611426-R2SCANC           P6_3/mmc    R2SCAN    -9.081  0.744     0.148    \n",
      "mp-47-R2SCANC           P6_3/mmc    R2SCAN    -9.065  0.742     0.163    \n",
      "mp-2647017-GGAC           P2_1/m      GGA       -9.051  0.000     0.178    \n",
      "mp-1078845-GGAC           Cmmm        GGA       -8.961  0.000     0.268    \n",
      "mp-1190171-GGAC           Pnma        GGA       -8.936  0.000     0.293    \n",
      "mp-1080826-GGAC           C2/m        GGA       -8.928  0.000     0.301    \n",
      "mp-1008395-GGAC           I4/mmm      GGA       -8.894  0.000     0.335    \n",
      "mp-683919-GGAC           Cmcm        GGA       -8.878  0.000     0.350    \n",
      "mp-1196583-GGAC           Pa-3        GGA       -8.844  0.000     0.385    \n",
      "mp-1147718-GGAC           Pnnm        GGA       -8.840  0.000     0.389    \n",
      "mp-667273-GGAC           Fm-3        GGA       -8.838  0.000     0.391    \n",
      "mp-630227-GGAC           Immm        GGA       -8.833  0.000     0.396    \n",
      "mp-680372-GGAC           R-3m        GGA       -8.820  0.000     0.409    \n",
      "mp-1008374-GGAC           Cmmm        GGA       -8.790  0.000     0.438    \n",
      "mp-568410-GGAC           Cmmm        GGA       -8.720  0.000     0.509    \n",
      "mp-568028-GGAC           Pnnm        GGA       -8.698  0.000     0.531    \n",
      "mp-2646980-GGAC           Pmmm        GGA       -8.586  0.000     0.643    \n",
      "mp-1205283-GGAC           Pnnm        GGA       -8.529  0.000     0.699    \n",
      "mp-1188817-GGAC           Pm-3m       GGA       -8.463  0.000     0.765    \n",
      "mp-570002-GGAC           Im-3m       GGA       -8.463  0.000     0.766    \n",
      "mp-24-GGA   C           Ia-3        GGA       -8.394  0.000     0.835    \n",
      "mp-1244964-GGAC           P1          GGA       -8.294  0.000     0.935    \n",
      "mp-579909-GGAC           Cmmm        GGA       -8.284  0.000     0.945    \n",
      "mp-1244913-GGAC           P1          GGA       -8.234  0.000     0.994    \n",
      "mp-1095633-GGAC           I4/mmm      GGA       -8.230  0.000     0.999    \n",
      "mp-1182029-GGAC           P2/m        GGA       -8.226  0.000     1.002    \n",
      "mp-1245190-GGAC           P1          GGA       -8.214  0.000     1.015    \n",
      "mp-723638-GGAC           P2_1/c      GGA       -8.187  0.000     1.041    \n",
      "mp-1095534-GGAC           I4/mmm      GGA       -8.105  0.000     1.123    \n",
      "mp-1205417-GGAC           I4/mmm      GGA       -8.060  0.000     1.169    \n",
      "mp-624889-GGAC           Cmme        GGA       -7.973  0.000     1.256    \n",
      "mp-1018088-GGAC           I4_132      GGA       -7.923  0.000     1.306    \n",
      "mp-1197903-GGAC           P1          GGA       -7.818  0.000     1.410    \n",
      "mp-731594-GGAC           P2_1        GGA       -7.728  0.000     1.501    \n",
      "mp-1182684-GGAC           P2_12_12_1  GGA       -7.699  0.000     1.530    \n",
      "mp-1196857-GGAC           Pnma        GGA       -7.628  0.000     1.601    \n",
      "mp-1192619-GGAC           I-43m       GGA       -7.308  0.000     1.920    \n",
      "mp-1097832-GGAC           Cmcm        GGA       -6.621  0.000     2.608    \n",
      "mp-1056957-GGAC           Cmcm        GGA       -6.610  0.000     2.618    \n",
      "mp-1181996-GGAC           I4/mmm      GGA       -6.592  0.000     2.637    \n",
      "mp-998866-GGAC           Pm-3m       GGA       -6.472  0.000     2.757    \n",
      "mp-561848-GGAC3O2        Pnma        GGA       -8.069  -0.275    0.509    \n",
      "mp-1001594-GGAC4O3        R3          GGA       -8.295  -0.294    0.237    \n",
      "mp-1001608-GGAC4O3        P1          GGA       -6.646  -0.294    1.886    \n",
      "mp-1197923-GGAC61O2       P2_1/c      GGA       -8.810  -0.022    0.367    \n",
      "mp-995183-GGACO          Pnma        GGA       -7.867  -0.344    0.549    \n",
      "mp-11875-GGACO          P2_13       GGA       -7.754  -0.344    0.661    \n",
      "mp-729933-GGACO          P2_12_12_1  GGA       -7.746  -0.344    0.669    \n",
      "mp-556660-GGACO          R3c         GGA       -7.739  -0.344    0.677    \n",
      "mp-20066-R2SCANCO2         Pa-3        R2SCAN    -8.144  0.452     0.000    \n",
      "mp-644607-R2SCANCO2         P4_2/mnm    R2SCAN    -8.139  0.452     0.005    \n",
      "mp-1077906-R2SCANCO2         Cmce        R2SCAN    -8.137  0.452     0.007    \n",
      "mp-1190699-R2SCANCO2         R-3c        R2SCAN    -8.137  0.452     0.007    \n",
      "mp-11725-R2SCANCO2         P4_2/mnm    R2SCAN    -8.135  0.452     0.009    \n",
      "mp-556034-R2SCANCO2         Pbcn        R2SCAN    -8.134  0.452     0.011    \n",
      "mp-1102227-GGACO2         P4_12_12    GGA       -8.128  -0.458    0.017    \n",
      "mp-729728-GGACO2         Pna2_1      GGA       -8.126  -0.458    0.018    \n",
      "mp-995224-GGACO2         I4_1/a      GGA       -7.847  -0.458    0.297    \n",
      "mp-995198-GGACO2         P2_1/c      GGA       -7.826  -0.458    0.319    \n",
      "mp-1077316-GGACO2         I-42d       GGA       -7.695  -0.458    0.450    \n",
      "mp-1190685-GGACO2         P2_12_12_1  GGA       -7.634  -0.458    0.511    \n",
      "mp-995196-GGACO3         P4/mmm      GGA       -4.271  -0.515    3.075    \n",
      "mp-1018134-R2SCANLi          R-3m        R2SCAN    -1.909  0.478     0.000    \n",
      "mp-51-R2SCANLi          Fm-3m       R2SCAN    -1.907  0.478     0.002    \n",
      "mp-976411-R2SCANLi          P6_3/mmc    R2SCAN    -1.903  0.478     0.006    \n",
      "mp-10173-R2SCANLi          P6_3/mmc    R2SCAN    -1.903  0.478     0.006    \n",
      "mp-567337-R2SCANLi          I-43d       R2SCAN    -1.900  0.478     0.009    \n",
      "mp-135-R2SCANLi          Im-3m       R2SCAN    -1.899  0.478     0.010    \n",
      "mp-1063005-R2SCANLi          P6/mmm      R2SCAN    -1.893  0.478     0.016    \n",
      "mp-1103107-GGALi          Cmce        GGA       -1.854  0.000     0.055    \n",
      "mp-604313-GGALi          P4_132      GGA       -1.647  0.000     0.262    \n",
      "mp-546920-GGALi(CO)2     C2/m        GGA       -7.404  -0.275    0.262    \n",
      "mp-1210743-GGALi2C        Fm-3m       GGA       -3.436  0.000     0.914    \n",
      "mp-3054-R2SCANLi2CO3      C2/c        R2SCAN    -6.897  0.579     0.000    \n",
      "mp-556777-GGALi2CO3      P6_3/mcm    GGA       -6.830  -0.343    0.067    \n",
      "mp-1960-R2SCANLi2O        Fm-3m       R2SCAN    -4.984  0.625     0.000    \n",
      "mp-755894-R2SCANLi2O        Pnma        R2SCAN    -4.899  0.625     0.084    \n",
      "mp-1245224-GGALi2O        P1          GGA       -4.834  -0.229    0.150    \n",
      "mp-1245303-GGALi2O        P1          GGA       -4.825  -0.229    0.159    \n",
      "mp-1245009-GGALi2O        P1          GGA       -4.822  -0.229    0.162    \n",
      "mp-1245092-GGALi2O        P1          GGA       -4.810  -0.229    0.173    \n",
      "mp-841-R2SCANLi2O2       P6_3/mmc    R2SCAN    -5.079  0.683     0.000    \n",
      "mp-558312-GGALi2O2       P6_3/mmc    GGA       -4.936  -0.233    0.143    \n",
      "mp-1097030-GGALi2O2       P4/mmm      GGA       -4.810  -0.344    0.268    \n",
      "mp-1180619-GGALi2O2       Pm-3m       GGA       -4.790  -0.344    0.289    \n",
      "mp-976060-GGALi3C        Fm-3m       GGA       -3.264  0.000     0.476    \n",
      "mp-1180721-GGALi4CO4      Cm          GGA       -6.189  -0.305    0.070    \n",
      "mp-550320-GGALi4CO4      C2          GGA       -6.127  -0.305    0.131    \n",
      "mp-555320-GGALi4CO4      Cmc2_1      GGA       -6.126  -0.305    0.133    \n",
      "mp-551740-GGALi4CO4      I-42m       GGA       -6.113  -0.305    0.145    \n",
      "mp-550498-GGALi4CO4      C2          GGA       -6.112  -0.305    0.147    \n",
      "mp-645317-GGALi4CO4      Pc          GGA       -6.109  -0.305    0.150    \n",
      "mp-555256-GGALi4CO4      Pmn2_1      GGA       -6.103  -0.305    0.156    \n",
      "mp-1238960-GGALi4CO4      Cm          GGA       -6.097  -0.305    0.161    \n",
      "mp-549389-GGALi4CO4      Cm          GGA       -6.075  -0.305    0.184    \n",
      "mp-1180553-GGALi4CO4      I222        GGA       -6.074  -0.305    0.184    \n",
      "mp-551848-GGALi4CO4      I-42m       GGA       -6.074  -0.305    0.185    \n",
      "mp-605853-GGALi4CO4      Cm          GGA       -6.073  -0.305    0.186    \n",
      "mp-1180596-GGALi4CO4      Cm          GGA       -6.070  -0.305    0.189    \n",
      "mp-550474-GGALi4CO4      R3m         GGA       -6.066  -0.305    0.193    \n",
      "mp-549207-GGALi4CO4      Cm          GGA       -6.011  -0.305    0.247    \n",
      "mp-550798-GGALi4CO4      C2          GGA       -5.978  -0.305    0.280    \n",
      "mp-549565-GGALi4CO4      Cm          GGA       -5.946  -0.305    0.313    \n",
      "mp-550593-GGALi4CO4      R3m         GGA       -5.938  -0.305    0.321    \n",
      "mp-546202-GGALi4CO4      P-43m       GGA       -5.936  -0.305    0.322    \n",
      "mp-1223102-GGALi7C120     Pm          GGA       -8.497  0.000     0.332    \n",
      "mp-1378-R2SCANLiC         Immm        R2SCAN    -5.555  0.711     0.016    \n",
      "mp-1021323-R2SCANLiC12       P6/mmm      R2SCAN    -8.670  0.719     0.000    \n",
      "mp-1232339-R2SCANLiC12       Cmcm        R2SCAN    -8.669  0.719     0.001    \n",
      "mp-1206066-GGALiC2O5      P1          GGA       -7.153  -0.429    0.324    \n",
      "mp-1001581-R2SCANLiC6        P6/mmm      R2SCAN    -8.185  0.717     0.002    \n",
      "mp-1190287-GGALiCO2       P2_1/c      GGA       -7.220  -0.344    0.056    \n",
      "mp-1180803-GGALiCO2       P6_3        GGA       -6.769  -0.344    0.507    \n",
      "mp-1018789-GGALiO2        Pnnm        GGA       -4.978  -0.107    0.083    \n",
      "mp-1094135-GGALiO2        C2/m        GGA       -4.744  -0.458    0.317    \n",
      "mp-1094129-GGALiO2        R-3m        GGA       -4.469  -0.458    0.591    \n",
      "mp-1097725-GGALiO2        Fm-3m       GGA       -4.375  -0.458    0.686    \n",
      "mp-1001790-GGALiO3        Imm2        GGA       -4.813  0.000     0.239    \n",
      "mp-1235059-GGALiO8        Cm          GGA       -5.037  -0.143    0.000    \n",
      "mp-1235185-GGALiO8        C2          GGA       -5.032  -0.143    0.005    \n",
      "mp-1235252-R2SCANLiO8        C2/m        R2SCAN    -5.028  0.821     0.009    \n",
      "mp-1236127-GGALiO8        P1          GGA       -5.022  -0.143    0.016    \n",
      "mp-1235698-GGALiO8        Cm          GGA       -4.970  -0.143    0.068    \n",
      "mp-1236522-GGALiO8        C2/m        GGA       -4.967  -0.143    0.070    \n",
      "mp-611836-R2SCANO2          C2/m        R2SCAN    -4.952  1.008     0.000    \n",
      "mp-610917-R2SCANO2          R-3m        R2SCAN    -4.947  1.008     0.005    \n",
      "mp-723285-R2SCANO2          P4_12_12    R2SCAN    -4.947  1.008     0.006    \n",
      "mp-1087546-GGAO2          C2/c        GGA       -4.930  0.000     0.022    \n",
      "mp-1180036-GGAO2          P2/c        GGA       -4.918  0.000     0.034    \n",
      "mp-607540-GGAO2          Fmmm        GGA       -4.827  0.000     0.125    \n",
      "mp-1066100-R2SCANO2          P6_3/mmc    R2SCAN    -4.684  1.008     0.269    \n",
      "mp-1180064-GGAO2          P1          GGA       -4.561  0.000     0.391    \n",
      "mp-560602-GGAO2          Pbca        GGA       -4.537  0.000     0.416    \n",
      "mp-1180008-GGAO2          P1          GGA       -4.528  0.000     0.424    \n",
      "mp-734188-GGAO2          P4_1        GGA       -4.513  0.000     0.439    \n",
      "mp-2421172-GGAO2          R3c         GGA       -4.032  0.000     0.921    \n",
      "mp-1056831-GGAO2          P2/m        GGA       -3.637  0.000     1.315    \n",
      "mp-1056059-GGAO2          P4/mmm      GGA       -3.390  0.000     1.562    \n",
      "mp-1058623-GGAO2          Cmcm        GGA       -3.377  0.000     1.575    \n",
      "mp-1057818-GGAO2          Fd-3m       GGA       -3.067  0.000     1.885    \n"
     ]
    },
    {
     "data": {
      "application/vnd.jupyter.widget-view+json": {
       "model_id": "5d2e67a31dfe45a583df424a2052cd17",
       "version_major": 2,
       "version_minor": 0
      },
      "text/plain": [
       "Retrieving ThermoDoc documents:   0%|          | 0/205 [00:00<?, ?it/s]"
      ]
     },
     "metadata": {},
     "output_type": "display_data"
    },
    {
     "name": "stdout",
     "output_type": "stream",
     "text": [
      "Processing 161 GGA(+U) and 44 R2SCAN entries...\n",
      "  Processed 161 compatible GGA(+U) entries with MaterialsProject2020Compatibility\n",
      "  Entries belong to the {'Mg', 'O', 'C'} chemical system\n",
      "  Generating mixing state data from provided entries.\n"
     ]
    },
    {
     "name": "stderr",
     "output_type": "stream",
     "text": [
      "Failed to guess oxidation states for Entry mp-1016240-GGA (Mg3C). Assigning anion correction to only the most electronegative atom.\n",
      "Failed to guess oxidation states for Entry mp-1016272-GGA (Mg7C). Assigning anion correction to only the most electronegative atom.\n",
      "Failed to guess oxidation states for Entry mp-1023497-GGA (Mg15C). Assigning anion correction to only the most electronegative atom.\n",
      "Failed to guess oxidation states for Entry mp-1185780-GGA (Mg3C). Assigning anion correction to only the most electronegative atom.\n",
      "Failed to guess oxidation states for Entry mp-1195874-GGA (MgCO6). Assigning anion correction to only the most electronegative atom.\n",
      "Failed to guess oxidation states for Entry mp-1198523-GGA (MgCO6). Assigning anion correction to only the most electronegative atom.\n",
      "Failed to guess oxidation states for Entry mp-1204170-GGA (Mg5(C2O9)2). Assigning anion correction to only the most electronegative atom.\n",
      "Failed to guess oxidation states for Entry mp-1210910-GGA (Mg5(C2O9)2). Assigning anion correction to only the most electronegative atom.\n",
      "Failed to guess oxidation states for Entry mp-728970-GGA (Mg(CO3)2). Assigning anion correction to only the most electronegative atom.\n",
      "Failed to guess oxidation states for Entry mp-1197923-GGA (C61O2). Assigning anion correction to only the most electronegative atom.\n",
      "Failed to guess oxidation states for Entry mp-1245393-GGA (MgO2). Assigning anion correction to only the most electronegative atom.\n"
     ]
    },
    {
     "name": "stdout",
     "output_type": "stream",
     "text": [
      "  Entries contain R2SCAN calculations for 5 of 6 GGA(+U) hull entries.\n",
      "  R2SCAN energies will be adjusted to the GGA(+U) scale\n",
      "  The energy above hull for R2SCAN materials at compositions with R2SCAN hull entries will be preserved. For other compositions, Energies of R2SCAN materials will be set equal to those of matching GGA(+U) materials\n",
      "  Discarding GGA entry mp-47-GGA for C4 because there is a matching R2SCAN material\n",
      "  Discarding GGA entry mp-549706-GGA for Mg2 O2 because there is a matching R2SCAN material\n",
      "  Discarding GGA entry mp-1265-GGA for Mg1 O1 because it is a GGA(+U) ground state that matches a R2SCAN material.\n",
      "  Discarding GGA entry mp-110-GGA for Mg1 because there is a matching R2SCAN material\n",
      "  Discarding GGA entry mp-644607-GGA for C2 O4 because there is a matching R2SCAN material\n",
      "  Discarding GGA entry mp-5348-GGA for Mg2 C2 O6 because it is a GGA(+U) ground state that matches a R2SCAN material.\n",
      "  Discarding GGA entry mp-990448-GGA for C2 because there is a matching R2SCAN material\n",
      "  Discarding GGA entry mp-611448-GGA for C12 because there is a matching R2SCAN material\n",
      "  Discarding GGA entry mp-606949-GGA for C12 because there is a matching R2SCAN material\n",
      "  Discarding GGA entry mp-1065577-GGA for Mg2 O2 because there is a matching R2SCAN material\n",
      "  Discarding GGA entry mp-1190699-GGA for C8 O16 because there is a matching R2SCAN material\n",
      "  Discarding GGA entry mp-1077906-GGA for C2 O4 because there is a matching R2SCAN material\n",
      "  Discarding GGA entry mp-569304-GGA for C4 because there is a matching R2SCAN material\n",
      "  Discarding GGA entry mp-1192043-GGA for Mg12 O12 because there is a matching R2SCAN material\n",
      "  Discarding GGA entry mp-569567-GGA for C14 because there is a matching R2SCAN material\n",
      "  Discarding GGA entry mp-616440-GGA for C16 because there is a matching R2SCAN material\n",
      "  Discarding GGA entry mp-556034-GGA for C4 O8 because there is a matching R2SCAN material\n",
      "  Discarding GGA entry mp-169-GGA for C2 because there is a matching R2SCAN material\n",
      "  Discarding GGA entry mp-20066-GGA for C4 O8 because it is a GGA(+U) ground state that matches a R2SCAN material.\n",
      "  Discarding GGA entry mp-1066100-GGA for O4 because there is a matching R2SCAN material\n",
      "  Discarding GGA entry mp-611426-GGA for C8 because there is a matching R2SCAN material\n",
      "  Discarding GGA entry mp-1180312-GGA for Mg8 O8 because there is a matching R2SCAN material\n",
      "  Discarding GGA entry mp-973364-GGA for Mg4 because there is a matching R2SCAN material\n",
      "  Discarding GGA entry mp-610917-GGA for O2 because there is a matching R2SCAN material\n",
      "  Discarding GGA entry mp-1056702-GGA for Mg1 because it is a GGA(+U) ground state that matches a R2SCAN material.\n",
      "  Discarding GGA entry mp-990424-GGA for C4 because there is a matching R2SCAN material\n",
      "  Discarding GGA entry mp-11725-GGA for C2 O4 because there is a matching R2SCAN material\n",
      "  Discarding GGA entry mp-1009490-GGA for O2 because there is a matching R2SCAN material\n",
      "  Discarding GGA entry mp-1056351-GGA for Mg1 because there is a matching R2SCAN material\n",
      "  Discarding GGA entry mp-997182-GGA for C4 because there is a matching R2SCAN material\n",
      "  Discarding GGA entry mp-2589-GGA for Mg4 O8 because there is a matching R2SCAN material\n",
      "  Discarding GGA entry mp-153-GGA for Mg2 because there is a matching R2SCAN material\n",
      "  Discarding GGA entry mp-66-GGA for C2 because there is a matching R2SCAN material\n",
      "  Discarding GGA entry mp-776911-GGA for Mg4 O4 because there is a matching R2SCAN material\n",
      "  Discarding GGA entry mp-569517-GGA for C10 because there is a matching R2SCAN material\n",
      "  Discarding GGA entry mp-723285-GGA for O8 because it is a GGA(+U) ground state that matches a R2SCAN material.\n",
      "  Discarding GGA entry mp-775808-GGA for Mg6 O6 because there is a matching R2SCAN material\n",
      "  Discarding GGA entry mp-48-GGA for C4 because there is a matching R2SCAN material\n",
      "  Discarding GGA entry mp-1192189-GGA for Mg12 O12 because there is a matching R2SCAN material\n",
      "  Discarding GGA entry mp-569416-GGA for C8 because there is a matching R2SCAN material\n"
     ]
    },
    {
     "name": "stderr",
     "output_type": "stream",
     "text": [
      "WARNING! Discarding GGA entry mp-1065697-GGA for O1 because it was not found in the mixing state data. This can occur when there are duplicate structures. In such cases, only the lowest energy entry with that structure appears in the mixing state data.\n",
      "WARNING! Discarding GGA entry mp-611836-GGA for O2 because it was not found in the mixing state data. This can occur when there are duplicate structures. In such cases, only the lowest energy entry with that structure appears in the mixing state data.\n",
      "WARNING! Discarding GGA entry mp-1023923-GGA for O6 because it was not found in the mixing state data. This can occur when there are duplicate structures. In such cases, only the lowest energy entry with that structure appears in the mixing state data.\n",
      "WARNING! Discarding GGA entry mp-1180050-GGA for O8 because it was not found in the mixing state data. This can occur when there are duplicate structures. In such cases, only the lowest energy entry with that structure appears in the mixing state data.\n",
      "WARNING! Discarding GGA entry mp-1102442-GGA for O12 because it was not found in the mixing state data. This can occur when there are duplicate structures. In such cases, only the lowest energy entry with that structure appears in the mixing state data.\n"
     ]
    },
    {
     "name": "stdout",
     "output_type": "stream",
     "text": [
      "  Discarding R2SCAN entry mp-568806-R2SCAN for C8 because there is no matching GGA(+U) entry and no R2SCAN ground state at this composition.\n",
      "  Discarding R2SCAN entry mp-937760-R2SCAN for C4 because there is no matching GGA(+U) entry and no R2SCAN ground state at this composition.\n",
      "\n",
      "Processing complete. Mixed entries contain 116 GGA(+U) and 41 R2SCAN entries.\n",
      "\n",
      "entry_id    formula     spacegroup  run_type  eV/atom corr/atom e_above_hull\n",
      "mp-2516584-GGAC           R-3m        GGA       -9.229  0.000     0.000    \n",
      "mp-569304-R2SCANC           R-3m        R2SCAN    -9.227  0.711     0.002    \n",
      "mp-169-R2SCANC           C2/m        R2SCAN    -9.225  0.721     0.003    \n",
      "mp-937760-GGAC           Fmmm        GGA       -9.223  0.000     0.006    \n",
      "mp-568286-GGAC           Cmme        GGA       -9.220  0.000     0.008    \n",
      "mp-568363-GGAC           Cmme        GGA       -9.220  0.000     0.008    \n",
      "mp-48-R2SCANC           P6_3/mmc    R2SCAN    -9.220  0.724     0.008    \n",
      "mp-990448-R2SCANC           P6/mmm      R2SCAN    -9.220  0.715     0.009    \n",
      "mp-1040425-GGAC           P6/mmm      GGA       -9.219  0.000     0.009    \n",
      "mp-997182-R2SCANC           P6_3/mmc    R2SCAN    -9.219  0.714     0.010    \n",
      "mp-990424-R2SCANC           P-3m1       R2SCAN    -9.219  0.719     0.010    \n",
      "mp-606949-R2SCANC           P6_3mc      R2SCAN    -9.218  0.723     0.010    \n",
      "mp-568806-GGAC           P6/mmm      GGA       -9.217  0.000     0.012    \n",
      "mp-632329-GGAC           C2/m        GGA       -9.215  0.000     0.014    \n",
      "mp-569416-R2SCANC           R-3m        R2SCAN    -9.198  0.747     0.030    \n",
      "mp-1096869-GGAC           Cm          GGA       -9.111  0.000     0.118    \n",
      "mp-66-R2SCANC           Fd-3m       R2SCAN    -9.090  0.745     0.138    \n",
      "mp-616440-R2SCANC           P6_3/mmc    R2SCAN    -9.086  0.744     0.143    \n",
      "mp-611448-R2SCANC           P6_3/mmc    R2SCAN    -9.084  0.744     0.144    \n",
      "mp-569567-R2SCANC           R-3m        R2SCAN    -9.082  0.747     0.146    \n",
      "mp-569517-R2SCANC           R-3m        R2SCAN    -9.082  0.745     0.147    \n",
      "mp-611426-R2SCANC           P6_3/mmc    R2SCAN    -9.081  0.744     0.148    \n",
      "mp-47-R2SCANC           P6_3/mmc    R2SCAN    -9.065  0.742     0.163    \n",
      "mp-2647017-GGAC           P2_1/m      GGA       -9.051  0.000     0.178    \n",
      "mp-1078845-GGAC           Cmmm        GGA       -8.961  0.000     0.268    \n",
      "mp-1190171-GGAC           Pnma        GGA       -8.936  0.000     0.293    \n",
      "mp-1080826-GGAC           C2/m        GGA       -8.928  0.000     0.301    \n",
      "mp-1008395-GGAC           I4/mmm      GGA       -8.894  0.000     0.335    \n",
      "mp-683919-GGAC           Cmcm        GGA       -8.878  0.000     0.350    \n",
      "mp-1196583-GGAC           Pa-3        GGA       -8.844  0.000     0.385    \n",
      "mp-1147718-GGAC           Pnnm        GGA       -8.840  0.000     0.389    \n",
      "mp-667273-GGAC           Fm-3        GGA       -8.838  0.000     0.391    \n",
      "mp-630227-GGAC           Immm        GGA       -8.833  0.000     0.396    \n",
      "mp-680372-GGAC           R-3m        GGA       -8.820  0.000     0.409    \n",
      "mp-1008374-GGAC           Cmmm        GGA       -8.790  0.000     0.438    \n",
      "mp-568410-GGAC           Cmmm        GGA       -8.720  0.000     0.509    \n",
      "mp-568028-GGAC           Pnnm        GGA       -8.698  0.000     0.531    \n",
      "mp-2646980-GGAC           Pmmm        GGA       -8.586  0.000     0.643    \n",
      "mp-1205283-GGAC           Pnnm        GGA       -8.529  0.000     0.699    \n",
      "mp-1188817-GGAC           Pm-3m       GGA       -8.463  0.000     0.765    \n",
      "mp-570002-GGAC           Im-3m       GGA       -8.463  0.000     0.766    \n",
      "mp-24-GGA   C           Ia-3        GGA       -8.394  0.000     0.835    \n",
      "mp-1244964-GGAC           P1          GGA       -8.294  0.000     0.935    \n",
      "mp-579909-GGAC           Cmmm        GGA       -8.284  0.000     0.945    \n",
      "mp-1244913-GGAC           P1          GGA       -8.234  0.000     0.994    \n",
      "mp-1095633-GGAC           I4/mmm      GGA       -8.230  0.000     0.999    \n",
      "mp-1182029-GGAC           P2/m        GGA       -8.226  0.000     1.002    \n",
      "mp-1245190-GGAC           P1          GGA       -8.214  0.000     1.015    \n",
      "mp-723638-GGAC           P2_1/c      GGA       -8.187  0.000     1.041    \n",
      "mp-1095534-GGAC           I4/mmm      GGA       -8.105  0.000     1.123    \n",
      "mp-1205417-GGAC           I4/mmm      GGA       -8.060  0.000     1.169    \n",
      "mp-624889-GGAC           Cmme        GGA       -7.973  0.000     1.256    \n",
      "mp-1018088-GGAC           I4_132      GGA       -7.923  0.000     1.306    \n",
      "mp-1197903-GGAC           P1          GGA       -7.818  0.000     1.410    \n",
      "mp-731594-GGAC           P2_1        GGA       -7.728  0.000     1.501    \n",
      "mp-1182684-GGAC           P2_12_12_1  GGA       -7.699  0.000     1.530    \n",
      "mp-1196857-GGAC           Pnma        GGA       -7.628  0.000     1.601    \n",
      "mp-1192619-GGAC           I-43m       GGA       -7.308  0.000     1.920    \n",
      "mp-1097832-GGAC           Cmcm        GGA       -6.621  0.000     2.608    \n",
      "mp-1056957-GGAC           Cmcm        GGA       -6.610  0.000     2.618    \n",
      "mp-1181996-GGAC           I4/mmm      GGA       -6.592  0.000     2.637    \n",
      "mp-998866-GGAC           Pm-3m       GGA       -6.472  0.000     2.757    \n",
      "mp-561848-GGAC3O2        Pnma        GGA       -8.069  -0.275    0.509    \n",
      "mp-1001594-GGAC4O3        R3          GGA       -8.295  -0.294    0.237    \n",
      "mp-1001608-GGAC4O3        P1          GGA       -6.646  -0.294    1.886    \n",
      "mp-1197923-GGAC61O2       P2_1/c      GGA       -8.810  -0.022    0.367    \n",
      "mp-995183-GGACO          Pnma        GGA       -7.867  -0.344    0.549    \n",
      "mp-11875-GGACO          P2_13       GGA       -7.754  -0.344    0.661    \n",
      "mp-729933-GGACO          P2_12_12_1  GGA       -7.746  -0.344    0.669    \n",
      "mp-556660-GGACO          R3c         GGA       -7.739  -0.344    0.677    \n",
      "mp-20066-R2SCANCO2         Pa-3        R2SCAN    -8.144  0.452     0.000    \n",
      "mp-644607-R2SCANCO2         P4_2/mnm    R2SCAN    -8.139  0.452     0.005    \n",
      "mp-1077906-R2SCANCO2         Cmce        R2SCAN    -8.137  0.452     0.007    \n",
      "mp-1190699-R2SCANCO2         R-3c        R2SCAN    -8.137  0.452     0.007    \n",
      "mp-11725-R2SCANCO2         P4_2/mnm    R2SCAN    -8.135  0.452     0.009    \n",
      "mp-556034-R2SCANCO2         Pbcn        R2SCAN    -8.134  0.452     0.011    \n",
      "mp-1102227-GGACO2         P4_12_12    GGA       -8.128  -0.458    0.017    \n",
      "mp-729728-GGACO2         Pna2_1      GGA       -8.126  -0.458    0.018    \n",
      "mp-995224-GGACO2         I4_1/a      GGA       -7.847  -0.458    0.297    \n",
      "mp-995198-GGACO2         P2_1/c      GGA       -7.826  -0.458    0.319    \n",
      "mp-1077316-GGACO2         I-42d       GGA       -7.695  -0.458    0.450    \n",
      "mp-1190685-GGACO2         P2_12_12_1  GGA       -7.634  -0.458    0.511    \n",
      "mp-995196-GGACO3         P4/mmm      GGA       -4.271  -0.515    3.075    \n",
      "mp-153-R2SCANMg          P6_3/mmc    R2SCAN    -1.630  2.539     0.000    \n",
      "mp-973364-R2SCANMg          P6_3/mmc    R2SCAN    -1.622  2.539     0.009    \n",
      "mp-1094122-R2SCANMg          R-3m        R2SCAN    -1.620  2.539     0.011    \n",
      "mp-1056702-R2SCANMg          Fm-3m       R2SCAN    -1.600  2.539     0.030    \n",
      "mp-1094122-GGAMg          R-3m        GGA       -1.597  0.000     0.034    \n",
      "mp-1056351-R2SCANMg          I4/mmm      R2SCAN    -1.593  2.539     0.038    \n",
      "mp-110-R2SCANMg          Im-3m       R2SCAN    -1.591  2.539     0.040    \n",
      "mp-1247180-GGAMg          P2_1/m      GGA       -1.423  0.000     0.208    \n",
      "mp-1055956-GGAMg          P6/mmm      GGA       -1.364  0.000     0.267    \n",
      "mp-1191802-GGAMg(C2O3)2   C2/c        GGA       -6.904  -0.375    1.133    \n",
      "mp-754005-GGAMg(CO2)2    P2_1/c      GGA       -7.736  -0.393    0.085    \n",
      "mp-728970-GGAMg(CO3)2    P2_1/c      GGA       -7.321  -0.458    0.157    \n",
      "mp-1105430-GGAMg(CO3)2    C2/c        GGA       -6.677  -0.458    0.801    \n",
      "mp-1023497-GGAMg15C       P-6m2       GGA       -1.800  0.000     0.306    \n",
      "mp-28793-GGAMg2C3       Pnnm        GGA       -6.005  0.000     0.184    \n",
      "mp-1200429-GGAMg2CO5      P2_1/c      GGA       -6.677  -0.429    0.263    \n",
      "mp-1185780-GGAMg3C        P6_3/mmc    GGA       -2.925  0.000     0.605    \n",
      "mp-1016240-GGAMg3C        P4mm        GGA       -2.823  0.000     0.707    \n",
      "mp-1222237-GGAMg3C2O7     I-42m       GGA       -7.310  -0.401    0.063    \n",
      "mp-1099248-GGAMg3CO4      Pm-3m       GGA       -6.045  -0.344    0.857    \n",
      "mp-1204170-GGAMg5(C2O9)2  Cmce        GGA       -6.634  -0.458    0.369    \n",
      "mp-1210910-GGAMg5(C2O9)2  P2_1/c      GGA       -6.630  -0.458    0.373    \n",
      "mp-1016272-GGAMg7C        P-6m2       GGA       -2.007  0.000     0.573    \n",
      "mp-1185851-GGAMgC         Pm-3m       GGA       -4.178  0.000     1.251    \n",
      "mp-29771-GGAMgC2        P4_2/mnm    GGA       -6.256  0.000     0.440    \n",
      "mp-5348-R2SCANMgCO3       R-3c        R2SCAN    -7.583  1.025     0.000    \n",
      "mp-2647164-GGAMgCO3       C2/m        GGA       -7.268  -0.412    0.315    \n",
      "mp-546079-GGAMgCO3       C222_1      GGA       -7.205  -0.412    0.378    \n",
      "mp-1198523-GGAMgCO6       P2_1/c      GGA       -6.168  -0.121    0.429    \n"
     ]
    },
    {
     "name": "stderr",
     "output_type": "stream",
     "text": [
      "WARNING! Discarding R2SCAN entry mp-1009490-R2SCAN for O2 because it was not found in the mixing state data. This can occur when there are duplicate structures. In such cases, only the lowest energy entry with that structure appears in the mixing state data.\n"
     ]
    },
    {
     "name": "stdout",
     "output_type": "stream",
     "text": [
      "mp-1195874-GGAMgCO6       P2_1/c      GGA       -5.927  -0.515    0.669    \n",
      "mp-1265-R2SCANMgO         Fm-3m       R2SCAN    -6.328  1.737     0.000    \n",
      "mp-1192189-R2SCANMgO         P6_3/mmc    R2SCAN    -6.284  1.737     0.043    \n",
      "mp-1180973-GGAMgO         R-3m        GGA       -6.268  -0.344    0.060    \n",
      "mp-1065577-R2SCANMgO         P6_3/mmc    R2SCAN    -6.264  1.737     0.063    \n",
      "mp-1192043-R2SCANMgO         Ibam        R2SCAN    -6.236  1.737     0.092    \n",
      "mp-1180312-R2SCANMgO         Ibam        R2SCAN    -6.221  1.737     0.106    \n",
      "mp-1190533-GGAMgO         P6/mcc      GGA       -6.214  -0.343    0.113    \n",
      "mp-549706-R2SCANMgO         P6_3mc      R2SCAN    -6.209  1.737     0.118    \n",
      "mp-775808-R2SCANMgO         Cm          R2SCAN    -6.195  1.737     0.132    \n",
      "mp-1101930-GGAMgO         Pm-3n       GGA       -6.192  -0.343    0.136    \n",
      "mp-776911-R2SCANMgO         P6_3mc      R2SCAN    -6.189  1.737     0.138    \n",
      "mp-1190649-GGAMgO         Cm          GGA       -6.174  -0.343    0.154    \n",
      "mp-1191789-GGAMgO         C2/c        GGA       -6.162  -0.343    0.166    \n",
      "mp-1245039-GGAMgO         P1          GGA       -6.073  -0.344    0.254    \n",
      "mp-1245045-GGAMgO         P1          GGA       -6.012  -0.344    0.316    \n",
      "mp-1245232-GGAMgO         P1          GGA       -6.006  -0.344    0.322    \n",
      "mp-1244962-GGAMgO         P1          GGA       -5.998  -0.344    0.329    \n",
      "mp-1009129-GGAMgO         P-6m2       GGA       -5.990  -0.344    0.337    \n",
      "mp-1245143-GGAMgO         P1          GGA       -5.986  -0.344    0.341    \n",
      "mp-1245195-GGAMgO         P1          GGA       -5.983  -0.344    0.345    \n",
      "mp-1245128-GGAMgO         P1          GGA       -5.982  -0.344    0.346    \n",
      "mp-1245157-GGAMgO         P1          GGA       -5.979  -0.344    0.348    \n",
      "mp-1009127-GGAMgO         Pm-3m       GGA       -5.579  -0.344    0.748    \n",
      "mp-2589-R2SCANMgO2        Pa-3        R2SCAN    -5.853  1.416     0.016    \n",
      "mp-1180271-GGAMgO2        R-3m        GGA       -5.787  -0.310    0.082    \n",
      "mp-1245393-GGAMgO2        P1          GGA       -5.495  -0.107    0.374    \n",
      "mp-1180260-GGAMgO2        C2/m        GGA       -5.329  -0.458    0.540    \n",
      "mp-1096803-GGAMgO2        C2/m        GGA       -5.327  -0.458    0.542    \n",
      "mp-611836-R2SCANO2          C2/m        R2SCAN    -4.952  1.008     0.000    \n",
      "mp-610917-R2SCANO2          R-3m        R2SCAN    -4.947  1.008     0.005    \n",
      "mp-723285-R2SCANO2          P4_12_12    R2SCAN    -4.947  1.008     0.006    \n",
      "mp-1087546-GGAO2          C2/c        GGA       -4.930  0.000     0.022    \n",
      "mp-1180036-GGAO2          P2/c        GGA       -4.918  0.000     0.034    \n",
      "mp-607540-GGAO2          Fmmm        GGA       -4.827  0.000     0.125    \n",
      "mp-1066100-R2SCANO2          P6_3/mmc    R2SCAN    -4.684  1.008     0.269    \n",
      "mp-1180064-GGAO2          P1          GGA       -4.561  0.000     0.391    \n",
      "mp-560602-GGAO2          Pbca        GGA       -4.537  0.000     0.416    \n",
      "mp-1180008-GGAO2          P1          GGA       -4.528  0.000     0.424    \n",
      "mp-734188-GGAO2          P4_1        GGA       -4.513  0.000     0.439    \n",
      "mp-2421172-GGAO2          R3c         GGA       -4.032  0.000     0.921    \n",
      "mp-1056831-GGAO2          P2/m        GGA       -3.637  0.000     1.315    \n",
      "mp-1056059-GGAO2          P4/mmm      GGA       -3.390  0.000     1.562    \n",
      "mp-1058623-GGAO2          Cmcm        GGA       -3.377  0.000     1.575    \n",
      "mp-1057818-GGAO2          Fd-3m       GGA       -3.067  0.000     1.885    \n"
     ]
    },
    {
     "data": {
      "application/vnd.jupyter.widget-view+json": {
       "model_id": "7726ff1123ce4805a44736f9711d9b4b",
       "version_major": 2,
       "version_minor": 0
      },
      "text/plain": [
       "Retrieving ThermoDoc documents:   0%|          | 0/262 [00:00<?, ?it/s]"
      ]
     },
     "metadata": {},
     "output_type": "display_data"
    },
    {
     "name": "stdout",
     "output_type": "stream",
     "text": [
      "Processing 206 GGA(+U) and 56 R2SCAN entries...\n",
      "  Processed 206 compatible GGA(+U) entries with MaterialsProject2020Compatibility\n",
      "  Entries belong to the {'Mn', 'C', 'O'} chemical system\n",
      "  Generating mixing state data from provided entries.\n"
     ]
    },
    {
     "name": "stderr",
     "output_type": "stream",
     "text": [
      "Failed to guess oxidation states for Entry mp-1188188-GGA (Mn3C). Assigning anion correction to only the most electronegative atom.\n",
      "Failed to guess oxidation states for Entry mp-1193506-GGA (Mn6C). Assigning anion correction to only the most electronegative atom.\n",
      "Failed to guess oxidation states for Entry mp-21256-GGA (Mn7C3). Assigning anion correction to only the most electronegative atom.\n",
      "Failed to guess oxidation states for Entry mp-22749-GGA (Mn5C2). Assigning anion correction to only the most electronegative atom.\n",
      "Failed to guess oxidation states for Entry mp-542830-GGA (Mn23C6). Assigning anion correction to only the most electronegative atom.\n",
      "Failed to guess oxidation states for Entry mp-1197923-GGA (C61O2). Assigning anion correction to only the most electronegative atom.\n",
      "Failed to guess oxidation states for Entry mp-1221594-GGA+U (MnO4). Assigning anion correction to only the most electronegative atom.\n",
      "Failed to guess oxidation states for Entry mp-1222372-GGA+U (Mn20O43). Assigning anion correction to only the most electronegative atom.\n",
      "Failed to guess oxidation states for Entry mp-766493-GGA+U (Mn21O40). Assigning anion correction to only the most electronegative atom.\n",
      "Failed to guess oxidation states for Entry mp-849596-GGA+U (Mn21O40). Assigning anion correction to only the most electronegative atom.\n"
     ]
    },
    {
     "name": "stdout",
     "output_type": "stream",
     "text": [
      "  Entries contain R2SCAN calculations for 8 of 10 GGA(+U) hull entries.\n",
      "  R2SCAN energies will be adjusted to the GGA(+U) scale\n",
      "  The energy above hull for R2SCAN materials at compositions with R2SCAN hull entries will be preserved. For other compositions, Energies of R2SCAN materials will be set equal to those of matching GGA(+U) materials\n",
      "  Discarding GGA+U entry mp-754430-GGA+U for Mn7 O12 because there is a matching R2SCAN material\n",
      "  Discarding GGA entry mp-47-GGA for C4 because there is a matching R2SCAN material\n",
      "  Discarding GGA+U entry mp-19006-GGA+U for Mn2 O2 because it is a GGA(+U) ground state that matches a R2SCAN material.\n",
      "  Discarding GGA+U entry mp-755489-GGA+U for Mn8 O16 because there is a matching R2SCAN material\n",
      "  Discarding GGA+U entry mp-796340-GGA+U for Mn6 O12 because there is a matching R2SCAN material\n",
      "  Discarding GGA+U entry mp-25275-GGA+U for Mn4 O8 because there is a matching R2SCAN material\n",
      "  Discarding GGA+U entry mp-25223-GGA+U for Mn1 O2 because there is a matching R2SCAN material\n",
      "  Discarding GGA entry mp-542830-GGA for Mn23 C6 because it is a GGA(+U) ground state that matches a R2SCAN material.\n",
      "  Discarding GGA entry mp-644607-GGA for C2 O4 because there is a matching R2SCAN material\n",
      "  Discarding GGA+U entry mp-1232659-GGA+U for Mn4 O4 because there is a matching R2SCAN material\n",
      "  Discarding GGA+U entry mp-18922-GGA+U for Mn5 O8 because there is a matching R2SCAN material\n",
      "  Discarding GGA+U entry mp-25424-GGA+U for Mn1 O2 because there is a matching R2SCAN material\n",
      "  Discarding GGA entry mp-1055908-GGA for Mn1 because there is a matching R2SCAN material\n",
      "  Discarding GGA entry mp-990448-GGA for C2 because there is a matching R2SCAN material\n",
      "  Discarding GGA entry mp-611448-GGA for C12 because there is a matching R2SCAN material\n",
      "  Discarding GGA entry mp-606949-GGA for C12 because there is a matching R2SCAN material\n",
      "  Discarding GGA entry mp-1190699-GGA for C8 O16 because there is a matching R2SCAN material\n",
      "  Discarding GGA+U entry mp-1354190-GGA+U for Mn8 O16 because there is a matching R2SCAN material\n",
      "  Discarding GGA entry mp-1077906-GGA for C2 O4 because there is a matching R2SCAN material\n",
      "  Discarding GGA entry mp-569304-GGA for C4 because there is a matching R2SCAN material\n",
      "  Discarding GGA entry mp-569567-GGA for C14 because there is a matching R2SCAN material\n",
      "  Discarding GGA+U entry mp-510604-GGA+U for Mn16 O24 because there is a matching R2SCAN material\n",
      "  Discarding GGA+U entry mp-18814-GGA+U for Mn2 C2 O6 because it is a GGA(+U) ground state that matches a R2SCAN material.\n",
      "  Discarding GGA entry mp-616440-GGA for C16 because there is a matching R2SCAN material\n",
      "  Discarding GGA+U entry mp-19395-GGA+U for Mn4 O8 because it is a GGA(+U) ground state that matches a R2SCAN material.\n",
      "  Discarding GGA entry mp-556034-GGA for C4 O8 because there is a matching R2SCAN material\n",
      "  Discarding GGA entry mp-169-GGA for C2 because there is a matching R2SCAN material\n",
      "  Discarding GGA+U entry mp-755671-GGA+U for Mn2 O4 because there is a matching R2SCAN material\n",
      "  Discarding GGA entry mp-1066100-GGA for O4 because there is a matching R2SCAN material\n",
      "  Discarding GGA entry mp-20066-GGA for C4 O8 because it is a GGA(+U) ground state that matches a R2SCAN material.\n",
      "  Discarding GGA entry mp-611426-GGA for C8 because there is a matching R2SCAN material\n",
      "  Discarding GGA entry mp-610917-GGA for O2 because there is a matching R2SCAN material\n",
      "  Discarding GGA entry mp-542909-GGA for Mn20 because there is a matching R2SCAN material\n",
      "  Discarding GGA entry mp-990424-GGA for C4 because there is a matching R2SCAN material\n",
      "  Discarding GGA entry mp-8634-GGA for Mn1 because there is a matching R2SCAN material\n",
      "  Discarding GGA entry mp-11725-GGA for C2 O4 because there is a matching R2SCAN material\n",
      "  Discarding GGA entry mp-1009490-GGA for O2 because there is a matching R2SCAN material\n",
      "  Discarding GGA entry mp-997182-GGA for C4 because there is a matching R2SCAN material\n",
      "  Discarding GGA+U entry mp-18759-GGA+U for Mn6 O8 because it is a GGA(+U) ground state that matches a R2SCAN material.\n",
      "  Discarding GGA+U entry mp-1271850-GGA+U for Mn4 O8 because there is a matching R2SCAN material\n",
      "  Discarding GGA entry mp-66-GGA for C2 because there is a matching R2SCAN material\n",
      "  Discarding GGA entry mp-569517-GGA for C10 because there is a matching R2SCAN material\n",
      "  Discarding GGA entry mp-35-GGA for Mn29 because it is a GGA(+U) ground state that matches a R2SCAN material.\n",
      "  Discarding GGA entry mp-723285-GGA for O8 because it is a GGA(+U) ground state that matches a R2SCAN material.\n",
      "  Discarding GGA+U entry mp-796336-GGA+U for Mn6 O12 because there is a matching R2SCAN material\n",
      "  Discarding GGA entry mp-48-GGA for C4 because there is a matching R2SCAN material\n",
      "  Discarding GGA+U entry mp-1272141-GGA+U for Mn1 O2 because there is a matching R2SCAN material\n",
      "  Discarding GGA+U entry mp-19326-GGA+U for Mn4 O8 because there is a matching R2SCAN material\n",
      "  Discarding GGA entry mp-569416-GGA for C8 because there is a matching R2SCAN material\n"
     ]
    },
    {
     "name": "stderr",
     "output_type": "stream",
     "text": [
      "WARNING! Discarding GGA entry mp-1065697-GGA for O1 because it was not found in the mixing state data. This can occur when there are duplicate structures. In such cases, only the lowest energy entry with that structure appears in the mixing state data.\n",
      "WARNING! Discarding GGA entry mp-611836-GGA for O2 because it was not found in the mixing state data. This can occur when there are duplicate structures. In such cases, only the lowest energy entry with that structure appears in the mixing state data.\n",
      "WARNING! Discarding GGA entry mp-1023923-GGA for O6 because it was not found in the mixing state data. This can occur when there are duplicate structures. In such cases, only the lowest energy entry with that structure appears in the mixing state data.\n",
      "WARNING! Discarding GGA entry mp-1180050-GGA for O8 because it was not found in the mixing state data. This can occur when there are duplicate structures. In such cases, only the lowest energy entry with that structure appears in the mixing state data.\n",
      "WARNING! Discarding GGA entry mp-1102442-GGA for O12 because it was not found in the mixing state data. This can occur when there are duplicate structures. In such cases, only the lowest energy entry with that structure appears in the mixing state data.\n"
     ]
    },
    {
     "name": "stdout",
     "output_type": "stream",
     "text": [
      "  Discarding R2SCAN entry mp-568806-R2SCAN for C8 because there is no matching GGA(+U) entry and no R2SCAN ground state at this composition.\n",
      "  Discarding R2SCAN entry mp-937760-R2SCAN for C4 because there is no matching GGA(+U) entry and no R2SCAN ground state at this composition.\n",
      "\n",
      "Processing complete. Mixed entries contain 152 GGA(+U) and 53 R2SCAN entries.\n",
      "\n",
      "entry_id    formula     spacegroup  run_type  eV/atom corr/atom e_above_hull\n",
      "mp-2516584-GGAC           R-3m        GGA       -9.229  0.000     0.000    \n",
      "mp-569304-R2SCANC           R-3m        R2SCAN    -9.227  0.711     0.002    \n",
      "mp-169-R2SCANC           C2/m        R2SCAN    -9.225  0.721     0.003    \n",
      "mp-937760-GGAC           Fmmm        GGA       -9.223  0.000     0.006    \n",
      "mp-568286-GGAC           Cmme        GGA       -9.220  0.000     0.008    \n",
      "mp-568363-GGAC           Cmme        GGA       -9.220  0.000     0.008    \n",
      "mp-48-R2SCANC           P6_3/mmc    R2SCAN    -9.220  0.724     0.008    \n",
      "mp-990448-R2SCANC           P6/mmm      R2SCAN    -9.220  0.715     0.009    \n",
      "mp-1040425-GGAC           P6/mmm      GGA       -9.219  0.000     0.009    \n",
      "mp-997182-R2SCANC           P6_3/mmc    R2SCAN    -9.219  0.714     0.010    \n",
      "mp-990424-R2SCANC           P-3m1       R2SCAN    -9.219  0.719     0.010    \n",
      "mp-606949-R2SCANC           P6_3mc      R2SCAN    -9.218  0.723     0.010    \n",
      "mp-568806-GGAC           P6/mmm      GGA       -9.217  0.000     0.012    \n",
      "mp-632329-GGAC           C2/m        GGA       -9.215  0.000     0.014    \n",
      "mp-569416-R2SCANC           R-3m        R2SCAN    -9.198  0.747     0.030    \n",
      "mp-1096869-GGAC           Cm          GGA       -9.111  0.000     0.118    \n",
      "mp-66-R2SCANC           Fd-3m       R2SCAN    -9.090  0.745     0.138    \n",
      "mp-616440-R2SCANC           P6_3/mmc    R2SCAN    -9.086  0.744     0.143    \n",
      "mp-611448-R2SCANC           P6_3/mmc    R2SCAN    -9.084  0.744     0.144    \n",
      "mp-569567-R2SCANC           R-3m        R2SCAN    -9.082  0.747     0.146    \n",
      "mp-569517-R2SCANC           R-3m        R2SCAN    -9.082  0.745     0.147    \n",
      "mp-611426-R2SCANC           P6_3/mmc    R2SCAN    -9.081  0.744     0.148    \n",
      "mp-47-R2SCANC           P6_3/mmc    R2SCAN    -9.065  0.742     0.163    \n",
      "mp-2647017-GGAC           P2_1/m      GGA       -9.051  0.000     0.178    \n",
      "mp-1078845-GGAC           Cmmm        GGA       -8.961  0.000     0.268    \n",
      "mp-1190171-GGAC           Pnma        GGA       -8.936  0.000     0.293    \n",
      "mp-1080826-GGAC           C2/m        GGA       -8.928  0.000     0.301    \n",
      "mp-1008395-GGAC           I4/mmm      GGA       -8.894  0.000     0.335    \n",
      "mp-683919-GGAC           Cmcm        GGA       -8.878  0.000     0.350    \n",
      "mp-1196583-GGAC           Pa-3        GGA       -8.844  0.000     0.385    \n",
      "mp-1147718-GGAC           Pnnm        GGA       -8.840  0.000     0.389    \n",
      "mp-667273-GGAC           Fm-3        GGA       -8.838  0.000     0.391    \n",
      "mp-630227-GGAC           Immm        GGA       -8.833  0.000     0.396    \n",
      "mp-680372-GGAC           R-3m        GGA       -8.820  0.000     0.409    \n",
      "mp-1008374-GGAC           Cmmm        GGA       -8.790  0.000     0.438    \n",
      "mp-568410-GGAC           Cmmm        GGA       -8.720  0.000     0.509    \n",
      "mp-568028-GGAC           Pnnm        GGA       -8.698  0.000     0.531    \n",
      "mp-2646980-GGAC           Pmmm        GGA       -8.586  0.000     0.643    \n",
      "mp-1205283-GGAC           Pnnm        GGA       -8.529  0.000     0.699    \n",
      "mp-1188817-GGAC           Pm-3m       GGA       -8.463  0.000     0.765    \n",
      "mp-570002-GGAC           Im-3m       GGA       -8.463  0.000     0.766    \n",
      "mp-24-GGA   C           Ia-3        GGA       -8.394  0.000     0.835    \n",
      "mp-1244964-GGAC           P1          GGA       -8.294  0.000     0.935    \n",
      "mp-579909-GGAC           Cmmm        GGA       -8.284  0.000     0.945    \n",
      "mp-1244913-GGAC           P1          GGA       -8.234  0.000     0.994    \n",
      "mp-1095633-GGAC           I4/mmm      GGA       -8.230  0.000     0.999    \n",
      "mp-1182029-GGAC           P2/m        GGA       -8.226  0.000     1.002    \n",
      "mp-1245190-GGAC           P1          GGA       -8.214  0.000     1.015    \n",
      "mp-723638-GGAC           P2_1/c      GGA       -8.187  0.000     1.041    \n",
      "mp-1095534-GGAC           I4/mmm      GGA       -8.105  0.000     1.123    \n",
      "mp-1205417-GGAC           I4/mmm      GGA       -8.060  0.000     1.169    \n",
      "mp-624889-GGAC           Cmme        GGA       -7.973  0.000     1.256    \n",
      "mp-1018088-GGAC           I4_132      GGA       -7.923  0.000     1.306    \n",
      "mp-1197903-GGAC           P1          GGA       -7.818  0.000     1.410    \n",
      "mp-731594-GGAC           P2_1        GGA       -7.728  0.000     1.501    \n",
      "mp-1182684-GGAC           P2_12_12_1  GGA       -7.699  0.000     1.530    \n",
      "mp-1196857-GGAC           Pnma        GGA       -7.628  0.000     1.601    \n",
      "mp-1192619-GGAC           I-43m       GGA       -7.308  0.000     1.920    \n",
      "mp-1097832-GGAC           Cmcm        GGA       -6.621  0.000     2.608    \n",
      "mp-1056957-GGAC           Cmcm        GGA       -6.610  0.000     2.618    \n",
      "mp-1181996-GGAC           I4/mmm      GGA       -6.592  0.000     2.637    \n",
      "mp-998866-GGAC           Pm-3m       GGA       -6.472  0.000     2.757    \n",
      "mp-561848-GGAC3O2        Pnma        GGA       -8.069  -0.275    0.509    \n",
      "mp-1001594-GGAC4O3        R3          GGA       -8.295  -0.294    0.237    \n",
      "mp-1001608-GGAC4O3        P1          GGA       -6.646  -0.294    1.886    \n",
      "mp-1197923-GGAC61O2       P2_1/c      GGA       -8.810  -0.022    0.367    \n",
      "mp-995183-GGACO          Pnma        GGA       -7.867  -0.344    0.549    \n",
      "mp-11875-GGACO          P2_13       GGA       -7.754  -0.344    0.661    \n",
      "mp-729933-GGACO          P2_12_12_1  GGA       -7.746  -0.344    0.669    \n",
      "mp-556660-GGACO          R3c         GGA       -7.739  -0.344    0.677    \n",
      "mp-20066-R2SCANCO2         Pa-3        R2SCAN    -8.144  0.452     0.000    \n",
      "mp-644607-R2SCANCO2         P4_2/mnm    R2SCAN    -8.139  0.452     0.005    \n",
      "mp-1077906-R2SCANCO2         Cmce        R2SCAN    -8.137  0.452     0.007    \n",
      "mp-1190699-R2SCANCO2         R-3c        R2SCAN    -8.137  0.452     0.007    \n",
      "mp-11725-R2SCANCO2         P4_2/mnm    R2SCAN    -8.135  0.452     0.009    \n",
      "mp-556034-R2SCANCO2         Pbcn        R2SCAN    -8.134  0.452     0.011    \n",
      "mp-1102227-GGACO2         P4_12_12    GGA       -8.128  -0.458    0.017    \n",
      "mp-729728-GGACO2         Pna2_1      GGA       -8.126  -0.458    0.018    \n",
      "mp-995224-GGACO2         I4_1/a      GGA       -7.847  -0.458    0.297    \n",
      "mp-995198-GGACO2         P2_1/c      GGA       -7.826  -0.458    0.319    \n",
      "mp-1077316-GGACO2         I-42d       GGA       -7.695  -0.458    0.450    \n",
      "mp-1190685-GGACO2         P2_12_12_1  GGA       -7.634  -0.458    0.511    \n",
      "mp-995196-GGACO3         P4/mmm      GGA       -4.271  -0.515    3.075    \n",
      "mp-35-R2SCANMn          I-43m       R2SCAN    -9.162  5.521     0.000    \n",
      "mp-542909-R2SCANMn          P4_132      R2SCAN    -9.122  5.521     0.040    \n",
      "mp-2647025-GGAMn          P6_3/mmc    GGA       -9.109  0.000     0.053    \n",
      "mp-1055908-R2SCANMn          Im-3m       R2SCAN    -8.792  5.521     0.370    \n",
      "mp-8634-R2SCANMn          Fm-3m       R2SCAN    -8.741  5.521     0.421    \n",
      "mp-1057139-GGAMn          I4_1/amd    GGA       -8.504  0.000     0.658    \n",
      "mp-1191484-GGAMn          F-43m       GGA       -8.355  0.000     0.807    \n",
      "mp-1180381-GGA+UMn(C2O3)2   R-3         GGA+U     -7.673  -0.526    0.854    \n",
      "mp-836079-GGA+UMn(CO)5     C2/c        GGA+U     -8.064  -0.464    0.610    \n",
      "mp-1199311-GGA+UMn(CO)5     C2/c        GGA+U     -8.019  -0.464    0.655    \n",
      "mp-1212627-GGA+UMn(CO)6     C2/c        GGA+U     -7.119  -0.203    1.516    \n",
      "mp-1210863-GGA+UMn(CO)6     C2/m        GGA+U     -7.013  -0.445    1.622    \n",
      "mp-754012-GGA+UMn(CO3)2    R-3         GGA+U     -8.081  -0.643    0.074    \n",
      "mp-762239-GGA+UMn(CO3)2    P2_1/c      GGA+U     -8.053  -0.643    0.101    \n",
      "mp-1199252-GGA+UMn(CO3)2    P2_1/c      GGA+U     -8.038  -0.643    0.117    \n",
      "mp-1189997-GGA+UMn(CO3)2    C2/c        GGA+U     -7.652  -0.643    0.503    \n",
      "mp-818615-GGA+UMn(CO3)2    P2_12_12_1  GGA+U     -7.562  -0.643    0.593    \n",
      "mp-721861-GGA+UMn(CO3)2    C2/c        GGA+U     -7.513  -0.643    0.642    \n",
      "mp-1199524-GGA+UMn(CO3)2    P2_12_12_1  GGA+U     -7.410  -0.293    0.745    \n",
      "mp-776603-GGA+UMn15O32     C2/m        GGA+U     -7.924  -1.000    0.114    \n"
     ]
    },
    {
     "name": "stderr",
     "output_type": "stream",
     "text": [
      "WARNING! Discarding R2SCAN entry mp-1009490-R2SCAN for O2 because it was not found in the mixing state data. This can occur when there are duplicate structures. In such cases, only the lowest energy entry with that structure appears in the mixing state data.\n"
     ]
    },
    {
     "name": "stdout",
     "output_type": "stream",
     "text": [
      "mp-867971-GGA+UMn15O32     C2/m        GGA+U     -7.920  -1.000    0.118    \n",
      "mp-762590-GGA+UMn2(CO3)3   P1          GGA+U     -8.282  -0.680    0.053    \n",
      "mp-762671-GGA+UMn2(CO3)3   P-1         GGA+U     -8.281  -0.680    0.054    \n",
      "mp-758396-GGA+UMn2(CO3)3   P1          GGA+U     -8.268  -0.680    0.068    \n",
      "mp-759142-GGA+UMn2(CO3)3   P-1         GGA+U     -8.262  -0.680    0.073    \n",
      "mp-1222372-GGA+UMn20O43     P-1         GGA+U     -7.892  -0.998    0.130    \n",
      "mp-849596-GGA+UMn21O40     C2          GGA+U     -8.195  -1.025    0.058    \n",
      "mp-766493-GGA+UMn21O40     I-4         GGA+U     -8.185  -1.025    0.067    \n",
      "mp-542830-R2SCANMn23C6      Fm-3m       R2SCAN    -9.270  4.456     0.000    \n",
      "mp-1172875-GGA+UMn2O3       Pbca        GGA+U     -8.648  -1.079    0.000    \n",
      "mp-565203-GGA+UMn2O3       Pbca        GGA+U     -8.647  -1.079    0.000    \n",
      "mp-510604-R2SCANMn2O3       Ia-3        R2SCAN    -8.641  2.956     0.007    \n",
      "mp-1306224-GGA+UMn2O3       P-1         GGA+U     -8.597  -1.079    0.050    \n",
      "mp-1303934-GGA+UMn2O3       C2/c        GGA+U     -8.589  -1.079    0.059    \n",
      "mp-770543-GGA+UMn2O3       R-3c        GGA+U     -8.583  -1.079    0.064    \n",
      "mp-1203190-GGA+UMn2O3       R-3         GGA+U     -8.571  -1.079    0.076    \n",
      "mp-1204718-GGA+UMn2O3       P-1         GGA+U     -8.571  -1.079    0.077    \n",
      "mp-778470-GGA+UMn2O3       P4_12_12    GGA+U     -8.569  -1.079    0.079    \n",
      "mp-771717-GGA+UMn2O3       Pna2_1      GGA+U     -8.559  -1.079    0.088    \n",
      "mp-1043363-GGA+UMn2O3       Cmcm        GGA+U     -8.420  -1.079    0.227    \n",
      "mp-1182678-GGA+UMn2O3       I2_13       GGA+U     -8.226  -1.079    0.422    \n",
      "mp-1349371-GGA+UMn2O3       P-1         GGA+U     -5.777  -0.946    2.870    \n",
      "mp-1104282-GGA+UMn2O5       Pbam        GGA+U     -7.303  -0.967    0.412    \n",
      "mp-28338-GGA+UMn2O7       P2_1/c      GGA+U     -6.765  -0.905    0.336    \n",
      "mp-1188188-GGAMn3C        Pnma        GGA       -9.251  0.000     0.017    \n",
      "mp-18759-R2SCANMn3O4       C2/m        R2SCAN    -8.804  3.054     0.000    \n",
      "mp-20141-GGA+UMn3O4       Pbcm        GGA+U     -8.752  -1.107    0.053    \n",
      "mp-1279995-GGA+UMn3O4       Pmc2_1      GGA+U     -8.749  -1.107    0.055    \n",
      "mp-1180876-GGA+UMn3O4       P2_1        GGA+U     -8.618  -1.107    0.186    \n",
      "mp-638270-GGA+UMn3O4       Pm          GGA+U     -8.586  -1.107    0.219    \n",
      "mp-1193728-GGA+UMn3O4       Pbcm        GGA+U     -8.585  -1.107    0.219    \n",
      "mp-1194100-GGA+UMn3O4       Pbcm        GGA+U     -8.582  -1.107    0.223    \n",
      "mp-1180464-GGA+UMn3O4       Pbcm        GGA+U     -8.225  -1.107    0.579    \n",
      "mp-22749-GGAMn5C2       C2/c        GGA       -9.248  0.000     0.018    \n",
      "mp-1046066-GGA+UMn5O7       Cmcm        GGA+U     -8.505  -1.096    0.234    \n",
      "mp-18922-R2SCANMn5O8       C2/m        R2SCAN    -8.525  2.910     0.013    \n",
      "mp-752536-GGA+UMn5O8       R-3m        GGA+U     -8.455  -1.064    0.084    \n",
      "mp-1193506-GGAMn6C        Fd-3m       GGA       -9.093  0.000     0.143    \n",
      "mp-21256-GGAMn7C3       Pnma        GGA       -9.250  0.000     0.015    \n",
      "mp-754430-R2SCANMn7O12      Im-3        R2SCAN    -8.368  2.869     0.056    \n",
      "mp-1221945-GGA+UMn8O17      P-1         GGA+U     -7.937  -1.001    0.109    \n",
      "mp-1045833-GGA+UMn9O13      C2/m        GGA+U     -8.469  -1.088    0.228    \n",
      "mp-1213563-GGA+UMnC5O8      Pbca        GGA+U     -7.565  -0.512    0.880    \n",
      "mp-18814-R2SCANMnCO3       R3c         R2SCAN    -8.660  1.609     0.000    \n",
      "mp-1271783-GGA+UMnCO3       P-1         GGA+U     -8.630  -0.746    0.030    \n",
      "mp-1078473-GGA+UMnCO3       P-1         GGA+U     -8.630  -0.746    0.030    \n",
      "mp-690525-GGA+UMnCO3       Cc          GGA+U     -8.579  -0.746    0.081    \n",
      "mp-1180143-GGA+UMnCO3       P2_1/c      GGA+U     -8.388  -0.746    0.273    \n",
      "mp-1180142-GGA+UMnCO3       C2/c        GGA+U     -7.616  -0.746    1.044    \n",
      "mp-695863-GGA+UMnCO3       C2/c        GGA+U     -7.321  -0.746    1.339    \n",
      "mp-1232659-R2SCANMnO         Pmmn        R2SCAN    -9.088  3.210     0.000    \n",
      "mp-19006-R2SCANMnO         Fm-3m       R2SCAN    -9.034  3.210     0.053    \n",
      "mp-999539-GGA+UMnO         Cmc2_1      GGA+U     -9.029  -1.177    0.059    \n",
      "mp-999539-R2SCANMnO         P6_3mc      R2SCAN    -9.004  3.210     0.084    \n",
      "mp-1238899-GGA+UMnO         F-43m       GGA+U     -8.954  -1.177    0.133    \n",
      "mp-1238773-GGA+UMnO         P3m1        GGA+U     -8.672  -1.177    0.416    \n",
      "mp-644514-R2SCANMnO2        Cm          R2SCAN    -8.175  2.736     0.000    \n",
      "mp-510408-R2SCANMnO2        P4_2/mnm    R2SCAN    -8.169  2.736     0.006    \n",
      "mp-33009-R2SCANMnO2        Pnnm        R2SCAN    -8.168  2.736     0.007    \n",
      "mp-19326-R2SCANMnO2        Pnma        R2SCAN    -8.159  2.736     0.016    \n",
      "mp-19395-R2SCANMnO2        I4/m        R2SCAN    -8.158  2.736     0.017    \n",
      "mp-644514-GGA+UMnO2        C2/m        GGA+U     -8.142  -1.014    0.033    \n",
      "mp-796340-R2SCANMnO2        P4_2/m      R2SCAN    -8.139  2.736     0.036    \n",
      "mp-796336-R2SCANMnO2        P2/m        R2SCAN    -8.139  2.736     0.036    \n",
      "mp-1354190-R2SCANMnO2        Pnma        R2SCAN    -8.134  2.736     0.041    \n",
      "mp-755489-R2SCANMnO2        P6_3mc      R2SCAN    -8.130  2.736     0.045    \n",
      "mp-510408-GGA+UMnO2        P4_2/mnm    GGA+U     -8.129  -1.014    0.046    \n",
      "mp-33009-GGA+UMnO2        Pnnm        GGA+U     -8.129  -1.014    0.047    \n",
      "mp-755671-R2SCANMnO2        R-3m        R2SCAN    -8.115  2.736     0.060    \n",
      "mp-25424-R2SCANMnO2        R-3m        R2SCAN    -8.114  2.736     0.061    \n",
      "mp-25223-R2SCANMnO2        P-3m1       R2SCAN    -8.112  2.736     0.064    \n",
      "mp-1271850-R2SCANMnO2        P6_3/mmc    R2SCAN    -8.106  2.736     0.069    \n",
      "mp-1272141-R2SCANMnO2        R-3m        R2SCAN    -8.103  2.736     0.072    \n",
      "mp-25275-R2SCANMnO2        Fd-3m       R2SCAN    -8.099  2.736     0.076    \n",
      "mp-705430-GGA+UMnO2        P3m1        GGA+U     -8.063  -1.014    0.112    \n",
      "mp-1354468-GGA+UMnO2        P1          GGA+U     -8.062  -1.014    0.113    \n",
      "mp-1041066-GGA+UMnO2        P1          GGA+U     -8.006  -1.014    0.169    \n",
      "mp-510732-GGA+UMnO2        Pmmn        GGA+U     -7.990  -1.014    0.185    \n",
      "mp-1371977-GGA+UMnO2        Cmcm        GGA+U     -7.952  -1.014    0.223    \n",
      "mp-1407587-GGA+UMnO2        R3m         GGA+U     -7.949  -1.014    0.227    \n",
      "mp-1350912-GGA+UMnO2        Cm          GGA+U     -7.912  -1.014    0.263    \n",
      "mp-1221542-GGA+UMnO2        P4/mmm      GGA+U     -7.731  -1.014    0.445    \n",
      "mp-796077-GGA+UMnO2        P-1         GGA+U     -6.684  -1.014    1.491    \n",
      "mp-1221574-GGA+UMnO2        Fdd2        GGA+U     -6.591  -1.014    1.584    \n",
      "mp-1086672-GGA+UMnO3        Imma        GGA+U     -6.876  -0.538    0.494    \n",
      "mp-1221594-GGA+UMnO4        I4_1/amd    GGA+U     -6.364  -0.883    0.522    \n",
      "mp-611836-R2SCANO2          C2/m        R2SCAN    -4.952  1.008     0.000    \n",
      "mp-610917-R2SCANO2          R-3m        R2SCAN    -4.947  1.008     0.005    \n",
      "mp-723285-R2SCANO2          P4_12_12    R2SCAN    -4.947  1.008     0.006    \n",
      "mp-1087546-GGAO2          C2/c        GGA       -4.930  0.000     0.022    \n",
      "mp-1180036-GGAO2          P2/c        GGA       -4.918  0.000     0.034    \n",
      "mp-607540-GGAO2          Fmmm        GGA       -4.827  0.000     0.125    \n",
      "mp-1066100-R2SCANO2          P6_3/mmc    R2SCAN    -4.684  1.008     0.269    \n",
      "mp-1180064-GGAO2          P1          GGA       -4.561  0.000     0.391    \n",
      "mp-560602-GGAO2          Pbca        GGA       -4.537  0.000     0.416    \n",
      "mp-1180008-GGAO2          P1          GGA       -4.528  0.000     0.424    \n",
      "mp-734188-GGAO2          P4_1        GGA       -4.513  0.000     0.439    \n",
      "mp-2421172-GGAO2          R3c         GGA       -4.032  0.000     0.921    \n",
      "mp-1056831-GGAO2          P2/m        GGA       -3.637  0.000     1.315    \n",
      "mp-1056059-GGAO2          P4/mmm      GGA       -3.390  0.000     1.562    \n",
      "mp-1058623-GGAO2          Cmcm        GGA       -3.377  0.000     1.575    \n",
      "mp-1057818-GGAO2          Fd-3m       GGA       -3.067  0.000     1.885    \n"
     ]
    },
    {
     "data": {
      "application/vnd.jupyter.widget-view+json": {
       "model_id": "5130c76e0ca24171a1d2ab78fa2198e1",
       "version_major": 2,
       "version_minor": 0
      },
      "text/plain": [
       "Retrieving ThermoDoc documents:   0%|          | 0/227 [00:00<?, ?it/s]"
      ]
     },
     "metadata": {},
     "output_type": "display_data"
    },
    {
     "name": "stdout",
     "output_type": "stream",
     "text": [
      "Processing 178 GGA(+U) and 49 R2SCAN entries...\n",
      "  Processed 178 compatible GGA(+U) entries with MaterialsProject2020Compatibility\n",
      "  Entries belong to the {'O', 'C', 'Na'} chemical system\n",
      "  Generating mixing state data from provided entries.\n"
     ]
    },
    {
     "name": "stderr",
     "output_type": "stream",
     "text": [
      "Failed to guess oxidation states for Entry mp-571003-GGA (NaC64). Assigning anion correction to only the most electronegative atom.\n",
      "Failed to guess oxidation states for Entry mp-1120755-GGA (NaCO3). Assigning anion correction to only the most electronegative atom.\n",
      "Failed to guess oxidation states for Entry mp-1173800-GGA (Na3CO5). Assigning anion correction to only the most electronegative atom.\n",
      "Failed to guess oxidation states for Entry mp-1180585-GGA (Na3(CO4)2). Assigning anion correction to only the most electronegative atom.\n",
      "Failed to guess oxidation states for Entry mp-1194394-GGA (Na3(CO4)2). Assigning anion correction to only the most electronegative atom.\n",
      "Failed to guess oxidation states for Entry mp-1210402-GGA (Na3(CO3)2). Assigning anion correction to only the most electronegative atom.\n",
      "Failed to guess oxidation states for Entry mp-1221738-GGA (Na2CO6). Assigning anion correction to only the most electronegative atom.\n",
      "Failed to guess oxidation states for Entry mp-675271-GGA (Na2CO5). Assigning anion correction to only the most electronegative atom.\n",
      "Failed to guess oxidation states for Entry mp-727242-GGA (NaCO3). Assigning anion correction to only the most electronegative atom.\n",
      "Failed to guess oxidation states for Entry mp-1173794-GGA (Na6O). Assigning anion correction to only the most electronegative atom.\n",
      "Failed to guess oxidation states for Entry mp-1180165-GGA (NaO2). Assigning anion correction to only the most electronegative atom.\n",
      "Failed to guess oxidation states for Entry mp-1180210-GGA (NaO5). Assigning anion correction to only the most electronegative atom.\n",
      "Failed to guess oxidation states for Entry mp-1180346-GGA (NaO2). Assigning anion correction to only the most electronegative atom.\n",
      "Failed to guess oxidation states for Entry mp-1180536-GGA (NaO8). Assigning anion correction to only the most electronegative atom.\n",
      "Failed to guess oxidation states for Entry mp-1201981-GGA (NaO8). Assigning anion correction to only the most electronegative atom.\n",
      "Failed to guess oxidation states for Entry mp-1204051-GGA (Na2O9). Assigning anion correction to only the most electronegative atom.\n",
      "Failed to guess oxidation states for Entry mp-1220954-GGA (NaO2). Assigning anion correction to only the most electronegative atom.\n",
      "Failed to guess oxidation states for Entry mp-1238787-GGA (NaO2). Assigning anion correction to only the most electronegative atom.\n",
      "Failed to guess oxidation states for Entry mp-1901-GGA (NaO2). Assigning anion correction to only the most electronegative atom.\n",
      "Failed to guess oxidation states for Entry mp-22464-GGA (NaO3). Assigning anion correction to only the most electronegative atom.\n",
      "Failed to guess oxidation states for Entry mp-614-GGA (NaO2). Assigning anion correction to only the most electronegative atom.\n",
      "Failed to guess oxidation states for Entry mp-1197923-GGA (C61O2). Assigning anion correction to only the most electronegative atom.\n"
     ]
    },
    {
     "name": "stdout",
     "output_type": "stream",
     "text": [
      "  Entries contain R2SCAN calculations for 7 of 9 GGA(+U) hull entries.\n",
      "  R2SCAN energies will be adjusted to the GGA(+U) scale\n",
      "  The energy above hull for R2SCAN materials at compositions with R2SCAN hull entries will be preserved. For other compositions, Energies of R2SCAN materials will be set equal to those of matching GGA(+U) materials\n",
      "  Discarding GGA entry mp-1180346-GGA for Na8 O16 because there is a matching R2SCAN material\n",
      "  Discarding GGA entry mp-47-GGA for C4 because there is a matching R2SCAN material\n",
      "  Discarding GGA entry mp-1186055-GGA for Na20 because there is a matching R2SCAN material\n",
      "  Discarding GGA entry mp-2340-GGA for Na6 O6 because it is a GGA(+U) ground state that matches a R2SCAN material.\n",
      "  Discarding GGA entry mp-644607-GGA for C2 O4 because there is a matching R2SCAN material\n",
      "  Discarding GGA entry mp-567772-GGA for Na8 because there is a matching R2SCAN material\n",
      "  Discarding GGA entry mp-127-GGA for Na1 because there is a matching R2SCAN material\n",
      "  Discarding GGA entry mp-2352-GGA for Na2 O1 because it is a GGA(+U) ground state that matches a R2SCAN material.\n",
      "  Discarding GGA entry mp-990448-GGA for C2 because there is a matching R2SCAN material\n",
      "  Discarding GGA entry mp-20495-GGA for Na4 C2 O6 because there is a matching R2SCAN material\n",
      "  Discarding GGA entry mp-611448-GGA for C12 because there is a matching R2SCAN material\n",
      "  Discarding GGA entry mp-974558-GGA for Na1 because there is a matching R2SCAN material\n",
      "  Discarding GGA entry mp-4534-GGA for Na4 C4 O8 because there is a matching R2SCAN material\n",
      "  Discarding GGA entry mp-606949-GGA for C12 because there is a matching R2SCAN material\n",
      "  Discarding GGA entry mp-1190699-GGA for C8 O16 because there is a matching R2SCAN material\n",
      "  Discarding GGA entry mp-1077906-GGA for C2 O4 because there is a matching R2SCAN material\n",
      "  Discarding GGA entry mp-569304-GGA for C4 because there is a matching R2SCAN material\n",
      "  Discarding GGA entry mp-1186081-GGA for Na29 because it is a GGA(+U) ground state that matches a R2SCAN material.\n",
      "  Discarding GGA entry mp-569567-GGA for C14 because there is a matching R2SCAN material\n",
      "  Discarding GGA entry mp-616440-GGA for C16 because there is a matching R2SCAN material\n",
      "  Discarding GGA entry mp-556034-GGA for C4 O8 because there is a matching R2SCAN material\n",
      "  Discarding GGA entry mp-169-GGA for C2 because there is a matching R2SCAN material\n",
      "  Discarding GGA entry mp-1066100-GGA for O4 because there is a matching R2SCAN material\n",
      "  Discarding GGA entry mp-20066-GGA for C4 O8 because it is a GGA(+U) ground state that matches a R2SCAN material.\n",
      "  Discarding GGA entry mp-982370-GGA for Na4 because there is a matching R2SCAN material\n",
      "  Discarding GGA entry mp-1186040-GGA for Na8 because there is a matching R2SCAN material\n",
      "  Discarding GGA entry mp-611426-GGA for C8 because there is a matching R2SCAN material\n",
      "  Discarding GGA entry mp-610917-GGA for O2 because there is a matching R2SCAN material\n",
      "  Discarding GGA entry mp-755072-GGA for Na4 O2 because there is a matching R2SCAN material\n",
      "  Discarding GGA entry mp-990424-GGA for C4 because there is a matching R2SCAN material\n",
      "  Discarding GGA entry mp-727242-GGA for Na4 C4 O12 because there is a matching R2SCAN material\n",
      "  Discarding GGA entry mp-3070-GGA for Na4 C2 O6 because there is a matching R2SCAN material\n",
      "  Discarding GGA entry mp-11725-GGA for C2 O4 because there is a matching R2SCAN material\n",
      "  Discarding GGA entry mp-1009490-GGA for O2 because there is a matching R2SCAN material\n",
      "  Discarding GGA entry mp-997182-GGA for C4 because there is a matching R2SCAN material\n",
      "  Discarding GGA entry mp-1119338-GGA for Na6 O3 because there is a matching R2SCAN material\n",
      "  Discarding GGA entry mp-1901-GGA for Na2 O4 because it is a GGA(+U) ground state that matches a R2SCAN material.\n",
      "  Discarding GGA entry mp-66-GGA for C2 because there is a matching R2SCAN material\n",
      "  Discarding GGA entry mp-10172-GGA for Na2 because there is a matching R2SCAN material\n",
      "  Discarding GGA entry mp-569517-GGA for C10 because there is a matching R2SCAN material\n",
      "  Discarding GGA entry mp-973198-GGA for Na3 because there is a matching R2SCAN material\n",
      "  Discarding GGA entry mp-723285-GGA for O8 because it is a GGA(+U) ground state that matches a R2SCAN material.\n",
      "  Discarding GGA entry mp-1120755-GGA for Na2 C2 O6 because it is a GGA(+U) ground state that matches a R2SCAN material.\n",
      "  Discarding GGA entry mp-48-GGA for C4 because there is a matching R2SCAN material\n",
      "  Discarding GGA entry mp-1974948-GGA for Na6 O3 because there is a matching R2SCAN material\n"
     ]
    },
    {
     "name": "stderr",
     "output_type": "stream",
     "text": [
      "WARNING! Discarding GGA entry mp-1065697-GGA for O1 because it was not found in the mixing state data. This can occur when there are duplicate structures. In such cases, only the lowest energy entry with that structure appears in the mixing state data.\n",
      "WARNING! Discarding GGA entry mp-611836-GGA for O2 because it was not found in the mixing state data. This can occur when there are duplicate structures. In such cases, only the lowest energy entry with that structure appears in the mixing state data.\n",
      "WARNING! Discarding GGA entry mp-1023923-GGA for O6 because it was not found in the mixing state data. This can occur when there are duplicate structures. In such cases, only the lowest energy entry with that structure appears in the mixing state data.\n",
      "WARNING! Discarding GGA entry mp-1180050-GGA for O8 because it was not found in the mixing state data. This can occur when there are duplicate structures. In such cases, only the lowest energy entry with that structure appears in the mixing state data.\n",
      "WARNING! Discarding GGA entry mp-1102442-GGA for O12 because it was not found in the mixing state data. This can occur when there are duplicate structures. In such cases, only the lowest energy entry with that structure appears in the mixing state data.\n"
     ]
    },
    {
     "name": "stdout",
     "output_type": "stream",
     "text": [
      "  Discarding GGA entry mp-569416-GGA for C8 because there is a matching R2SCAN material\n",
      "  Discarding R2SCAN entry mp-937760-R2SCAN for C4 because there is no matching GGA(+U) entry and no R2SCAN ground state at this composition.\n",
      "  Discarding R2SCAN entry mp-568806-R2SCAN for C8 because there is no matching GGA(+U) entry and no R2SCAN ground state at this composition.\n",
      "\n",
      "Processing complete. Mixed entries contain 127 GGA(+U) and 46 R2SCAN entries.\n",
      "\n",
      "entry_id    formula     spacegroup  run_type  eV/atom corr/atom e_above_hull\n",
      "mp-2516584-GGAC           R-3m        GGA       -9.229  0.000     0.000    \n",
      "mp-569304-R2SCANC           R-3m        R2SCAN    -9.227  0.711     0.002    \n",
      "mp-169-R2SCANC           C2/m        R2SCAN    -9.225  0.721     0.003    \n",
      "mp-937760-GGAC           Fmmm        GGA       -9.223  0.000     0.006    \n",
      "mp-568286-GGAC           Cmme        GGA       -9.220  0.000     0.008    \n",
      "mp-568363-GGAC           Cmme        GGA       -9.220  0.000     0.008    \n",
      "mp-48-R2SCANC           P6_3/mmc    R2SCAN    -9.220  0.724     0.008    \n",
      "mp-990448-R2SCANC           P6/mmm      R2SCAN    -9.220  0.715     0.009    \n",
      "mp-1040425-GGAC           P6/mmm      GGA       -9.219  0.000     0.009    \n",
      "mp-997182-R2SCANC           P6_3/mmc    R2SCAN    -9.219  0.714     0.010    \n",
      "mp-990424-R2SCANC           P-3m1       R2SCAN    -9.219  0.719     0.010    \n",
      "mp-606949-R2SCANC           P6_3mc      R2SCAN    -9.218  0.723     0.010    \n",
      "mp-568806-GGAC           P6/mmm      GGA       -9.217  0.000     0.012    \n",
      "mp-632329-GGAC           C2/m        GGA       -9.215  0.000     0.014    \n",
      "mp-569416-R2SCANC           R-3m        R2SCAN    -9.198  0.747     0.030    \n",
      "mp-1096869-GGAC           Cm          GGA       -9.111  0.000     0.118    \n",
      "mp-66-R2SCANC           Fd-3m       R2SCAN    -9.090  0.745     0.138    \n",
      "mp-616440-R2SCANC           P6_3/mmc    R2SCAN    -9.086  0.744     0.143    \n",
      "mp-611448-R2SCANC           P6_3/mmc    R2SCAN    -9.084  0.744     0.144    \n",
      "mp-569567-R2SCANC           R-3m        R2SCAN    -9.082  0.747     0.146    \n",
      "mp-569517-R2SCANC           R-3m        R2SCAN    -9.082  0.745     0.147    \n",
      "mp-611426-R2SCANC           P6_3/mmc    R2SCAN    -9.081  0.744     0.148    \n",
      "mp-47-R2SCANC           P6_3/mmc    R2SCAN    -9.065  0.742     0.163    \n",
      "mp-2647017-GGAC           P2_1/m      GGA       -9.051  0.000     0.178    \n",
      "mp-1078845-GGAC           Cmmm        GGA       -8.961  0.000     0.268    \n",
      "mp-1190171-GGAC           Pnma        GGA       -8.936  0.000     0.293    \n",
      "mp-1080826-GGAC           C2/m        GGA       -8.928  0.000     0.301    \n",
      "mp-1008395-GGAC           I4/mmm      GGA       -8.894  0.000     0.335    \n",
      "mp-683919-GGAC           Cmcm        GGA       -8.878  0.000     0.350    \n",
      "mp-1196583-GGAC           Pa-3        GGA       -8.844  0.000     0.385    \n",
      "mp-1147718-GGAC           Pnnm        GGA       -8.840  0.000     0.389    \n",
      "mp-667273-GGAC           Fm-3        GGA       -8.838  0.000     0.391    \n",
      "mp-630227-GGAC           Immm        GGA       -8.833  0.000     0.396    \n",
      "mp-680372-GGAC           R-3m        GGA       -8.820  0.000     0.409    \n",
      "mp-1008374-GGAC           Cmmm        GGA       -8.790  0.000     0.438    \n",
      "mp-568410-GGAC           Cmmm        GGA       -8.720  0.000     0.509    \n",
      "mp-568028-GGAC           Pnnm        GGA       -8.698  0.000     0.531    \n",
      "mp-2646980-GGAC           Pmmm        GGA       -8.586  0.000     0.643    \n",
      "mp-1205283-GGAC           Pnnm        GGA       -8.529  0.000     0.699    \n",
      "mp-1188817-GGAC           Pm-3m       GGA       -8.463  0.000     0.765    \n",
      "mp-570002-GGAC           Im-3m       GGA       -8.463  0.000     0.766    \n",
      "mp-24-GGA   C           Ia-3        GGA       -8.394  0.000     0.835    \n",
      "mp-1244964-GGAC           P1          GGA       -8.294  0.000     0.935    \n",
      "mp-579909-GGAC           Cmmm        GGA       -8.284  0.000     0.945    \n",
      "mp-1244913-GGAC           P1          GGA       -8.234  0.000     0.994    \n",
      "mp-1095633-GGAC           I4/mmm      GGA       -8.230  0.000     0.999    \n",
      "mp-1182029-GGAC           P2/m        GGA       -8.226  0.000     1.002    \n",
      "mp-1245190-GGAC           P1          GGA       -8.214  0.000     1.015    \n",
      "mp-723638-GGAC           P2_1/c      GGA       -8.187  0.000     1.041    \n",
      "mp-1095534-GGAC           I4/mmm      GGA       -8.105  0.000     1.123    \n",
      "mp-1205417-GGAC           I4/mmm      GGA       -8.060  0.000     1.169    \n",
      "mp-624889-GGAC           Cmme        GGA       -7.973  0.000     1.256    \n",
      "mp-1018088-GGAC           I4_132      GGA       -7.923  0.000     1.306    \n",
      "mp-1197903-GGAC           P1          GGA       -7.818  0.000     1.410    \n",
      "mp-731594-GGAC           P2_1        GGA       -7.728  0.000     1.501    \n",
      "mp-1182684-GGAC           P2_12_12_1  GGA       -7.699  0.000     1.530    \n",
      "mp-1196857-GGAC           Pnma        GGA       -7.628  0.000     1.601    \n",
      "mp-1192619-GGAC           I-43m       GGA       -7.308  0.000     1.920    \n",
      "mp-1097832-GGAC           Cmcm        GGA       -6.621  0.000     2.608    \n",
      "mp-1056957-GGAC           Cmcm        GGA       -6.610  0.000     2.618    \n",
      "mp-1181996-GGAC           I4/mmm      GGA       -6.592  0.000     2.637    \n",
      "mp-998866-GGAC           Pm-3m       GGA       -6.472  0.000     2.757    \n",
      "mp-561848-GGAC3O2        Pnma        GGA       -8.069  -0.275    0.509    \n",
      "mp-1001594-GGAC4O3        R3          GGA       -8.295  -0.294    0.237    \n",
      "mp-1001608-GGAC4O3        P1          GGA       -6.646  -0.294    1.886    \n"
     ]
    },
    {
     "name": "stderr",
     "output_type": "stream",
     "text": [
      "WARNING! Discarding R2SCAN entry mp-1009490-R2SCAN for O2 because it was not found in the mixing state data. This can occur when there are duplicate structures. In such cases, only the lowest energy entry with that structure appears in the mixing state data.\n"
     ]
    },
    {
     "name": "stdout",
     "output_type": "stream",
     "text": [
      "mp-1197923-GGAC61O2       P2_1/c      GGA       -8.810  -0.022    0.367    \n",
      "mp-995183-GGACO          Pnma        GGA       -7.867  -0.344    0.549    \n",
      "mp-11875-GGACO          P2_13       GGA       -7.754  -0.344    0.661    \n",
      "mp-729933-GGACO          P2_12_12_1  GGA       -7.746  -0.344    0.669    \n",
      "mp-556660-GGACO          R3c         GGA       -7.739  -0.344    0.677    \n",
      "mp-20066-R2SCANCO2         Pa-3        R2SCAN    -8.144  0.452     0.000    \n",
      "mp-644607-R2SCANCO2         P4_2/mnm    R2SCAN    -8.139  0.452     0.005    \n",
      "mp-1077906-R2SCANCO2         Cmce        R2SCAN    -8.137  0.452     0.007    \n",
      "mp-1190699-R2SCANCO2         R-3c        R2SCAN    -8.137  0.452     0.007    \n",
      "mp-11725-R2SCANCO2         P4_2/mnm    R2SCAN    -8.135  0.452     0.009    \n",
      "mp-556034-R2SCANCO2         Pbcn        R2SCAN    -8.134  0.452     0.011    \n",
      "mp-1102227-GGACO2         P4_12_12    GGA       -8.128  -0.458    0.017    \n",
      "mp-729728-GGACO2         Pna2_1      GGA       -8.126  -0.458    0.018    \n",
      "mp-995224-GGACO2         I4_1/a      GGA       -7.847  -0.458    0.297    \n",
      "mp-995198-GGACO2         P2_1/c      GGA       -7.826  -0.458    0.319    \n",
      "mp-1077316-GGACO2         I-42d       GGA       -7.695  -0.458    0.450    \n",
      "mp-1190685-GGACO2         P2_12_12_1  GGA       -7.634  -0.458    0.511    \n",
      "mp-995196-GGACO3         P4/mmm      GGA       -4.271  -0.515    3.075    \n",
      "mp-10172-R2SCANNa          P6_3/mmc    R2SCAN    -1.342  2.222     0.000    \n",
      "mp-973198-R2SCANNa          C2/m        R2SCAN    -1.337  2.222     0.005    \n",
      "mp-974558-R2SCANNa          I4/mmm      R2SCAN    -1.336  2.222     0.005    \n",
      "mp-982370-R2SCANNa          P6_3/mmc    R2SCAN    -1.331  2.222     0.011    \n",
      "mp-127-R2SCANNa          Im-3m       R2SCAN    -1.326  2.222     0.016    \n",
      "mp-1186081-R2SCANNa          I-43m       R2SCAN    -1.323  2.222     0.019    \n",
      "mp-567772-R2SCANNa          I-43d       R2SCAN    -1.321  2.222     0.021    \n",
      "mp-1186040-R2SCANNa          Pm-3n       R2SCAN    -1.318  2.222     0.024    \n",
      "mp-1186055-R2SCANNa          P4_132      R2SCAN    -1.315  2.222     0.026    \n",
      "mp-974920-GGANa          I4/mmm      GGA       -1.310  0.000     0.032    \n",
      "mp-1079952-GGANa          Pnma        GGA       -1.236  0.000     0.106    \n",
      "mp-999501-GGANa          P6_3/mmc    GGA       -1.199  0.000     0.143    \n",
      "mp-1221597-GGANa          F-43m       GGA       -0.912  0.000     0.430    \n",
      "mp-689577-GGANa          Pm-3m       GGA       -0.239  0.000     1.103    \n",
      "mp-557976-GGANa(CO)2     P2_1/c      GGA       -7.219  -0.275    0.227    \n",
      "mp-561309-GGANa(CO)3     Fddd        GGA       -7.484  -0.294    0.239    \n",
      "mp-729505-GGANa(CO)3     P1          GGA       -7.449  -0.294    0.274    \n",
      "mp-1210274-GGANa2C        Fm-3m       GGA       -2.684  0.000     1.287    \n",
      "mp-1201027-GGANa2CO3      P2_1/c      GGA       -6.529  -0.344    0.000    \n",
      "mp-3070-R2SCANNa2CO3      C2/m        R2SCAN    -6.527  1.181     0.002    \n",
      "mp-1101899-GGANa2CO3      C2/m        GGA       -6.516  -0.343    0.013    \n",
      "mp-20495-R2SCANNa2CO3      P6_3/mmc    R2SCAN    -6.512  1.169     0.017    \n",
      "mp-675271-GGANa2CO5      Cm          GGA       -5.802  -0.101    0.333    \n",
      "mp-1221738-GGANa2CO6      Cc          GGA       -5.779  -0.107    0.225    \n",
      "mp-2352-R2SCANNa2O        Fm-3m       R2SCAN    -3.970  1.788     0.000    \n",
      "mp-755072-R2SCANNa2O        Pnnm        R2SCAN    -3.899  1.788     0.070    \n",
      "mp-1119338-R2SCANNa2O        P-62m       R2SCAN    -3.896  1.788     0.073    \n",
      "mp-1974948-R2SCANNa2O        P321        R2SCAN    -3.896  1.788     0.074    \n",
      "mp-755413-GGANa2O        R-3m        GGA       -3.891  -0.229    0.079    \n",
      "mp-776952-GGANa2O        P3          GGA       -3.890  -0.229    0.080    \n",
      "mp-1245278-GGANa2O        P1          GGA       -3.823  -0.229    0.147    \n",
      "mp-1245205-GGANa2O        P1          GGA       -3.703  -0.155    0.266    \n",
      "mp-2340-R2SCANNa2O2       P-62m       R2SCAN    -4.443  1.561     0.000    \n",
      "mp-1094115-GGANa2O2       Cmcm        GGA       -4.229  -0.344    0.214    \n",
      "mp-1061395-GGANa2O2       Pm-3m       GGA       -4.201  -0.344    0.242    \n",
      "mp-1237667-GGANa2O2       C2/m        GGA       -4.188  -0.344    0.255    \n",
      "mp-1180226-GGANa2O2       Pbcm        GGA       -4.164  -0.344    0.279    \n",
      "mp-1204051-GGANa2O9       P2_1/c      GGA       -4.774  -0.132    0.015    \n",
      "mp-1210402-GGANa3(CO3)2   C2/c        GGA       -6.619  -0.375    0.065    \n",
      "mp-1194394-GGANa3(CO4)2   C2/c        GGA       -6.135  -0.099    0.282    \n",
      "mp-1180585-GGANa3(CO4)2   C2/c        GGA       -6.086  -0.099    0.332    \n",
      "mp-977200-GGANa3C        Fm-3m       GGA       -2.235  0.000     1.079    \n",
      "mp-1173800-GGANa3CO5      P1          GGA       -5.599  -0.089    0.304    \n",
      "mp-37947-GGANa4C2O5     Cm          GGA       -6.190  -0.312    0.113    \n",
      "mp-13274-GGANa4CO4      C2          GGA       -5.546  -0.305    0.130    \n",
      "mp-546707-GGANa4CO4      I-42m       GGA       -5.536  -0.305    0.139    \n",
      "mp-552941-GGANa4CO4      R3          GGA       -5.522  -0.305    0.154    \n",
      "mp-546551-GGANa4CO4      I-42m       GGA       -5.520  -0.305    0.156    \n",
      "mp-552552-GGANa4CO4      R3m         GGA       -5.446  -0.305    0.230    \n",
      "mp-545541-GGANa4CO4      Cm          GGA       -5.393  -0.305    0.282    \n",
      "mp-551886-GGANa4CO4      P-43m       GGA       -5.371  -0.305    0.305    \n",
      "mp-645295-GGANa4CO4      Cm          GGA       -5.370  -0.305    0.306    \n",
      "mp-552623-GGANa4CO4      R3          GGA       -5.370  -0.305    0.306    \n",
      "mp-1182529-GGANa4CO4      P1          GGA       -5.175  -0.305    0.501    \n",
      "mp-1173794-GGANa6O        Cmm2        GGA       -2.312  -0.098    0.155    \n",
      "mp-1267-GGA NaC         I4_1/acd    GGA       -5.044  0.000     0.241    \n",
      "mp-11180-GGANaC         Immm        GGA       -5.044  0.000     0.241    \n",
      "mp-1102647-GGANaC2        P4_332      GGA       -5.453  0.000     1.147    \n",
      "mp-1210106-GGANaC2        Immm        GGA       -5.201  0.000     1.399    \n",
      "mp-571003-GGANaC64       P6_3/mmc    GGA       -9.093  0.000     0.014    \n",
      "mp-4534-R2SCANNaCO2       P2_1/c      R2SCAN    -6.994  1.011     0.007    \n",
      "mp-1078590-GGANaCO2       C2/c        GGA       -6.587  -0.344    0.414    \n",
      "mp-1120755-R2SCANNaCO3       R-3c        R2SCAN    -6.871  0.854     0.000    \n",
      "mp-727242-R2SCANNaCO3       P2_1/c      R2SCAN    -6.869  0.854     0.002    \n",
      "mp-1901-R2SCANNaO2        Pnnm        R2SCAN    -4.653  1.389     0.000    \n",
      "mp-1180346-R2SCANNaO2        Pbca        R2SCAN    -4.633  1.389     0.020    \n",
      "mp-614-GGA  NaO2        Pa-3        GGA       -4.633  -0.107    0.020    \n",
      "mp-1238787-GGANaO2        P4_2/mnm    GGA       -4.588  -0.107    0.065    \n",
      "mp-1180165-GGANaO2        Pbca        GGA       -4.576  -0.107    0.077    \n",
      "mp-1220954-GGANaO2        R-3m        GGA       -4.538  -0.107    0.115    \n",
      "mp-22464-GGANaO3        Imm2        GGA       -4.642  0.000     0.085    \n",
      "mp-1180210-GGANaO5        C2/m        GGA       -4.445  -0.134    0.357    \n",
      "mp-1201981-GGANaO8        P2_1/c      GGA       -4.665  0.000     0.187    \n",
      "mp-1180536-GGANaO8        P2_1/c      GGA       -4.612  0.000     0.241    \n",
      "mp-611836-R2SCANO2          C2/m        R2SCAN    -4.952  1.008     0.000    \n",
      "mp-610917-R2SCANO2          R-3m        R2SCAN    -4.947  1.008     0.005    \n",
      "mp-723285-R2SCANO2          P4_12_12    R2SCAN    -4.947  1.008     0.006    \n",
      "mp-1087546-GGAO2          C2/c        GGA       -4.930  0.000     0.022    \n",
      "mp-1180036-GGAO2          P2/c        GGA       -4.918  0.000     0.034    \n",
      "mp-607540-GGAO2          Fmmm        GGA       -4.827  0.000     0.125    \n",
      "mp-1066100-R2SCANO2          P6_3/mmc    R2SCAN    -4.684  1.008     0.269    \n",
      "mp-1180064-GGAO2          P1          GGA       -4.561  0.000     0.391    \n",
      "mp-560602-GGAO2          Pbca        GGA       -4.537  0.000     0.416    \n",
      "mp-1180008-GGAO2          P1          GGA       -4.528  0.000     0.424    \n",
      "mp-734188-GGAO2          P4_1        GGA       -4.513  0.000     0.439    \n",
      "mp-2421172-GGAO2          R3c         GGA       -4.032  0.000     0.921    \n",
      "mp-1056831-GGAO2          P2/m        GGA       -3.637  0.000     1.315    \n",
      "mp-1056059-GGAO2          P4/mmm      GGA       -3.390  0.000     1.562    \n",
      "mp-1058623-GGAO2          Cmcm        GGA       -3.377  0.000     1.575    \n",
      "mp-1057818-GGAO2          Fd-3m       GGA       -3.067  0.000     1.885    \n"
     ]
    },
    {
     "data": {
      "application/vnd.jupyter.widget-view+json": {
       "model_id": "a45d63221b0e41bfaff9f0d5ad7b75e0",
       "version_major": 2,
       "version_minor": 0
      },
      "text/plain": [
       "Retrieving ThermoDoc documents:   0%|          | 0/190 [00:00<?, ?it/s]"
      ]
     },
     "metadata": {},
     "output_type": "display_data"
    },
    {
     "name": "stdout",
     "output_type": "stream",
     "text": [
      "Processing 146 GGA(+U) and 44 R2SCAN entries...\n",
      "  Processed 146 compatible GGA(+U) entries with MaterialsProject2020Compatibility\n",
      "  Entries belong to the {'O', 'C', 'Pb'} chemical system\n",
      "  Generating mixing state data from provided entries.\n"
     ]
    },
    {
     "name": "stderr",
     "output_type": "stream",
     "text": [
      "Failed to guess oxidation states for Entry mp-1100796-GGA (Pb7O16). Assigning anion correction to only the most electronegative atom.\n",
      "Failed to guess oxidation states for Entry mp-1186421-GGA (Pb3O). Assigning anion correction to only the most electronegative atom.\n",
      "Failed to guess oxidation states for Entry mp-1186448-GGA (Pb3O). Assigning anion correction to only the most electronegative atom.\n",
      "Failed to guess oxidation states for Entry mp-551685-GGA (Pb2O). Assigning anion correction to only the most electronegative atom.\n",
      "Failed to guess oxidation states for Entry mp-1197923-GGA (C61O2). Assigning anion correction to only the most electronegative atom.\n"
     ]
    },
    {
     "name": "stdout",
     "output_type": "stream",
     "text": [
      "  Entries contain R2SCAN calculations for 8 of 9 GGA(+U) hull entries.\n",
      "  R2SCAN energies will be adjusted to the GGA(+U) scale\n",
      "  The energy above hull for R2SCAN materials at compositions with R2SCAN hull entries will be preserved. For other compositions, Energies of R2SCAN materials will be set equal to those of matching GGA(+U) materials\n",
      "  Discarding GGA entry mp-47-GGA for C4 because there is a matching R2SCAN material\n",
      "  Discarding GGA entry mp-644607-GGA for C2 O4 because there is a matching R2SCAN material\n",
      "  Discarding GGA entry mp-990448-GGA for C2 because there is a matching R2SCAN material\n",
      "  Discarding GGA entry mp-1186444-GGA for Pb4 because there is a matching R2SCAN material\n",
      "  Discarding GGA entry mp-611448-GGA for C12 because there is a matching R2SCAN material\n",
      "  Discarding GGA entry mp-606949-GGA for C12 because there is a matching R2SCAN material\n",
      "  Discarding GGA entry mp-22633-GGA for Pb12 O16 because it is a GGA(+U) ground state that matches a R2SCAN material.\n",
      "  Discarding GGA entry mp-1190699-GGA for C8 O16 because there is a matching R2SCAN material\n",
      "  Discarding GGA entry mp-1077906-GGA for C2 O4 because there is a matching R2SCAN material\n",
      "  Discarding GGA entry mp-569304-GGA for C4 because there is a matching R2SCAN material\n",
      "  Discarding GGA entry mp-1179959-GGA for Pb4 O6 because there is a matching R2SCAN material\n",
      "  Discarding GGA entry mp-20745-GGA for Pb2 because there is a matching R2SCAN material\n",
      "  Discarding GGA entry mp-569567-GGA for C14 because there is a matching R2SCAN material\n",
      "  Discarding GGA entry mp-19893-GGA for Pb4 C4 O12 because it is a GGA(+U) ground state that matches a R2SCAN material.\n",
      "  Discarding GGA entry mp-636813-GGA for Pb6 O8 because there is a matching R2SCAN material\n",
      "  Discarding GGA entry mp-616440-GGA for C16 because there is a matching R2SCAN material\n",
      "  Discarding GGA entry mp-20078-GGA for Pb8 O12 because there is a matching R2SCAN material\n",
      "  Discarding GGA entry mp-556034-GGA for C4 O8 because there is a matching R2SCAN material\n",
      "  Discarding GGA entry mp-169-GGA for C2 because there is a matching R2SCAN material\n",
      "  Discarding GGA entry mp-1066100-GGA for O4 because there is a matching R2SCAN material\n",
      "  Discarding GGA entry mp-20725-GGA for Pb2 O4 because it is a GGA(+U) ground state that matches a R2SCAN material.\n",
      "  Discarding GGA entry mp-20066-GGA for C4 O8 because it is a GGA(+U) ground state that matches a R2SCAN material.\n",
      "  Discarding GGA entry mp-20483-GGA for Pb1 because it is a GGA(+U) ground state that matches a R2SCAN material.\n",
      "  Discarding GGA entry mp-611426-GGA for C8 because there is a matching R2SCAN material\n",
      "  Discarding GGA entry mp-21452-GGA for Pb12 O16 because there is a matching R2SCAN material\n",
      "  Discarding GGA entry mp-1057273-GGA for Pb2 because there is a matching R2SCAN material\n",
      "  Discarding GGA entry mp-610917-GGA for O2 because there is a matching R2SCAN material\n",
      "  Discarding GGA entry mp-990424-GGA for C4 because there is a matching R2SCAN material\n",
      "  Discarding GGA entry mp-672237-GGA for Pb32 O32 because it is a GGA(+U) ground state that matches a R2SCAN material.\n",
      "  Discarding GGA entry mp-20878-GGA for Pb4 O4 because there is a matching R2SCAN material\n",
      "  Discarding GGA entry mp-11725-GGA for C2 O4 because there is a matching R2SCAN material\n",
      "  Discarding GGA entry mp-1009490-GGA for O2 because there is a matching R2SCAN material\n",
      "  Discarding GGA entry mp-997182-GGA for C4 because there is a matching R2SCAN material\n",
      "  Discarding GGA entry mp-66-GGA for C2 because there is a matching R2SCAN material\n",
      "  Discarding GGA entry mp-22692-GGA for Pb1 because there is a matching R2SCAN material\n",
      "  Discarding GGA entry mp-505702-GGA for Pb8 C4 O16 because it is a GGA(+U) ground state that matches a R2SCAN material.\n",
      "  Discarding GGA entry mp-569517-GGA for C10 because there is a matching R2SCAN material\n",
      "  Discarding GGA entry mp-20633-GGA for Pb4 O8 because there is a matching R2SCAN material\n",
      "  Discarding GGA entry mp-723285-GGA for O8 because it is a GGA(+U) ground state that matches a R2SCAN material.\n",
      "  Discarding GGA entry mp-48-GGA for C4 because there is a matching R2SCAN material\n",
      "  Discarding GGA entry mp-569416-GGA for C8 because there is a matching R2SCAN material\n",
      "  Discarding R2SCAN entry mp-568806-R2SCAN for C8 because there is no matching GGA(+U) entry and no R2SCAN ground state at this composition.\n"
     ]
    },
    {
     "name": "stderr",
     "output_type": "stream",
     "text": [
      "WARNING! Discarding GGA entry mp-1065697-GGA for O1 because it was not found in the mixing state data. This can occur when there are duplicate structures. In such cases, only the lowest energy entry with that structure appears in the mixing state data.\n",
      "WARNING! Discarding GGA entry mp-611836-GGA for O2 because it was not found in the mixing state data. This can occur when there are duplicate structures. In such cases, only the lowest energy entry with that structure appears in the mixing state data.\n",
      "WARNING! Discarding GGA entry mp-1023923-GGA for O6 because it was not found in the mixing state data. This can occur when there are duplicate structures. In such cases, only the lowest energy entry with that structure appears in the mixing state data.\n",
      "WARNING! Discarding GGA entry mp-1180050-GGA for O8 because it was not found in the mixing state data. This can occur when there are duplicate structures. In such cases, only the lowest energy entry with that structure appears in the mixing state data.\n",
      "WARNING! Discarding GGA entry mp-1102442-GGA for O12 because it was not found in the mixing state data. This can occur when there are duplicate structures. In such cases, only the lowest energy entry with that structure appears in the mixing state data.\n",
      "WARNING! Discarding R2SCAN entry mp-1009490-R2SCAN for O2 because it was not found in the mixing state data. This can occur when there are duplicate structures. In such cases, only the lowest energy entry with that structure appears in the mixing state data.\n"
     ]
    },
    {
     "name": "stdout",
     "output_type": "stream",
     "text": [
      "  Discarding R2SCAN entry mp-937760-R2SCAN for C4 because there is no matching GGA(+U) entry and no R2SCAN ground state at this composition.\n",
      "\n",
      "Processing complete. Mixed entries contain 100 GGA(+U) and 41 R2SCAN entries.\n",
      "\n",
      "entry_id    formula     spacegroup  run_type  eV/atom corr/atom e_above_hull\n",
      "mp-2516584-GGAC           R-3m        GGA       -9.229  0.000     0.000    \n",
      "mp-569304-R2SCANC           R-3m        R2SCAN    -9.227  0.711     0.002    \n",
      "mp-169-R2SCANC           C2/m        R2SCAN    -9.225  0.721     0.003    \n",
      "mp-937760-GGAC           Fmmm        GGA       -9.223  0.000     0.006    \n",
      "mp-568286-GGAC           Cmme        GGA       -9.220  0.000     0.008    \n",
      "mp-568363-GGAC           Cmme        GGA       -9.220  0.000     0.008    \n",
      "mp-48-R2SCANC           P6_3/mmc    R2SCAN    -9.220  0.724     0.008    \n",
      "mp-990448-R2SCANC           P6/mmm      R2SCAN    -9.220  0.715     0.009    \n",
      "mp-1040425-GGAC           P6/mmm      GGA       -9.219  0.000     0.009    \n",
      "mp-997182-R2SCANC           P6_3/mmc    R2SCAN    -9.219  0.714     0.010    \n",
      "mp-990424-R2SCANC           P-3m1       R2SCAN    -9.219  0.719     0.010    \n",
      "mp-606949-R2SCANC           P6_3mc      R2SCAN    -9.218  0.723     0.010    \n",
      "mp-568806-GGAC           P6/mmm      GGA       -9.217  0.000     0.012    \n",
      "mp-632329-GGAC           C2/m        GGA       -9.215  0.000     0.014    \n",
      "mp-569416-R2SCANC           R-3m        R2SCAN    -9.198  0.747     0.030    \n",
      "mp-1096869-GGAC           Cm          GGA       -9.111  0.000     0.118    \n",
      "mp-66-R2SCANC           Fd-3m       R2SCAN    -9.090  0.745     0.138    \n",
      "mp-616440-R2SCANC           P6_3/mmc    R2SCAN    -9.086  0.744     0.143    \n",
      "mp-611448-R2SCANC           P6_3/mmc    R2SCAN    -9.084  0.744     0.144    \n",
      "mp-569567-R2SCANC           R-3m        R2SCAN    -9.082  0.747     0.146    \n",
      "mp-569517-R2SCANC           R-3m        R2SCAN    -9.082  0.745     0.147    \n",
      "mp-611426-R2SCANC           P6_3/mmc    R2SCAN    -9.081  0.744     0.148    \n",
      "mp-47-R2SCANC           P6_3/mmc    R2SCAN    -9.065  0.742     0.163    \n",
      "mp-2647017-GGAC           P2_1/m      GGA       -9.051  0.000     0.178    \n",
      "mp-1078845-GGAC           Cmmm        GGA       -8.961  0.000     0.268    \n",
      "mp-1190171-GGAC           Pnma        GGA       -8.936  0.000     0.293    \n",
      "mp-1080826-GGAC           C2/m        GGA       -8.928  0.000     0.301    \n",
      "mp-1008395-GGAC           I4/mmm      GGA       -8.894  0.000     0.335    \n",
      "mp-683919-GGAC           Cmcm        GGA       -8.878  0.000     0.350    \n",
      "mp-1196583-GGAC           Pa-3        GGA       -8.844  0.000     0.385    \n",
      "mp-1147718-GGAC           Pnnm        GGA       -8.840  0.000     0.389    \n",
      "mp-667273-GGAC           Fm-3        GGA       -8.838  0.000     0.391    \n",
      "mp-630227-GGAC           Immm        GGA       -8.833  0.000     0.396    \n",
      "mp-680372-GGAC           R-3m        GGA       -8.820  0.000     0.409    \n",
      "mp-1008374-GGAC           Cmmm        GGA       -8.790  0.000     0.438    \n",
      "mp-568410-GGAC           Cmmm        GGA       -8.720  0.000     0.509    \n",
      "mp-568028-GGAC           Pnnm        GGA       -8.698  0.000     0.531    \n",
      "mp-2646980-GGAC           Pmmm        GGA       -8.586  0.000     0.643    \n",
      "mp-1205283-GGAC           Pnnm        GGA       -8.529  0.000     0.699    \n",
      "mp-1188817-GGAC           Pm-3m       GGA       -8.463  0.000     0.765    \n",
      "mp-570002-GGAC           Im-3m       GGA       -8.463  0.000     0.766    \n",
      "mp-24-GGA   C           Ia-3        GGA       -8.394  0.000     0.835    \n",
      "mp-1244964-GGAC           P1          GGA       -8.294  0.000     0.935    \n",
      "mp-579909-GGAC           Cmmm        GGA       -8.284  0.000     0.945    \n",
      "mp-1244913-GGAC           P1          GGA       -8.234  0.000     0.994    \n",
      "mp-1095633-GGAC           I4/mmm      GGA       -8.230  0.000     0.999    \n",
      "mp-1182029-GGAC           P2/m        GGA       -8.226  0.000     1.002    \n",
      "mp-1245190-GGAC           P1          GGA       -8.214  0.000     1.015    \n",
      "mp-723638-GGAC           P2_1/c      GGA       -8.187  0.000     1.041    \n",
      "mp-1095534-GGAC           I4/mmm      GGA       -8.105  0.000     1.123    \n",
      "mp-1205417-GGAC           I4/mmm      GGA       -8.060  0.000     1.169    \n",
      "mp-624889-GGAC           Cmme        GGA       -7.973  0.000     1.256    \n",
      "mp-1018088-GGAC           I4_132      GGA       -7.923  0.000     1.306    \n",
      "mp-1197903-GGAC           P1          GGA       -7.818  0.000     1.410    \n",
      "mp-731594-GGAC           P2_1        GGA       -7.728  0.000     1.501    \n",
      "mp-1182684-GGAC           P2_12_12_1  GGA       -7.699  0.000     1.530    \n",
      "mp-1196857-GGAC           Pnma        GGA       -7.628  0.000     1.601    \n",
      "mp-1192619-GGAC           I-43m       GGA       -7.308  0.000     1.920    \n",
      "mp-1097832-GGAC           Cmcm        GGA       -6.621  0.000     2.608    \n",
      "mp-1056957-GGAC           Cmcm        GGA       -6.610  0.000     2.618    \n",
      "mp-1181996-GGAC           I4/mmm      GGA       -6.592  0.000     2.637    \n",
      "mp-998866-GGAC           Pm-3m       GGA       -6.472  0.000     2.757    \n",
      "mp-561848-GGAC3O2        Pnma        GGA       -8.069  -0.275    0.509    \n",
      "mp-1001594-GGAC4O3        R3          GGA       -8.295  -0.294    0.237    \n",
      "mp-1001608-GGAC4O3        P1          GGA       -6.646  -0.294    1.886    \n",
      "mp-1197923-GGAC61O2       P2_1/c      GGA       -8.810  -0.022    0.367    \n",
      "mp-995183-GGACO          Pnma        GGA       -7.867  -0.344    0.549    \n",
      "mp-11875-GGACO          P2_13       GGA       -7.754  -0.344    0.661    \n",
      "mp-729933-GGACO          P2_12_12_1  GGA       -7.746  -0.344    0.669    \n",
      "mp-556660-GGACO          R3c         GGA       -7.739  -0.344    0.677    \n",
      "mp-20066-R2SCANCO2         Pa-3        R2SCAN    -8.144  0.452     0.000    \n",
      "mp-644607-R2SCANCO2         P4_2/mnm    R2SCAN    -8.139  0.452     0.005    \n",
      "mp-1077906-R2SCANCO2         Cmce        R2SCAN    -8.137  0.452     0.007    \n",
      "mp-1190699-R2SCANCO2         R-3c        R2SCAN    -8.137  0.452     0.007    \n",
      "mp-11725-R2SCANCO2         P4_2/mnm    R2SCAN    -8.135  0.452     0.009    \n",
      "mp-556034-R2SCANCO2         Pbcn        R2SCAN    -8.134  0.452     0.011    \n",
      "mp-1102227-GGACO2         P4_12_12    GGA       -8.128  -0.458    0.017    \n",
      "mp-729728-GGACO2         Pna2_1      GGA       -8.126  -0.458    0.018    \n",
      "mp-995224-GGACO2         I4_1/a      GGA       -7.847  -0.458    0.297    \n",
      "mp-995198-GGACO2         P2_1/c      GGA       -7.826  -0.458    0.319    \n",
      "mp-1077316-GGACO2         I-42d       GGA       -7.695  -0.458    0.450    \n",
      "mp-1190685-GGACO2         P2_12_12_1  GGA       -7.634  -0.458    0.511    \n",
      "mp-995196-GGACO3         P4/mmm      GGA       -4.271  -0.515    3.075    \n",
      "mp-611836-R2SCANO2          C2/m        R2SCAN    -4.952  1.008     0.000    \n",
      "mp-610917-R2SCANO2          R-3m        R2SCAN    -4.947  1.008     0.005    \n",
      "mp-723285-R2SCANO2          P4_12_12    R2SCAN    -4.947  1.008     0.006    \n",
      "mp-1087546-GGAO2          C2/c        GGA       -4.930  0.000     0.022    \n",
      "mp-1180036-GGAO2          P2/c        GGA       -4.918  0.000     0.034    \n",
      "mp-607540-GGAO2          Fmmm        GGA       -4.827  0.000     0.125    \n",
      "mp-1066100-R2SCANO2          P6_3/mmc    R2SCAN    -4.684  1.008     0.269    \n",
      "mp-1180064-GGAO2          P1          GGA       -4.561  0.000     0.391    \n",
      "mp-560602-GGAO2          Pbca        GGA       -4.537  0.000     0.416    \n",
      "mp-1180008-GGAO2          P1          GGA       -4.528  0.000     0.424    \n",
      "mp-734188-GGAO2          P4_1        GGA       -4.513  0.000     0.439    \n",
      "mp-2421172-GGAO2          R3c         GGA       -4.032  0.000     0.921    \n",
      "mp-1056831-GGAO2          P2/m        GGA       -3.637  0.000     1.315    \n",
      "mp-1056059-GGAO2          P4/mmm      GGA       -3.390  0.000     1.562    \n",
      "mp-1058623-GGAO2          Cmcm        GGA       -3.377  0.000     1.575    \n",
      "mp-1057818-GGAO2          Fd-3m       GGA       -3.067  0.000     1.885    \n",
      "mp-20483-R2SCANPb          Fm-3m       R2SCAN    -3.713  52.572    0.000    \n",
      "mp-1186444-R2SCANPb          P6_3/mmc    R2SCAN    -3.694  52.572    0.019    \n",
      "mp-20745-R2SCANPb          P6_3/mmc    R2SCAN    -3.692  52.572    0.020    \n",
      "mp-22692-R2SCANPb          Im-3m       R2SCAN    -3.670  52.572    0.042    \n",
      "mp-1057273-R2SCANPb          C2/m        R2SCAN    -3.645  52.572    0.068    \n",
      "mp-1102666-GGAPb          P4_2/mbc    GGA       -3.597  0.000     0.116    \n",
      "mp-1247117-GGAPb          Fd-3m       GGA       -3.450  0.000     0.262    \n",
      "mp-1179835-GGAPb(CO)4     I4_1/amd    GGA       -7.687  -0.305    0.327    \n",
      "mp-22747-GGAPb(CO2)2    P-1         GGA       -7.603  -0.393    0.063    \n",
      "mp-1210537-GGAPb(CO3)2    Pnma        GGA       -6.805  -0.107    0.570    \n",
      "mp-505702-R2SCANPb2CO4      P2_12_12_1  R2SCAN    -6.926  15.420    0.000    \n",
      "mp-1079073-GGAPb2CO6      R3m         GGA       -6.027  -0.458    0.578    \n",
      "mp-551685-GGAPb2O        Pn-3m       GGA       -4.748  -0.229    0.356    \n",
      "mp-20078-R2SCANPb2O3       P2_1/c      R2SCAN    -5.847  21.358    0.009    \n",
      "mp-1179959-R2SCANPb2O3       P2_1/m      R2SCAN    -5.829  21.356    0.027    \n",
      "mp-754071-GGAPb2O3       Pmn2_1      GGA       -5.769  -0.412    0.087    \n",
      "mp-608439-GGAPb2O3       P2_1/m      GGA       -5.720  -0.412    0.137    \n",
      "mp-655547-GGAPb2O3       C2/m        GGA       -5.647  -0.412    0.209    \n",
      "mp-690722-GGAPb2O3       Pm          GGA       -5.646  -0.412    0.211    \n",
      "mp-1186421-GGAPb3O        Pm-3m       GGA       -4.021  -0.172    0.735    \n"
     ]
    },
    {
     "name": "stdout",
     "output_type": "stream",
     "text": [
      "mp-1186448-GGAPb3O        Fm-3m       GGA       -4.019  -0.172    0.737    \n",
      "mp-22633-R2SCANPb3O4       P4_2/mbc    R2SCAN    -5.866  22.843    0.000    \n",
      "mp-21452-R2SCANPb3O4       Pbam        R2SCAN    -5.865  22.843    0.000    \n",
      "mp-636813-R2SCANPb3O4       Pbam        R2SCAN    -5.833  22.843    0.033    \n",
      "mp-651870-GGAPb3O5       Cmce        GGA       -5.807  -0.429    0.042    \n",
      "mp-1221786-GGAPb5(CO4)3   P1          GGA       -6.854  -0.412    0.135    \n",
      "mp-1100796-GGAPb7O16      C2          GGA       -5.528  -0.478    0.231    \n",
      "mp-1186446-GGAPbC         P6_3mc      GGA       -4.983  0.000     1.487    \n",
      "mp-1201059-GGAPbC4O5      P2_1/c      GGA       -7.217  -0.344    0.755    \n",
      "mp-19893-R2SCANPbCO3       Pnma        R2SCAN    -7.366  10.943    0.000    \n",
      "mp-1105697-GGAPbCO3       P2_1/c      GGA       -7.364  -0.412    0.002    \n",
      "mp-672237-R2SCANPbO         Pbcm        R2SCAN    -5.799  26.584    0.000    \n",
      "mp-20878-R2SCANPbO         Pbcm        R2SCAN    -5.790  26.584    0.009    \n",
      "mp-550714-GGAPbO         Pca2_1      GGA       -5.779  -0.344    0.021    \n",
      "mp-677074-GGAPbO         P4_2/mmc    GGA       -5.391  -0.344    0.408    \n",
      "mp-20725-R2SCANPbO2        P4_2/mnm    R2SCAN    -5.836  17.879    0.000    \n",
      "mp-20633-R2SCANPbO2        Pbcn        R2SCAN    -5.834  17.879    0.002    \n",
      "mp-1101843-GGAPbO2        Pnma        GGA       -5.779  -0.458    0.057    \n",
      "mp-20158-GGAPbO2        Fm-3m       GGA       -5.729  -0.458    0.107    \n",
      "mp-1102359-GGAPbO2        Pnma        GGA       -5.705  -0.458    0.131    \n",
      "mp-1180019-GGAPbO2        P2_1/m      GGA       -5.394  -0.107    0.442    \n",
      "mp-1188454-GGAPbO2        P-1         GGA       -5.106  -0.458    0.730    \n"
     ]
    },
    {
     "data": {
      "application/vnd.jupyter.widget-view+json": {
       "model_id": "0d96e64ba1e4416999747370470bba17",
       "version_major": 2,
       "version_minor": 0
      },
      "text/plain": [
       "Retrieving ThermoDoc documents:   0%|          | 0/226 [00:00<?, ?it/s]"
      ]
     },
     "metadata": {},
     "output_type": "display_data"
    },
    {
     "name": "stdout",
     "output_type": "stream",
     "text": [
      "Processing 173 GGA(+U) and 53 R2SCAN entries...\n",
      "  Processed 173 compatible GGA(+U) entries with MaterialsProject2020Compatibility\n",
      "  Entries belong to the {'Rb', 'O', 'C'} chemical system\n",
      "  Generating mixing state data from provided entries.\n"
     ]
    },
    {
     "name": "stderr",
     "output_type": "stream",
     "text": [
      "Failed to guess oxidation states for Entry mp-1188205-GGA (Rb2O3). Assigning anion correction to only the most electronegative atom.\n",
      "Failed to guess oxidation states for Entry mp-12105-GGA (RbO2). Assigning anion correction to only the most electronegative atom.\n",
      "Failed to guess oxidation states for Entry mp-1219565-GGA (RbO2). Assigning anion correction to only the most electronegative atom.\n",
      "Failed to guess oxidation states for Entry mp-1220248-GGA (Rb16O3). Assigning anion correction to only the most electronegative atom.\n",
      "Failed to guess oxidation states for Entry mp-1806-GGA (RbO3). Assigning anion correction to only the most electronegative atom.\n",
      "Failed to guess oxidation states for Entry mp-2571-GGA (Rb2O3). Assigning anion correction to only the most electronegative atom.\n",
      "Failed to guess oxidation states for Entry mp-27561-GGA (Rb9O2). Assigning anion correction to only the most electronegative atom.\n",
      "Failed to guess oxidation states for Entry mp-33234-GGA (RbO2). Assigning anion correction to only the most electronegative atom.\n",
      "Failed to guess oxidation states for Entry mp-540855-GGA (Rb6O). Assigning anion correction to only the most electronegative atom.\n",
      "Failed to guess oxidation states for Entry mp-779582-GGA (Rb19O3). Assigning anion correction to only the most electronegative atom.\n",
      "Failed to guess oxidation states for Entry mp-1209669-GGA (Rb4C2O9). Assigning anion correction to only the most electronegative atom.\n",
      "Failed to guess oxidation states for Entry mp-546810-GGA (Rb(CO)2). Assigning anion correction to only the most electronegative atom.\n",
      "Failed to guess oxidation states for Entry mp-674325-GGA (Rb4CO6). Assigning anion correction to only the most electronegative atom.\n",
      "Failed to guess oxidation states for Entry mp-1197923-GGA (C61O2). Assigning anion correction to only the most electronegative atom.\n"
     ]
    },
    {
     "name": "stdout",
     "output_type": "stream",
     "text": [
      "  Entries contain R2SCAN calculations for 8 of 11 GGA(+U) hull entries.\n",
      "  R2SCAN energies will be adjusted to the GGA(+U) scale\n",
      "  The energy above hull for R2SCAN materials at compositions with R2SCAN hull entries will be preserved. For other compositions, Energies of R2SCAN materials will be set equal to those of matching GGA(+U) materials\n",
      "  Discarding GGA entry mp-1186853-GGA for Rb20 because there is a matching R2SCAN material\n",
      "  Discarding GGA entry mp-47-GGA for C4 because there is a matching R2SCAN material\n",
      "  Discarding GGA entry mp-12628-GGA for Rb1 because there is a matching R2SCAN material\n",
      "  Discarding GGA entry mp-568643-GGA for Rb2 C16 because it is a GGA(+U) ground state that matches a R2SCAN material.\n",
      "  Discarding GGA entry mp-644607-GGA for C2 O4 because there is a matching R2SCAN material\n",
      "  Discarding GGA entry mp-990448-GGA for C2 because there is a matching R2SCAN material\n",
      "  Discarding GGA entry mp-611448-GGA for C12 because there is a matching R2SCAN material\n",
      "  Discarding GGA entry mp-606949-GGA for C12 because there is a matching R2SCAN material\n",
      "  Discarding GGA entry mp-776890-GGA for Rb16 O8 because there is a matching R2SCAN material\n",
      "  Discarding GGA entry mp-1190699-GGA for C8 O16 because there is a matching R2SCAN material\n",
      "  Discarding GGA entry mp-1077906-GGA for C2 O4 because there is a matching R2SCAN material\n",
      "  Discarding GGA entry mp-569304-GGA for C4 because there is a matching R2SCAN material\n",
      "  Discarding GGA entry mp-569567-GGA for C14 because there is a matching R2SCAN material\n",
      "  Discarding GGA entry mp-569688-GGA for Rb26 because there is a matching R2SCAN material\n",
      "  Discarding GGA entry mp-616440-GGA for C16 because there is a matching R2SCAN material\n",
      "  Discarding GGA entry mp-556034-GGA for C4 O8 because there is a matching R2SCAN material\n",
      "  Discarding GGA entry mp-169-GGA for C2 because there is a matching R2SCAN material\n",
      "  Discarding GGA entry mp-556872-GGA for Rb4 C4 O8 because there is a matching R2SCAN material\n",
      "  Discarding GGA entry mp-1066100-GGA for O4 because there is a matching R2SCAN material\n",
      "  Discarding GGA entry mp-20066-GGA for C4 O8 because it is a GGA(+U) ground state that matches a R2SCAN material.\n",
      "  Discarding GGA entry mp-4138-GGA for Rb8 C4 O12 because it is a GGA(+U) ground state that matches a R2SCAN material.\n",
      "  Discarding GGA entry mp-555512-GGA for Rb8 C8 O16 because it is a GGA(+U) ground state that matches a R2SCAN material.\n",
      "  Discarding GGA entry mp-611426-GGA for C8 because there is a matching R2SCAN material\n",
      "  Discarding GGA entry mp-1018045-GGA for Rb4 because there is a matching R2SCAN material\n",
      "  Discarding GGA entry mp-610917-GGA for O2 because there is a matching R2SCAN material\n",
      "  Discarding GGA entry mp-975204-GGA for Rb2 because there is a matching R2SCAN material\n",
      "  Discarding GGA entry mp-975129-GGA for Rb2 because there is a matching R2SCAN material\n",
      "  Discarding GGA entry mp-990424-GGA for C4 because there is a matching R2SCAN material\n",
      "  Discarding GGA entry mp-867126-GGA for Rb3 because there is a matching R2SCAN material\n",
      "  Discarding GGA entry mp-11725-GGA for C2 O4 because there is a matching R2SCAN material\n",
      "  Discarding GGA entry mp-1009490-GGA for O2 because there is a matching R2SCAN material\n",
      "  Discarding GGA entry mp-997182-GGA for C4 because there is a matching R2SCAN material\n",
      "  Discarding GGA entry mp-975519-GGA for Rb1 because there is a matching R2SCAN material\n",
      "  Discarding GGA entry mp-540855-GGA for Rb24 O4 because there is a matching R2SCAN material\n",
      "  Discarding GGA entry mp-755738-GGA for Rb8 O4 because there is a matching R2SCAN material\n",
      "  Discarding GGA entry mp-66-GGA for C2 because there is a matching R2SCAN material\n",
      "  Discarding GGA entry mp-569517-GGA for C10 because there is a matching R2SCAN material\n",
      "  Discarding GGA entry mp-7895-GGA for Rb2 O2 because it is a GGA(+U) ground state that matches a R2SCAN material.\n",
      "  Discarding GGA entry mp-1186899-GGA for Rb29 because there is a matching R2SCAN material\n",
      "  Discarding GGA entry mp-723285-GGA for O8 because it is a GGA(+U) ground state that matches a R2SCAN material.\n",
      "  Discarding GGA entry mp-555692-GGA for Rb8 C4 O12 because there is a matching R2SCAN material\n",
      "  Discarding GGA entry mp-48-GGA for C4 because there is a matching R2SCAN material\n",
      "  Discarding GGA entry mp-974620-GGA for Rb8 because there is a matching R2SCAN material\n",
      "  Discarding GGA entry mp-27561-GGA for Rb18 O4 because it is a GGA(+U) ground state that matches a R2SCAN material.\n",
      "  Discarding GGA entry mp-12105-GGA for Rb1 O2 because it is a GGA(+U) ground state that matches a R2SCAN material.\n",
      "  Discarding GGA entry mp-604321-GGA for Rb4 because there is a matching R2SCAN material\n",
      "  Discarding GGA entry mp-639755-GGA for Rb1 because there is a matching R2SCAN material\n",
      "  Discarding GGA entry mp-569416-GGA for C8 because there is a matching R2SCAN material\n"
     ]
    },
    {
     "name": "stderr",
     "output_type": "stream",
     "text": [
      "WARNING! Discarding GGA entry mp-1065697-GGA for O1 because it was not found in the mixing state data. This can occur when there are duplicate structures. In such cases, only the lowest energy entry with that structure appears in the mixing state data.\n",
      "WARNING! Discarding GGA entry mp-611836-GGA for O2 because it was not found in the mixing state data. This can occur when there are duplicate structures. In such cases, only the lowest energy entry with that structure appears in the mixing state data.\n",
      "WARNING! Discarding GGA entry mp-1023923-GGA for O6 because it was not found in the mixing state data. This can occur when there are duplicate structures. In such cases, only the lowest energy entry with that structure appears in the mixing state data.\n",
      "WARNING! Discarding GGA entry mp-1180050-GGA for O8 because it was not found in the mixing state data. This can occur when there are duplicate structures. In such cases, only the lowest energy entry with that structure appears in the mixing state data.\n",
      "WARNING! Discarding GGA entry mp-1102442-GGA for O12 because it was not found in the mixing state data. This can occur when there are duplicate structures. In such cases, only the lowest energy entry with that structure appears in the mixing state data.\n"
     ]
    },
    {
     "name": "stdout",
     "output_type": "stream",
     "text": [
      "  Discarding R2SCAN entry mp-70-R2SCAN for Rb8 because there is no matching GGA(+U) entry and no R2SCAN ground state at this composition.\n",
      "  Discarding R2SCAN entry mp-568806-R2SCAN for C8 because there is no matching GGA(+U) entry and no R2SCAN ground state at this composition.\n",
      "  Discarding R2SCAN entry mp-1394-R2SCAN for Rb4 O2 because there is no matching GGA(+U) entry and no R2SCAN ground state at this composition.\n",
      "  Discarding R2SCAN entry mp-937760-R2SCAN for C4 because there is no matching GGA(+U) entry and no R2SCAN ground state at this composition.\n",
      "\n",
      "Processing complete. Mixed entries contain 120 GGA(+U) and 48 R2SCAN entries.\n",
      "\n",
      "entry_id    formula     spacegroup  run_type  eV/atom corr/atom e_above_hull\n",
      "mp-2516584-GGAC           R-3m        GGA       -9.229  0.000     0.000    \n",
      "mp-569304-R2SCANC           R-3m        R2SCAN    -9.227  0.711     0.002    \n",
      "mp-169-R2SCANC           C2/m        R2SCAN    -9.225  0.721     0.003    \n",
      "mp-937760-GGAC           Fmmm        GGA       -9.223  0.000     0.006    \n",
      "mp-568286-GGAC           Cmme        GGA       -9.220  0.000     0.008    \n",
      "mp-568363-GGAC           Cmme        GGA       -9.220  0.000     0.008    \n",
      "mp-48-R2SCANC           P6_3/mmc    R2SCAN    -9.220  0.724     0.008    \n",
      "mp-990448-R2SCANC           P6/mmm      R2SCAN    -9.220  0.715     0.009    \n",
      "mp-1040425-GGAC           P6/mmm      GGA       -9.219  0.000     0.009    \n",
      "mp-997182-R2SCANC           P6_3/mmc    R2SCAN    -9.219  0.714     0.010    \n",
      "mp-990424-R2SCANC           P-3m1       R2SCAN    -9.219  0.719     0.010    \n",
      "mp-606949-R2SCANC           P6_3mc      R2SCAN    -9.218  0.723     0.010    \n",
      "mp-568806-GGAC           P6/mmm      GGA       -9.217  0.000     0.012    \n",
      "mp-632329-GGAC           C2/m        GGA       -9.215  0.000     0.014    \n",
      "mp-569416-R2SCANC           R-3m        R2SCAN    -9.198  0.747     0.030    \n",
      "mp-1096869-GGAC           Cm          GGA       -9.111  0.000     0.118    \n",
      "mp-66-R2SCANC           Fd-3m       R2SCAN    -9.090  0.745     0.138    \n",
      "mp-616440-R2SCANC           P6_3/mmc    R2SCAN    -9.086  0.744     0.143    \n",
      "mp-611448-R2SCANC           P6_3/mmc    R2SCAN    -9.084  0.744     0.144    \n",
      "mp-569567-R2SCANC           R-3m        R2SCAN    -9.082  0.747     0.146    \n",
      "mp-569517-R2SCANC           R-3m        R2SCAN    -9.082  0.745     0.147    \n",
      "mp-611426-R2SCANC           P6_3/mmc    R2SCAN    -9.081  0.744     0.148    \n",
      "mp-47-R2SCANC           P6_3/mmc    R2SCAN    -9.065  0.742     0.163    \n",
      "mp-2647017-GGAC           P2_1/m      GGA       -9.051  0.000     0.178    \n",
      "mp-1078845-GGAC           Cmmm        GGA       -8.961  0.000     0.268    \n",
      "mp-1190171-GGAC           Pnma        GGA       -8.936  0.000     0.293    \n",
      "mp-1080826-GGAC           C2/m        GGA       -8.928  0.000     0.301    \n",
      "mp-1008395-GGAC           I4/mmm      GGA       -8.894  0.000     0.335    \n",
      "mp-683919-GGAC           Cmcm        GGA       -8.878  0.000     0.350    \n",
      "mp-1196583-GGAC           Pa-3        GGA       -8.844  0.000     0.385    \n",
      "mp-1147718-GGAC           Pnnm        GGA       -8.840  0.000     0.389    \n",
      "mp-667273-GGAC           Fm-3        GGA       -8.838  0.000     0.391    \n",
      "mp-630227-GGAC           Immm        GGA       -8.833  0.000     0.396    \n",
      "mp-680372-GGAC           R-3m        GGA       -8.820  0.000     0.409    \n",
      "mp-1008374-GGAC           Cmmm        GGA       -8.790  0.000     0.438    \n",
      "mp-568410-GGAC           Cmmm        GGA       -8.720  0.000     0.509    \n",
      "mp-568028-GGAC           Pnnm        GGA       -8.698  0.000     0.531    \n",
      "mp-2646980-GGAC           Pmmm        GGA       -8.586  0.000     0.643    \n",
      "mp-1205283-GGAC           Pnnm        GGA       -8.529  0.000     0.699    \n",
      "mp-1188817-GGAC           Pm-3m       GGA       -8.463  0.000     0.765    \n",
      "mp-570002-GGAC           Im-3m       GGA       -8.463  0.000     0.766    \n",
      "mp-24-GGA   C           Ia-3        GGA       -8.394  0.000     0.835    \n",
      "mp-1244964-GGAC           P1          GGA       -8.294  0.000     0.935    \n",
      "mp-579909-GGAC           Cmmm        GGA       -8.284  0.000     0.945    \n",
      "mp-1244913-GGAC           P1          GGA       -8.234  0.000     0.994    \n",
      "mp-1095633-GGAC           I4/mmm      GGA       -8.230  0.000     0.999    \n",
      "mp-1182029-GGAC           P2/m        GGA       -8.226  0.000     1.002    \n",
      "mp-1245190-GGAC           P1          GGA       -8.214  0.000     1.015    \n",
      "mp-723638-GGAC           P2_1/c      GGA       -8.187  0.000     1.041    \n",
      "mp-1095534-GGAC           I4/mmm      GGA       -8.105  0.000     1.123    \n",
      "mp-1205417-GGAC           I4/mmm      GGA       -8.060  0.000     1.169    \n",
      "mp-624889-GGAC           Cmme        GGA       -7.973  0.000     1.256    \n",
      "mp-1018088-GGAC           I4_132      GGA       -7.923  0.000     1.306    \n",
      "mp-1197903-GGAC           P1          GGA       -7.818  0.000     1.410    \n",
      "mp-731594-GGAC           P2_1        GGA       -7.728  0.000     1.501    \n",
      "mp-1182684-GGAC           P2_12_12_1  GGA       -7.699  0.000     1.530    \n",
      "mp-1196857-GGAC           Pnma        GGA       -7.628  0.000     1.601    \n",
      "mp-1192619-GGAC           I-43m       GGA       -7.308  0.000     1.920    \n",
      "mp-1097832-GGAC           Cmcm        GGA       -6.621  0.000     2.608    \n",
      "mp-1056957-GGAC           Cmcm        GGA       -6.610  0.000     2.618    \n",
      "mp-1181996-GGAC           I4/mmm      GGA       -6.592  0.000     2.637    \n",
      "mp-998866-GGAC           Pm-3m       GGA       -6.472  0.000     2.757    \n",
      "mp-561848-GGAC3O2        Pnma        GGA       -8.069  -0.275    0.509    \n",
      "mp-1001594-GGAC4O3        R3          GGA       -8.295  -0.294    0.237    \n",
      "mp-1001608-GGAC4O3        P1          GGA       -6.646  -0.294    1.886    \n",
      "mp-1197923-GGAC61O2       P2_1/c      GGA       -8.810  -0.022    0.367    \n",
      "mp-995183-GGACO          Pnma        GGA       -7.867  -0.344    0.549    \n",
      "mp-11875-GGACO          P2_13       GGA       -7.754  -0.344    0.661    \n",
      "mp-729933-GGACO          P2_12_12_1  GGA       -7.746  -0.344    0.669    \n",
      "mp-556660-GGACO          R3c         GGA       -7.739  -0.344    0.677    \n",
      "mp-20066-R2SCANCO2         Pa-3        R2SCAN    -8.144  0.452     0.000    \n",
      "mp-644607-R2SCANCO2         P4_2/mnm    R2SCAN    -8.139  0.452     0.005    \n",
      "mp-1077906-R2SCANCO2         Cmce        R2SCAN    -8.137  0.452     0.007    \n",
      "mp-1190699-R2SCANCO2         R-3c        R2SCAN    -8.137  0.452     0.007    \n",
      "mp-11725-R2SCANCO2         P4_2/mnm    R2SCAN    -8.135  0.452     0.009    \n",
      "mp-556034-R2SCANCO2         Pbcn        R2SCAN    -8.134  0.452     0.011    \n",
      "mp-1102227-GGACO2         P4_12_12    GGA       -8.128  -0.458    0.017    \n",
      "mp-729728-GGACO2         Pna2_1      GGA       -8.126  -0.458    0.018    \n",
      "mp-995224-GGACO2         I4_1/a      GGA       -7.847  -0.458    0.297    \n",
      "mp-995198-GGACO2         P2_1/c      GGA       -7.826  -0.458    0.319    \n",
      "mp-1077316-GGACO2         I-42d       GGA       -7.695  -0.458    0.450    \n",
      "mp-1190685-GGACO2         P2_12_12_1  GGA       -7.634  -0.458    0.511    \n",
      "mp-995196-GGACO3         P4/mmm      GGA       -4.271  -0.515    3.075    \n",
      "mp-611836-R2SCANO2          C2/m        R2SCAN    -4.952  1.008     0.000    \n",
      "mp-610917-R2SCANO2          R-3m        R2SCAN    -4.947  1.008     0.005    \n",
      "mp-723285-R2SCANO2          P4_12_12    R2SCAN    -4.947  1.008     0.006    \n",
      "mp-1087546-GGAO2          C2/c        GGA       -4.930  0.000     0.022    \n",
      "mp-1180036-GGAO2          P2/c        GGA       -4.918  0.000     0.034    \n",
      "mp-607540-GGAO2          Fmmm        GGA       -4.827  0.000     0.125    \n",
      "mp-1066100-R2SCANO2          P6_3/mmc    R2SCAN    -4.684  1.008     0.269    \n",
      "mp-1180064-GGAO2          P1          GGA       -4.561  0.000     0.391    \n",
      "mp-560602-GGAO2          Pbca        GGA       -4.537  0.000     0.416    \n",
      "mp-1180008-GGAO2          P1          GGA       -4.528  0.000     0.424    \n",
      "mp-734188-GGAO2          P4_1        GGA       -4.513  0.000     0.439    \n",
      "mp-2421172-GGAO2          R3c         GGA       -4.032  0.000     0.921    \n",
      "mp-1056831-GGAO2          P2/m        GGA       -3.637  0.000     1.315    \n",
      "mp-1056059-GGAO2          P4/mmm      GGA       -3.390  0.000     1.562    \n",
      "mp-1058623-GGAO2          Cmcm        GGA       -3.377  0.000     1.575    \n",
      "mp-1057818-GGAO2          Fd-3m       GGA       -3.067  0.000     1.885    \n",
      "mp-1179656-GGARb          C2/c        GGA       -0.981  0.000     0.000    \n",
      "mp-604321-R2SCANRb          P6_3/mmc    R2SCAN    -0.978  12.943    0.002    \n",
      "mp-639755-R2SCANRb          I4/mmm      R2SCAN    -0.973  12.939    0.007    \n",
      "mp-1186853-R2SCANRb          P4_132      R2SCAN    -0.973  12.943    0.007    \n",
      "mp-70-GGA   Rb          Im-3m       GGA       -0.971  0.000     0.009    \n",
      "mp-975129-R2SCANRb          P6_3/mmc    R2SCAN    -0.971  12.951    0.010    \n",
      "mp-975204-R2SCANRb          Cmcm        R2SCAN    -0.969  12.952    0.012    \n"
     ]
    },
    {
     "name": "stderr",
     "output_type": "stream",
     "text": [
      "WARNING! Discarding R2SCAN entry mp-1009490-R2SCAN for O2 because it was not found in the mixing state data. This can occur when there are duplicate structures. In such cases, only the lowest energy entry with that structure appears in the mixing state data.\n"
     ]
    },
    {
     "name": "stdout",
     "output_type": "stream",
     "text": [
      "mp-12628-R2SCANRb          Fm-3m       R2SCAN    -0.965  12.951    0.015    \n",
      "mp-975519-R2SCANRb          I4/mmm      R2SCAN    -0.964  12.952    0.017    \n",
      "mp-656615-GGARb          P1          GGA       -0.958  0.000     0.023    \n",
      "mp-867126-R2SCANRb          R-3m        R2SCAN    -0.956  12.964    0.024    \n",
      "mp-974620-R2SCANRb          Pm-3n       R2SCAN    -0.944  12.968    0.036    \n",
      "mp-1186899-R2SCANRb          I-43m       R2SCAN    -0.941  12.975    0.039    \n",
      "mp-1179802-GGARb          P1          GGA       -0.927  0.000     0.054    \n",
      "mp-640416-GGARb          P1          GGA       -0.924  0.000     0.057    \n",
      "mp-569688-R2SCANRb          C222_1      R2SCAN    -0.918  12.964    0.062    \n",
      "mp-639736-GGARb          I4_1/amd    GGA       -0.910  0.000     0.070    \n",
      "mp-1018045-R2SCANRb          Fddd        R2SCAN    -0.906  12.956    0.075    \n",
      "mp-1063817-GGARb          Fddd        GGA       -0.799  0.000     0.181    \n",
      "mp-1179832-GGARb          I4/mmm      GGA       -0.528  0.000     0.453    \n",
      "mp-546810-GGARb(CO)2     C2/m        GGA       -7.186  -0.275    0.199    \n",
      "mp-1220248-GGARb16O3      F222        GGA       -2.105  -0.108    0.073    \n",
      "mp-779582-GGARb19O3      Fm-3c       GGA       -1.972  -0.094    0.043    \n",
      "mp-4138-R2SCANRb2CO3      P2_1/c      R2SCAN    -6.424  4.735     0.000    \n",
      "mp-555692-R2SCANRb2CO3      Pnma        R2SCAN    -6.419  4.735     0.005    \n",
      "mp-753746-GGARb2O        R-3m        GGA       -3.436  -0.229    0.000    \n",
      "mp-776922-GGARb2O        P3          GGA       -3.434  -0.229    0.003    \n",
      "mp-1394-GGA Rb2O        Fm-3m       GGA       -3.433  -0.229    0.003    \n",
      "mp-776890-R2SCANRb2O        Pbca        R2SCAN    -3.422  8.900     0.014    \n",
      "mp-1101405-GGARb2O        Pnnm        GGA       -3.420  -0.229    0.016    \n",
      "mp-755459-GGARb2O        P2_1/c      GGA       -3.418  -0.229    0.018    \n",
      "mp-755738-R2SCANRb2O        Pnma        R2SCAN    -3.404  8.923     0.032    \n",
      "mp-7895-R2SCANRb2O2       Immm        R2SCAN    -4.197  6.892     0.000    \n",
      "mp-1206669-GGARb2O2       Cmcm        GGA       -3.917  -0.344    0.280    \n",
      "mp-1206677-GGARb2O2       P2_1/m      GGA       -3.896  -0.344    0.301    \n",
      "mp-1209332-GGARb2O2       Fm-3m       GGA       -3.863  -0.344    0.334    \n",
      "mp-2571-GGA Rb2O3       I-43d       GGA       -4.385  -0.097    0.053    \n",
      "mp-1188205-GGARb2O3       I-42d       GGA       -4.371  -0.097    0.067    \n",
      "mp-1209415-GGARb4C        Immm        GGA       -1.648  0.000     0.992    \n",
      "mp-1207162-GGARb4C        I4/mmm      GGA       -1.620  0.000     1.019    \n",
      "mp-1209669-GGARb4C2O9     C2/c        GGA       -5.832  -0.097    0.297    \n",
      "mp-556527-GGARb4CO4      P2_1        GGA       -5.232  -0.305    0.196    \n",
      "mp-550679-GGARb4CO4      I222        GGA       -5.227  -0.305    0.200    \n",
      "mp-547898-GGARb4CO4      I-42m       GGA       -5.225  -0.305    0.203    \n",
      "mp-551176-GGARb4CO4      C2          GGA       -5.224  -0.305    0.204    \n",
      "mp-545760-GGARb4CO4      I-42m       GGA       -5.221  -0.305    0.207    \n",
      "mp-551437-GGARb4CO4      Cm          GGA       -5.205  -0.305    0.223    \n",
      "mp-552966-GGARb4CO4      P-4         GGA       -5.173  -0.305    0.255    \n",
      "mp-551267-GGARb4CO4      Cm          GGA       -5.171  -0.305    0.257    \n",
      "mp-546320-GGARb4CO4      P-43m       GGA       -5.163  -0.305    0.264    \n",
      "mp-550314-GGARb4CO4      R3          GGA       -5.163  -0.305    0.265    \n",
      "mp-551690-GGARb4CO4      R3m         GGA       -5.139  -0.305    0.289    \n",
      "mp-645300-GGARb4CO4      Amm2        GGA       -4.680  -0.305    0.747    \n",
      "mp-674325-GGARb4CO6      P1          GGA       -5.181  -0.088    0.340    \n",
      "mp-33056-GGARb6C5       P-62m       GGA       -2.627  0.000     2.124    \n",
      "mp-540855-R2SCANRb6O        P6_3/m      R2SCAN    -2.063  11.207    0.001    \n",
      "mp-676534-GGARb8C4O7     Pm          GGA       -4.915  -0.253    0.804    \n",
      "mp-27561-R2SCANRb9O2       P2_1/m      R2SCAN    -2.360  10.731    0.000    \n",
      "mp-10821-GGARbC         Pnma        GGA       -4.786  0.000     0.341    \n",
      "mp-16975-GGARbC10       Im-3        GGA       -8.263  0.000     0.249    \n",
      "mp-1077369-GGARbC2        P4/nmm      GGA       -5.177  0.000     1.333    \n",
      "mp-568643-R2SCANRbC8        Fddd        R2SCAN    -8.353  2.091     0.000    \n",
      "mp-556872-R2SCANRbCO2       Pbam        R2SCAN    -6.924  3.677     0.000    \n",
      "mp-555512-R2SCANRbCO2       P2_1/c      R2SCAN    -6.923  3.677     0.001    \n",
      "mp-31271-GGARbCO3       P2_1/c      GGA       -6.735  -0.279    0.058    \n",
      "mp-12105-R2SCANRbO2        I4/mmm      R2SCAN    -4.598  4.944     0.000    \n",
      "mp-1219565-GGARbO2        P4/mmm      GGA       -3.594  -0.458    1.004    \n",
      "mp-33234-GGARbO2        I4_1/amd    GGA       -3.563  -0.458    1.035    \n",
      "mp-1806-GGA RbO3        P2_1/c      GGA       -4.603  0.000     0.084    \n"
     ]
    },
    {
     "data": {
      "application/vnd.jupyter.widget-view+json": {
       "model_id": "2c84d06178bd427fb04c51d7b21477bd",
       "version_major": 2,
       "version_minor": 0
      },
      "text/plain": [
       "Retrieving ThermoDoc documents:   0%|          | 0/192 [00:00<?, ?it/s]"
      ]
     },
     "metadata": {},
     "output_type": "display_data"
    },
    {
     "name": "stdout",
     "output_type": "stream",
     "text": [
      "Processing 150 GGA(+U) and 42 R2SCAN entries...\n",
      "  Processed 150 compatible GGA(+U) entries with MaterialsProject2020Compatibility\n",
      "  Entries belong to the {'O', 'C', 'Sr'} chemical system\n",
      "  Generating mixing state data from provided entries.\n"
     ]
    },
    {
     "name": "stderr",
     "output_type": "stream",
     "text": [
      "Failed to guess oxidation states for Entry mp-1179128-GGA (SrO6). Assigning anion correction to only the most electronegative atom.\n",
      "Failed to guess oxidation states for Entry mp-1179143-GGA (SrO6). Assigning anion correction to only the most electronegative atom.\n",
      "Failed to guess oxidation states for Entry mp-1179197-GGA (SrO10). Assigning anion correction to only the most electronegative atom.\n",
      "Failed to guess oxidation states for Entry mp-1179215-GGA (SrO10). Assigning anion correction to only the most electronegative atom.\n",
      "Failed to guess oxidation states for Entry mp-1179224-GGA (SrO10). Assigning anion correction to only the most electronegative atom.\n",
      "Failed to guess oxidation states for Entry mp-1179236-GGA (SrO10). Assigning anion correction to only the most electronegative atom.\n",
      "Failed to guess oxidation states for Entry mp-1187089-GGA (Sr2O3). Assigning anion correction to only the most electronegative atom.\n",
      "Failed to guess oxidation states for Entry mp-1201811-GGA (SrO10). Assigning anion correction to only the most electronegative atom.\n",
      "Failed to guess oxidation states for Entry mp-1206311-GGA (SrO3). Assigning anion correction to only the most electronegative atom.\n",
      "Failed to guess oxidation states for Entry mp-1208655-GGA (SrO10). Assigning anion correction to only the most electronegative atom.\n",
      "Failed to guess oxidation states for Entry mp-1208665-GGA (SrO4). Assigning anion correction to only the most electronegative atom.\n",
      "Failed to guess oxidation states for Entry mp-1197923-GGA (C61O2). Assigning anion correction to only the most electronegative atom.\n"
     ]
    },
    {
     "name": "stdout",
     "output_type": "stream",
     "text": [
      "  Entries contain R2SCAN calculations for 7 of 8 GGA(+U) hull entries.\n",
      "  R2SCAN energies will be adjusted to the GGA(+U) scale\n",
      "  The energy above hull for R2SCAN materials at compositions with R2SCAN hull entries will be preserved. For other compositions, Energies of R2SCAN materials will be set equal to those of matching GGA(+U) materials\n",
      "  Discarding GGA entry mp-47-GGA for C4 because there is a matching R2SCAN material\n",
      "  Discarding GGA entry mp-2472-GGA for Sr1 O1 because it is a GGA(+U) ground state that matches a R2SCAN material.\n",
      "  Discarding GGA entry mp-644607-GGA for C2 O4 because there is a matching R2SCAN material\n",
      "  Discarding GGA entry mp-3822-GGA for Sr4 C4 O12 because it is a GGA(+U) ground state that matches a R2SCAN material.\n",
      "  Discarding GGA entry mp-990448-GGA for C2 because there is a matching R2SCAN material\n",
      "  Discarding GGA entry mp-754824-GGA for Sr2 O2 because there is a matching R2SCAN material\n",
      "  Discarding GGA entry mp-611448-GGA for C12 because there is a matching R2SCAN material\n",
      "  Discarding GGA entry mp-606949-GGA for C12 because there is a matching R2SCAN material\n",
      "  Discarding GGA entry mp-569416-GGA for C8 because there is a matching R2SCAN material\n",
      "  Discarding GGA entry mp-1190699-GGA for C8 O16 because there is a matching R2SCAN material\n",
      "  Discarding GGA entry mp-1077906-GGA for C2 O4 because there is a matching R2SCAN material\n",
      "  Discarding GGA entry mp-569304-GGA for C4 because there is a matching R2SCAN material\n",
      "  Discarding GGA entry mp-10497-GGA for Sr2 C4 because there is a matching R2SCAN material\n",
      "  Discarding GGA entry mp-569567-GGA for C14 because there is a matching R2SCAN material\n",
      "  Discarding GGA entry mp-616440-GGA for C16 because there is a matching R2SCAN material\n",
      "  Discarding GGA entry mp-76-GGA for Sr1 because there is a matching R2SCAN material\n",
      "  Discarding GGA entry mp-556034-GGA for C4 O8 because there is a matching R2SCAN material\n",
      "  Discarding GGA entry mp-169-GGA for C2 because there is a matching R2SCAN material\n",
      "  Discarding GGA entry mp-567826-GGA for Sr4 because there is a matching R2SCAN material\n",
      "  Discarding GGA entry mp-95-GGA for Sr1 because there is a matching R2SCAN material\n",
      "  Discarding GGA entry mp-1208630-GGA for Sr2 C12 because it is a GGA(+U) ground state that matches a R2SCAN material.\n",
      "  Discarding GGA entry mp-1066100-GGA for O4 because there is a matching R2SCAN material\n",
      "  Discarding GGA entry mp-20066-GGA for C4 O8 because it is a GGA(+U) ground state that matches a R2SCAN material.\n",
      "  Discarding GGA entry mp-611426-GGA for C8 because there is a matching R2SCAN material\n",
      "  Discarding GGA entry mp-1187073-GGA for Sr3 because it is a GGA(+U) ground state that matches a R2SCAN material.\n",
      "  Discarding GGA entry mp-610917-GGA for O2 because there is a matching R2SCAN material\n",
      "  Discarding GGA entry mp-867202-GGA for Sr4 because there is a matching R2SCAN material\n",
      "  Discarding GGA entry mp-990424-GGA for C4 because there is a matching R2SCAN material\n",
      "  Discarding GGA entry mp-11725-GGA for C2 O4 because there is a matching R2SCAN material\n",
      "  Discarding GGA entry mp-1009490-GGA for O2 because there is a matching R2SCAN material\n",
      "  Discarding GGA entry mp-997182-GGA for C4 because there is a matching R2SCAN material\n",
      "  Discarding GGA entry mp-2630-GGA for Sr1 C2 because there is a matching R2SCAN material\n",
      "  Discarding GGA entry mp-754282-GGA for Sr2 O2 because there is a matching R2SCAN material\n",
      "  Discarding GGA entry mp-66-GGA for C2 because there is a matching R2SCAN material\n",
      "  Discarding GGA entry mp-569517-GGA for C10 because there is a matching R2SCAN material\n",
      "  Discarding GGA entry mp-723285-GGA for O8 because it is a GGA(+U) ground state that matches a R2SCAN material.\n",
      "  Discarding GGA entry mp-2697-GGA for Sr1 O2 because it is a GGA(+U) ground state that matches a R2SCAN material.\n",
      "  Discarding GGA entry mp-48-GGA for C4 because there is a matching R2SCAN material\n",
      "  Discarding GGA entry mp-139-GGA for Sr2 because there is a matching R2SCAN material\n"
     ]
    },
    {
     "name": "stderr",
     "output_type": "stream",
     "text": [
      "WARNING! Discarding GGA entry mp-1065697-GGA for O1 because it was not found in the mixing state data. This can occur when there are duplicate structures. In such cases, only the lowest energy entry with that structure appears in the mixing state data.\n",
      "WARNING! Discarding GGA entry mp-611836-GGA for O2 because it was not found in the mixing state data. This can occur when there are duplicate structures. In such cases, only the lowest energy entry with that structure appears in the mixing state data.\n",
      "WARNING! Discarding GGA entry mp-1023923-GGA for O6 because it was not found in the mixing state data. This can occur when there are duplicate structures. In such cases, only the lowest energy entry with that structure appears in the mixing state data.\n",
      "WARNING! Discarding GGA entry mp-1180050-GGA for O8 because it was not found in the mixing state data. This can occur when there are duplicate structures. In such cases, only the lowest energy entry with that structure appears in the mixing state data.\n",
      "WARNING! Discarding GGA entry mp-1102442-GGA for O12 because it was not found in the mixing state data. This can occur when there are duplicate structures. In such cases, only the lowest energy entry with that structure appears in the mixing state data.\n"
     ]
    },
    {
     "name": "stdout",
     "output_type": "stream",
     "text": [
      "  Discarding R2SCAN entry mp-568806-R2SCAN for C8 because there is no matching GGA(+U) entry and no R2SCAN ground state at this composition.\n",
      "  Discarding R2SCAN entry mp-937760-R2SCAN for C4 because there is no matching GGA(+U) entry and no R2SCAN ground state at this composition.\n",
      "\n",
      "Processing complete. Mixed entries contain 106 GGA(+U) and 39 R2SCAN entries.\n",
      "\n",
      "entry_id    formula     spacegroup  run_type  eV/atom corr/atom e_above_hull\n",
      "mp-2516584-GGAC           R-3m        GGA       -9.229  0.000     0.000    \n",
      "mp-569304-R2SCANC           R-3m        R2SCAN    -9.227  0.711     0.002    \n",
      "mp-169-R2SCANC           C2/m        R2SCAN    -9.225  0.721     0.003    \n",
      "mp-937760-GGAC           Fmmm        GGA       -9.223  0.000     0.006    \n",
      "mp-568286-GGAC           Cmme        GGA       -9.220  0.000     0.008    \n",
      "mp-568363-GGAC           Cmme        GGA       -9.220  0.000     0.008    \n",
      "mp-48-R2SCANC           P6_3/mmc    R2SCAN    -9.220  0.724     0.008    \n",
      "mp-990448-R2SCANC           P6/mmm      R2SCAN    -9.220  0.715     0.009    \n",
      "mp-1040425-GGAC           P6/mmm      GGA       -9.219  0.000     0.009    \n",
      "mp-997182-R2SCANC           P6_3/mmc    R2SCAN    -9.219  0.714     0.010    \n",
      "mp-990424-R2SCANC           P-3m1       R2SCAN    -9.219  0.719     0.010    \n",
      "mp-606949-R2SCANC           P6_3mc      R2SCAN    -9.218  0.723     0.010    \n",
      "mp-568806-GGAC           P6/mmm      GGA       -9.217  0.000     0.012    \n",
      "mp-632329-GGAC           C2/m        GGA       -9.215  0.000     0.014    \n",
      "mp-569416-R2SCANC           R-3m        R2SCAN    -9.198  0.747     0.030    \n",
      "mp-1096869-GGAC           Cm          GGA       -9.111  0.000     0.118    \n",
      "mp-66-R2SCANC           Fd-3m       R2SCAN    -9.090  0.745     0.138    \n",
      "mp-616440-R2SCANC           P6_3/mmc    R2SCAN    -9.086  0.744     0.143    \n",
      "mp-611448-R2SCANC           P6_3/mmc    R2SCAN    -9.084  0.744     0.144    \n",
      "mp-569567-R2SCANC           R-3m        R2SCAN    -9.082  0.747     0.146    \n",
      "mp-569517-R2SCANC           R-3m        R2SCAN    -9.082  0.745     0.147    \n",
      "mp-611426-R2SCANC           P6_3/mmc    R2SCAN    -9.081  0.744     0.148    \n",
      "mp-47-R2SCANC           P6_3/mmc    R2SCAN    -9.065  0.742     0.163    \n",
      "mp-2647017-GGAC           P2_1/m      GGA       -9.051  0.000     0.178    \n",
      "mp-1078845-GGAC           Cmmm        GGA       -8.961  0.000     0.268    \n",
      "mp-1190171-GGAC           Pnma        GGA       -8.936  0.000     0.293    \n",
      "mp-1080826-GGAC           C2/m        GGA       -8.928  0.000     0.301    \n",
      "mp-1008395-GGAC           I4/mmm      GGA       -8.894  0.000     0.335    \n",
      "mp-683919-GGAC           Cmcm        GGA       -8.878  0.000     0.350    \n",
      "mp-1196583-GGAC           Pa-3        GGA       -8.844  0.000     0.385    \n",
      "mp-1147718-GGAC           Pnnm        GGA       -8.840  0.000     0.389    \n",
      "mp-667273-GGAC           Fm-3        GGA       -8.838  0.000     0.391    \n",
      "mp-630227-GGAC           Immm        GGA       -8.833  0.000     0.396    \n",
      "mp-680372-GGAC           R-3m        GGA       -8.820  0.000     0.409    \n",
      "mp-1008374-GGAC           Cmmm        GGA       -8.790  0.000     0.438    \n",
      "mp-568410-GGAC           Cmmm        GGA       -8.720  0.000     0.509    \n",
      "mp-568028-GGAC           Pnnm        GGA       -8.698  0.000     0.531    \n",
      "mp-2646980-GGAC           Pmmm        GGA       -8.586  0.000     0.643    \n",
      "mp-1205283-GGAC           Pnnm        GGA       -8.529  0.000     0.699    \n",
      "mp-1188817-GGAC           Pm-3m       GGA       -8.463  0.000     0.765    \n",
      "mp-570002-GGAC           Im-3m       GGA       -8.463  0.000     0.766    \n",
      "mp-24-GGA   C           Ia-3        GGA       -8.394  0.000     0.835    \n",
      "mp-1244964-GGAC           P1          GGA       -8.294  0.000     0.935    \n",
      "mp-579909-GGAC           Cmmm        GGA       -8.284  0.000     0.945    \n",
      "mp-1244913-GGAC           P1          GGA       -8.234  0.000     0.994    \n",
      "mp-1095633-GGAC           I4/mmm      GGA       -8.230  0.000     0.999    \n",
      "mp-1182029-GGAC           P2/m        GGA       -8.226  0.000     1.002    \n",
      "mp-1245190-GGAC           P1          GGA       -8.214  0.000     1.015    \n",
      "mp-723638-GGAC           P2_1/c      GGA       -8.187  0.000     1.041    \n",
      "mp-1095534-GGAC           I4/mmm      GGA       -8.105  0.000     1.123    \n",
      "mp-1205417-GGAC           I4/mmm      GGA       -8.060  0.000     1.169    \n",
      "mp-624889-GGAC           Cmme        GGA       -7.973  0.000     1.256    \n",
      "mp-1018088-GGAC           I4_132      GGA       -7.923  0.000     1.306    \n",
      "mp-1197903-GGAC           P1          GGA       -7.818  0.000     1.410    \n",
      "mp-731594-GGAC           P2_1        GGA       -7.728  0.000     1.501    \n",
      "mp-1182684-GGAC           P2_12_12_1  GGA       -7.699  0.000     1.530    \n",
      "mp-1196857-GGAC           Pnma        GGA       -7.628  0.000     1.601    \n",
      "mp-1192619-GGAC           I-43m       GGA       -7.308  0.000     1.920    \n",
      "mp-1097832-GGAC           Cmcm        GGA       -6.621  0.000     2.608    \n",
      "mp-1056957-GGAC           Cmcm        GGA       -6.610  0.000     2.618    \n",
      "mp-1181996-GGAC           I4/mmm      GGA       -6.592  0.000     2.637    \n",
      "mp-998866-GGAC           Pm-3m       GGA       -6.472  0.000     2.757    \n",
      "mp-561848-GGAC3O2        Pnma        GGA       -8.069  -0.275    0.509    \n",
      "mp-1001594-GGAC4O3        R3          GGA       -8.295  -0.294    0.237    \n",
      "mp-1001608-GGAC4O3        P1          GGA       -6.646  -0.294    1.886    \n",
      "mp-1197923-GGAC61O2       P2_1/c      GGA       -8.810  -0.022    0.367    \n",
      "mp-995183-GGACO          Pnma        GGA       -7.867  -0.344    0.549    \n",
      "mp-11875-GGACO          P2_13       GGA       -7.754  -0.344    0.661    \n",
      "mp-729933-GGACO          P2_12_12_1  GGA       -7.746  -0.344    0.669    \n",
      "mp-556660-GGACO          R3c         GGA       -7.739  -0.344    0.677    \n",
      "mp-20066-R2SCANCO2         Pa-3        R2SCAN    -8.144  0.452     0.000    \n",
      "mp-644607-R2SCANCO2         P4_2/mnm    R2SCAN    -8.139  0.452     0.005    \n",
      "mp-1077906-R2SCANCO2         Cmce        R2SCAN    -8.137  0.452     0.007    \n",
      "mp-1190699-R2SCANCO2         R-3c        R2SCAN    -8.137  0.452     0.007    \n",
      "mp-11725-R2SCANCO2         P4_2/mnm    R2SCAN    -8.135  0.452     0.009    \n",
      "mp-556034-R2SCANCO2         Pbcn        R2SCAN    -8.134  0.452     0.011    \n",
      "mp-1102227-GGACO2         P4_12_12    GGA       -8.128  -0.458    0.017    \n",
      "mp-729728-GGACO2         Pna2_1      GGA       -8.126  -0.458    0.018    \n",
      "mp-995224-GGACO2         I4_1/a      GGA       -7.847  -0.458    0.297    \n"
     ]
    },
    {
     "name": "stderr",
     "output_type": "stream",
     "text": [
      "WARNING! Discarding R2SCAN entry mp-1009490-R2SCAN for O2 because it was not found in the mixing state data. This can occur when there are duplicate structures. In such cases, only the lowest energy entry with that structure appears in the mixing state data.\n"
     ]
    },
    {
     "name": "stdout",
     "output_type": "stream",
     "text": [
      "mp-995198-GGACO2         P2_1/c      GGA       -7.826  -0.458    0.319    \n",
      "mp-1077316-GGACO2         I-42d       GGA       -7.695  -0.458    0.450    \n",
      "mp-1190685-GGACO2         P2_12_12_1  GGA       -7.634  -0.458    0.511    \n",
      "mp-995196-GGACO3         P4/mmm      GGA       -4.271  -0.515    3.075    \n",
      "mp-611836-R2SCANO2          C2/m        R2SCAN    -4.952  1.008     0.000    \n",
      "mp-610917-R2SCANO2          R-3m        R2SCAN    -4.947  1.008     0.005    \n",
      "mp-723285-R2SCANO2          P4_12_12    R2SCAN    -4.947  1.008     0.006    \n",
      "mp-1087546-GGAO2          C2/c        GGA       -4.930  0.000     0.022    \n",
      "mp-1180036-GGAO2          P2/c        GGA       -4.918  0.000     0.034    \n",
      "mp-607540-GGAO2          Fmmm        GGA       -4.827  0.000     0.125    \n",
      "mp-1066100-R2SCANO2          P6_3/mmc    R2SCAN    -4.684  1.008     0.269    \n",
      "mp-1180064-GGAO2          P1          GGA       -4.561  0.000     0.391    \n",
      "mp-560602-GGAO2          Pbca        GGA       -4.537  0.000     0.416    \n",
      "mp-1180008-GGAO2          P1          GGA       -4.528  0.000     0.424    \n",
      "mp-734188-GGAO2          P4_1        GGA       -4.513  0.000     0.439    \n",
      "mp-2421172-GGAO2          R3c         GGA       -4.032  0.000     0.921    \n",
      "mp-1056831-GGAO2          P2/m        GGA       -3.637  0.000     1.315    \n",
      "mp-1056059-GGAO2          P4/mmm      GGA       -3.390  0.000     1.562    \n",
      "mp-1058623-GGAO2          Cmcm        GGA       -3.377  0.000     1.575    \n",
      "mp-1057818-GGAO2          Fd-3m       GGA       -3.067  0.000     1.885    \n",
      "mp-139-R2SCANSr          P6_3/mmc    R2SCAN    -1.692  13.453    0.000    \n",
      "mp-1187073-R2SCANSr          C2/m        R2SCAN    -1.689  13.453    0.003    \n",
      "mp-867202-R2SCANSr          P6_3/mmc    R2SCAN    -1.665  13.453    0.027    \n",
      "mp-76-R2SCANSr          Fm-3m       R2SCAN    -1.648  13.453    0.045    \n",
      "mp-95-R2SCANSr          Im-3m       R2SCAN    -1.631  13.453    0.061    \n",
      "mp-567826-R2SCANSr          I4/mcm      R2SCAN    -1.511  13.453    0.182    \n",
      "mp-19858-GGASr          P6/mmm      GGA       -1.453  0.000     0.239    \n",
      "mp-10617-GGASr          I4_1/amd    GGA       -1.431  0.000     0.262    \n",
      "mp-639774-GGASr          Pm-3m       GGA       -1.292  0.000     0.400    \n",
      "mp-1179325-GGASr          P4/mmm      GGA       -1.290  0.000     0.403    \n",
      "mp-1056418-GGASr          P6/mmm      GGA       -0.290  0.000     1.403    \n",
      "mp-1179359-GGASr(CO2)2    P2_12_12_1  GGA       -7.854  -0.393    0.159    \n",
      "mp-1194216-GGASr(CO2)2    P2_12_12_1  GGA       -7.472  -0.393    0.541    \n",
      "mp-1193254-GGASr(CO2)2    P2_12_12_1  GGA       -7.464  -0.393    0.549    \n",
      "mp-1202303-GGASr(CO2)3    P2_1/c      GGA       -7.835  -0.412    0.218    \n",
      "mp-1187089-GGASr2O3       Pm-3m       GGA       -5.594  -0.412    0.605    \n",
      "mp-1208639-GGASrC         Fm-3m       GGA       -4.189  0.000     1.296    \n",
      "mp-17674-GGASrC10       Im-3        GGA       -8.335  0.000     0.235    \n",
      "mp-10497-R2SCANSrC2        C2/c        R2SCAN    -6.695  5.112     0.054    \n",
      "mp-2630-R2SCANSrC2        I4/mmm      R2SCAN    -6.687  5.117     0.062    \n",
      "mp-1008776-GGASrC2        R-3m        GGA       -6.547  0.000     0.202    \n",
      "mp-1218401-GGASrC2        R-3m        GGA       -4.094  0.000     2.655    \n",
      "mp-28905-GGASrC20       Pm-3        GGA       -8.600  0.000     0.284    \n",
      "mp-1208667-GGASrC2O5      C2/m        GGA       -7.344  -0.429    0.618    \n",
      "mp-1201853-GGASrC3O7      P2_1/c      GGA       -7.652  -0.437    0.360    \n",
      "mp-1208630-R2SCANSrC6        P6_3/mmc    R2SCAN    -8.194  2.573     0.000    \n",
      "mp-3822-R2SCANSrCO3       Pnma        R2SCAN    -7.852  3.189     0.000    \n",
      "mp-38035-GGASrCO3       R-3c        GGA       -7.829  -0.412    0.023    \n",
      "mp-1218370-GGASrCO3       R32         GGA       -7.821  -0.412    0.032    \n",
      "mp-33746-GGASrCO3       C2/m        GGA       -7.816  -0.412    0.036    \n",
      "mp-2472-R2SCANSrO         Fm-3m       R2SCAN    -6.396  7.135     0.000    \n",
      "mp-754824-R2SCANSrO         P6_3mc      R2SCAN    -6.308  7.135     0.088    \n",
      "mp-754282-R2SCANSrO         P6_3/mmc    R2SCAN    -6.303  7.135     0.093    \n",
      "mp-1009819-GGASrO         Pm-3m       GGA       -5.980  -0.344    0.415    \n",
      "mp-1179224-GGASrO10       P4/mcc      GGA       -5.190  -0.146    0.066    \n",
      "mp-1179236-GGASrO10       P4/mcc      GGA       -5.188  -0.146    0.069    \n",
      "mp-1179197-GGASrO10       P4/mmm      GGA       -5.153  -0.146    0.104    \n",
      "mp-1179215-GGASrO10       P4/ncc      GGA       -4.783  -0.146    0.473    \n",
      "mp-1201811-GGASrO10       P4/ncc      GGA       -4.779  -0.146    0.477    \n",
      "mp-1208655-GGASrO10       P4/mmm      GGA       -4.560  -0.423    0.696    \n",
      "mp-2697-R2SCANSrO2        I4/mmm      R2SCAN    -6.067  5.054     0.000    \n",
      "mp-726705-GGASrO2        Pnma        GGA       -6.058  -0.310    0.010    \n",
      "mp-1206311-GGASrO3        Pmc2_1      GGA       -5.427  -0.121    0.361    \n",
      "mp-1208665-GGASrO4        P4/mmm      GGA       -4.736  -0.129    0.885    \n",
      "mp-1179143-GGASrO6        C2/c        GGA       -5.351  -0.138    0.079    \n",
      "mp-1179128-GGASrO6        C2/c        GGA       -5.338  -0.138    0.092    \n"
     ]
    },
    {
     "data": {
      "application/vnd.jupyter.widget-view+json": {
       "model_id": "1b53e3c8c5454c00b34f3c26b8b9b0d4",
       "version_major": 2,
       "version_minor": 0
      },
      "text/plain": [
       "Retrieving ThermoDoc documents:   0%|          | 0/172 [00:00<?, ?it/s]"
      ]
     },
     "metadata": {},
     "output_type": "display_data"
    },
    {
     "name": "stdout",
     "output_type": "stream",
     "text": [
      "Processing 138 GGA(+U) and 34 R2SCAN entries...\n",
      "  Processed 138 compatible GGA(+U) entries with MaterialsProject2020Compatibility\n",
      "  Entries belong to the {'O', 'Zn', 'C'} chemical system\n",
      "  Generating mixing state data from provided entries.\n"
     ]
    },
    {
     "name": "stderr",
     "output_type": "stream",
     "text": [
      "Failed to guess oxidation states for Entry mp-971857-GGA (Zn3C). Assigning anion correction to only the most electronegative atom.\n",
      "Failed to guess oxidation states for Entry mp-981336-GGA (Zn3C). Assigning anion correction to only the most electronegative atom.\n",
      "Failed to guess oxidation states for Entry mp-1197923-GGA (C61O2). Assigning anion correction to only the most electronegative atom.\n"
     ]
    },
    {
     "name": "stdout",
     "output_type": "stream",
     "text": [
      "  Entries contain R2SCAN calculations for 5 of 6 GGA(+U) hull entries.\n",
      "  R2SCAN energies will be adjusted to the GGA(+U) scale\n",
      "  The energy above hull for R2SCAN materials at compositions with R2SCAN hull entries will be preserved. For other compositions, Energies of R2SCAN materials will be set equal to those of matching GGA(+U) materials\n",
      "  Discarding GGA entry mp-47-GGA for C4 because there is a matching R2SCAN material\n",
      "  Discarding GGA entry mp-2133-GGA for Zn2 O2 because it is a GGA(+U) ground state that matches a R2SCAN material.\n",
      "  Discarding GGA entry mp-644607-GGA for C2 O4 because there is a matching R2SCAN material\n",
      "  Discarding GGA entry mp-990448-GGA for C2 because there is a matching R2SCAN material\n",
      "  Discarding GGA entry mp-1986-GGA for Zn1 O1 because there is a matching R2SCAN material\n",
      "  Discarding GGA entry mp-611448-GGA for C12 because there is a matching R2SCAN material\n",
      "  Discarding GGA entry mp-606949-GGA for C12 because there is a matching R2SCAN material\n",
      "  Discarding GGA entry mp-569416-GGA for C8 because there is a matching R2SCAN material\n",
      "  Discarding GGA entry mp-1190699-GGA for C8 O16 because there is a matching R2SCAN material\n",
      "  Discarding GGA entry mp-1077906-GGA for C2 O4 because there is a matching R2SCAN material\n",
      "  Discarding GGA entry mp-569304-GGA for C4 because there is a matching R2SCAN material\n",
      "  Discarding GGA entry mp-1093993-GGA for Zn4 O4 because there is a matching R2SCAN material\n",
      "  Discarding GGA entry mp-569567-GGA for C14 because there is a matching R2SCAN material\n",
      "  Discarding GGA entry mp-616440-GGA for C16 because there is a matching R2SCAN material\n",
      "  Discarding GGA entry mp-556034-GGA for C4 O8 because there is a matching R2SCAN material\n",
      "  Discarding GGA entry mp-169-GGA for C2 because there is a matching R2SCAN material\n",
      "  Discarding GGA entry mp-79-GGA for Zn2 because it is a GGA(+U) ground state that matches a R2SCAN material.\n",
      "  Discarding GGA entry mp-1066100-GGA for O4 because there is a matching R2SCAN material\n",
      "  Discarding GGA entry mp-20066-GGA for C4 O8 because it is a GGA(+U) ground state that matches a R2SCAN material.\n",
      "  Discarding GGA entry mp-611426-GGA for C8 because there is a matching R2SCAN material\n",
      "  Discarding GGA entry mp-9812-GGA for Zn2 C2 O6 because it is a GGA(+U) ground state that matches a R2SCAN material.\n",
      "  Discarding GGA entry mp-610917-GGA for O2 because there is a matching R2SCAN material\n",
      "  Discarding GGA entry mp-990424-GGA for C4 because there is a matching R2SCAN material\n",
      "  Discarding GGA entry mp-11725-GGA for C2 O4 because there is a matching R2SCAN material\n",
      "  Discarding GGA entry mp-1009490-GGA for O2 because there is a matching R2SCAN material\n",
      "  Discarding GGA entry mp-997182-GGA for C4 because there is a matching R2SCAN material\n",
      "  Discarding GGA entry mp-66-GGA for C2 because there is a matching R2SCAN material\n",
      "  Discarding GGA entry mp-569517-GGA for C10 because there is a matching R2SCAN material\n",
      "  Discarding GGA entry mp-723285-GGA for O8 because it is a GGA(+U) ground state that matches a R2SCAN material.\n",
      "  Discarding GGA entry mp-48-GGA for C4 because there is a matching R2SCAN material\n",
      "  Discarding GGA entry mp-1187812-GGA for Zn3 because there is a matching R2SCAN material\n",
      "  Discarding R2SCAN entry mp-568806-R2SCAN for C8 because there is no matching GGA(+U) entry and no R2SCAN ground state at this composition.\n"
     ]
    },
    {
     "name": "stderr",
     "output_type": "stream",
     "text": [
      "WARNING! Discarding GGA entry mp-1065697-GGA for O1 because it was not found in the mixing state data. This can occur when there are duplicate structures. In such cases, only the lowest energy entry with that structure appears in the mixing state data.\n",
      "WARNING! Discarding GGA entry mp-611836-GGA for O2 because it was not found in the mixing state data. This can occur when there are duplicate structures. In such cases, only the lowest energy entry with that structure appears in the mixing state data.\n",
      "WARNING! Discarding GGA entry mp-1023923-GGA for O6 because it was not found in the mixing state data. This can occur when there are duplicate structures. In such cases, only the lowest energy entry with that structure appears in the mixing state data.\n",
      "WARNING! Discarding GGA entry mp-1180050-GGA for O8 because it was not found in the mixing state data. This can occur when there are duplicate structures. In such cases, only the lowest energy entry with that structure appears in the mixing state data.\n",
      "WARNING! Discarding GGA entry mp-1102442-GGA for O12 because it was not found in the mixing state data. This can occur when there are duplicate structures. In such cases, only the lowest energy entry with that structure appears in the mixing state data.\n",
      "WARNING! Discarding R2SCAN entry mp-1009490-R2SCAN for O2 because it was not found in the mixing state data. This can occur when there are duplicate structures. In such cases, only the lowest energy entry with that structure appears in the mixing state data.\n"
     ]
    },
    {
     "name": "stdout",
     "output_type": "stream",
     "text": [
      "  Discarding R2SCAN entry mp-937760-R2SCAN for C4 because there is no matching GGA(+U) entry and no R2SCAN ground state at this composition.\n",
      "\n",
      "Processing complete. Mixed entries contain 102 GGA(+U) and 31 R2SCAN entries.\n",
      "\n",
      "entry_id    formula     spacegroup  run_type  eV/atom corr/atom e_above_hull\n",
      "mp-2516584-GGAC           R-3m        GGA       -9.229  0.000     0.000    \n",
      "mp-569304-R2SCANC           R-3m        R2SCAN    -9.227  0.711     0.002    \n",
      "mp-169-R2SCANC           C2/m        R2SCAN    -9.225  0.721     0.003    \n",
      "mp-937760-GGAC           Fmmm        GGA       -9.223  0.000     0.006    \n",
      "mp-568286-GGAC           Cmme        GGA       -9.220  0.000     0.008    \n",
      "mp-568363-GGAC           Cmme        GGA       -9.220  0.000     0.008    \n",
      "mp-48-R2SCANC           P6_3/mmc    R2SCAN    -9.220  0.724     0.008    \n",
      "mp-990448-R2SCANC           P6/mmm      R2SCAN    -9.220  0.715     0.009    \n",
      "mp-1040425-GGAC           P6/mmm      GGA       -9.219  0.000     0.009    \n",
      "mp-997182-R2SCANC           P6_3/mmc    R2SCAN    -9.219  0.714     0.010    \n",
      "mp-990424-R2SCANC           P-3m1       R2SCAN    -9.219  0.719     0.010    \n",
      "mp-606949-R2SCANC           P6_3mc      R2SCAN    -9.218  0.723     0.010    \n",
      "mp-568806-GGAC           P6/mmm      GGA       -9.217  0.000     0.012    \n",
      "mp-632329-GGAC           C2/m        GGA       -9.215  0.000     0.014    \n",
      "mp-569416-R2SCANC           R-3m        R2SCAN    -9.198  0.747     0.030    \n",
      "mp-1096869-GGAC           Cm          GGA       -9.111  0.000     0.118    \n",
      "mp-66-R2SCANC           Fd-3m       R2SCAN    -9.090  0.745     0.138    \n",
      "mp-616440-R2SCANC           P6_3/mmc    R2SCAN    -9.086  0.744     0.143    \n",
      "mp-611448-R2SCANC           P6_3/mmc    R2SCAN    -9.084  0.744     0.144    \n",
      "mp-569567-R2SCANC           R-3m        R2SCAN    -9.082  0.747     0.146    \n",
      "mp-569517-R2SCANC           R-3m        R2SCAN    -9.082  0.745     0.147    \n",
      "mp-611426-R2SCANC           P6_3/mmc    R2SCAN    -9.081  0.744     0.148    \n",
      "mp-47-R2SCANC           P6_3/mmc    R2SCAN    -9.065  0.742     0.163    \n",
      "mp-2647017-GGAC           P2_1/m      GGA       -9.051  0.000     0.178    \n",
      "mp-1078845-GGAC           Cmmm        GGA       -8.961  0.000     0.268    \n",
      "mp-1190171-GGAC           Pnma        GGA       -8.936  0.000     0.293    \n",
      "mp-1080826-GGAC           C2/m        GGA       -8.928  0.000     0.301    \n",
      "mp-1008395-GGAC           I4/mmm      GGA       -8.894  0.000     0.335    \n",
      "mp-683919-GGAC           Cmcm        GGA       -8.878  0.000     0.350    \n",
      "mp-1196583-GGAC           Pa-3        GGA       -8.844  0.000     0.385    \n",
      "mp-1147718-GGAC           Pnnm        GGA       -8.840  0.000     0.389    \n",
      "mp-667273-GGAC           Fm-3        GGA       -8.838  0.000     0.391    \n",
      "mp-630227-GGAC           Immm        GGA       -8.833  0.000     0.396    \n",
      "mp-680372-GGAC           R-3m        GGA       -8.820  0.000     0.409    \n",
      "mp-1008374-GGAC           Cmmm        GGA       -8.790  0.000     0.438    \n",
      "mp-568410-GGAC           Cmmm        GGA       -8.720  0.000     0.509    \n",
      "mp-568028-GGAC           Pnnm        GGA       -8.698  0.000     0.531    \n",
      "mp-2646980-GGAC           Pmmm        GGA       -8.586  0.000     0.643    \n",
      "mp-1205283-GGAC           Pnnm        GGA       -8.529  0.000     0.699    \n",
      "mp-1188817-GGAC           Pm-3m       GGA       -8.463  0.000     0.765    \n",
      "mp-570002-GGAC           Im-3m       GGA       -8.463  0.000     0.766    \n",
      "mp-24-GGA   C           Ia-3        GGA       -8.394  0.000     0.835    \n",
      "mp-1244964-GGAC           P1          GGA       -8.294  0.000     0.935    \n",
      "mp-579909-GGAC           Cmmm        GGA       -8.284  0.000     0.945    \n",
      "mp-1244913-GGAC           P1          GGA       -8.234  0.000     0.994    \n",
      "mp-1095633-GGAC           I4/mmm      GGA       -8.230  0.000     0.999    \n",
      "mp-1182029-GGAC           P2/m        GGA       -8.226  0.000     1.002    \n",
      "mp-1245190-GGAC           P1          GGA       -8.214  0.000     1.015    \n",
      "mp-723638-GGAC           P2_1/c      GGA       -8.187  0.000     1.041    \n",
      "mp-1095534-GGAC           I4/mmm      GGA       -8.105  0.000     1.123    \n",
      "mp-1205417-GGAC           I4/mmm      GGA       -8.060  0.000     1.169    \n",
      "mp-624889-GGAC           Cmme        GGA       -7.973  0.000     1.256    \n",
      "mp-1018088-GGAC           I4_132      GGA       -7.923  0.000     1.306    \n",
      "mp-1197903-GGAC           P1          GGA       -7.818  0.000     1.410    \n",
      "mp-731594-GGAC           P2_1        GGA       -7.728  0.000     1.501    \n",
      "mp-1182684-GGAC           P2_12_12_1  GGA       -7.699  0.000     1.530    \n",
      "mp-1196857-GGAC           Pnma        GGA       -7.628  0.000     1.601    \n",
      "mp-1192619-GGAC           I-43m       GGA       -7.308  0.000     1.920    \n",
      "mp-1097832-GGAC           Cmcm        GGA       -6.621  0.000     2.608    \n",
      "mp-1056957-GGAC           Cmcm        GGA       -6.610  0.000     2.618    \n",
      "mp-1181996-GGAC           I4/mmm      GGA       -6.592  0.000     2.637    \n",
      "mp-998866-GGAC           Pm-3m       GGA       -6.472  0.000     2.757    \n",
      "mp-561848-GGAC3O2        Pnma        GGA       -8.069  -0.275    0.509    \n",
      "mp-1001594-GGAC4O3        R3          GGA       -8.295  -0.294    0.237    \n",
      "mp-1001608-GGAC4O3        P1          GGA       -6.646  -0.294    1.886    \n",
      "mp-1197923-GGAC61O2       P2_1/c      GGA       -8.810  -0.022    0.367    \n",
      "mp-995183-GGACO          Pnma        GGA       -7.867  -0.344    0.549    \n",
      "mp-11875-GGACO          P2_13       GGA       -7.754  -0.344    0.661    \n",
      "mp-729933-GGACO          P2_12_12_1  GGA       -7.746  -0.344    0.669    \n",
      "mp-556660-GGACO          R3c         GGA       -7.739  -0.344    0.677    \n",
      "mp-20066-R2SCANCO2         Pa-3        R2SCAN    -8.144  0.452     0.000    \n",
      "mp-644607-R2SCANCO2         P4_2/mnm    R2SCAN    -8.139  0.452     0.005    \n",
      "mp-1077906-R2SCANCO2         Cmce        R2SCAN    -8.137  0.452     0.007    \n",
      "mp-1190699-R2SCANCO2         R-3c        R2SCAN    -8.137  0.452     0.007    \n",
      "mp-11725-R2SCANCO2         P4_2/mnm    R2SCAN    -8.135  0.452     0.009    \n",
      "mp-556034-R2SCANCO2         Pbcn        R2SCAN    -8.134  0.452     0.011    \n",
      "mp-1102227-GGACO2         P4_12_12    GGA       -8.128  -0.458    0.017    \n",
      "mp-729728-GGACO2         Pna2_1      GGA       -8.126  -0.458    0.018    \n",
      "mp-995224-GGACO2         I4_1/a      GGA       -7.847  -0.458    0.297    \n",
      "mp-995198-GGACO2         P2_1/c      GGA       -7.826  -0.458    0.319    \n",
      "mp-1077316-GGACO2         I-42d       GGA       -7.695  -0.458    0.450    \n",
      "mp-1190685-GGACO2         P2_12_12_1  GGA       -7.634  -0.458    0.511    \n",
      "mp-995196-GGACO3         P4/mmm      GGA       -4.271  -0.515    3.075    \n",
      "mp-611836-R2SCANO2          C2/m        R2SCAN    -4.952  1.008     0.000    \n",
      "mp-610917-R2SCANO2          R-3m        R2SCAN    -4.947  1.008     0.005    \n",
      "mp-723285-R2SCANO2          P4_12_12    R2SCAN    -4.947  1.008     0.006    \n",
      "mp-1087546-GGAO2          C2/c        GGA       -4.930  0.000     0.022    \n",
      "mp-1180036-GGAO2          P2/c        GGA       -4.918  0.000     0.034    \n",
      "mp-607540-GGAO2          Fmmm        GGA       -4.827  0.000     0.125    \n",
      "mp-1066100-R2SCANO2          P6_3/mmc    R2SCAN    -4.684  1.008     0.269    \n",
      "mp-1180064-GGAO2          P1          GGA       -4.561  0.000     0.391    \n",
      "mp-560602-GGAO2          Pbca        GGA       -4.537  0.000     0.416    \n",
      "mp-1180008-GGAO2          P1          GGA       -4.528  0.000     0.424    \n",
      "mp-734188-GGAO2          P4_1        GGA       -4.513  0.000     0.439    \n",
      "mp-2421172-GGAO2          R3c         GGA       -4.032  0.000     0.921    \n",
      "mp-1056831-GGAO2          P2/m        GGA       -3.637  0.000     1.315    \n",
      "mp-1056059-GGAO2          P4/mmm      GGA       -3.390  0.000     1.562    \n",
      "mp-1058623-GGAO2          Cmcm        GGA       -3.377  0.000     1.575    \n",
      "mp-1057818-GGAO2          Fd-3m       GGA       -3.067  0.000     1.885    \n",
      "mp-79-R2SCANZn          P6_3/mmc    R2SCAN    -1.260  7.651     0.000    \n",
      "mp-2646972-GGAZn          Fm-3m       GGA       -1.255  0.000     0.005    \n",
      "mp-1187812-R2SCANZn          C2/m        R2SCAN    -1.252  7.651     0.007    \n",
      "mp-1245184-GGAZn          P1          GGA       -1.211  0.000     0.049    \n",
      "mp-1245266-GGAZn          P1          GGA       -1.207  0.000     0.052    \n",
      "mp-1245093-GGAZn          P1          GGA       -1.205  0.000     0.055    \n",
      "mp-1244987-GGAZn          P1          GGA       -1.201  0.000     0.058    \n",
      "mp-2647117-GGAZn          Im-3m       GGA       -1.188  0.000     0.072    \n",
      "mp-559437-GGAZn(CO2)2    P2_1/c      GGA       -7.266  -0.393    0.059    \n",
      "mp-1188502-GGAZn(CO3)2    C2/c        GGA       -6.335  -0.458    0.758    \n",
      "mp-971857-GGAZn3C        Pm-3m       GGA       -2.212  0.000     1.040    \n",
      "mp-981336-GGAZn3C        I4/mmm      GGA       -2.206  0.000     1.046    \n",
      "mp-1189100-GGAZn5(CO6)2   C2/m        GGA       -5.707  -0.434    0.246    \n",
      "mp-1207473-GGAZnC2        Pn-3m       GGA       -5.447  0.000     1.126    \n",
      "mp-1209101-GGAZnC5O8      Pbca        GGA       -6.630  -0.092    1.182    \n",
      "mp-9812-R2SCANZnCO3       R-3c        R2SCAN    -6.889  2.023     0.000    \n",
      "mp-2133-R2SCANZnO         P6_3mc      R2SCAN    -4.895  4.188     0.000    \n",
      "mp-1986-R2SCANZnO         F-43m       R2SCAN    -4.887  4.188     0.008    \n",
      "mp-1093993-R2SCANZnO         P4_2/mnm    R2SCAN    -4.862  4.188     0.033    \n",
      "mp-2229-GGA ZnO         Fm-3m       GGA       -4.747  -0.344    0.147    \n",
      "mp-997630-GGAZnO         P6_3/mmc    GGA       -4.722  -0.343    0.173    \n",
      "mp-2346983-GGAZnO         P6_3/mmc    GGA       -4.671  -0.344    0.224    \n",
      "mp-1245209-GGAZnO         P1          GGA       -4.650  -0.344    0.245    \n",
      "mp-1245109-GGAZnO         P1          GGA       -4.648  -0.344    0.247    \n",
      "mp-1245015-GGAZnO         P1          GGA       -4.646  -0.344    0.249    \n",
      "mp-1017539-GGAZnO         P6_3mc      GGA       -4.595  -0.344    0.300    \n",
      "mp-1245255-GGAZnO         P1          GGA       -4.506  -0.233    0.388    \n",
      "mp-13161-GGAZnO         Pm-3m       GGA       -4.178  -0.344    0.717    \n",
      "mp-8484-GGA ZnO2        Pa-3        GGA       -4.777  -0.310    0.137    \n",
      "mp-1102744-GGAZnO2        P2_12_12_1  GGA       -4.745  -0.310    0.169    \n",
      "mp-1094003-GGAZnO2        P-3m1       GGA       -4.453  -0.458    0.461    \n",
      "mp-1178720-GGAZnO2        P2_1        GGA       -4.452  -0.107    0.462    \n",
      "mp-1237278-GGAZnO2        P2_12_12_1  GGA       -4.446  -0.458    0.468    \n",
      "mp-1178680-GGAZnO2        Immm        GGA       -4.101  -0.107    0.813    \n"
     ]
    }
   ],
   "source": [
    "all_entries = {}\n",
    "\n",
    "for system in systems:\n",
    "    with MPRester() as mpr:\n",
    "        entries = mpr.get_entries_in_chemsys(\n",
    "            elements=system,\n",
    "            compatible_only=False,\n",
    "            additional_criteria={\n",
    "                \"thermo_types\": [ThermoType.GGA_GGA_U, ThermoType.R2SCAN]\n",
    "            },\n",
    "        )\n",
    "        # TODO: waiting for mp-api fix, then can remove this in-place mixing\n",
    "    entries = MaterialsProjectDFTMixingScheme().process_entries(entries)\n",
    "        \n",
    "    all_entries[system[0]] = entries"
   ]
  },
  {
   "cell_type": "markdown",
   "id": "8e479a5b",
   "metadata": {},
   "source": [
    "### Acquiring GibbsComputedEntries and corresponding experimental entries"
   ]
  },
  {
   "cell_type": "code",
   "execution_count": 24,
   "id": "97242ec7",
   "metadata": {},
   "outputs": [],
   "source": [
    "mp_entries = []\n",
    "exp_entries = []\n",
    "\n",
    "temp = 300  # Kelvin\n",
    "\n",
    "for m, entries in all_entries.items():\n",
    "    gibbs = GibbsEntrySet.from_computed_entries(entries, temp, include_nist_data=False, apply_carbonate_correction=False)\n",
    "    gibbs_exp = GibbsEntrySet.from_computed_entries(entries, temp, include_nist_data=True, include_freed_data=True, apply_carbonate_correction=False)\n",
    "    \n",
    "    oxidation_states = Element(m).common_oxidation_states\n",
    "    \n",
    "    for os in oxidation_states:\n",
    "        formula = Composition(f\"{m}2(CO3){os}\").reduced_formula\n",
    "\n",
    "        mp_entry = None\n",
    "        exp_entry = None\n",
    "        \n",
    "        try:\n",
    "            mp_entry = gibbs.get_min_entry_by_formula(formula)\n",
    "            exp_entry = gibbs_exp.get_min_entry_by_formula(formula)\n",
    "        except:\n",
    "            continue\n",
    "        \n",
    "        if exp_entry.is_experimental:\n",
    "            mp_entries.append(mp_entry)\n",
    "            exp_entries.append(exp_entry)"
   ]
  },
  {
   "cell_type": "code",
   "execution_count": 25,
   "id": "d0f535a1",
   "metadata": {},
   "outputs": [],
   "source": [
    "energies_calc = []\n",
    "energies_exp = []\n",
    "names = []\n",
    "\n",
    "for e_exp, e_calc in zip(exp_entries, mp_entries):\n",
    "    formula = e_exp.composition.reduced_formula\n",
    "    num_atoms_per_fu = Composition(formula).num_atoms\n",
    "    \n",
    "    energy_exp = e_exp.energy_per_atom * num_atoms_per_fu\n",
    "    energy_calc = e_calc.energy_per_atom * num_atoms_per_fu\n",
    "    name = e_calc.composition.reduced_formula\n",
    "    \n",
    "    energies_exp.append(energy_exp)\n",
    "    energies_calc.append(energy_calc)\n",
    "    names.append(name)"
   ]
  },
  {
   "cell_type": "markdown",
   "id": "21ac6867",
   "metadata": {},
   "source": [
    "### Plot before correction"
   ]
  },
  {
   "cell_type": "code",
   "execution_count": 26,
   "id": "88db5c7d",
   "metadata": {},
   "outputs": [
    {
     "data": {
      "application/vnd.plotly.v1+json": {
       "config": {
        "plotlyServerURL": "https://plot.ly"
       },
       "data": [
        {
         "hovertemplate": "<b>%{hovertext}</b><br><br>name=Ag2CO3<br>x=%{x}<br>y=%{y}<extra></extra>",
         "hovertext": [
          "Ag2CO3"
         ],
         "legendgroup": "Ag2CO3",
         "marker": {
          "color": "#1F77B4",
          "symbol": "circle"
         },
         "mode": "markers",
         "name": "Ag2CO3",
         "orientation": "v",
         "showlegend": true,
         "type": "scatter",
         "x": [
          -4.523490740122578
         ],
         "xaxis": "x",
         "y": [
          -5.651099775542782
         ],
         "yaxis": "y"
        },
        {
         "hovertemplate": "<b>%{hovertext}</b><br><br>name=BaCO3<br>x=%{x}<br>y=%{y}<extra></extra>",
         "hovertext": [
          "BaCO3"
         ],
         "legendgroup": "BaCO3",
         "marker": {
          "color": "#FF7F0E",
          "symbol": "diamond"
         },
         "mode": "markers",
         "name": "BaCO3",
         "orientation": "v",
         "showlegend": true,
         "type": "scatter",
         "x": [
          -11.729310728660675
         ],
         "xaxis": "x",
         "y": [
          -12.593940173323578
         ],
         "yaxis": "y"
        },
        {
         "hovertemplate": "<b>%{hovertext}</b><br><br>name=CaCO3<br>x=%{x}<br>y=%{y}<extra></extra>",
         "hovertext": [
          "CaCO3"
         ],
         "legendgroup": "CaCO3",
         "marker": {
          "color": "#2CA02C",
          "symbol": "square"
         },
         "mode": "markers",
         "name": "CaCO3",
         "orientation": "v",
         "showlegend": true,
         "type": "scatter",
         "x": [
          -11.697022798117317
         ],
         "xaxis": "x",
         "y": [
          -12.605160525419997
         ],
         "yaxis": "y"
        },
        {
         "hovertemplate": "<b>%{hovertext}</b><br><br>name=CdCO3<br>x=%{x}<br>y=%{y}<extra></extra>",
         "hovertext": [
          "CdCO3"
         ],
         "legendgroup": "CdCO3",
         "marker": {
          "color": "#D62728",
          "symbol": "x"
         },
         "mode": "markers",
         "name": "CdCO3",
         "orientation": "v",
         "showlegend": true,
         "type": "scatter",
         "x": [
          -7.018997735710281
         ],
         "xaxis": "x",
         "y": [
          -7.9094438477610645
         ],
         "yaxis": "y"
        },
        {
         "hovertemplate": "<b>%{hovertext}</b><br><br>name=Cs2CO3<br>x=%{x}<br>y=%{y}<extra></extra>",
         "hovertext": [
          "Cs2CO3"
         ],
         "legendgroup": "Cs2CO3",
         "marker": {
          "color": "#9467BD",
          "symbol": "cross"
         },
         "mode": "markers",
         "name": "Cs2CO3",
         "orientation": "v",
         "showlegend": true,
         "type": "scatter",
         "x": [
          -10.894131627283759
         ],
         "xaxis": "x",
         "y": [
          -11.427847253538802
         ],
         "yaxis": "y"
        },
        {
         "hovertemplate": "<b>%{hovertext}</b><br><br>name=FeCO3<br>x=%{x}<br>y=%{y}<extra></extra>",
         "hovertext": [
          "FeCO3"
         ],
         "legendgroup": "FeCO3",
         "marker": {
          "color": "#8C564B",
          "symbol": "circle"
         },
         "mode": "markers",
         "name": "FeCO3",
         "orientation": "v",
         "showlegend": true,
         "type": "scatter",
         "x": [
          -6.929197226894303
         ],
         "xaxis": "x",
         "y": [
          -8.10070723706525
         ],
         "yaxis": "y"
        },
        {
         "hovertemplate": "<b>%{hovertext}</b><br><br>name=K2CO3<br>x=%{x}<br>y=%{y}<extra></extra>",
         "hovertext": [
          "K2CO3"
         ],
         "legendgroup": "K2CO3",
         "marker": {
          "color": "#E377C2",
          "symbol": "diamond"
         },
         "mode": "markers",
         "name": "K2CO3",
         "orientation": "v",
         "showlegend": true,
         "type": "scatter",
         "x": [
          -11.028037676944543
         ],
         "xaxis": "x",
         "y": [
          -11.68940658353913
         ],
         "yaxis": "y"
        },
        {
         "hovertemplate": "<b>%{hovertext}</b><br><br>name=Li2CO3<br>x=%{x}<br>y=%{y}<extra></extra>",
         "hovertext": [
          "Li2CO3"
         ],
         "legendgroup": "Li2CO3",
         "marker": {
          "color": "#7F7F7F",
          "symbol": "square"
         },
         "mode": "markers",
         "name": "Li2CO3",
         "orientation": "v",
         "showlegend": true,
         "type": "scatter",
         "x": [
          -11.728638626956926
         ],
         "xaxis": "x",
         "y": [
          -12.51651192279764
         ],
         "yaxis": "y"
        },
        {
         "hovertemplate": "<b>%{hovertext}</b><br><br>name=MgCO3<br>x=%{x}<br>y=%{y}<extra></extra>",
         "hovertext": [
          "MgCO3"
         ],
         "legendgroup": "MgCO3",
         "marker": {
          "color": "#BCBD22",
          "symbol": "x"
         },
         "mode": "markers",
         "name": "MgCO3",
         "orientation": "v",
         "showlegend": true,
         "type": "scatter",
         "x": [
          -10.66327385453301
         ],
         "xaxis": "x",
         "y": [
          -11.318817246142029
         ],
         "yaxis": "y"
        },
        {
         "hovertemplate": "<b>%{hovertext}</b><br><br>name=MnCO3<br>x=%{x}<br>y=%{y}<extra></extra>",
         "hovertext": [
          "MnCO3"
         ],
         "legendgroup": "MnCO3",
         "marker": {
          "color": "#17BECF",
          "symbol": "cross"
         },
         "mode": "markers",
         "name": "MnCO3",
         "orientation": "v",
         "showlegend": true,
         "type": "scatter",
         "x": [
          -8.448687588375233
         ],
         "xaxis": "x",
         "y": [
          -9.220244897729396
         ],
         "yaxis": "y"
        },
        {
         "hovertemplate": "<b>%{hovertext}</b><br><br>name=Na2CO3<br>x=%{x}<br>y=%{y}<extra></extra>",
         "hovertext": [
          "Na2CO3"
         ],
         "legendgroup": "Na2CO3",
         "marker": {
          "color": "#1F77B4",
          "symbol": "circle"
         },
         "mode": "markers",
         "name": "Na2CO3",
         "orientation": "v",
         "showlegend": true,
         "type": "scatter",
         "x": [
          -10.856533778555411
         ],
         "xaxis": "x",
         "y": [
          -11.421778476263711
         ],
         "yaxis": "y"
        },
        {
         "hovertemplate": "<b>%{hovertext}</b><br><br>name=PbCO3<br>x=%{x}<br>y=%{y}<extra></extra>",
         "hovertext": [
          "PbCO3"
         ],
         "legendgroup": "PbCO3",
         "marker": {
          "color": "#FF7F0E",
          "symbol": "diamond"
         },
         "mode": "markers",
         "name": "PbCO3",
         "orientation": "v",
         "showlegend": true,
         "type": "scatter",
         "x": [
          -6.514563134816661
         ],
         "xaxis": "x",
         "y": [
          -8.185445230090297
         ],
         "yaxis": "y"
        },
        {
         "hovertemplate": "<b>%{hovertext}</b><br><br>name=Rb2CO3<br>x=%{x}<br>y=%{y}<extra></extra>",
         "hovertext": [
          "Rb2CO3"
         ],
         "legendgroup": "Rb2CO3",
         "marker": {
          "color": "#2CA02C",
          "symbol": "square"
         },
         "mode": "markers",
         "name": "Rb2CO3",
         "orientation": "v",
         "showlegend": true,
         "type": "scatter",
         "x": [
          -10.97233639890869
         ],
         "xaxis": "x",
         "y": [
          -11.52500405435122
         ],
         "yaxis": "y"
        },
        {
         "hovertemplate": "<b>%{hovertext}</b><br><br>name=SrCO3<br>x=%{x}<br>y=%{y}<extra></extra>",
         "hovertext": [
          "SrCO3"
         ],
         "legendgroup": "SrCO3",
         "marker": {
          "color": "#D62728",
          "symbol": "x"
         },
         "mode": "markers",
         "name": "SrCO3",
         "orientation": "v",
         "showlegend": true,
         "type": "scatter",
         "x": [
          -11.796336838082897
         ],
         "xaxis": "x",
         "y": [
          -12.643486314901436
         ],
         "yaxis": "y"
        },
        {
         "hovertemplate": "<b>%{hovertext}</b><br><br>name=ZnCO3<br>x=%{x}<br>y=%{y}<extra></extra>",
         "hovertext": [
          "ZnCO3"
         ],
         "legendgroup": "ZnCO3",
         "marker": {
          "color": "#9467BD",
          "symbol": "cross"
         },
         "mode": "markers",
         "name": "ZnCO3",
         "orientation": "v",
         "showlegend": true,
         "type": "scatter",
         "x": [
          -7.600479604861418
         ],
         "xaxis": "x",
         "y": [
          -8.217376533130235
         ],
         "yaxis": "y"
        },
        {
         "hovertemplate": "x=%{x}<br>y=%{y}<extra></extra>",
         "legendgroup": "",
         "line": {
          "color": "#1F77B4",
          "dash": "solid"
         },
         "marker": {
          "symbol": "circle"
         },
         "mode": "lines",
         "name": "",
         "orientation": "v",
         "showlegend": false,
         "type": "scatter",
         "x": [
          -12,
          -4
         ],
         "xaxis": "x",
         "y": [
          -12,
          -4
         ],
         "yaxis": "y"
        }
       ],
       "layout": {
        "template": {
         "data": {
          "bar": [
           {
            "error_x": {
             "color": "rgb(36,36,36)"
            },
            "error_y": {
             "color": "rgb(36,36,36)"
            },
            "marker": {
             "line": {
              "color": "white",
              "width": 0.5
             },
             "pattern": {
              "fillmode": "overlay",
              "size": 10,
              "solidity": 0.2
             }
            },
            "type": "bar"
           }
          ],
          "barpolar": [
           {
            "marker": {
             "line": {
              "color": "white",
              "width": 0.5
             },
             "pattern": {
              "fillmode": "overlay",
              "size": 10,
              "solidity": 0.2
             }
            },
            "type": "barpolar"
           }
          ],
          "carpet": [
           {
            "aaxis": {
             "endlinecolor": "rgb(36,36,36)",
             "gridcolor": "white",
             "linecolor": "white",
             "minorgridcolor": "white",
             "startlinecolor": "rgb(36,36,36)"
            },
            "baxis": {
             "endlinecolor": "rgb(36,36,36)",
             "gridcolor": "white",
             "linecolor": "white",
             "minorgridcolor": "white",
             "startlinecolor": "rgb(36,36,36)"
            },
            "type": "carpet"
           }
          ],
          "choropleth": [
           {
            "colorbar": {
             "outlinewidth": 1,
             "tickcolor": "rgb(36,36,36)",
             "ticks": "outside"
            },
            "type": "choropleth"
           }
          ],
          "contour": [
           {
            "colorbar": {
             "outlinewidth": 1,
             "tickcolor": "rgb(36,36,36)",
             "ticks": "outside"
            },
            "colorscale": [
             [
              0,
              "#440154"
             ],
             [
              0.1111111111111111,
              "#482878"
             ],
             [
              0.2222222222222222,
              "#3e4989"
             ],
             [
              0.3333333333333333,
              "#31688e"
             ],
             [
              0.4444444444444444,
              "#26828e"
             ],
             [
              0.5555555555555556,
              "#1f9e89"
             ],
             [
              0.6666666666666666,
              "#35b779"
             ],
             [
              0.7777777777777778,
              "#6ece58"
             ],
             [
              0.8888888888888888,
              "#b5de2b"
             ],
             [
              1,
              "#fde725"
             ]
            ],
            "type": "contour"
           }
          ],
          "contourcarpet": [
           {
            "colorbar": {
             "outlinewidth": 1,
             "tickcolor": "rgb(36,36,36)",
             "ticks": "outside"
            },
            "type": "contourcarpet"
           }
          ],
          "heatmap": [
           {
            "colorbar": {
             "outlinewidth": 1,
             "tickcolor": "rgb(36,36,36)",
             "ticks": "outside"
            },
            "colorscale": [
             [
              0,
              "#440154"
             ],
             [
              0.1111111111111111,
              "#482878"
             ],
             [
              0.2222222222222222,
              "#3e4989"
             ],
             [
              0.3333333333333333,
              "#31688e"
             ],
             [
              0.4444444444444444,
              "#26828e"
             ],
             [
              0.5555555555555556,
              "#1f9e89"
             ],
             [
              0.6666666666666666,
              "#35b779"
             ],
             [
              0.7777777777777778,
              "#6ece58"
             ],
             [
              0.8888888888888888,
              "#b5de2b"
             ],
             [
              1,
              "#fde725"
             ]
            ],
            "type": "heatmap"
           }
          ],
          "heatmapgl": [
           {
            "colorbar": {
             "outlinewidth": 1,
             "tickcolor": "rgb(36,36,36)",
             "ticks": "outside"
            },
            "colorscale": [
             [
              0,
              "#440154"
             ],
             [
              0.1111111111111111,
              "#482878"
             ],
             [
              0.2222222222222222,
              "#3e4989"
             ],
             [
              0.3333333333333333,
              "#31688e"
             ],
             [
              0.4444444444444444,
              "#26828e"
             ],
             [
              0.5555555555555556,
              "#1f9e89"
             ],
             [
              0.6666666666666666,
              "#35b779"
             ],
             [
              0.7777777777777778,
              "#6ece58"
             ],
             [
              0.8888888888888888,
              "#b5de2b"
             ],
             [
              1,
              "#fde725"
             ]
            ],
            "type": "heatmapgl"
           }
          ],
          "histogram": [
           {
            "marker": {
             "line": {
              "color": "white",
              "width": 0.6
             }
            },
            "type": "histogram"
           }
          ],
          "histogram2d": [
           {
            "colorbar": {
             "outlinewidth": 1,
             "tickcolor": "rgb(36,36,36)",
             "ticks": "outside"
            },
            "colorscale": [
             [
              0,
              "#440154"
             ],
             [
              0.1111111111111111,
              "#482878"
             ],
             [
              0.2222222222222222,
              "#3e4989"
             ],
             [
              0.3333333333333333,
              "#31688e"
             ],
             [
              0.4444444444444444,
              "#26828e"
             ],
             [
              0.5555555555555556,
              "#1f9e89"
             ],
             [
              0.6666666666666666,
              "#35b779"
             ],
             [
              0.7777777777777778,
              "#6ece58"
             ],
             [
              0.8888888888888888,
              "#b5de2b"
             ],
             [
              1,
              "#fde725"
             ]
            ],
            "type": "histogram2d"
           }
          ],
          "histogram2dcontour": [
           {
            "colorbar": {
             "outlinewidth": 1,
             "tickcolor": "rgb(36,36,36)",
             "ticks": "outside"
            },
            "colorscale": [
             [
              0,
              "#440154"
             ],
             [
              0.1111111111111111,
              "#482878"
             ],
             [
              0.2222222222222222,
              "#3e4989"
             ],
             [
              0.3333333333333333,
              "#31688e"
             ],
             [
              0.4444444444444444,
              "#26828e"
             ],
             [
              0.5555555555555556,
              "#1f9e89"
             ],
             [
              0.6666666666666666,
              "#35b779"
             ],
             [
              0.7777777777777778,
              "#6ece58"
             ],
             [
              0.8888888888888888,
              "#b5de2b"
             ],
             [
              1,
              "#fde725"
             ]
            ],
            "type": "histogram2dcontour"
           }
          ],
          "mesh3d": [
           {
            "colorbar": {
             "outlinewidth": 1,
             "tickcolor": "rgb(36,36,36)",
             "ticks": "outside"
            },
            "type": "mesh3d"
           }
          ],
          "parcoords": [
           {
            "line": {
             "colorbar": {
              "outlinewidth": 1,
              "tickcolor": "rgb(36,36,36)",
              "ticks": "outside"
             }
            },
            "type": "parcoords"
           }
          ],
          "pie": [
           {
            "automargin": true,
            "type": "pie"
           }
          ],
          "scatter": [
           {
            "fillpattern": {
             "fillmode": "overlay",
             "size": 10,
             "solidity": 0.2
            },
            "type": "scatter"
           }
          ],
          "scatter3d": [
           {
            "line": {
             "colorbar": {
              "outlinewidth": 1,
              "tickcolor": "rgb(36,36,36)",
              "ticks": "outside"
             }
            },
            "marker": {
             "colorbar": {
              "outlinewidth": 1,
              "tickcolor": "rgb(36,36,36)",
              "ticks": "outside"
             }
            },
            "type": "scatter3d"
           }
          ],
          "scattercarpet": [
           {
            "marker": {
             "colorbar": {
              "outlinewidth": 1,
              "tickcolor": "rgb(36,36,36)",
              "ticks": "outside"
             }
            },
            "type": "scattercarpet"
           }
          ],
          "scattergeo": [
           {
            "marker": {
             "colorbar": {
              "outlinewidth": 1,
              "tickcolor": "rgb(36,36,36)",
              "ticks": "outside"
             }
            },
            "type": "scattergeo"
           }
          ],
          "scattergl": [
           {
            "marker": {
             "colorbar": {
              "outlinewidth": 1,
              "tickcolor": "rgb(36,36,36)",
              "ticks": "outside"
             }
            },
            "type": "scattergl"
           }
          ],
          "scattermapbox": [
           {
            "marker": {
             "colorbar": {
              "outlinewidth": 1,
              "tickcolor": "rgb(36,36,36)",
              "ticks": "outside"
             }
            },
            "type": "scattermapbox"
           }
          ],
          "scatterpolar": [
           {
            "marker": {
             "colorbar": {
              "outlinewidth": 1,
              "tickcolor": "rgb(36,36,36)",
              "ticks": "outside"
             }
            },
            "type": "scatterpolar"
           }
          ],
          "scatterpolargl": [
           {
            "marker": {
             "colorbar": {
              "outlinewidth": 1,
              "tickcolor": "rgb(36,36,36)",
              "ticks": "outside"
             }
            },
            "type": "scatterpolargl"
           }
          ],
          "scatterternary": [
           {
            "marker": {
             "colorbar": {
              "outlinewidth": 1,
              "tickcolor": "rgb(36,36,36)",
              "ticks": "outside"
             }
            },
            "type": "scatterternary"
           }
          ],
          "surface": [
           {
            "colorbar": {
             "outlinewidth": 1,
             "tickcolor": "rgb(36,36,36)",
             "ticks": "outside"
            },
            "colorscale": [
             [
              0,
              "#440154"
             ],
             [
              0.1111111111111111,
              "#482878"
             ],
             [
              0.2222222222222222,
              "#3e4989"
             ],
             [
              0.3333333333333333,
              "#31688e"
             ],
             [
              0.4444444444444444,
              "#26828e"
             ],
             [
              0.5555555555555556,
              "#1f9e89"
             ],
             [
              0.6666666666666666,
              "#35b779"
             ],
             [
              0.7777777777777778,
              "#6ece58"
             ],
             [
              0.8888888888888888,
              "#b5de2b"
             ],
             [
              1,
              "#fde725"
             ]
            ],
            "type": "surface"
           }
          ],
          "table": [
           {
            "cells": {
             "fill": {
              "color": "rgb(237,237,237)"
             },
             "line": {
              "color": "white"
             }
            },
            "header": {
             "fill": {
              "color": "rgb(217,217,217)"
             },
             "line": {
              "color": "white"
             }
            },
            "type": "table"
           }
          ]
         },
         "layout": {
          "annotationdefaults": {
           "arrowhead": 0,
           "arrowwidth": 1
          },
          "autotypenumbers": "strict",
          "coloraxis": {
           "colorbar": {
            "outlinewidth": 1,
            "tickcolor": "rgb(36,36,36)",
            "ticks": "outside"
           }
          },
          "colorscale": {
           "diverging": [
            [
             0,
             "rgb(103,0,31)"
            ],
            [
             0.1,
             "rgb(178,24,43)"
            ],
            [
             0.2,
             "rgb(214,96,77)"
            ],
            [
             0.3,
             "rgb(244,165,130)"
            ],
            [
             0.4,
             "rgb(253,219,199)"
            ],
            [
             0.5,
             "rgb(247,247,247)"
            ],
            [
             0.6,
             "rgb(209,229,240)"
            ],
            [
             0.7,
             "rgb(146,197,222)"
            ],
            [
             0.8,
             "rgb(67,147,195)"
            ],
            [
             0.9,
             "rgb(33,102,172)"
            ],
            [
             1,
             "rgb(5,48,97)"
            ]
           ],
           "sequential": [
            [
             0,
             "#440154"
            ],
            [
             0.1111111111111111,
             "#482878"
            ],
            [
             0.2222222222222222,
             "#3e4989"
            ],
            [
             0.3333333333333333,
             "#31688e"
            ],
            [
             0.4444444444444444,
             "#26828e"
            ],
            [
             0.5555555555555556,
             "#1f9e89"
            ],
            [
             0.6666666666666666,
             "#35b779"
            ],
            [
             0.7777777777777778,
             "#6ece58"
            ],
            [
             0.8888888888888888,
             "#b5de2b"
            ],
            [
             1,
             "#fde725"
            ]
           ],
           "sequentialminus": [
            [
             0,
             "#440154"
            ],
            [
             0.1111111111111111,
             "#482878"
            ],
            [
             0.2222222222222222,
             "#3e4989"
            ],
            [
             0.3333333333333333,
             "#31688e"
            ],
            [
             0.4444444444444444,
             "#26828e"
            ],
            [
             0.5555555555555556,
             "#1f9e89"
            ],
            [
             0.6666666666666666,
             "#35b779"
            ],
            [
             0.7777777777777778,
             "#6ece58"
            ],
            [
             0.8888888888888888,
             "#b5de2b"
            ],
            [
             1,
             "#fde725"
            ]
           ]
          },
          "colorway": [
           "#1F77B4",
           "#FF7F0E",
           "#2CA02C",
           "#D62728",
           "#9467BD",
           "#8C564B",
           "#E377C2",
           "#7F7F7F",
           "#BCBD22",
           "#17BECF"
          ],
          "font": {
           "color": "rgb(36,36,36)"
          },
          "geo": {
           "bgcolor": "white",
           "lakecolor": "white",
           "landcolor": "white",
           "showlakes": true,
           "showland": true,
           "subunitcolor": "white"
          },
          "hoverlabel": {
           "align": "left"
          },
          "hovermode": "closest",
          "mapbox": {
           "style": "light"
          },
          "paper_bgcolor": "white",
          "plot_bgcolor": "white",
          "polar": {
           "angularaxis": {
            "gridcolor": "rgb(232,232,232)",
            "linecolor": "rgb(36,36,36)",
            "showgrid": false,
            "showline": true,
            "ticks": "outside"
           },
           "bgcolor": "white",
           "radialaxis": {
            "gridcolor": "rgb(232,232,232)",
            "linecolor": "rgb(36,36,36)",
            "showgrid": false,
            "showline": true,
            "ticks": "outside"
           }
          },
          "scene": {
           "xaxis": {
            "backgroundcolor": "white",
            "gridcolor": "rgb(232,232,232)",
            "gridwidth": 2,
            "linecolor": "rgb(36,36,36)",
            "showbackground": true,
            "showgrid": false,
            "showline": true,
            "ticks": "outside",
            "zeroline": false,
            "zerolinecolor": "rgb(36,36,36)"
           },
           "yaxis": {
            "backgroundcolor": "white",
            "gridcolor": "rgb(232,232,232)",
            "gridwidth": 2,
            "linecolor": "rgb(36,36,36)",
            "showbackground": true,
            "showgrid": false,
            "showline": true,
            "ticks": "outside",
            "zeroline": false,
            "zerolinecolor": "rgb(36,36,36)"
           },
           "zaxis": {
            "backgroundcolor": "white",
            "gridcolor": "rgb(232,232,232)",
            "gridwidth": 2,
            "linecolor": "rgb(36,36,36)",
            "showbackground": true,
            "showgrid": false,
            "showline": true,
            "ticks": "outside",
            "zeroline": false,
            "zerolinecolor": "rgb(36,36,36)"
           }
          },
          "shapedefaults": {
           "fillcolor": "black",
           "line": {
            "width": 0
           },
           "opacity": 0.3
          },
          "ternary": {
           "aaxis": {
            "gridcolor": "rgb(232,232,232)",
            "linecolor": "rgb(36,36,36)",
            "showgrid": false,
            "showline": true,
            "ticks": "outside"
           },
           "baxis": {
            "gridcolor": "rgb(232,232,232)",
            "linecolor": "rgb(36,36,36)",
            "showgrid": false,
            "showline": true,
            "ticks": "outside"
           },
           "bgcolor": "white",
           "caxis": {
            "gridcolor": "rgb(232,232,232)",
            "linecolor": "rgb(36,36,36)",
            "showgrid": false,
            "showline": true,
            "ticks": "outside"
           }
          },
          "title": {
           "x": 0.05
          },
          "xaxis": {
           "automargin": true,
           "gridcolor": "rgb(232,232,232)",
           "linecolor": "rgb(36,36,36)",
           "showgrid": false,
           "showline": true,
           "ticks": "outside",
           "title": {
            "standoff": 15
           },
           "zeroline": false,
           "zerolinecolor": "rgb(36,36,36)"
          },
          "yaxis": {
           "automargin": true,
           "gridcolor": "rgb(232,232,232)",
           "linecolor": "rgb(36,36,36)",
           "showgrid": false,
           "showline": true,
           "ticks": "outside",
           "title": {
            "standoff": 15
           },
           "zeroline": false,
           "zerolinecolor": "rgb(36,36,36)"
          }
         }
        },
        "title": {
         "text": "Carbonate formation energies"
        },
        "xaxis": {
         "title": {
          "text": "Experimental dGf (eV/f.u.)"
         }
        },
        "yaxis": {
         "title": {
          "text": "Calculated dGf (eV/f.u.)"
         }
        }
       }
      },
      "text/html": [
       "<div>                            <div id=\"5af9cd9e-01c5-4f8e-a671-8a42f7b1b5ff\" class=\"plotly-graph-div\" style=\"height:525px; width:100%;\"></div>            <script type=\"text/javascript\">                require([\"plotly\"], function(Plotly) {                    window.PLOTLYENV=window.PLOTLYENV || {};                                    if (document.getElementById(\"5af9cd9e-01c5-4f8e-a671-8a42f7b1b5ff\")) {                    Plotly.newPlot(                        \"5af9cd9e-01c5-4f8e-a671-8a42f7b1b5ff\",                        [{\"hovertemplate\":\"<b>%{hovertext}</b><br><br>name=Ag2CO3<br>x=%{x}<br>y=%{y}<extra></extra>\",\"hovertext\":[\"Ag2CO3\"],\"legendgroup\":\"Ag2CO3\",\"marker\":{\"color\":\"#1F77B4\",\"symbol\":\"circle\"},\"mode\":\"markers\",\"name\":\"Ag2CO3\",\"orientation\":\"v\",\"showlegend\":true,\"x\":[-4.523490740122578],\"xaxis\":\"x\",\"y\":[-5.651099775542782],\"yaxis\":\"y\",\"type\":\"scatter\"},{\"hovertemplate\":\"<b>%{hovertext}</b><br><br>name=BaCO3<br>x=%{x}<br>y=%{y}<extra></extra>\",\"hovertext\":[\"BaCO3\"],\"legendgroup\":\"BaCO3\",\"marker\":{\"color\":\"#FF7F0E\",\"symbol\":\"diamond\"},\"mode\":\"markers\",\"name\":\"BaCO3\",\"orientation\":\"v\",\"showlegend\":true,\"x\":[-11.729310728660675],\"xaxis\":\"x\",\"y\":[-12.593940173323578],\"yaxis\":\"y\",\"type\":\"scatter\"},{\"hovertemplate\":\"<b>%{hovertext}</b><br><br>name=CaCO3<br>x=%{x}<br>y=%{y}<extra></extra>\",\"hovertext\":[\"CaCO3\"],\"legendgroup\":\"CaCO3\",\"marker\":{\"color\":\"#2CA02C\",\"symbol\":\"square\"},\"mode\":\"markers\",\"name\":\"CaCO3\",\"orientation\":\"v\",\"showlegend\":true,\"x\":[-11.697022798117317],\"xaxis\":\"x\",\"y\":[-12.605160525419997],\"yaxis\":\"y\",\"type\":\"scatter\"},{\"hovertemplate\":\"<b>%{hovertext}</b><br><br>name=CdCO3<br>x=%{x}<br>y=%{y}<extra></extra>\",\"hovertext\":[\"CdCO3\"],\"legendgroup\":\"CdCO3\",\"marker\":{\"color\":\"#D62728\",\"symbol\":\"x\"},\"mode\":\"markers\",\"name\":\"CdCO3\",\"orientation\":\"v\",\"showlegend\":true,\"x\":[-7.018997735710281],\"xaxis\":\"x\",\"y\":[-7.9094438477610645],\"yaxis\":\"y\",\"type\":\"scatter\"},{\"hovertemplate\":\"<b>%{hovertext}</b><br><br>name=Cs2CO3<br>x=%{x}<br>y=%{y}<extra></extra>\",\"hovertext\":[\"Cs2CO3\"],\"legendgroup\":\"Cs2CO3\",\"marker\":{\"color\":\"#9467BD\",\"symbol\":\"cross\"},\"mode\":\"markers\",\"name\":\"Cs2CO3\",\"orientation\":\"v\",\"showlegend\":true,\"x\":[-10.894131627283759],\"xaxis\":\"x\",\"y\":[-11.427847253538802],\"yaxis\":\"y\",\"type\":\"scatter\"},{\"hovertemplate\":\"<b>%{hovertext}</b><br><br>name=FeCO3<br>x=%{x}<br>y=%{y}<extra></extra>\",\"hovertext\":[\"FeCO3\"],\"legendgroup\":\"FeCO3\",\"marker\":{\"color\":\"#8C564B\",\"symbol\":\"circle\"},\"mode\":\"markers\",\"name\":\"FeCO3\",\"orientation\":\"v\",\"showlegend\":true,\"x\":[-6.929197226894303],\"xaxis\":\"x\",\"y\":[-8.10070723706525],\"yaxis\":\"y\",\"type\":\"scatter\"},{\"hovertemplate\":\"<b>%{hovertext}</b><br><br>name=K2CO3<br>x=%{x}<br>y=%{y}<extra></extra>\",\"hovertext\":[\"K2CO3\"],\"legendgroup\":\"K2CO3\",\"marker\":{\"color\":\"#E377C2\",\"symbol\":\"diamond\"},\"mode\":\"markers\",\"name\":\"K2CO3\",\"orientation\":\"v\",\"showlegend\":true,\"x\":[-11.028037676944543],\"xaxis\":\"x\",\"y\":[-11.68940658353913],\"yaxis\":\"y\",\"type\":\"scatter\"},{\"hovertemplate\":\"<b>%{hovertext}</b><br><br>name=Li2CO3<br>x=%{x}<br>y=%{y}<extra></extra>\",\"hovertext\":[\"Li2CO3\"],\"legendgroup\":\"Li2CO3\",\"marker\":{\"color\":\"#7F7F7F\",\"symbol\":\"square\"},\"mode\":\"markers\",\"name\":\"Li2CO3\",\"orientation\":\"v\",\"showlegend\":true,\"x\":[-11.728638626956926],\"xaxis\":\"x\",\"y\":[-12.51651192279764],\"yaxis\":\"y\",\"type\":\"scatter\"},{\"hovertemplate\":\"<b>%{hovertext}</b><br><br>name=MgCO3<br>x=%{x}<br>y=%{y}<extra></extra>\",\"hovertext\":[\"MgCO3\"],\"legendgroup\":\"MgCO3\",\"marker\":{\"color\":\"#BCBD22\",\"symbol\":\"x\"},\"mode\":\"markers\",\"name\":\"MgCO3\",\"orientation\":\"v\",\"showlegend\":true,\"x\":[-10.66327385453301],\"xaxis\":\"x\",\"y\":[-11.318817246142029],\"yaxis\":\"y\",\"type\":\"scatter\"},{\"hovertemplate\":\"<b>%{hovertext}</b><br><br>name=MnCO3<br>x=%{x}<br>y=%{y}<extra></extra>\",\"hovertext\":[\"MnCO3\"],\"legendgroup\":\"MnCO3\",\"marker\":{\"color\":\"#17BECF\",\"symbol\":\"cross\"},\"mode\":\"markers\",\"name\":\"MnCO3\",\"orientation\":\"v\",\"showlegend\":true,\"x\":[-8.448687588375233],\"xaxis\":\"x\",\"y\":[-9.220244897729396],\"yaxis\":\"y\",\"type\":\"scatter\"},{\"hovertemplate\":\"<b>%{hovertext}</b><br><br>name=Na2CO3<br>x=%{x}<br>y=%{y}<extra></extra>\",\"hovertext\":[\"Na2CO3\"],\"legendgroup\":\"Na2CO3\",\"marker\":{\"color\":\"#1F77B4\",\"symbol\":\"circle\"},\"mode\":\"markers\",\"name\":\"Na2CO3\",\"orientation\":\"v\",\"showlegend\":true,\"x\":[-10.856533778555411],\"xaxis\":\"x\",\"y\":[-11.421778476263711],\"yaxis\":\"y\",\"type\":\"scatter\"},{\"hovertemplate\":\"<b>%{hovertext}</b><br><br>name=PbCO3<br>x=%{x}<br>y=%{y}<extra></extra>\",\"hovertext\":[\"PbCO3\"],\"legendgroup\":\"PbCO3\",\"marker\":{\"color\":\"#FF7F0E\",\"symbol\":\"diamond\"},\"mode\":\"markers\",\"name\":\"PbCO3\",\"orientation\":\"v\",\"showlegend\":true,\"x\":[-6.514563134816661],\"xaxis\":\"x\",\"y\":[-8.185445230090297],\"yaxis\":\"y\",\"type\":\"scatter\"},{\"hovertemplate\":\"<b>%{hovertext}</b><br><br>name=Rb2CO3<br>x=%{x}<br>y=%{y}<extra></extra>\",\"hovertext\":[\"Rb2CO3\"],\"legendgroup\":\"Rb2CO3\",\"marker\":{\"color\":\"#2CA02C\",\"symbol\":\"square\"},\"mode\":\"markers\",\"name\":\"Rb2CO3\",\"orientation\":\"v\",\"showlegend\":true,\"x\":[-10.97233639890869],\"xaxis\":\"x\",\"y\":[-11.52500405435122],\"yaxis\":\"y\",\"type\":\"scatter\"},{\"hovertemplate\":\"<b>%{hovertext}</b><br><br>name=SrCO3<br>x=%{x}<br>y=%{y}<extra></extra>\",\"hovertext\":[\"SrCO3\"],\"legendgroup\":\"SrCO3\",\"marker\":{\"color\":\"#D62728\",\"symbol\":\"x\"},\"mode\":\"markers\",\"name\":\"SrCO3\",\"orientation\":\"v\",\"showlegend\":true,\"x\":[-11.796336838082897],\"xaxis\":\"x\",\"y\":[-12.643486314901436],\"yaxis\":\"y\",\"type\":\"scatter\"},{\"hovertemplate\":\"<b>%{hovertext}</b><br><br>name=ZnCO3<br>x=%{x}<br>y=%{y}<extra></extra>\",\"hovertext\":[\"ZnCO3\"],\"legendgroup\":\"ZnCO3\",\"marker\":{\"color\":\"#9467BD\",\"symbol\":\"cross\"},\"mode\":\"markers\",\"name\":\"ZnCO3\",\"orientation\":\"v\",\"showlegend\":true,\"x\":[-7.600479604861418],\"xaxis\":\"x\",\"y\":[-8.217376533130235],\"yaxis\":\"y\",\"type\":\"scatter\"},{\"hovertemplate\":\"x=%{x}<br>y=%{y}<extra></extra>\",\"legendgroup\":\"\",\"line\":{\"color\":\"#1F77B4\",\"dash\":\"solid\"},\"marker\":{\"symbol\":\"circle\"},\"mode\":\"lines\",\"name\":\"\",\"orientation\":\"v\",\"showlegend\":false,\"x\":[-12,-4],\"xaxis\":\"x\",\"y\":[-12,-4],\"yaxis\":\"y\",\"type\":\"scatter\"}],                        {\"template\":{\"data\":{\"histogram2dcontour\":[{\"type\":\"histogram2dcontour\",\"colorbar\":{\"outlinewidth\":1,\"tickcolor\":\"rgb(36,36,36)\",\"ticks\":\"outside\"},\"colorscale\":[[0.0,\"#440154\"],[0.1111111111111111,\"#482878\"],[0.2222222222222222,\"#3e4989\"],[0.3333333333333333,\"#31688e\"],[0.4444444444444444,\"#26828e\"],[0.5555555555555556,\"#1f9e89\"],[0.6666666666666666,\"#35b779\"],[0.7777777777777778,\"#6ece58\"],[0.8888888888888888,\"#b5de2b\"],[1.0,\"#fde725\"]]}],\"choropleth\":[{\"type\":\"choropleth\",\"colorbar\":{\"outlinewidth\":1,\"tickcolor\":\"rgb(36,36,36)\",\"ticks\":\"outside\"}}],\"histogram2d\":[{\"type\":\"histogram2d\",\"colorbar\":{\"outlinewidth\":1,\"tickcolor\":\"rgb(36,36,36)\",\"ticks\":\"outside\"},\"colorscale\":[[0.0,\"#440154\"],[0.1111111111111111,\"#482878\"],[0.2222222222222222,\"#3e4989\"],[0.3333333333333333,\"#31688e\"],[0.4444444444444444,\"#26828e\"],[0.5555555555555556,\"#1f9e89\"],[0.6666666666666666,\"#35b779\"],[0.7777777777777778,\"#6ece58\"],[0.8888888888888888,\"#b5de2b\"],[1.0,\"#fde725\"]]}],\"heatmap\":[{\"type\":\"heatmap\",\"colorbar\":{\"outlinewidth\":1,\"tickcolor\":\"rgb(36,36,36)\",\"ticks\":\"outside\"},\"colorscale\":[[0.0,\"#440154\"],[0.1111111111111111,\"#482878\"],[0.2222222222222222,\"#3e4989\"],[0.3333333333333333,\"#31688e\"],[0.4444444444444444,\"#26828e\"],[0.5555555555555556,\"#1f9e89\"],[0.6666666666666666,\"#35b779\"],[0.7777777777777778,\"#6ece58\"],[0.8888888888888888,\"#b5de2b\"],[1.0,\"#fde725\"]]}],\"heatmapgl\":[{\"type\":\"heatmapgl\",\"colorbar\":{\"outlinewidth\":1,\"tickcolor\":\"rgb(36,36,36)\",\"ticks\":\"outside\"},\"colorscale\":[[0.0,\"#440154\"],[0.1111111111111111,\"#482878\"],[0.2222222222222222,\"#3e4989\"],[0.3333333333333333,\"#31688e\"],[0.4444444444444444,\"#26828e\"],[0.5555555555555556,\"#1f9e89\"],[0.6666666666666666,\"#35b779\"],[0.7777777777777778,\"#6ece58\"],[0.8888888888888888,\"#b5de2b\"],[1.0,\"#fde725\"]]}],\"contourcarpet\":[{\"type\":\"contourcarpet\",\"colorbar\":{\"outlinewidth\":1,\"tickcolor\":\"rgb(36,36,36)\",\"ticks\":\"outside\"}}],\"contour\":[{\"type\":\"contour\",\"colorbar\":{\"outlinewidth\":1,\"tickcolor\":\"rgb(36,36,36)\",\"ticks\":\"outside\"},\"colorscale\":[[0.0,\"#440154\"],[0.1111111111111111,\"#482878\"],[0.2222222222222222,\"#3e4989\"],[0.3333333333333333,\"#31688e\"],[0.4444444444444444,\"#26828e\"],[0.5555555555555556,\"#1f9e89\"],[0.6666666666666666,\"#35b779\"],[0.7777777777777778,\"#6ece58\"],[0.8888888888888888,\"#b5de2b\"],[1.0,\"#fde725\"]]}],\"surface\":[{\"type\":\"surface\",\"colorbar\":{\"outlinewidth\":1,\"tickcolor\":\"rgb(36,36,36)\",\"ticks\":\"outside\"},\"colorscale\":[[0.0,\"#440154\"],[0.1111111111111111,\"#482878\"],[0.2222222222222222,\"#3e4989\"],[0.3333333333333333,\"#31688e\"],[0.4444444444444444,\"#26828e\"],[0.5555555555555556,\"#1f9e89\"],[0.6666666666666666,\"#35b779\"],[0.7777777777777778,\"#6ece58\"],[0.8888888888888888,\"#b5de2b\"],[1.0,\"#fde725\"]]}],\"mesh3d\":[{\"type\":\"mesh3d\",\"colorbar\":{\"outlinewidth\":1,\"tickcolor\":\"rgb(36,36,36)\",\"ticks\":\"outside\"}}],\"scatter\":[{\"fillpattern\":{\"fillmode\":\"overlay\",\"size\":10,\"solidity\":0.2},\"type\":\"scatter\"}],\"parcoords\":[{\"type\":\"parcoords\",\"line\":{\"colorbar\":{\"outlinewidth\":1,\"tickcolor\":\"rgb(36,36,36)\",\"ticks\":\"outside\"}}}],\"scatterpolargl\":[{\"type\":\"scatterpolargl\",\"marker\":{\"colorbar\":{\"outlinewidth\":1,\"tickcolor\":\"rgb(36,36,36)\",\"ticks\":\"outside\"}}}],\"bar\":[{\"error_x\":{\"color\":\"rgb(36,36,36)\"},\"error_y\":{\"color\":\"rgb(36,36,36)\"},\"marker\":{\"line\":{\"color\":\"white\",\"width\":0.5},\"pattern\":{\"fillmode\":\"overlay\",\"size\":10,\"solidity\":0.2}},\"type\":\"bar\"}],\"scattergeo\":[{\"type\":\"scattergeo\",\"marker\":{\"colorbar\":{\"outlinewidth\":1,\"tickcolor\":\"rgb(36,36,36)\",\"ticks\":\"outside\"}}}],\"scatterpolar\":[{\"type\":\"scatterpolar\",\"marker\":{\"colorbar\":{\"outlinewidth\":1,\"tickcolor\":\"rgb(36,36,36)\",\"ticks\":\"outside\"}}}],\"histogram\":[{\"marker\":{\"line\":{\"color\":\"white\",\"width\":0.6}},\"type\":\"histogram\"}],\"scattergl\":[{\"type\":\"scattergl\",\"marker\":{\"colorbar\":{\"outlinewidth\":1,\"tickcolor\":\"rgb(36,36,36)\",\"ticks\":\"outside\"}}}],\"scatter3d\":[{\"type\":\"scatter3d\",\"line\":{\"colorbar\":{\"outlinewidth\":1,\"tickcolor\":\"rgb(36,36,36)\",\"ticks\":\"outside\"}},\"marker\":{\"colorbar\":{\"outlinewidth\":1,\"tickcolor\":\"rgb(36,36,36)\",\"ticks\":\"outside\"}}}],\"scattermapbox\":[{\"type\":\"scattermapbox\",\"marker\":{\"colorbar\":{\"outlinewidth\":1,\"tickcolor\":\"rgb(36,36,36)\",\"ticks\":\"outside\"}}}],\"scatterternary\":[{\"type\":\"scatterternary\",\"marker\":{\"colorbar\":{\"outlinewidth\":1,\"tickcolor\":\"rgb(36,36,36)\",\"ticks\":\"outside\"}}}],\"scattercarpet\":[{\"type\":\"scattercarpet\",\"marker\":{\"colorbar\":{\"outlinewidth\":1,\"tickcolor\":\"rgb(36,36,36)\",\"ticks\":\"outside\"}}}],\"carpet\":[{\"aaxis\":{\"endlinecolor\":\"rgb(36,36,36)\",\"gridcolor\":\"white\",\"linecolor\":\"white\",\"minorgridcolor\":\"white\",\"startlinecolor\":\"rgb(36,36,36)\"},\"baxis\":{\"endlinecolor\":\"rgb(36,36,36)\",\"gridcolor\":\"white\",\"linecolor\":\"white\",\"minorgridcolor\":\"white\",\"startlinecolor\":\"rgb(36,36,36)\"},\"type\":\"carpet\"}],\"table\":[{\"cells\":{\"fill\":{\"color\":\"rgb(237,237,237)\"},\"line\":{\"color\":\"white\"}},\"header\":{\"fill\":{\"color\":\"rgb(217,217,217)\"},\"line\":{\"color\":\"white\"}},\"type\":\"table\"}],\"barpolar\":[{\"marker\":{\"line\":{\"color\":\"white\",\"width\":0.5},\"pattern\":{\"fillmode\":\"overlay\",\"size\":10,\"solidity\":0.2}},\"type\":\"barpolar\"}],\"pie\":[{\"automargin\":true,\"type\":\"pie\"}]},\"layout\":{\"autotypenumbers\":\"strict\",\"colorway\":[\"#1F77B4\",\"#FF7F0E\",\"#2CA02C\",\"#D62728\",\"#9467BD\",\"#8C564B\",\"#E377C2\",\"#7F7F7F\",\"#BCBD22\",\"#17BECF\"],\"font\":{\"color\":\"rgb(36,36,36)\"},\"hovermode\":\"closest\",\"hoverlabel\":{\"align\":\"left\"},\"paper_bgcolor\":\"white\",\"plot_bgcolor\":\"white\",\"polar\":{\"bgcolor\":\"white\",\"angularaxis\":{\"gridcolor\":\"rgb(232,232,232)\",\"linecolor\":\"rgb(36,36,36)\",\"showgrid\":false,\"showline\":true,\"ticks\":\"outside\"},\"radialaxis\":{\"gridcolor\":\"rgb(232,232,232)\",\"linecolor\":\"rgb(36,36,36)\",\"showgrid\":false,\"showline\":true,\"ticks\":\"outside\"}},\"ternary\":{\"bgcolor\":\"white\",\"aaxis\":{\"gridcolor\":\"rgb(232,232,232)\",\"linecolor\":\"rgb(36,36,36)\",\"showgrid\":false,\"showline\":true,\"ticks\":\"outside\"},\"baxis\":{\"gridcolor\":\"rgb(232,232,232)\",\"linecolor\":\"rgb(36,36,36)\",\"showgrid\":false,\"showline\":true,\"ticks\":\"outside\"},\"caxis\":{\"gridcolor\":\"rgb(232,232,232)\",\"linecolor\":\"rgb(36,36,36)\",\"showgrid\":false,\"showline\":true,\"ticks\":\"outside\"}},\"coloraxis\":{\"colorbar\":{\"outlinewidth\":1,\"tickcolor\":\"rgb(36,36,36)\",\"ticks\":\"outside\"}},\"colorscale\":{\"sequential\":[[0.0,\"#440154\"],[0.1111111111111111,\"#482878\"],[0.2222222222222222,\"#3e4989\"],[0.3333333333333333,\"#31688e\"],[0.4444444444444444,\"#26828e\"],[0.5555555555555556,\"#1f9e89\"],[0.6666666666666666,\"#35b779\"],[0.7777777777777778,\"#6ece58\"],[0.8888888888888888,\"#b5de2b\"],[1.0,\"#fde725\"]],\"sequentialminus\":[[0.0,\"#440154\"],[0.1111111111111111,\"#482878\"],[0.2222222222222222,\"#3e4989\"],[0.3333333333333333,\"#31688e\"],[0.4444444444444444,\"#26828e\"],[0.5555555555555556,\"#1f9e89\"],[0.6666666666666666,\"#35b779\"],[0.7777777777777778,\"#6ece58\"],[0.8888888888888888,\"#b5de2b\"],[1.0,\"#fde725\"]],\"diverging\":[[0.0,\"rgb(103,0,31)\"],[0.1,\"rgb(178,24,43)\"],[0.2,\"rgb(214,96,77)\"],[0.3,\"rgb(244,165,130)\"],[0.4,\"rgb(253,219,199)\"],[0.5,\"rgb(247,247,247)\"],[0.6,\"rgb(209,229,240)\"],[0.7,\"rgb(146,197,222)\"],[0.8,\"rgb(67,147,195)\"],[0.9,\"rgb(33,102,172)\"],[1.0,\"rgb(5,48,97)\"]]},\"xaxis\":{\"gridcolor\":\"rgb(232,232,232)\",\"linecolor\":\"rgb(36,36,36)\",\"showgrid\":false,\"showline\":true,\"ticks\":\"outside\",\"title\":{\"standoff\":15},\"zerolinecolor\":\"rgb(36,36,36)\",\"automargin\":true,\"zeroline\":false},\"yaxis\":{\"gridcolor\":\"rgb(232,232,232)\",\"linecolor\":\"rgb(36,36,36)\",\"showgrid\":false,\"showline\":true,\"ticks\":\"outside\",\"title\":{\"standoff\":15},\"zerolinecolor\":\"rgb(36,36,36)\",\"automargin\":true,\"zeroline\":false},\"scene\":{\"xaxis\":{\"backgroundcolor\":\"white\",\"gridcolor\":\"rgb(232,232,232)\",\"linecolor\":\"rgb(36,36,36)\",\"showbackground\":true,\"showgrid\":false,\"showline\":true,\"ticks\":\"outside\",\"zerolinecolor\":\"rgb(36,36,36)\",\"gridwidth\":2,\"zeroline\":false},\"yaxis\":{\"backgroundcolor\":\"white\",\"gridcolor\":\"rgb(232,232,232)\",\"linecolor\":\"rgb(36,36,36)\",\"showbackground\":true,\"showgrid\":false,\"showline\":true,\"ticks\":\"outside\",\"zerolinecolor\":\"rgb(36,36,36)\",\"gridwidth\":2,\"zeroline\":false},\"zaxis\":{\"backgroundcolor\":\"white\",\"gridcolor\":\"rgb(232,232,232)\",\"linecolor\":\"rgb(36,36,36)\",\"showbackground\":true,\"showgrid\":false,\"showline\":true,\"ticks\":\"outside\",\"zerolinecolor\":\"rgb(36,36,36)\",\"gridwidth\":2,\"zeroline\":false}},\"shapedefaults\":{\"fillcolor\":\"black\",\"line\":{\"width\":0},\"opacity\":0.3},\"annotationdefaults\":{\"arrowhead\":0,\"arrowwidth\":1},\"geo\":{\"bgcolor\":\"white\",\"landcolor\":\"white\",\"subunitcolor\":\"white\",\"showland\":true,\"showlakes\":true,\"lakecolor\":\"white\"},\"title\":{\"x\":0.05},\"mapbox\":{\"style\":\"light\"}}},\"title\":{\"text\":\"Carbonate formation energies\"},\"xaxis\":{\"title\":{\"text\":\"Experimental dGf (eV/f.u.)\"}},\"yaxis\":{\"title\":{\"text\":\"Calculated dGf (eV/f.u.)\"}}},                        {\"responsive\": true}                    ).then(function(){\n",
       "                            \n",
       "var gd = document.getElementById('5af9cd9e-01c5-4f8e-a671-8a42f7b1b5ff');\n",
       "var x = new MutationObserver(function (mutations, observer) {{\n",
       "        var display = window.getComputedStyle(gd).display;\n",
       "        if (!display || display === 'none') {{\n",
       "            console.log([gd, 'removed!']);\n",
       "            Plotly.purge(gd);\n",
       "            observer.disconnect();\n",
       "        }}\n",
       "}});\n",
       "\n",
       "// Listen for the removal of the full notebook cells\n",
       "var notebookContainer = gd.closest('#notebook-container');\n",
       "if (notebookContainer) {{\n",
       "    x.observe(notebookContainer, {childList: true});\n",
       "}}\n",
       "\n",
       "// Listen for the clearing of the current output cell\n",
       "var outputEl = gd.closest('.output');\n",
       "if (outputEl) {{\n",
       "    x.observe(outputEl, {childList: true});\n",
       "}}\n",
       "\n",
       "                        })                };                });            </script>        </div>"
      ]
     },
     "metadata": {},
     "output_type": "display_data"
    }
   ],
   "source": [
    "df = pandas.DataFrame({\"x\":energies_exp, \"y\":energies_calc, \"name\":names})\n",
    "\n",
    "scatter = px.scatter(df, x=\"x\", y=\"y\", hover_name=\"name\", symbol=\"name\", color=\"name\")\n",
    "line = px.line(x=[-12, -4], y=[-12, -4])\n",
    "\n",
    "fig = go.Figure(scatter.data + line.data)\n",
    "fig.update_layout({\"title\": \"Carbonate formation energies\",\n",
    "                   \"xaxis_title\":\"Experimental dGf (eV/f.u.)\",\n",
    "                   \"yaxis_title\":\"Calculated dGf (eV/f.u.)\"})\n",
    "fig.show()"
   ]
  },
  {
   "cell_type": "markdown",
   "id": "e5a2cccd",
   "metadata": {},
   "source": [
    "### Fitting correction with scipy.optimize.minimize\n",
    "Minimizing the mean absolute error (MAE) for all corrected phases."
   ]
  },
  {
   "cell_type": "code",
   "execution_count": 27,
   "id": "11917ec8",
   "metadata": {},
   "outputs": [],
   "source": [
    "def func(correction):\n",
    "    return np.mean(np.abs((df[\"y\"] + correction) - df[\"x\"]))  # definition of MAE"
   ]
  },
  {
   "cell_type": "code",
   "execution_count": 28,
   "id": "d2a7cd76",
   "metadata": {},
   "outputs": [],
   "source": [
    "final_correction = minimize(func, 0.25).x[0]"
   ]
  },
  {
   "cell_type": "code",
   "execution_count": 29,
   "id": "81b901ab",
   "metadata": {},
   "outputs": [
    {
     "data": {
      "application/vnd.plotly.v1+json": {
       "config": {
        "plotlyServerURL": "https://plot.ly"
       },
       "data": [
        {
         "hovertemplate": "<b>%{hovertext}</b><br><br>name=Ag2CO3<br>x=%{x}<br>y=%{y}<extra></extra>",
         "hovertext": [
          "Ag2CO3"
         ],
         "legendgroup": "Ag2CO3",
         "marker": {
          "color": "#1F77B4",
          "symbol": "circle"
         },
         "mode": "markers",
         "name": "Ag2CO3",
         "orientation": "v",
         "showlegend": true,
         "type": "scatter",
         "x": [
          -4.523490740122578
         ],
         "xaxis": "x",
         "y": [
          -4.863226486117991
         ],
         "yaxis": "y"
        },
        {
         "hovertemplate": "<b>%{hovertext}</b><br><br>name=BaCO3<br>x=%{x}<br>y=%{y}<extra></extra>",
         "hovertext": [
          "BaCO3"
         ],
         "legendgroup": "BaCO3",
         "marker": {
          "color": "#FF7F0E",
          "symbol": "diamond"
         },
         "mode": "markers",
         "name": "BaCO3",
         "orientation": "v",
         "showlegend": true,
         "type": "scatter",
         "x": [
          -11.729310728660675
         ],
         "xaxis": "x",
         "y": [
          -11.806066883898787
         ],
         "yaxis": "y"
        },
        {
         "hovertemplate": "<b>%{hovertext}</b><br><br>name=CaCO3<br>x=%{x}<br>y=%{y}<extra></extra>",
         "hovertext": [
          "CaCO3"
         ],
         "legendgroup": "CaCO3",
         "marker": {
          "color": "#2CA02C",
          "symbol": "square"
         },
         "mode": "markers",
         "name": "CaCO3",
         "orientation": "v",
         "showlegend": true,
         "type": "scatter",
         "x": [
          -11.697022798117317
         ],
         "xaxis": "x",
         "y": [
          -11.817287235995206
         ],
         "yaxis": "y"
        },
        {
         "hovertemplate": "<b>%{hovertext}</b><br><br>name=CdCO3<br>x=%{x}<br>y=%{y}<extra></extra>",
         "hovertext": [
          "CdCO3"
         ],
         "legendgroup": "CdCO3",
         "marker": {
          "color": "#D62728",
          "symbol": "x"
         },
         "mode": "markers",
         "name": "CdCO3",
         "orientation": "v",
         "showlegend": true,
         "type": "scatter",
         "x": [
          -7.018997735710281
         ],
         "xaxis": "x",
         "y": [
          -7.121570558336273
         ],
         "yaxis": "y"
        },
        {
         "hovertemplate": "<b>%{hovertext}</b><br><br>name=Cs2CO3<br>x=%{x}<br>y=%{y}<extra></extra>",
         "hovertext": [
          "Cs2CO3"
         ],
         "legendgroup": "Cs2CO3",
         "marker": {
          "color": "#9467BD",
          "symbol": "cross"
         },
         "mode": "markers",
         "name": "Cs2CO3",
         "orientation": "v",
         "showlegend": true,
         "type": "scatter",
         "x": [
          -10.894131627283759
         ],
         "xaxis": "x",
         "y": [
          -10.639973964114011
         ],
         "yaxis": "y"
        },
        {
         "hovertemplate": "<b>%{hovertext}</b><br><br>name=FeCO3<br>x=%{x}<br>y=%{y}<extra></extra>",
         "hovertext": [
          "FeCO3"
         ],
         "legendgroup": "FeCO3",
         "marker": {
          "color": "#8C564B",
          "symbol": "circle"
         },
         "mode": "markers",
         "name": "FeCO3",
         "orientation": "v",
         "showlegend": true,
         "type": "scatter",
         "x": [
          -6.929197226894303
         ],
         "xaxis": "x",
         "y": [
          -7.31283394764046
         ],
         "yaxis": "y"
        },
        {
         "hovertemplate": "<b>%{hovertext}</b><br><br>name=K2CO3<br>x=%{x}<br>y=%{y}<extra></extra>",
         "hovertext": [
          "K2CO3"
         ],
         "legendgroup": "K2CO3",
         "marker": {
          "color": "#E377C2",
          "symbol": "diamond"
         },
         "mode": "markers",
         "name": "K2CO3",
         "orientation": "v",
         "showlegend": true,
         "type": "scatter",
         "x": [
          -11.028037676944543
         ],
         "xaxis": "x",
         "y": [
          -10.901533294114339
         ],
         "yaxis": "y"
        },
        {
         "hovertemplate": "<b>%{hovertext}</b><br><br>name=Li2CO3<br>x=%{x}<br>y=%{y}<extra></extra>",
         "hovertext": [
          "Li2CO3"
         ],
         "legendgroup": "Li2CO3",
         "marker": {
          "color": "#7F7F7F",
          "symbol": "square"
         },
         "mode": "markers",
         "name": "Li2CO3",
         "orientation": "v",
         "showlegend": true,
         "type": "scatter",
         "x": [
          -11.728638626956926
         ],
         "xaxis": "x",
         "y": [
          -11.72863863337285
         ],
         "yaxis": "y"
        },
        {
         "hovertemplate": "<b>%{hovertext}</b><br><br>name=MgCO3<br>x=%{x}<br>y=%{y}<extra></extra>",
         "hovertext": [
          "MgCO3"
         ],
         "legendgroup": "MgCO3",
         "marker": {
          "color": "#BCBD22",
          "symbol": "x"
         },
         "mode": "markers",
         "name": "MgCO3",
         "orientation": "v",
         "showlegend": true,
         "type": "scatter",
         "x": [
          -10.66327385453301
         ],
         "xaxis": "x",
         "y": [
          -10.530943956717238
         ],
         "yaxis": "y"
        },
        {
         "hovertemplate": "<b>%{hovertext}</b><br><br>name=MnCO3<br>x=%{x}<br>y=%{y}<extra></extra>",
         "hovertext": [
          "MnCO3"
         ],
         "legendgroup": "MnCO3",
         "marker": {
          "color": "#17BECF",
          "symbol": "cross"
         },
         "mode": "markers",
         "name": "MnCO3",
         "orientation": "v",
         "showlegend": true,
         "type": "scatter",
         "x": [
          -8.448687588375233
         ],
         "xaxis": "x",
         "y": [
          -8.432371608304605
         ],
         "yaxis": "y"
        },
        {
         "hovertemplate": "<b>%{hovertext}</b><br><br>name=Na2CO3<br>x=%{x}<br>y=%{y}<extra></extra>",
         "hovertext": [
          "Na2CO3"
         ],
         "legendgroup": "Na2CO3",
         "marker": {
          "color": "#1F77B4",
          "symbol": "circle"
         },
         "mode": "markers",
         "name": "Na2CO3",
         "orientation": "v",
         "showlegend": true,
         "type": "scatter",
         "x": [
          -10.856533778555411
         ],
         "xaxis": "x",
         "y": [
          -10.63390518683892
         ],
         "yaxis": "y"
        },
        {
         "hovertemplate": "<b>%{hovertext}</b><br><br>name=PbCO3<br>x=%{x}<br>y=%{y}<extra></extra>",
         "hovertext": [
          "PbCO3"
         ],
         "legendgroup": "PbCO3",
         "marker": {
          "color": "#FF7F0E",
          "symbol": "diamond"
         },
         "mode": "markers",
         "name": "PbCO3",
         "orientation": "v",
         "showlegend": true,
         "type": "scatter",
         "x": [
          -6.514563134816661
         ],
         "xaxis": "x",
         "y": [
          -7.397571940665506
         ],
         "yaxis": "y"
        },
        {
         "hovertemplate": "<b>%{hovertext}</b><br><br>name=Rb2CO3<br>x=%{x}<br>y=%{y}<extra></extra>",
         "hovertext": [
          "Rb2CO3"
         ],
         "legendgroup": "Rb2CO3",
         "marker": {
          "color": "#2CA02C",
          "symbol": "square"
         },
         "mode": "markers",
         "name": "Rb2CO3",
         "orientation": "v",
         "showlegend": true,
         "type": "scatter",
         "x": [
          -10.97233639890869
         ],
         "xaxis": "x",
         "y": [
          -10.737130764926428
         ],
         "yaxis": "y"
        },
        {
         "hovertemplate": "<b>%{hovertext}</b><br><br>name=SrCO3<br>x=%{x}<br>y=%{y}<extra></extra>",
         "hovertext": [
          "SrCO3"
         ],
         "legendgroup": "SrCO3",
         "marker": {
          "color": "#D62728",
          "symbol": "x"
         },
         "mode": "markers",
         "name": "SrCO3",
         "orientation": "v",
         "showlegend": true,
         "type": "scatter",
         "x": [
          -11.796336838082897
         ],
         "xaxis": "x",
         "y": [
          -11.855613025476645
         ],
         "yaxis": "y"
        },
        {
         "hovertemplate": "<b>%{hovertext}</b><br><br>name=ZnCO3<br>x=%{x}<br>y=%{y}<extra></extra>",
         "hovertext": [
          "ZnCO3"
         ],
         "legendgroup": "ZnCO3",
         "marker": {
          "color": "#9467BD",
          "symbol": "cross"
         },
         "mode": "markers",
         "name": "ZnCO3",
         "orientation": "v",
         "showlegend": true,
         "type": "scatter",
         "x": [
          -7.600479604861418
         ],
         "xaxis": "x",
         "y": [
          -7.429503243705444
         ],
         "yaxis": "y"
        },
        {
         "hovertemplate": "x=%{x}<br>y=%{y}<extra></extra>",
         "legendgroup": "",
         "line": {
          "color": "#1F77B4",
          "dash": "solid"
         },
         "marker": {
          "symbol": "circle"
         },
         "mode": "lines",
         "name": "",
         "orientation": "v",
         "showlegend": false,
         "type": "scatter",
         "x": [
          -12,
          -4
         ],
         "xaxis": "x",
         "y": [
          -12,
          -4
         ],
         "yaxis": "y"
        }
       ],
       "layout": {
        "template": {
         "data": {
          "bar": [
           {
            "error_x": {
             "color": "rgb(36,36,36)"
            },
            "error_y": {
             "color": "rgb(36,36,36)"
            },
            "marker": {
             "line": {
              "color": "white",
              "width": 0.5
             },
             "pattern": {
              "fillmode": "overlay",
              "size": 10,
              "solidity": 0.2
             }
            },
            "type": "bar"
           }
          ],
          "barpolar": [
           {
            "marker": {
             "line": {
              "color": "white",
              "width": 0.5
             },
             "pattern": {
              "fillmode": "overlay",
              "size": 10,
              "solidity": 0.2
             }
            },
            "type": "barpolar"
           }
          ],
          "carpet": [
           {
            "aaxis": {
             "endlinecolor": "rgb(36,36,36)",
             "gridcolor": "white",
             "linecolor": "white",
             "minorgridcolor": "white",
             "startlinecolor": "rgb(36,36,36)"
            },
            "baxis": {
             "endlinecolor": "rgb(36,36,36)",
             "gridcolor": "white",
             "linecolor": "white",
             "minorgridcolor": "white",
             "startlinecolor": "rgb(36,36,36)"
            },
            "type": "carpet"
           }
          ],
          "choropleth": [
           {
            "colorbar": {
             "outlinewidth": 1,
             "tickcolor": "rgb(36,36,36)",
             "ticks": "outside"
            },
            "type": "choropleth"
           }
          ],
          "contour": [
           {
            "colorbar": {
             "outlinewidth": 1,
             "tickcolor": "rgb(36,36,36)",
             "ticks": "outside"
            },
            "colorscale": [
             [
              0,
              "#440154"
             ],
             [
              0.1111111111111111,
              "#482878"
             ],
             [
              0.2222222222222222,
              "#3e4989"
             ],
             [
              0.3333333333333333,
              "#31688e"
             ],
             [
              0.4444444444444444,
              "#26828e"
             ],
             [
              0.5555555555555556,
              "#1f9e89"
             ],
             [
              0.6666666666666666,
              "#35b779"
             ],
             [
              0.7777777777777778,
              "#6ece58"
             ],
             [
              0.8888888888888888,
              "#b5de2b"
             ],
             [
              1,
              "#fde725"
             ]
            ],
            "type": "contour"
           }
          ],
          "contourcarpet": [
           {
            "colorbar": {
             "outlinewidth": 1,
             "tickcolor": "rgb(36,36,36)",
             "ticks": "outside"
            },
            "type": "contourcarpet"
           }
          ],
          "heatmap": [
           {
            "colorbar": {
             "outlinewidth": 1,
             "tickcolor": "rgb(36,36,36)",
             "ticks": "outside"
            },
            "colorscale": [
             [
              0,
              "#440154"
             ],
             [
              0.1111111111111111,
              "#482878"
             ],
             [
              0.2222222222222222,
              "#3e4989"
             ],
             [
              0.3333333333333333,
              "#31688e"
             ],
             [
              0.4444444444444444,
              "#26828e"
             ],
             [
              0.5555555555555556,
              "#1f9e89"
             ],
             [
              0.6666666666666666,
              "#35b779"
             ],
             [
              0.7777777777777778,
              "#6ece58"
             ],
             [
              0.8888888888888888,
              "#b5de2b"
             ],
             [
              1,
              "#fde725"
             ]
            ],
            "type": "heatmap"
           }
          ],
          "heatmapgl": [
           {
            "colorbar": {
             "outlinewidth": 1,
             "tickcolor": "rgb(36,36,36)",
             "ticks": "outside"
            },
            "colorscale": [
             [
              0,
              "#440154"
             ],
             [
              0.1111111111111111,
              "#482878"
             ],
             [
              0.2222222222222222,
              "#3e4989"
             ],
             [
              0.3333333333333333,
              "#31688e"
             ],
             [
              0.4444444444444444,
              "#26828e"
             ],
             [
              0.5555555555555556,
              "#1f9e89"
             ],
             [
              0.6666666666666666,
              "#35b779"
             ],
             [
              0.7777777777777778,
              "#6ece58"
             ],
             [
              0.8888888888888888,
              "#b5de2b"
             ],
             [
              1,
              "#fde725"
             ]
            ],
            "type": "heatmapgl"
           }
          ],
          "histogram": [
           {
            "marker": {
             "line": {
              "color": "white",
              "width": 0.6
             }
            },
            "type": "histogram"
           }
          ],
          "histogram2d": [
           {
            "colorbar": {
             "outlinewidth": 1,
             "tickcolor": "rgb(36,36,36)",
             "ticks": "outside"
            },
            "colorscale": [
             [
              0,
              "#440154"
             ],
             [
              0.1111111111111111,
              "#482878"
             ],
             [
              0.2222222222222222,
              "#3e4989"
             ],
             [
              0.3333333333333333,
              "#31688e"
             ],
             [
              0.4444444444444444,
              "#26828e"
             ],
             [
              0.5555555555555556,
              "#1f9e89"
             ],
             [
              0.6666666666666666,
              "#35b779"
             ],
             [
              0.7777777777777778,
              "#6ece58"
             ],
             [
              0.8888888888888888,
              "#b5de2b"
             ],
             [
              1,
              "#fde725"
             ]
            ],
            "type": "histogram2d"
           }
          ],
          "histogram2dcontour": [
           {
            "colorbar": {
             "outlinewidth": 1,
             "tickcolor": "rgb(36,36,36)",
             "ticks": "outside"
            },
            "colorscale": [
             [
              0,
              "#440154"
             ],
             [
              0.1111111111111111,
              "#482878"
             ],
             [
              0.2222222222222222,
              "#3e4989"
             ],
             [
              0.3333333333333333,
              "#31688e"
             ],
             [
              0.4444444444444444,
              "#26828e"
             ],
             [
              0.5555555555555556,
              "#1f9e89"
             ],
             [
              0.6666666666666666,
              "#35b779"
             ],
             [
              0.7777777777777778,
              "#6ece58"
             ],
             [
              0.8888888888888888,
              "#b5de2b"
             ],
             [
              1,
              "#fde725"
             ]
            ],
            "type": "histogram2dcontour"
           }
          ],
          "mesh3d": [
           {
            "colorbar": {
             "outlinewidth": 1,
             "tickcolor": "rgb(36,36,36)",
             "ticks": "outside"
            },
            "type": "mesh3d"
           }
          ],
          "parcoords": [
           {
            "line": {
             "colorbar": {
              "outlinewidth": 1,
              "tickcolor": "rgb(36,36,36)",
              "ticks": "outside"
             }
            },
            "type": "parcoords"
           }
          ],
          "pie": [
           {
            "automargin": true,
            "type": "pie"
           }
          ],
          "scatter": [
           {
            "fillpattern": {
             "fillmode": "overlay",
             "size": 10,
             "solidity": 0.2
            },
            "type": "scatter"
           }
          ],
          "scatter3d": [
           {
            "line": {
             "colorbar": {
              "outlinewidth": 1,
              "tickcolor": "rgb(36,36,36)",
              "ticks": "outside"
             }
            },
            "marker": {
             "colorbar": {
              "outlinewidth": 1,
              "tickcolor": "rgb(36,36,36)",
              "ticks": "outside"
             }
            },
            "type": "scatter3d"
           }
          ],
          "scattercarpet": [
           {
            "marker": {
             "colorbar": {
              "outlinewidth": 1,
              "tickcolor": "rgb(36,36,36)",
              "ticks": "outside"
             }
            },
            "type": "scattercarpet"
           }
          ],
          "scattergeo": [
           {
            "marker": {
             "colorbar": {
              "outlinewidth": 1,
              "tickcolor": "rgb(36,36,36)",
              "ticks": "outside"
             }
            },
            "type": "scattergeo"
           }
          ],
          "scattergl": [
           {
            "marker": {
             "colorbar": {
              "outlinewidth": 1,
              "tickcolor": "rgb(36,36,36)",
              "ticks": "outside"
             }
            },
            "type": "scattergl"
           }
          ],
          "scattermapbox": [
           {
            "marker": {
             "colorbar": {
              "outlinewidth": 1,
              "tickcolor": "rgb(36,36,36)",
              "ticks": "outside"
             }
            },
            "type": "scattermapbox"
           }
          ],
          "scatterpolar": [
           {
            "marker": {
             "colorbar": {
              "outlinewidth": 1,
              "tickcolor": "rgb(36,36,36)",
              "ticks": "outside"
             }
            },
            "type": "scatterpolar"
           }
          ],
          "scatterpolargl": [
           {
            "marker": {
             "colorbar": {
              "outlinewidth": 1,
              "tickcolor": "rgb(36,36,36)",
              "ticks": "outside"
             }
            },
            "type": "scatterpolargl"
           }
          ],
          "scatterternary": [
           {
            "marker": {
             "colorbar": {
              "outlinewidth": 1,
              "tickcolor": "rgb(36,36,36)",
              "ticks": "outside"
             }
            },
            "type": "scatterternary"
           }
          ],
          "surface": [
           {
            "colorbar": {
             "outlinewidth": 1,
             "tickcolor": "rgb(36,36,36)",
             "ticks": "outside"
            },
            "colorscale": [
             [
              0,
              "#440154"
             ],
             [
              0.1111111111111111,
              "#482878"
             ],
             [
              0.2222222222222222,
              "#3e4989"
             ],
             [
              0.3333333333333333,
              "#31688e"
             ],
             [
              0.4444444444444444,
              "#26828e"
             ],
             [
              0.5555555555555556,
              "#1f9e89"
             ],
             [
              0.6666666666666666,
              "#35b779"
             ],
             [
              0.7777777777777778,
              "#6ece58"
             ],
             [
              0.8888888888888888,
              "#b5de2b"
             ],
             [
              1,
              "#fde725"
             ]
            ],
            "type": "surface"
           }
          ],
          "table": [
           {
            "cells": {
             "fill": {
              "color": "rgb(237,237,237)"
             },
             "line": {
              "color": "white"
             }
            },
            "header": {
             "fill": {
              "color": "rgb(217,217,217)"
             },
             "line": {
              "color": "white"
             }
            },
            "type": "table"
           }
          ]
         },
         "layout": {
          "annotationdefaults": {
           "arrowhead": 0,
           "arrowwidth": 1
          },
          "autotypenumbers": "strict",
          "coloraxis": {
           "colorbar": {
            "outlinewidth": 1,
            "tickcolor": "rgb(36,36,36)",
            "ticks": "outside"
           }
          },
          "colorscale": {
           "diverging": [
            [
             0,
             "rgb(103,0,31)"
            ],
            [
             0.1,
             "rgb(178,24,43)"
            ],
            [
             0.2,
             "rgb(214,96,77)"
            ],
            [
             0.3,
             "rgb(244,165,130)"
            ],
            [
             0.4,
             "rgb(253,219,199)"
            ],
            [
             0.5,
             "rgb(247,247,247)"
            ],
            [
             0.6,
             "rgb(209,229,240)"
            ],
            [
             0.7,
             "rgb(146,197,222)"
            ],
            [
             0.8,
             "rgb(67,147,195)"
            ],
            [
             0.9,
             "rgb(33,102,172)"
            ],
            [
             1,
             "rgb(5,48,97)"
            ]
           ],
           "sequential": [
            [
             0,
             "#440154"
            ],
            [
             0.1111111111111111,
             "#482878"
            ],
            [
             0.2222222222222222,
             "#3e4989"
            ],
            [
             0.3333333333333333,
             "#31688e"
            ],
            [
             0.4444444444444444,
             "#26828e"
            ],
            [
             0.5555555555555556,
             "#1f9e89"
            ],
            [
             0.6666666666666666,
             "#35b779"
            ],
            [
             0.7777777777777778,
             "#6ece58"
            ],
            [
             0.8888888888888888,
             "#b5de2b"
            ],
            [
             1,
             "#fde725"
            ]
           ],
           "sequentialminus": [
            [
             0,
             "#440154"
            ],
            [
             0.1111111111111111,
             "#482878"
            ],
            [
             0.2222222222222222,
             "#3e4989"
            ],
            [
             0.3333333333333333,
             "#31688e"
            ],
            [
             0.4444444444444444,
             "#26828e"
            ],
            [
             0.5555555555555556,
             "#1f9e89"
            ],
            [
             0.6666666666666666,
             "#35b779"
            ],
            [
             0.7777777777777778,
             "#6ece58"
            ],
            [
             0.8888888888888888,
             "#b5de2b"
            ],
            [
             1,
             "#fde725"
            ]
           ]
          },
          "colorway": [
           "#1F77B4",
           "#FF7F0E",
           "#2CA02C",
           "#D62728",
           "#9467BD",
           "#8C564B",
           "#E377C2",
           "#7F7F7F",
           "#BCBD22",
           "#17BECF"
          ],
          "font": {
           "color": "rgb(36,36,36)"
          },
          "geo": {
           "bgcolor": "white",
           "lakecolor": "white",
           "landcolor": "white",
           "showlakes": true,
           "showland": true,
           "subunitcolor": "white"
          },
          "hoverlabel": {
           "align": "left"
          },
          "hovermode": "closest",
          "mapbox": {
           "style": "light"
          },
          "paper_bgcolor": "white",
          "plot_bgcolor": "white",
          "polar": {
           "angularaxis": {
            "gridcolor": "rgb(232,232,232)",
            "linecolor": "rgb(36,36,36)",
            "showgrid": false,
            "showline": true,
            "ticks": "outside"
           },
           "bgcolor": "white",
           "radialaxis": {
            "gridcolor": "rgb(232,232,232)",
            "linecolor": "rgb(36,36,36)",
            "showgrid": false,
            "showline": true,
            "ticks": "outside"
           }
          },
          "scene": {
           "xaxis": {
            "backgroundcolor": "white",
            "gridcolor": "rgb(232,232,232)",
            "gridwidth": 2,
            "linecolor": "rgb(36,36,36)",
            "showbackground": true,
            "showgrid": false,
            "showline": true,
            "ticks": "outside",
            "zeroline": false,
            "zerolinecolor": "rgb(36,36,36)"
           },
           "yaxis": {
            "backgroundcolor": "white",
            "gridcolor": "rgb(232,232,232)",
            "gridwidth": 2,
            "linecolor": "rgb(36,36,36)",
            "showbackground": true,
            "showgrid": false,
            "showline": true,
            "ticks": "outside",
            "zeroline": false,
            "zerolinecolor": "rgb(36,36,36)"
           },
           "zaxis": {
            "backgroundcolor": "white",
            "gridcolor": "rgb(232,232,232)",
            "gridwidth": 2,
            "linecolor": "rgb(36,36,36)",
            "showbackground": true,
            "showgrid": false,
            "showline": true,
            "ticks": "outside",
            "zeroline": false,
            "zerolinecolor": "rgb(36,36,36)"
           }
          },
          "shapedefaults": {
           "fillcolor": "black",
           "line": {
            "width": 0
           },
           "opacity": 0.3
          },
          "ternary": {
           "aaxis": {
            "gridcolor": "rgb(232,232,232)",
            "linecolor": "rgb(36,36,36)",
            "showgrid": false,
            "showline": true,
            "ticks": "outside"
           },
           "baxis": {
            "gridcolor": "rgb(232,232,232)",
            "linecolor": "rgb(36,36,36)",
            "showgrid": false,
            "showline": true,
            "ticks": "outside"
           },
           "bgcolor": "white",
           "caxis": {
            "gridcolor": "rgb(232,232,232)",
            "linecolor": "rgb(36,36,36)",
            "showgrid": false,
            "showline": true,
            "ticks": "outside"
           }
          },
          "title": {
           "x": 0.05
          },
          "xaxis": {
           "automargin": true,
           "gridcolor": "rgb(232,232,232)",
           "linecolor": "rgb(36,36,36)",
           "showgrid": false,
           "showline": true,
           "ticks": "outside",
           "title": {
            "standoff": 15
           },
           "zeroline": false,
           "zerolinecolor": "rgb(36,36,36)"
          },
          "yaxis": {
           "automargin": true,
           "gridcolor": "rgb(232,232,232)",
           "linecolor": "rgb(36,36,36)",
           "showgrid": false,
           "showline": true,
           "ticks": "outside",
           "title": {
            "standoff": 15
           },
           "zeroline": false,
           "zerolinecolor": "rgb(36,36,36)"
          }
         }
        },
        "title": {
         "text": "Corrected carbonate formation energies"
        },
        "xaxis": {
         "title": {
          "text": "Experimental dGf (eV/f.u.)"
         }
        },
        "yaxis": {
         "title": {
          "text": "Calculated dGf (eV/f.u.)"
         }
        }
       }
      },
      "text/html": [
       "<div>                            <div id=\"8ccb15cf-55aa-4add-a52d-1a3ba6538ea3\" class=\"plotly-graph-div\" style=\"height:525px; width:100%;\"></div>            <script type=\"text/javascript\">                require([\"plotly\"], function(Plotly) {                    window.PLOTLYENV=window.PLOTLYENV || {};                                    if (document.getElementById(\"8ccb15cf-55aa-4add-a52d-1a3ba6538ea3\")) {                    Plotly.newPlot(                        \"8ccb15cf-55aa-4add-a52d-1a3ba6538ea3\",                        [{\"hovertemplate\":\"<b>%{hovertext}</b><br><br>name=Ag2CO3<br>x=%{x}<br>y=%{y}<extra></extra>\",\"hovertext\":[\"Ag2CO3\"],\"legendgroup\":\"Ag2CO3\",\"marker\":{\"color\":\"#1F77B4\",\"symbol\":\"circle\"},\"mode\":\"markers\",\"name\":\"Ag2CO3\",\"orientation\":\"v\",\"showlegend\":true,\"x\":[-4.523490740122578],\"xaxis\":\"x\",\"y\":[-4.863226486117991],\"yaxis\":\"y\",\"type\":\"scatter\"},{\"hovertemplate\":\"<b>%{hovertext}</b><br><br>name=BaCO3<br>x=%{x}<br>y=%{y}<extra></extra>\",\"hovertext\":[\"BaCO3\"],\"legendgroup\":\"BaCO3\",\"marker\":{\"color\":\"#FF7F0E\",\"symbol\":\"diamond\"},\"mode\":\"markers\",\"name\":\"BaCO3\",\"orientation\":\"v\",\"showlegend\":true,\"x\":[-11.729310728660675],\"xaxis\":\"x\",\"y\":[-11.806066883898787],\"yaxis\":\"y\",\"type\":\"scatter\"},{\"hovertemplate\":\"<b>%{hovertext}</b><br><br>name=CaCO3<br>x=%{x}<br>y=%{y}<extra></extra>\",\"hovertext\":[\"CaCO3\"],\"legendgroup\":\"CaCO3\",\"marker\":{\"color\":\"#2CA02C\",\"symbol\":\"square\"},\"mode\":\"markers\",\"name\":\"CaCO3\",\"orientation\":\"v\",\"showlegend\":true,\"x\":[-11.697022798117317],\"xaxis\":\"x\",\"y\":[-11.817287235995206],\"yaxis\":\"y\",\"type\":\"scatter\"},{\"hovertemplate\":\"<b>%{hovertext}</b><br><br>name=CdCO3<br>x=%{x}<br>y=%{y}<extra></extra>\",\"hovertext\":[\"CdCO3\"],\"legendgroup\":\"CdCO3\",\"marker\":{\"color\":\"#D62728\",\"symbol\":\"x\"},\"mode\":\"markers\",\"name\":\"CdCO3\",\"orientation\":\"v\",\"showlegend\":true,\"x\":[-7.018997735710281],\"xaxis\":\"x\",\"y\":[-7.121570558336273],\"yaxis\":\"y\",\"type\":\"scatter\"},{\"hovertemplate\":\"<b>%{hovertext}</b><br><br>name=Cs2CO3<br>x=%{x}<br>y=%{y}<extra></extra>\",\"hovertext\":[\"Cs2CO3\"],\"legendgroup\":\"Cs2CO3\",\"marker\":{\"color\":\"#9467BD\",\"symbol\":\"cross\"},\"mode\":\"markers\",\"name\":\"Cs2CO3\",\"orientation\":\"v\",\"showlegend\":true,\"x\":[-10.894131627283759],\"xaxis\":\"x\",\"y\":[-10.639973964114011],\"yaxis\":\"y\",\"type\":\"scatter\"},{\"hovertemplate\":\"<b>%{hovertext}</b><br><br>name=FeCO3<br>x=%{x}<br>y=%{y}<extra></extra>\",\"hovertext\":[\"FeCO3\"],\"legendgroup\":\"FeCO3\",\"marker\":{\"color\":\"#8C564B\",\"symbol\":\"circle\"},\"mode\":\"markers\",\"name\":\"FeCO3\",\"orientation\":\"v\",\"showlegend\":true,\"x\":[-6.929197226894303],\"xaxis\":\"x\",\"y\":[-7.31283394764046],\"yaxis\":\"y\",\"type\":\"scatter\"},{\"hovertemplate\":\"<b>%{hovertext}</b><br><br>name=K2CO3<br>x=%{x}<br>y=%{y}<extra></extra>\",\"hovertext\":[\"K2CO3\"],\"legendgroup\":\"K2CO3\",\"marker\":{\"color\":\"#E377C2\",\"symbol\":\"diamond\"},\"mode\":\"markers\",\"name\":\"K2CO3\",\"orientation\":\"v\",\"showlegend\":true,\"x\":[-11.028037676944543],\"xaxis\":\"x\",\"y\":[-10.901533294114339],\"yaxis\":\"y\",\"type\":\"scatter\"},{\"hovertemplate\":\"<b>%{hovertext}</b><br><br>name=Li2CO3<br>x=%{x}<br>y=%{y}<extra></extra>\",\"hovertext\":[\"Li2CO3\"],\"legendgroup\":\"Li2CO3\",\"marker\":{\"color\":\"#7F7F7F\",\"symbol\":\"square\"},\"mode\":\"markers\",\"name\":\"Li2CO3\",\"orientation\":\"v\",\"showlegend\":true,\"x\":[-11.728638626956926],\"xaxis\":\"x\",\"y\":[-11.72863863337285],\"yaxis\":\"y\",\"type\":\"scatter\"},{\"hovertemplate\":\"<b>%{hovertext}</b><br><br>name=MgCO3<br>x=%{x}<br>y=%{y}<extra></extra>\",\"hovertext\":[\"MgCO3\"],\"legendgroup\":\"MgCO3\",\"marker\":{\"color\":\"#BCBD22\",\"symbol\":\"x\"},\"mode\":\"markers\",\"name\":\"MgCO3\",\"orientation\":\"v\",\"showlegend\":true,\"x\":[-10.66327385453301],\"xaxis\":\"x\",\"y\":[-10.530943956717238],\"yaxis\":\"y\",\"type\":\"scatter\"},{\"hovertemplate\":\"<b>%{hovertext}</b><br><br>name=MnCO3<br>x=%{x}<br>y=%{y}<extra></extra>\",\"hovertext\":[\"MnCO3\"],\"legendgroup\":\"MnCO3\",\"marker\":{\"color\":\"#17BECF\",\"symbol\":\"cross\"},\"mode\":\"markers\",\"name\":\"MnCO3\",\"orientation\":\"v\",\"showlegend\":true,\"x\":[-8.448687588375233],\"xaxis\":\"x\",\"y\":[-8.432371608304605],\"yaxis\":\"y\",\"type\":\"scatter\"},{\"hovertemplate\":\"<b>%{hovertext}</b><br><br>name=Na2CO3<br>x=%{x}<br>y=%{y}<extra></extra>\",\"hovertext\":[\"Na2CO3\"],\"legendgroup\":\"Na2CO3\",\"marker\":{\"color\":\"#1F77B4\",\"symbol\":\"circle\"},\"mode\":\"markers\",\"name\":\"Na2CO3\",\"orientation\":\"v\",\"showlegend\":true,\"x\":[-10.856533778555411],\"xaxis\":\"x\",\"y\":[-10.63390518683892],\"yaxis\":\"y\",\"type\":\"scatter\"},{\"hovertemplate\":\"<b>%{hovertext}</b><br><br>name=PbCO3<br>x=%{x}<br>y=%{y}<extra></extra>\",\"hovertext\":[\"PbCO3\"],\"legendgroup\":\"PbCO3\",\"marker\":{\"color\":\"#FF7F0E\",\"symbol\":\"diamond\"},\"mode\":\"markers\",\"name\":\"PbCO3\",\"orientation\":\"v\",\"showlegend\":true,\"x\":[-6.514563134816661],\"xaxis\":\"x\",\"y\":[-7.397571940665506],\"yaxis\":\"y\",\"type\":\"scatter\"},{\"hovertemplate\":\"<b>%{hovertext}</b><br><br>name=Rb2CO3<br>x=%{x}<br>y=%{y}<extra></extra>\",\"hovertext\":[\"Rb2CO3\"],\"legendgroup\":\"Rb2CO3\",\"marker\":{\"color\":\"#2CA02C\",\"symbol\":\"square\"},\"mode\":\"markers\",\"name\":\"Rb2CO3\",\"orientation\":\"v\",\"showlegend\":true,\"x\":[-10.97233639890869],\"xaxis\":\"x\",\"y\":[-10.737130764926428],\"yaxis\":\"y\",\"type\":\"scatter\"},{\"hovertemplate\":\"<b>%{hovertext}</b><br><br>name=SrCO3<br>x=%{x}<br>y=%{y}<extra></extra>\",\"hovertext\":[\"SrCO3\"],\"legendgroup\":\"SrCO3\",\"marker\":{\"color\":\"#D62728\",\"symbol\":\"x\"},\"mode\":\"markers\",\"name\":\"SrCO3\",\"orientation\":\"v\",\"showlegend\":true,\"x\":[-11.796336838082897],\"xaxis\":\"x\",\"y\":[-11.855613025476645],\"yaxis\":\"y\",\"type\":\"scatter\"},{\"hovertemplate\":\"<b>%{hovertext}</b><br><br>name=ZnCO3<br>x=%{x}<br>y=%{y}<extra></extra>\",\"hovertext\":[\"ZnCO3\"],\"legendgroup\":\"ZnCO3\",\"marker\":{\"color\":\"#9467BD\",\"symbol\":\"cross\"},\"mode\":\"markers\",\"name\":\"ZnCO3\",\"orientation\":\"v\",\"showlegend\":true,\"x\":[-7.600479604861418],\"xaxis\":\"x\",\"y\":[-7.429503243705444],\"yaxis\":\"y\",\"type\":\"scatter\"},{\"hovertemplate\":\"x=%{x}<br>y=%{y}<extra></extra>\",\"legendgroup\":\"\",\"line\":{\"color\":\"#1F77B4\",\"dash\":\"solid\"},\"marker\":{\"symbol\":\"circle\"},\"mode\":\"lines\",\"name\":\"\",\"orientation\":\"v\",\"showlegend\":false,\"x\":[-12,-4],\"xaxis\":\"x\",\"y\":[-12,-4],\"yaxis\":\"y\",\"type\":\"scatter\"}],                        {\"template\":{\"data\":{\"histogram2dcontour\":[{\"type\":\"histogram2dcontour\",\"colorbar\":{\"outlinewidth\":1,\"tickcolor\":\"rgb(36,36,36)\",\"ticks\":\"outside\"},\"colorscale\":[[0.0,\"#440154\"],[0.1111111111111111,\"#482878\"],[0.2222222222222222,\"#3e4989\"],[0.3333333333333333,\"#31688e\"],[0.4444444444444444,\"#26828e\"],[0.5555555555555556,\"#1f9e89\"],[0.6666666666666666,\"#35b779\"],[0.7777777777777778,\"#6ece58\"],[0.8888888888888888,\"#b5de2b\"],[1.0,\"#fde725\"]]}],\"choropleth\":[{\"type\":\"choropleth\",\"colorbar\":{\"outlinewidth\":1,\"tickcolor\":\"rgb(36,36,36)\",\"ticks\":\"outside\"}}],\"histogram2d\":[{\"type\":\"histogram2d\",\"colorbar\":{\"outlinewidth\":1,\"tickcolor\":\"rgb(36,36,36)\",\"ticks\":\"outside\"},\"colorscale\":[[0.0,\"#440154\"],[0.1111111111111111,\"#482878\"],[0.2222222222222222,\"#3e4989\"],[0.3333333333333333,\"#31688e\"],[0.4444444444444444,\"#26828e\"],[0.5555555555555556,\"#1f9e89\"],[0.6666666666666666,\"#35b779\"],[0.7777777777777778,\"#6ece58\"],[0.8888888888888888,\"#b5de2b\"],[1.0,\"#fde725\"]]}],\"heatmap\":[{\"type\":\"heatmap\",\"colorbar\":{\"outlinewidth\":1,\"tickcolor\":\"rgb(36,36,36)\",\"ticks\":\"outside\"},\"colorscale\":[[0.0,\"#440154\"],[0.1111111111111111,\"#482878\"],[0.2222222222222222,\"#3e4989\"],[0.3333333333333333,\"#31688e\"],[0.4444444444444444,\"#26828e\"],[0.5555555555555556,\"#1f9e89\"],[0.6666666666666666,\"#35b779\"],[0.7777777777777778,\"#6ece58\"],[0.8888888888888888,\"#b5de2b\"],[1.0,\"#fde725\"]]}],\"heatmapgl\":[{\"type\":\"heatmapgl\",\"colorbar\":{\"outlinewidth\":1,\"tickcolor\":\"rgb(36,36,36)\",\"ticks\":\"outside\"},\"colorscale\":[[0.0,\"#440154\"],[0.1111111111111111,\"#482878\"],[0.2222222222222222,\"#3e4989\"],[0.3333333333333333,\"#31688e\"],[0.4444444444444444,\"#26828e\"],[0.5555555555555556,\"#1f9e89\"],[0.6666666666666666,\"#35b779\"],[0.7777777777777778,\"#6ece58\"],[0.8888888888888888,\"#b5de2b\"],[1.0,\"#fde725\"]]}],\"contourcarpet\":[{\"type\":\"contourcarpet\",\"colorbar\":{\"outlinewidth\":1,\"tickcolor\":\"rgb(36,36,36)\",\"ticks\":\"outside\"}}],\"contour\":[{\"type\":\"contour\",\"colorbar\":{\"outlinewidth\":1,\"tickcolor\":\"rgb(36,36,36)\",\"ticks\":\"outside\"},\"colorscale\":[[0.0,\"#440154\"],[0.1111111111111111,\"#482878\"],[0.2222222222222222,\"#3e4989\"],[0.3333333333333333,\"#31688e\"],[0.4444444444444444,\"#26828e\"],[0.5555555555555556,\"#1f9e89\"],[0.6666666666666666,\"#35b779\"],[0.7777777777777778,\"#6ece58\"],[0.8888888888888888,\"#b5de2b\"],[1.0,\"#fde725\"]]}],\"surface\":[{\"type\":\"surface\",\"colorbar\":{\"outlinewidth\":1,\"tickcolor\":\"rgb(36,36,36)\",\"ticks\":\"outside\"},\"colorscale\":[[0.0,\"#440154\"],[0.1111111111111111,\"#482878\"],[0.2222222222222222,\"#3e4989\"],[0.3333333333333333,\"#31688e\"],[0.4444444444444444,\"#26828e\"],[0.5555555555555556,\"#1f9e89\"],[0.6666666666666666,\"#35b779\"],[0.7777777777777778,\"#6ece58\"],[0.8888888888888888,\"#b5de2b\"],[1.0,\"#fde725\"]]}],\"mesh3d\":[{\"type\":\"mesh3d\",\"colorbar\":{\"outlinewidth\":1,\"tickcolor\":\"rgb(36,36,36)\",\"ticks\":\"outside\"}}],\"scatter\":[{\"fillpattern\":{\"fillmode\":\"overlay\",\"size\":10,\"solidity\":0.2},\"type\":\"scatter\"}],\"parcoords\":[{\"type\":\"parcoords\",\"line\":{\"colorbar\":{\"outlinewidth\":1,\"tickcolor\":\"rgb(36,36,36)\",\"ticks\":\"outside\"}}}],\"scatterpolargl\":[{\"type\":\"scatterpolargl\",\"marker\":{\"colorbar\":{\"outlinewidth\":1,\"tickcolor\":\"rgb(36,36,36)\",\"ticks\":\"outside\"}}}],\"bar\":[{\"error_x\":{\"color\":\"rgb(36,36,36)\"},\"error_y\":{\"color\":\"rgb(36,36,36)\"},\"marker\":{\"line\":{\"color\":\"white\",\"width\":0.5},\"pattern\":{\"fillmode\":\"overlay\",\"size\":10,\"solidity\":0.2}},\"type\":\"bar\"}],\"scattergeo\":[{\"type\":\"scattergeo\",\"marker\":{\"colorbar\":{\"outlinewidth\":1,\"tickcolor\":\"rgb(36,36,36)\",\"ticks\":\"outside\"}}}],\"scatterpolar\":[{\"type\":\"scatterpolar\",\"marker\":{\"colorbar\":{\"outlinewidth\":1,\"tickcolor\":\"rgb(36,36,36)\",\"ticks\":\"outside\"}}}],\"histogram\":[{\"marker\":{\"line\":{\"color\":\"white\",\"width\":0.6}},\"type\":\"histogram\"}],\"scattergl\":[{\"type\":\"scattergl\",\"marker\":{\"colorbar\":{\"outlinewidth\":1,\"tickcolor\":\"rgb(36,36,36)\",\"ticks\":\"outside\"}}}],\"scatter3d\":[{\"type\":\"scatter3d\",\"line\":{\"colorbar\":{\"outlinewidth\":1,\"tickcolor\":\"rgb(36,36,36)\",\"ticks\":\"outside\"}},\"marker\":{\"colorbar\":{\"outlinewidth\":1,\"tickcolor\":\"rgb(36,36,36)\",\"ticks\":\"outside\"}}}],\"scattermapbox\":[{\"type\":\"scattermapbox\",\"marker\":{\"colorbar\":{\"outlinewidth\":1,\"tickcolor\":\"rgb(36,36,36)\",\"ticks\":\"outside\"}}}],\"scatterternary\":[{\"type\":\"scatterternary\",\"marker\":{\"colorbar\":{\"outlinewidth\":1,\"tickcolor\":\"rgb(36,36,36)\",\"ticks\":\"outside\"}}}],\"scattercarpet\":[{\"type\":\"scattercarpet\",\"marker\":{\"colorbar\":{\"outlinewidth\":1,\"tickcolor\":\"rgb(36,36,36)\",\"ticks\":\"outside\"}}}],\"carpet\":[{\"aaxis\":{\"endlinecolor\":\"rgb(36,36,36)\",\"gridcolor\":\"white\",\"linecolor\":\"white\",\"minorgridcolor\":\"white\",\"startlinecolor\":\"rgb(36,36,36)\"},\"baxis\":{\"endlinecolor\":\"rgb(36,36,36)\",\"gridcolor\":\"white\",\"linecolor\":\"white\",\"minorgridcolor\":\"white\",\"startlinecolor\":\"rgb(36,36,36)\"},\"type\":\"carpet\"}],\"table\":[{\"cells\":{\"fill\":{\"color\":\"rgb(237,237,237)\"},\"line\":{\"color\":\"white\"}},\"header\":{\"fill\":{\"color\":\"rgb(217,217,217)\"},\"line\":{\"color\":\"white\"}},\"type\":\"table\"}],\"barpolar\":[{\"marker\":{\"line\":{\"color\":\"white\",\"width\":0.5},\"pattern\":{\"fillmode\":\"overlay\",\"size\":10,\"solidity\":0.2}},\"type\":\"barpolar\"}],\"pie\":[{\"automargin\":true,\"type\":\"pie\"}]},\"layout\":{\"autotypenumbers\":\"strict\",\"colorway\":[\"#1F77B4\",\"#FF7F0E\",\"#2CA02C\",\"#D62728\",\"#9467BD\",\"#8C564B\",\"#E377C2\",\"#7F7F7F\",\"#BCBD22\",\"#17BECF\"],\"font\":{\"color\":\"rgb(36,36,36)\"},\"hovermode\":\"closest\",\"hoverlabel\":{\"align\":\"left\"},\"paper_bgcolor\":\"white\",\"plot_bgcolor\":\"white\",\"polar\":{\"bgcolor\":\"white\",\"angularaxis\":{\"gridcolor\":\"rgb(232,232,232)\",\"linecolor\":\"rgb(36,36,36)\",\"showgrid\":false,\"showline\":true,\"ticks\":\"outside\"},\"radialaxis\":{\"gridcolor\":\"rgb(232,232,232)\",\"linecolor\":\"rgb(36,36,36)\",\"showgrid\":false,\"showline\":true,\"ticks\":\"outside\"}},\"ternary\":{\"bgcolor\":\"white\",\"aaxis\":{\"gridcolor\":\"rgb(232,232,232)\",\"linecolor\":\"rgb(36,36,36)\",\"showgrid\":false,\"showline\":true,\"ticks\":\"outside\"},\"baxis\":{\"gridcolor\":\"rgb(232,232,232)\",\"linecolor\":\"rgb(36,36,36)\",\"showgrid\":false,\"showline\":true,\"ticks\":\"outside\"},\"caxis\":{\"gridcolor\":\"rgb(232,232,232)\",\"linecolor\":\"rgb(36,36,36)\",\"showgrid\":false,\"showline\":true,\"ticks\":\"outside\"}},\"coloraxis\":{\"colorbar\":{\"outlinewidth\":1,\"tickcolor\":\"rgb(36,36,36)\",\"ticks\":\"outside\"}},\"colorscale\":{\"sequential\":[[0.0,\"#440154\"],[0.1111111111111111,\"#482878\"],[0.2222222222222222,\"#3e4989\"],[0.3333333333333333,\"#31688e\"],[0.4444444444444444,\"#26828e\"],[0.5555555555555556,\"#1f9e89\"],[0.6666666666666666,\"#35b779\"],[0.7777777777777778,\"#6ece58\"],[0.8888888888888888,\"#b5de2b\"],[1.0,\"#fde725\"]],\"sequentialminus\":[[0.0,\"#440154\"],[0.1111111111111111,\"#482878\"],[0.2222222222222222,\"#3e4989\"],[0.3333333333333333,\"#31688e\"],[0.4444444444444444,\"#26828e\"],[0.5555555555555556,\"#1f9e89\"],[0.6666666666666666,\"#35b779\"],[0.7777777777777778,\"#6ece58\"],[0.8888888888888888,\"#b5de2b\"],[1.0,\"#fde725\"]],\"diverging\":[[0.0,\"rgb(103,0,31)\"],[0.1,\"rgb(178,24,43)\"],[0.2,\"rgb(214,96,77)\"],[0.3,\"rgb(244,165,130)\"],[0.4,\"rgb(253,219,199)\"],[0.5,\"rgb(247,247,247)\"],[0.6,\"rgb(209,229,240)\"],[0.7,\"rgb(146,197,222)\"],[0.8,\"rgb(67,147,195)\"],[0.9,\"rgb(33,102,172)\"],[1.0,\"rgb(5,48,97)\"]]},\"xaxis\":{\"gridcolor\":\"rgb(232,232,232)\",\"linecolor\":\"rgb(36,36,36)\",\"showgrid\":false,\"showline\":true,\"ticks\":\"outside\",\"title\":{\"standoff\":15},\"zerolinecolor\":\"rgb(36,36,36)\",\"automargin\":true,\"zeroline\":false},\"yaxis\":{\"gridcolor\":\"rgb(232,232,232)\",\"linecolor\":\"rgb(36,36,36)\",\"showgrid\":false,\"showline\":true,\"ticks\":\"outside\",\"title\":{\"standoff\":15},\"zerolinecolor\":\"rgb(36,36,36)\",\"automargin\":true,\"zeroline\":false},\"scene\":{\"xaxis\":{\"backgroundcolor\":\"white\",\"gridcolor\":\"rgb(232,232,232)\",\"linecolor\":\"rgb(36,36,36)\",\"showbackground\":true,\"showgrid\":false,\"showline\":true,\"ticks\":\"outside\",\"zerolinecolor\":\"rgb(36,36,36)\",\"gridwidth\":2,\"zeroline\":false},\"yaxis\":{\"backgroundcolor\":\"white\",\"gridcolor\":\"rgb(232,232,232)\",\"linecolor\":\"rgb(36,36,36)\",\"showbackground\":true,\"showgrid\":false,\"showline\":true,\"ticks\":\"outside\",\"zerolinecolor\":\"rgb(36,36,36)\",\"gridwidth\":2,\"zeroline\":false},\"zaxis\":{\"backgroundcolor\":\"white\",\"gridcolor\":\"rgb(232,232,232)\",\"linecolor\":\"rgb(36,36,36)\",\"showbackground\":true,\"showgrid\":false,\"showline\":true,\"ticks\":\"outside\",\"zerolinecolor\":\"rgb(36,36,36)\",\"gridwidth\":2,\"zeroline\":false}},\"shapedefaults\":{\"fillcolor\":\"black\",\"line\":{\"width\":0},\"opacity\":0.3},\"annotationdefaults\":{\"arrowhead\":0,\"arrowwidth\":1},\"geo\":{\"bgcolor\":\"white\",\"landcolor\":\"white\",\"subunitcolor\":\"white\",\"showland\":true,\"showlakes\":true,\"lakecolor\":\"white\"},\"title\":{\"x\":0.05},\"mapbox\":{\"style\":\"light\"}}},\"title\":{\"text\":\"Corrected carbonate formation energies\"},\"xaxis\":{\"title\":{\"text\":\"Experimental dGf (eV/f.u.)\"}},\"yaxis\":{\"title\":{\"text\":\"Calculated dGf (eV/f.u.)\"}}},                        {\"responsive\": true}                    ).then(function(){\n",
       "                            \n",
       "var gd = document.getElementById('8ccb15cf-55aa-4add-a52d-1a3ba6538ea3');\n",
       "var x = new MutationObserver(function (mutations, observer) {{\n",
       "        var display = window.getComputedStyle(gd).display;\n",
       "        if (!display || display === 'none') {{\n",
       "            console.log([gd, 'removed!']);\n",
       "            Plotly.purge(gd);\n",
       "            observer.disconnect();\n",
       "        }}\n",
       "}});\n",
       "\n",
       "// Listen for the removal of the full notebook cells\n",
       "var notebookContainer = gd.closest('#notebook-container');\n",
       "if (notebookContainer) {{\n",
       "    x.observe(notebookContainer, {childList: true});\n",
       "}}\n",
       "\n",
       "// Listen for the clearing of the current output cell\n",
       "var outputEl = gd.closest('.output');\n",
       "if (outputEl) {{\n",
       "    x.observe(outputEl, {childList: true});\n",
       "}}\n",
       "\n",
       "                        })                };                });            </script>        </div>"
      ]
     },
     "metadata": {},
     "output_type": "display_data"
    }
   ],
   "source": [
    "df_new = df.copy()\n",
    "df_new[\"y\"] = df_new[\"y\"] + final_correction\n",
    "\n",
    "scatter_new = px.scatter(df_new, x=\"x\", y=\"y\", hover_name=\"name\", symbol=\"name\", color=\"name\")\n",
    "line_new = px.line(x=[-12, -4], y=[-12, -4])\n",
    "\n",
    "fig_new = go.Figure(scatter_new.data + line_new.data)\n",
    "fig_new.update_layout({\"title\": \"Corrected carbonate formation energies\",\n",
    "                   \"xaxis_title\":\"Experimental dGf (eV/f.u.)\",\n",
    "                   \"yaxis_title\":\"Calculated dGf (eV/f.u.)\"})\n",
    "fig_new.show()"
   ]
  },
  {
   "cell_type": "markdown",
   "id": "35b2b820",
   "metadata": {},
   "source": [
    "## Final correction value (eV per CO$_3^{2-}$):"
   ]
  },
  {
   "cell_type": "code",
   "execution_count": 30,
   "id": "4f2a442a",
   "metadata": {},
   "outputs": [
    {
     "name": "stdout",
     "output_type": "stream",
     "text": [
      "0.7878732894247907\n"
     ]
    }
   ],
   "source": [
    "print(final_correction)"
   ]
  },
  {
   "cell_type": "markdown",
   "id": "39b56af6",
   "metadata": {},
   "source": [
    "### Test carbonate correction class"
   ]
  },
  {
   "cell_type": "code",
   "execution_count": 31,
   "id": "30b5ab5e",
   "metadata": {},
   "outputs": [
    {
     "name": "stderr",
     "output_type": "stream",
     "text": [
      "/Users/mcdermott/PycharmProjects/reaction-network/src/rxn_network/entries/entry_set.py:515: FutureWarning:\n",
      "\n",
      "This method is deprecated. Use from_computed_entries instead.\n",
      "\n"
     ]
    }
   ],
   "source": [
    "li_entries = GibbsEntrySet.from_entries(all_entries[\"Li\"], 300, include_nist_data=False)"
   ]
  },
  {
   "cell_type": "code",
   "execution_count": 32,
   "id": "8fe53b5e",
   "metadata": {},
   "outputs": [
    {
     "data": {
      "text/plain": [
       "[ConstantEnergyAdjustment:\n",
       "   Name: Gibbs SISSO Correction\n",
       "   Value: 1.919 eV\n",
       "   Uncertainty: 0.600 eV\n",
       "   Description: Gibbs correction: dGf(300 K) - dHf (298 K) (1.919 eV)\n",
       "   Generated by: None]"
      ]
     },
     "execution_count": 32,
     "metadata": {},
     "output_type": "execute_result"
    }
   ],
   "source": [
    "li2co3 = li_entries.get_min_entry_by_formula(\"Li2CO3\")\n",
    "li2co3.energy_adjustments"
   ]
  },
  {
   "cell_type": "code",
   "execution_count": 33,
   "id": "46ab833d",
   "metadata": {},
   "outputs": [],
   "source": [
    "mp_entries = []\n",
    "exp_entries = []\n",
    "\n",
    "temp = 300  # Kelvin\n",
    "\n",
    "for m, entries in all_entries.items():\n",
    "    gibbs = GibbsEntrySet.from_entries(entries, temp, include_nist_data=False, apply_carbonate_correction=True)\n",
    "    gibbs_exp = GibbsEntrySet.from_entries(entries, temp, include_nist_data=True, include_freed_data=True, apply_carbonate_correction=False)\n",
    "    \n",
    "    oxidation_states = Element(m).common_oxidation_states\n",
    "    \n",
    "    for os in oxidation_states:\n",
    "        formula = Composition(f\"{m}2(CO3){os}\").reduced_formula\n",
    "\n",
    "        mp_entry = None\n",
    "        exp_entry = None\n",
    "        \n",
    "        try:\n",
    "            mp_entry = gibbs.get_min_entry_by_formula(formula)\n",
    "            exp_entry = gibbs_exp.get_min_entry_by_formula(formula)\n",
    "        except:\n",
    "            continue\n",
    "        \n",
    "        if exp_entry.is_experimental:\n",
    "            mp_entries.append(mp_entry)\n",
    "            exp_entries.append(exp_entry)"
   ]
  },
  {
   "cell_type": "code",
   "execution_count": 34,
   "id": "391c9d5c",
   "metadata": {},
   "outputs": [
    {
     "data": {
      "application/vnd.plotly.v1+json": {
       "config": {
        "plotlyServerURL": "https://plot.ly"
       },
       "data": [
        {
         "hovertemplate": "<b>%{hovertext}</b><br><br>name=Ag2CO3<br>x=%{x}<br>y=%{y}<extra></extra>",
         "hovertext": [
          "Ag2CO3"
         ],
         "legendgroup": "Ag2CO3",
         "marker": {
          "color": "#1F77B4",
          "symbol": "circle"
         },
         "mode": "markers",
         "name": "Ag2CO3",
         "orientation": "v",
         "showlegend": true,
         "type": "scatter",
         "x": [
          -0.753915123353763
         ],
         "xaxis": "x",
         "y": [
          -0.9418499625904637
         ],
         "yaxis": "y"
        },
        {
         "hovertemplate": "<b>%{hovertext}</b><br><br>name=BaCO3<br>x=%{x}<br>y=%{y}<extra></extra>",
         "hovertext": [
          "BaCO3"
         ],
         "legendgroup": "BaCO3",
         "marker": {
          "color": "#FF7F0E",
          "symbol": "diamond"
         },
         "mode": "markers",
         "name": "BaCO3",
         "orientation": "v",
         "showlegend": true,
         "type": "scatter",
         "x": [
          -2.345862145732135
         ],
         "xaxis": "x",
         "y": [
          -2.5187880346647153
         ],
         "yaxis": "y"
        },
        {
         "hovertemplate": "<b>%{hovertext}</b><br><br>name=CaCO3<br>x=%{x}<br>y=%{y}<extra></extra>",
         "hovertext": [
          "CaCO3"
         ],
         "legendgroup": "CaCO3",
         "marker": {
          "color": "#2CA02C",
          "symbol": "square"
         },
         "mode": "markers",
         "name": "CaCO3",
         "orientation": "v",
         "showlegend": true,
         "type": "scatter",
         "x": [
          -2.339404559623463
         ],
         "xaxis": "x",
         "y": [
          -2.521032105083999
         ],
         "yaxis": "y"
        },
        {
         "hovertemplate": "<b>%{hovertext}</b><br><br>name=CdCO3<br>x=%{x}<br>y=%{y}<extra></extra>",
         "hovertext": [
          "CdCO3"
         ],
         "legendgroup": "CdCO3",
         "marker": {
          "color": "#D62728",
          "symbol": "x"
         },
         "mode": "markers",
         "name": "CdCO3",
         "orientation": "v",
         "showlegend": true,
         "type": "scatter",
         "x": [
          -1.4037995471420561
         ],
         "xaxis": "x",
         "y": [
          -1.5818887695522128
         ],
         "yaxis": "y"
        },
        {
         "hovertemplate": "<b>%{hovertext}</b><br><br>name=Cs2CO3<br>x=%{x}<br>y=%{y}<extra></extra>",
         "hovertext": [
          "Cs2CO3"
         ],
         "legendgroup": "Cs2CO3",
         "marker": {
          "color": "#9467BD",
          "symbol": "cross"
         },
         "mode": "markers",
         "name": "Cs2CO3",
         "orientation": "v",
         "showlegend": true,
         "type": "scatter",
         "x": [
          -1.815688604547293
         ],
         "xaxis": "x",
         "y": [
          -1.9046412089231337
         ],
         "yaxis": "y"
        },
        {
         "hovertemplate": "<b>%{hovertext}</b><br><br>name=FeCO3<br>x=%{x}<br>y=%{y}<extra></extra>",
         "hovertext": [
          "FeCO3"
         ],
         "legendgroup": "FeCO3",
         "marker": {
          "color": "#8C564B",
          "symbol": "circle"
         },
         "mode": "markers",
         "name": "FeCO3",
         "orientation": "v",
         "showlegend": true,
         "type": "scatter",
         "x": [
          -1.3858394453788605
         ],
         "xaxis": "x",
         "y": [
          -1.6201414474130502
         ],
         "yaxis": "y"
        },
        {
         "hovertemplate": "<b>%{hovertext}</b><br><br>name=K2CO3<br>x=%{x}<br>y=%{y}<extra></extra>",
         "hovertext": [
          "K2CO3"
         ],
         "legendgroup": "K2CO3",
         "marker": {
          "color": "#E377C2",
          "symbol": "diamond"
         },
         "mode": "markers",
         "name": "K2CO3",
         "orientation": "v",
         "showlegend": true,
         "type": "scatter",
         "x": [
          -1.838006279490757
         ],
         "xaxis": "x",
         "y": [
          -1.948234430589855
         ],
         "yaxis": "y"
        },
        {
         "hovertemplate": "<b>%{hovertext}</b><br><br>name=Li2CO3<br>x=%{x}<br>y=%{y}<extra></extra>",
         "hovertext": [
          "Li2CO3"
         ],
         "legendgroup": "Li2CO3",
         "marker": {
          "color": "#7F7F7F",
          "symbol": "square"
         },
         "mode": "markers",
         "name": "Li2CO3",
         "orientation": "v",
         "showlegend": true,
         "type": "scatter",
         "x": [
          -1.954773104492821
         ],
         "xaxis": "x",
         "y": [
          -2.0860853204662733
         ],
         "yaxis": "y"
        },
        {
         "hovertemplate": "<b>%{hovertext}</b><br><br>name=MgCO3<br>x=%{x}<br>y=%{y}<extra></extra>",
         "hovertext": [
          "MgCO3"
         ],
         "legendgroup": "MgCO3",
         "marker": {
          "color": "#BCBD22",
          "symbol": "x"
         },
         "mode": "markers",
         "name": "MgCO3",
         "orientation": "v",
         "showlegend": true,
         "type": "scatter",
         "x": [
          -2.132654770906602
         ],
         "xaxis": "x",
         "y": [
          -2.2637634492284056
         ],
         "yaxis": "y"
        },
        {
         "hovertemplate": "<b>%{hovertext}</b><br><br>name=MnCO3<br>x=%{x}<br>y=%{y}<extra></extra>",
         "hovertext": [
          "MnCO3"
         ],
         "legendgroup": "MnCO3",
         "marker": {
          "color": "#17BECF",
          "symbol": "cross"
         },
         "mode": "markers",
         "name": "MnCO3",
         "orientation": "v",
         "showlegend": true,
         "type": "scatter",
         "x": [
          -1.6897375176750464
         ],
         "xaxis": "x",
         "y": [
          -1.8440489795458792
         ],
         "yaxis": "y"
        },
        {
         "hovertemplate": "<b>%{hovertext}</b><br><br>name=Na2CO3<br>x=%{x}<br>y=%{y}<extra></extra>",
         "hovertext": [
          "Na2CO3"
         ],
         "legendgroup": "Na2CO3",
         "marker": {
          "color": "#1F77B4",
          "symbol": "circle"
         },
         "mode": "markers",
         "name": "Na2CO3",
         "orientation": "v",
         "showlegend": true,
         "type": "scatter",
         "x": [
          -1.809422296425902
         ],
         "xaxis": "x",
         "y": [
          -1.8978599681743251
         ],
         "yaxis": "y"
        },
        {
         "hovertemplate": "<b>%{hovertext}</b><br><br>name=PbCO3<br>x=%{x}<br>y=%{y}<extra></extra>",
         "hovertext": [
          "PbCO3"
         ],
         "legendgroup": "PbCO3",
         "marker": {
          "color": "#FF7F0E",
          "symbol": "diamond"
         },
         "mode": "markers",
         "name": "PbCO3",
         "orientation": "v",
         "showlegend": true,
         "type": "scatter",
         "x": [
          -1.3029126269633322
         ],
         "xaxis": "x",
         "y": [
          -1.6363078726769331
         ],
         "yaxis": "y"
        },
        {
         "hovertemplate": "<b>%{hovertext}</b><br><br>name=Rb2CO3<br>x=%{x}<br>y=%{y}<extra></extra>",
         "hovertext": [
          "Rb2CO3"
         ],
         "legendgroup": "Rb2CO3",
         "marker": {
          "color": "#2CA02C",
          "symbol": "square"
         },
         "mode": "markers",
         "name": "Rb2CO3",
         "orientation": "v",
         "showlegend": true,
         "type": "scatter",
         "x": [
          -1.8287227331514482
         ],
         "xaxis": "x",
         "y": [
          -1.9208340090585365
         ],
         "yaxis": "y"
        },
        {
         "hovertemplate": "<b>%{hovertext}</b><br><br>name=SrCO3<br>x=%{x}<br>y=%{y}<extra></extra>",
         "hovertext": [
          "SrCO3"
         ],
         "legendgroup": "SrCO3",
         "marker": {
          "color": "#D62728",
          "symbol": "x"
         },
         "mode": "markers",
         "name": "SrCO3",
         "orientation": "v",
         "showlegend": true,
         "type": "scatter",
         "x": [
          -2.3592673676165794
         ],
         "xaxis": "x",
         "y": [
          -2.528697262980287
         ],
         "yaxis": "y"
        },
        {
         "hovertemplate": "<b>%{hovertext}</b><br><br>name=ZnCO3<br>x=%{x}<br>y=%{y}<extra></extra>",
         "hovertext": [
          "ZnCO3"
         ],
         "legendgroup": "ZnCO3",
         "marker": {
          "color": "#9467BD",
          "symbol": "cross"
         },
         "mode": "markers",
         "name": "ZnCO3",
         "orientation": "v",
         "showlegend": true,
         "type": "scatter",
         "x": [
          -1.5200959209722835
         ],
         "xaxis": "x",
         "y": [
          -1.643475306626047
         ],
         "yaxis": "y"
        },
        {
         "hovertemplate": "x=%{x}<br>y=%{y}<extra></extra>",
         "legendgroup": "",
         "line": {
          "color": "#1F77B4",
          "dash": "solid"
         },
         "marker": {
          "symbol": "circle"
         },
         "mode": "lines",
         "name": "",
         "orientation": "v",
         "showlegend": false,
         "type": "scatter",
         "x": [
          -2.75,
          -0.75
         ],
         "xaxis": "x",
         "y": [
          -2.75,
          -0.75
         ],
         "yaxis": "y"
        }
       ],
       "layout": {
        "template": {
         "data": {
          "bar": [
           {
            "error_x": {
             "color": "rgb(36,36,36)"
            },
            "error_y": {
             "color": "rgb(36,36,36)"
            },
            "marker": {
             "line": {
              "color": "white",
              "width": 0.5
             },
             "pattern": {
              "fillmode": "overlay",
              "size": 10,
              "solidity": 0.2
             }
            },
            "type": "bar"
           }
          ],
          "barpolar": [
           {
            "marker": {
             "line": {
              "color": "white",
              "width": 0.5
             },
             "pattern": {
              "fillmode": "overlay",
              "size": 10,
              "solidity": 0.2
             }
            },
            "type": "barpolar"
           }
          ],
          "carpet": [
           {
            "aaxis": {
             "endlinecolor": "rgb(36,36,36)",
             "gridcolor": "white",
             "linecolor": "white",
             "minorgridcolor": "white",
             "startlinecolor": "rgb(36,36,36)"
            },
            "baxis": {
             "endlinecolor": "rgb(36,36,36)",
             "gridcolor": "white",
             "linecolor": "white",
             "minorgridcolor": "white",
             "startlinecolor": "rgb(36,36,36)"
            },
            "type": "carpet"
           }
          ],
          "choropleth": [
           {
            "colorbar": {
             "outlinewidth": 1,
             "tickcolor": "rgb(36,36,36)",
             "ticks": "outside"
            },
            "type": "choropleth"
           }
          ],
          "contour": [
           {
            "colorbar": {
             "outlinewidth": 1,
             "tickcolor": "rgb(36,36,36)",
             "ticks": "outside"
            },
            "colorscale": [
             [
              0,
              "#440154"
             ],
             [
              0.1111111111111111,
              "#482878"
             ],
             [
              0.2222222222222222,
              "#3e4989"
             ],
             [
              0.3333333333333333,
              "#31688e"
             ],
             [
              0.4444444444444444,
              "#26828e"
             ],
             [
              0.5555555555555556,
              "#1f9e89"
             ],
             [
              0.6666666666666666,
              "#35b779"
             ],
             [
              0.7777777777777778,
              "#6ece58"
             ],
             [
              0.8888888888888888,
              "#b5de2b"
             ],
             [
              1,
              "#fde725"
             ]
            ],
            "type": "contour"
           }
          ],
          "contourcarpet": [
           {
            "colorbar": {
             "outlinewidth": 1,
             "tickcolor": "rgb(36,36,36)",
             "ticks": "outside"
            },
            "type": "contourcarpet"
           }
          ],
          "heatmap": [
           {
            "colorbar": {
             "outlinewidth": 1,
             "tickcolor": "rgb(36,36,36)",
             "ticks": "outside"
            },
            "colorscale": [
             [
              0,
              "#440154"
             ],
             [
              0.1111111111111111,
              "#482878"
             ],
             [
              0.2222222222222222,
              "#3e4989"
             ],
             [
              0.3333333333333333,
              "#31688e"
             ],
             [
              0.4444444444444444,
              "#26828e"
             ],
             [
              0.5555555555555556,
              "#1f9e89"
             ],
             [
              0.6666666666666666,
              "#35b779"
             ],
             [
              0.7777777777777778,
              "#6ece58"
             ],
             [
              0.8888888888888888,
              "#b5de2b"
             ],
             [
              1,
              "#fde725"
             ]
            ],
            "type": "heatmap"
           }
          ],
          "heatmapgl": [
           {
            "colorbar": {
             "outlinewidth": 1,
             "tickcolor": "rgb(36,36,36)",
             "ticks": "outside"
            },
            "colorscale": [
             [
              0,
              "#440154"
             ],
             [
              0.1111111111111111,
              "#482878"
             ],
             [
              0.2222222222222222,
              "#3e4989"
             ],
             [
              0.3333333333333333,
              "#31688e"
             ],
             [
              0.4444444444444444,
              "#26828e"
             ],
             [
              0.5555555555555556,
              "#1f9e89"
             ],
             [
              0.6666666666666666,
              "#35b779"
             ],
             [
              0.7777777777777778,
              "#6ece58"
             ],
             [
              0.8888888888888888,
              "#b5de2b"
             ],
             [
              1,
              "#fde725"
             ]
            ],
            "type": "heatmapgl"
           }
          ],
          "histogram": [
           {
            "marker": {
             "line": {
              "color": "white",
              "width": 0.6
             }
            },
            "type": "histogram"
           }
          ],
          "histogram2d": [
           {
            "colorbar": {
             "outlinewidth": 1,
             "tickcolor": "rgb(36,36,36)",
             "ticks": "outside"
            },
            "colorscale": [
             [
              0,
              "#440154"
             ],
             [
              0.1111111111111111,
              "#482878"
             ],
             [
              0.2222222222222222,
              "#3e4989"
             ],
             [
              0.3333333333333333,
              "#31688e"
             ],
             [
              0.4444444444444444,
              "#26828e"
             ],
             [
              0.5555555555555556,
              "#1f9e89"
             ],
             [
              0.6666666666666666,
              "#35b779"
             ],
             [
              0.7777777777777778,
              "#6ece58"
             ],
             [
              0.8888888888888888,
              "#b5de2b"
             ],
             [
              1,
              "#fde725"
             ]
            ],
            "type": "histogram2d"
           }
          ],
          "histogram2dcontour": [
           {
            "colorbar": {
             "outlinewidth": 1,
             "tickcolor": "rgb(36,36,36)",
             "ticks": "outside"
            },
            "colorscale": [
             [
              0,
              "#440154"
             ],
             [
              0.1111111111111111,
              "#482878"
             ],
             [
              0.2222222222222222,
              "#3e4989"
             ],
             [
              0.3333333333333333,
              "#31688e"
             ],
             [
              0.4444444444444444,
              "#26828e"
             ],
             [
              0.5555555555555556,
              "#1f9e89"
             ],
             [
              0.6666666666666666,
              "#35b779"
             ],
             [
              0.7777777777777778,
              "#6ece58"
             ],
             [
              0.8888888888888888,
              "#b5de2b"
             ],
             [
              1,
              "#fde725"
             ]
            ],
            "type": "histogram2dcontour"
           }
          ],
          "mesh3d": [
           {
            "colorbar": {
             "outlinewidth": 1,
             "tickcolor": "rgb(36,36,36)",
             "ticks": "outside"
            },
            "type": "mesh3d"
           }
          ],
          "parcoords": [
           {
            "line": {
             "colorbar": {
              "outlinewidth": 1,
              "tickcolor": "rgb(36,36,36)",
              "ticks": "outside"
             }
            },
            "type": "parcoords"
           }
          ],
          "pie": [
           {
            "automargin": true,
            "type": "pie"
           }
          ],
          "scatter": [
           {
            "fillpattern": {
             "fillmode": "overlay",
             "size": 10,
             "solidity": 0.2
            },
            "type": "scatter"
           }
          ],
          "scatter3d": [
           {
            "line": {
             "colorbar": {
              "outlinewidth": 1,
              "tickcolor": "rgb(36,36,36)",
              "ticks": "outside"
             }
            },
            "marker": {
             "colorbar": {
              "outlinewidth": 1,
              "tickcolor": "rgb(36,36,36)",
              "ticks": "outside"
             }
            },
            "type": "scatter3d"
           }
          ],
          "scattercarpet": [
           {
            "marker": {
             "colorbar": {
              "outlinewidth": 1,
              "tickcolor": "rgb(36,36,36)",
              "ticks": "outside"
             }
            },
            "type": "scattercarpet"
           }
          ],
          "scattergeo": [
           {
            "marker": {
             "colorbar": {
              "outlinewidth": 1,
              "tickcolor": "rgb(36,36,36)",
              "ticks": "outside"
             }
            },
            "type": "scattergeo"
           }
          ],
          "scattergl": [
           {
            "marker": {
             "colorbar": {
              "outlinewidth": 1,
              "tickcolor": "rgb(36,36,36)",
              "ticks": "outside"
             }
            },
            "type": "scattergl"
           }
          ],
          "scattermapbox": [
           {
            "marker": {
             "colorbar": {
              "outlinewidth": 1,
              "tickcolor": "rgb(36,36,36)",
              "ticks": "outside"
             }
            },
            "type": "scattermapbox"
           }
          ],
          "scatterpolar": [
           {
            "marker": {
             "colorbar": {
              "outlinewidth": 1,
              "tickcolor": "rgb(36,36,36)",
              "ticks": "outside"
             }
            },
            "type": "scatterpolar"
           }
          ],
          "scatterpolargl": [
           {
            "marker": {
             "colorbar": {
              "outlinewidth": 1,
              "tickcolor": "rgb(36,36,36)",
              "ticks": "outside"
             }
            },
            "type": "scatterpolargl"
           }
          ],
          "scatterternary": [
           {
            "marker": {
             "colorbar": {
              "outlinewidth": 1,
              "tickcolor": "rgb(36,36,36)",
              "ticks": "outside"
             }
            },
            "type": "scatterternary"
           }
          ],
          "surface": [
           {
            "colorbar": {
             "outlinewidth": 1,
             "tickcolor": "rgb(36,36,36)",
             "ticks": "outside"
            },
            "colorscale": [
             [
              0,
              "#440154"
             ],
             [
              0.1111111111111111,
              "#482878"
             ],
             [
              0.2222222222222222,
              "#3e4989"
             ],
             [
              0.3333333333333333,
              "#31688e"
             ],
             [
              0.4444444444444444,
              "#26828e"
             ],
             [
              0.5555555555555556,
              "#1f9e89"
             ],
             [
              0.6666666666666666,
              "#35b779"
             ],
             [
              0.7777777777777778,
              "#6ece58"
             ],
             [
              0.8888888888888888,
              "#b5de2b"
             ],
             [
              1,
              "#fde725"
             ]
            ],
            "type": "surface"
           }
          ],
          "table": [
           {
            "cells": {
             "fill": {
              "color": "rgb(237,237,237)"
             },
             "line": {
              "color": "white"
             }
            },
            "header": {
             "fill": {
              "color": "rgb(217,217,217)"
             },
             "line": {
              "color": "white"
             }
            },
            "type": "table"
           }
          ]
         },
         "layout": {
          "annotationdefaults": {
           "arrowhead": 0,
           "arrowwidth": 1
          },
          "autotypenumbers": "strict",
          "coloraxis": {
           "colorbar": {
            "outlinewidth": 1,
            "tickcolor": "rgb(36,36,36)",
            "ticks": "outside"
           }
          },
          "colorscale": {
           "diverging": [
            [
             0,
             "rgb(103,0,31)"
            ],
            [
             0.1,
             "rgb(178,24,43)"
            ],
            [
             0.2,
             "rgb(214,96,77)"
            ],
            [
             0.3,
             "rgb(244,165,130)"
            ],
            [
             0.4,
             "rgb(253,219,199)"
            ],
            [
             0.5,
             "rgb(247,247,247)"
            ],
            [
             0.6,
             "rgb(209,229,240)"
            ],
            [
             0.7,
             "rgb(146,197,222)"
            ],
            [
             0.8,
             "rgb(67,147,195)"
            ],
            [
             0.9,
             "rgb(33,102,172)"
            ],
            [
             1,
             "rgb(5,48,97)"
            ]
           ],
           "sequential": [
            [
             0,
             "#440154"
            ],
            [
             0.1111111111111111,
             "#482878"
            ],
            [
             0.2222222222222222,
             "#3e4989"
            ],
            [
             0.3333333333333333,
             "#31688e"
            ],
            [
             0.4444444444444444,
             "#26828e"
            ],
            [
             0.5555555555555556,
             "#1f9e89"
            ],
            [
             0.6666666666666666,
             "#35b779"
            ],
            [
             0.7777777777777778,
             "#6ece58"
            ],
            [
             0.8888888888888888,
             "#b5de2b"
            ],
            [
             1,
             "#fde725"
            ]
           ],
           "sequentialminus": [
            [
             0,
             "#440154"
            ],
            [
             0.1111111111111111,
             "#482878"
            ],
            [
             0.2222222222222222,
             "#3e4989"
            ],
            [
             0.3333333333333333,
             "#31688e"
            ],
            [
             0.4444444444444444,
             "#26828e"
            ],
            [
             0.5555555555555556,
             "#1f9e89"
            ],
            [
             0.6666666666666666,
             "#35b779"
            ],
            [
             0.7777777777777778,
             "#6ece58"
            ],
            [
             0.8888888888888888,
             "#b5de2b"
            ],
            [
             1,
             "#fde725"
            ]
           ]
          },
          "colorway": [
           "#1F77B4",
           "#FF7F0E",
           "#2CA02C",
           "#D62728",
           "#9467BD",
           "#8C564B",
           "#E377C2",
           "#7F7F7F",
           "#BCBD22",
           "#17BECF"
          ],
          "font": {
           "color": "rgb(36,36,36)"
          },
          "geo": {
           "bgcolor": "white",
           "lakecolor": "white",
           "landcolor": "white",
           "showlakes": true,
           "showland": true,
           "subunitcolor": "white"
          },
          "hoverlabel": {
           "align": "left"
          },
          "hovermode": "closest",
          "mapbox": {
           "style": "light"
          },
          "paper_bgcolor": "white",
          "plot_bgcolor": "white",
          "polar": {
           "angularaxis": {
            "gridcolor": "rgb(232,232,232)",
            "linecolor": "rgb(36,36,36)",
            "showgrid": false,
            "showline": true,
            "ticks": "outside"
           },
           "bgcolor": "white",
           "radialaxis": {
            "gridcolor": "rgb(232,232,232)",
            "linecolor": "rgb(36,36,36)",
            "showgrid": false,
            "showline": true,
            "ticks": "outside"
           }
          },
          "scene": {
           "xaxis": {
            "backgroundcolor": "white",
            "gridcolor": "rgb(232,232,232)",
            "gridwidth": 2,
            "linecolor": "rgb(36,36,36)",
            "showbackground": true,
            "showgrid": false,
            "showline": true,
            "ticks": "outside",
            "zeroline": false,
            "zerolinecolor": "rgb(36,36,36)"
           },
           "yaxis": {
            "backgroundcolor": "white",
            "gridcolor": "rgb(232,232,232)",
            "gridwidth": 2,
            "linecolor": "rgb(36,36,36)",
            "showbackground": true,
            "showgrid": false,
            "showline": true,
            "ticks": "outside",
            "zeroline": false,
            "zerolinecolor": "rgb(36,36,36)"
           },
           "zaxis": {
            "backgroundcolor": "white",
            "gridcolor": "rgb(232,232,232)",
            "gridwidth": 2,
            "linecolor": "rgb(36,36,36)",
            "showbackground": true,
            "showgrid": false,
            "showline": true,
            "ticks": "outside",
            "zeroline": false,
            "zerolinecolor": "rgb(36,36,36)"
           }
          },
          "shapedefaults": {
           "fillcolor": "black",
           "line": {
            "width": 0
           },
           "opacity": 0.3
          },
          "ternary": {
           "aaxis": {
            "gridcolor": "rgb(232,232,232)",
            "linecolor": "rgb(36,36,36)",
            "showgrid": false,
            "showline": true,
            "ticks": "outside"
           },
           "baxis": {
            "gridcolor": "rgb(232,232,232)",
            "linecolor": "rgb(36,36,36)",
            "showgrid": false,
            "showline": true,
            "ticks": "outside"
           },
           "bgcolor": "white",
           "caxis": {
            "gridcolor": "rgb(232,232,232)",
            "linecolor": "rgb(36,36,36)",
            "showgrid": false,
            "showline": true,
            "ticks": "outside"
           }
          },
          "title": {
           "x": 0.05
          },
          "xaxis": {
           "automargin": true,
           "gridcolor": "rgb(232,232,232)",
           "linecolor": "rgb(36,36,36)",
           "showgrid": false,
           "showline": true,
           "ticks": "outside",
           "title": {
            "standoff": 15
           },
           "zeroline": false,
           "zerolinecolor": "rgb(36,36,36)"
          },
          "yaxis": {
           "automargin": true,
           "gridcolor": "rgb(232,232,232)",
           "linecolor": "rgb(36,36,36)",
           "showgrid": false,
           "showline": true,
           "ticks": "outside",
           "title": {
            "standoff": 15
           },
           "zeroline": false,
           "zerolinecolor": "rgb(36,36,36)"
          }
         }
        },
        "title": {
         "text": "Test of Carbonate Correction"
        },
        "xaxis": {
         "title": {
          "text": "Experimental dGf (eV/atom)"
         }
        },
        "yaxis": {
         "title": {
          "text": "Calculated dGf (eV/atom)"
         }
        }
       }
      },
      "text/html": [
       "<div>                            <div id=\"82529e3c-68f7-4ebb-8821-14e8fb79182c\" class=\"plotly-graph-div\" style=\"height:525px; width:100%;\"></div>            <script type=\"text/javascript\">                require([\"plotly\"], function(Plotly) {                    window.PLOTLYENV=window.PLOTLYENV || {};                                    if (document.getElementById(\"82529e3c-68f7-4ebb-8821-14e8fb79182c\")) {                    Plotly.newPlot(                        \"82529e3c-68f7-4ebb-8821-14e8fb79182c\",                        [{\"hovertemplate\":\"<b>%{hovertext}</b><br><br>name=Ag2CO3<br>x=%{x}<br>y=%{y}<extra></extra>\",\"hovertext\":[\"Ag2CO3\"],\"legendgroup\":\"Ag2CO3\",\"marker\":{\"color\":\"#1F77B4\",\"symbol\":\"circle\"},\"mode\":\"markers\",\"name\":\"Ag2CO3\",\"orientation\":\"v\",\"showlegend\":true,\"x\":[-0.753915123353763],\"xaxis\":\"x\",\"y\":[-0.9418499625904637],\"yaxis\":\"y\",\"type\":\"scatter\"},{\"hovertemplate\":\"<b>%{hovertext}</b><br><br>name=BaCO3<br>x=%{x}<br>y=%{y}<extra></extra>\",\"hovertext\":[\"BaCO3\"],\"legendgroup\":\"BaCO3\",\"marker\":{\"color\":\"#FF7F0E\",\"symbol\":\"diamond\"},\"mode\":\"markers\",\"name\":\"BaCO3\",\"orientation\":\"v\",\"showlegend\":true,\"x\":[-2.345862145732135],\"xaxis\":\"x\",\"y\":[-2.5187880346647153],\"yaxis\":\"y\",\"type\":\"scatter\"},{\"hovertemplate\":\"<b>%{hovertext}</b><br><br>name=CaCO3<br>x=%{x}<br>y=%{y}<extra></extra>\",\"hovertext\":[\"CaCO3\"],\"legendgroup\":\"CaCO3\",\"marker\":{\"color\":\"#2CA02C\",\"symbol\":\"square\"},\"mode\":\"markers\",\"name\":\"CaCO3\",\"orientation\":\"v\",\"showlegend\":true,\"x\":[-2.339404559623463],\"xaxis\":\"x\",\"y\":[-2.521032105083999],\"yaxis\":\"y\",\"type\":\"scatter\"},{\"hovertemplate\":\"<b>%{hovertext}</b><br><br>name=CdCO3<br>x=%{x}<br>y=%{y}<extra></extra>\",\"hovertext\":[\"CdCO3\"],\"legendgroup\":\"CdCO3\",\"marker\":{\"color\":\"#D62728\",\"symbol\":\"x\"},\"mode\":\"markers\",\"name\":\"CdCO3\",\"orientation\":\"v\",\"showlegend\":true,\"x\":[-1.4037995471420561],\"xaxis\":\"x\",\"y\":[-1.5818887695522128],\"yaxis\":\"y\",\"type\":\"scatter\"},{\"hovertemplate\":\"<b>%{hovertext}</b><br><br>name=Cs2CO3<br>x=%{x}<br>y=%{y}<extra></extra>\",\"hovertext\":[\"Cs2CO3\"],\"legendgroup\":\"Cs2CO3\",\"marker\":{\"color\":\"#9467BD\",\"symbol\":\"cross\"},\"mode\":\"markers\",\"name\":\"Cs2CO3\",\"orientation\":\"v\",\"showlegend\":true,\"x\":[-1.815688604547293],\"xaxis\":\"x\",\"y\":[-1.9046412089231337],\"yaxis\":\"y\",\"type\":\"scatter\"},{\"hovertemplate\":\"<b>%{hovertext}</b><br><br>name=FeCO3<br>x=%{x}<br>y=%{y}<extra></extra>\",\"hovertext\":[\"FeCO3\"],\"legendgroup\":\"FeCO3\",\"marker\":{\"color\":\"#8C564B\",\"symbol\":\"circle\"},\"mode\":\"markers\",\"name\":\"FeCO3\",\"orientation\":\"v\",\"showlegend\":true,\"x\":[-1.3858394453788605],\"xaxis\":\"x\",\"y\":[-1.6201414474130502],\"yaxis\":\"y\",\"type\":\"scatter\"},{\"hovertemplate\":\"<b>%{hovertext}</b><br><br>name=K2CO3<br>x=%{x}<br>y=%{y}<extra></extra>\",\"hovertext\":[\"K2CO3\"],\"legendgroup\":\"K2CO3\",\"marker\":{\"color\":\"#E377C2\",\"symbol\":\"diamond\"},\"mode\":\"markers\",\"name\":\"K2CO3\",\"orientation\":\"v\",\"showlegend\":true,\"x\":[-1.838006279490757],\"xaxis\":\"x\",\"y\":[-1.948234430589855],\"yaxis\":\"y\",\"type\":\"scatter\"},{\"hovertemplate\":\"<b>%{hovertext}</b><br><br>name=Li2CO3<br>x=%{x}<br>y=%{y}<extra></extra>\",\"hovertext\":[\"Li2CO3\"],\"legendgroup\":\"Li2CO3\",\"marker\":{\"color\":\"#7F7F7F\",\"symbol\":\"square\"},\"mode\":\"markers\",\"name\":\"Li2CO3\",\"orientation\":\"v\",\"showlegend\":true,\"x\":[-1.954773104492821],\"xaxis\":\"x\",\"y\":[-2.0860853204662733],\"yaxis\":\"y\",\"type\":\"scatter\"},{\"hovertemplate\":\"<b>%{hovertext}</b><br><br>name=MgCO3<br>x=%{x}<br>y=%{y}<extra></extra>\",\"hovertext\":[\"MgCO3\"],\"legendgroup\":\"MgCO3\",\"marker\":{\"color\":\"#BCBD22\",\"symbol\":\"x\"},\"mode\":\"markers\",\"name\":\"MgCO3\",\"orientation\":\"v\",\"showlegend\":true,\"x\":[-2.132654770906602],\"xaxis\":\"x\",\"y\":[-2.2637634492284056],\"yaxis\":\"y\",\"type\":\"scatter\"},{\"hovertemplate\":\"<b>%{hovertext}</b><br><br>name=MnCO3<br>x=%{x}<br>y=%{y}<extra></extra>\",\"hovertext\":[\"MnCO3\"],\"legendgroup\":\"MnCO3\",\"marker\":{\"color\":\"#17BECF\",\"symbol\":\"cross\"},\"mode\":\"markers\",\"name\":\"MnCO3\",\"orientation\":\"v\",\"showlegend\":true,\"x\":[-1.6897375176750464],\"xaxis\":\"x\",\"y\":[-1.8440489795458792],\"yaxis\":\"y\",\"type\":\"scatter\"},{\"hovertemplate\":\"<b>%{hovertext}</b><br><br>name=Na2CO3<br>x=%{x}<br>y=%{y}<extra></extra>\",\"hovertext\":[\"Na2CO3\"],\"legendgroup\":\"Na2CO3\",\"marker\":{\"color\":\"#1F77B4\",\"symbol\":\"circle\"},\"mode\":\"markers\",\"name\":\"Na2CO3\",\"orientation\":\"v\",\"showlegend\":true,\"x\":[-1.809422296425902],\"xaxis\":\"x\",\"y\":[-1.8978599681743251],\"yaxis\":\"y\",\"type\":\"scatter\"},{\"hovertemplate\":\"<b>%{hovertext}</b><br><br>name=PbCO3<br>x=%{x}<br>y=%{y}<extra></extra>\",\"hovertext\":[\"PbCO3\"],\"legendgroup\":\"PbCO3\",\"marker\":{\"color\":\"#FF7F0E\",\"symbol\":\"diamond\"},\"mode\":\"markers\",\"name\":\"PbCO3\",\"orientation\":\"v\",\"showlegend\":true,\"x\":[-1.3029126269633322],\"xaxis\":\"x\",\"y\":[-1.6363078726769331],\"yaxis\":\"y\",\"type\":\"scatter\"},{\"hovertemplate\":\"<b>%{hovertext}</b><br><br>name=Rb2CO3<br>x=%{x}<br>y=%{y}<extra></extra>\",\"hovertext\":[\"Rb2CO3\"],\"legendgroup\":\"Rb2CO3\",\"marker\":{\"color\":\"#2CA02C\",\"symbol\":\"square\"},\"mode\":\"markers\",\"name\":\"Rb2CO3\",\"orientation\":\"v\",\"showlegend\":true,\"x\":[-1.8287227331514482],\"xaxis\":\"x\",\"y\":[-1.9208340090585365],\"yaxis\":\"y\",\"type\":\"scatter\"},{\"hovertemplate\":\"<b>%{hovertext}</b><br><br>name=SrCO3<br>x=%{x}<br>y=%{y}<extra></extra>\",\"hovertext\":[\"SrCO3\"],\"legendgroup\":\"SrCO3\",\"marker\":{\"color\":\"#D62728\",\"symbol\":\"x\"},\"mode\":\"markers\",\"name\":\"SrCO3\",\"orientation\":\"v\",\"showlegend\":true,\"x\":[-2.3592673676165794],\"xaxis\":\"x\",\"y\":[-2.528697262980287],\"yaxis\":\"y\",\"type\":\"scatter\"},{\"hovertemplate\":\"<b>%{hovertext}</b><br><br>name=ZnCO3<br>x=%{x}<br>y=%{y}<extra></extra>\",\"hovertext\":[\"ZnCO3\"],\"legendgroup\":\"ZnCO3\",\"marker\":{\"color\":\"#9467BD\",\"symbol\":\"cross\"},\"mode\":\"markers\",\"name\":\"ZnCO3\",\"orientation\":\"v\",\"showlegend\":true,\"x\":[-1.5200959209722835],\"xaxis\":\"x\",\"y\":[-1.643475306626047],\"yaxis\":\"y\",\"type\":\"scatter\"},{\"hovertemplate\":\"x=%{x}<br>y=%{y}<extra></extra>\",\"legendgroup\":\"\",\"line\":{\"color\":\"#1F77B4\",\"dash\":\"solid\"},\"marker\":{\"symbol\":\"circle\"},\"mode\":\"lines\",\"name\":\"\",\"orientation\":\"v\",\"showlegend\":false,\"x\":[-2.75,-0.75],\"xaxis\":\"x\",\"y\":[-2.75,-0.75],\"yaxis\":\"y\",\"type\":\"scatter\"}],                        {\"template\":{\"data\":{\"histogram2dcontour\":[{\"type\":\"histogram2dcontour\",\"colorbar\":{\"outlinewidth\":1,\"tickcolor\":\"rgb(36,36,36)\",\"ticks\":\"outside\"},\"colorscale\":[[0.0,\"#440154\"],[0.1111111111111111,\"#482878\"],[0.2222222222222222,\"#3e4989\"],[0.3333333333333333,\"#31688e\"],[0.4444444444444444,\"#26828e\"],[0.5555555555555556,\"#1f9e89\"],[0.6666666666666666,\"#35b779\"],[0.7777777777777778,\"#6ece58\"],[0.8888888888888888,\"#b5de2b\"],[1.0,\"#fde725\"]]}],\"choropleth\":[{\"type\":\"choropleth\",\"colorbar\":{\"outlinewidth\":1,\"tickcolor\":\"rgb(36,36,36)\",\"ticks\":\"outside\"}}],\"histogram2d\":[{\"type\":\"histogram2d\",\"colorbar\":{\"outlinewidth\":1,\"tickcolor\":\"rgb(36,36,36)\",\"ticks\":\"outside\"},\"colorscale\":[[0.0,\"#440154\"],[0.1111111111111111,\"#482878\"],[0.2222222222222222,\"#3e4989\"],[0.3333333333333333,\"#31688e\"],[0.4444444444444444,\"#26828e\"],[0.5555555555555556,\"#1f9e89\"],[0.6666666666666666,\"#35b779\"],[0.7777777777777778,\"#6ece58\"],[0.8888888888888888,\"#b5de2b\"],[1.0,\"#fde725\"]]}],\"heatmap\":[{\"type\":\"heatmap\",\"colorbar\":{\"outlinewidth\":1,\"tickcolor\":\"rgb(36,36,36)\",\"ticks\":\"outside\"},\"colorscale\":[[0.0,\"#440154\"],[0.1111111111111111,\"#482878\"],[0.2222222222222222,\"#3e4989\"],[0.3333333333333333,\"#31688e\"],[0.4444444444444444,\"#26828e\"],[0.5555555555555556,\"#1f9e89\"],[0.6666666666666666,\"#35b779\"],[0.7777777777777778,\"#6ece58\"],[0.8888888888888888,\"#b5de2b\"],[1.0,\"#fde725\"]]}],\"heatmapgl\":[{\"type\":\"heatmapgl\",\"colorbar\":{\"outlinewidth\":1,\"tickcolor\":\"rgb(36,36,36)\",\"ticks\":\"outside\"},\"colorscale\":[[0.0,\"#440154\"],[0.1111111111111111,\"#482878\"],[0.2222222222222222,\"#3e4989\"],[0.3333333333333333,\"#31688e\"],[0.4444444444444444,\"#26828e\"],[0.5555555555555556,\"#1f9e89\"],[0.6666666666666666,\"#35b779\"],[0.7777777777777778,\"#6ece58\"],[0.8888888888888888,\"#b5de2b\"],[1.0,\"#fde725\"]]}],\"contourcarpet\":[{\"type\":\"contourcarpet\",\"colorbar\":{\"outlinewidth\":1,\"tickcolor\":\"rgb(36,36,36)\",\"ticks\":\"outside\"}}],\"contour\":[{\"type\":\"contour\",\"colorbar\":{\"outlinewidth\":1,\"tickcolor\":\"rgb(36,36,36)\",\"ticks\":\"outside\"},\"colorscale\":[[0.0,\"#440154\"],[0.1111111111111111,\"#482878\"],[0.2222222222222222,\"#3e4989\"],[0.3333333333333333,\"#31688e\"],[0.4444444444444444,\"#26828e\"],[0.5555555555555556,\"#1f9e89\"],[0.6666666666666666,\"#35b779\"],[0.7777777777777778,\"#6ece58\"],[0.8888888888888888,\"#b5de2b\"],[1.0,\"#fde725\"]]}],\"surface\":[{\"type\":\"surface\",\"colorbar\":{\"outlinewidth\":1,\"tickcolor\":\"rgb(36,36,36)\",\"ticks\":\"outside\"},\"colorscale\":[[0.0,\"#440154\"],[0.1111111111111111,\"#482878\"],[0.2222222222222222,\"#3e4989\"],[0.3333333333333333,\"#31688e\"],[0.4444444444444444,\"#26828e\"],[0.5555555555555556,\"#1f9e89\"],[0.6666666666666666,\"#35b779\"],[0.7777777777777778,\"#6ece58\"],[0.8888888888888888,\"#b5de2b\"],[1.0,\"#fde725\"]]}],\"mesh3d\":[{\"type\":\"mesh3d\",\"colorbar\":{\"outlinewidth\":1,\"tickcolor\":\"rgb(36,36,36)\",\"ticks\":\"outside\"}}],\"scatter\":[{\"fillpattern\":{\"fillmode\":\"overlay\",\"size\":10,\"solidity\":0.2},\"type\":\"scatter\"}],\"parcoords\":[{\"type\":\"parcoords\",\"line\":{\"colorbar\":{\"outlinewidth\":1,\"tickcolor\":\"rgb(36,36,36)\",\"ticks\":\"outside\"}}}],\"scatterpolargl\":[{\"type\":\"scatterpolargl\",\"marker\":{\"colorbar\":{\"outlinewidth\":1,\"tickcolor\":\"rgb(36,36,36)\",\"ticks\":\"outside\"}}}],\"bar\":[{\"error_x\":{\"color\":\"rgb(36,36,36)\"},\"error_y\":{\"color\":\"rgb(36,36,36)\"},\"marker\":{\"line\":{\"color\":\"white\",\"width\":0.5},\"pattern\":{\"fillmode\":\"overlay\",\"size\":10,\"solidity\":0.2}},\"type\":\"bar\"}],\"scattergeo\":[{\"type\":\"scattergeo\",\"marker\":{\"colorbar\":{\"outlinewidth\":1,\"tickcolor\":\"rgb(36,36,36)\",\"ticks\":\"outside\"}}}],\"scatterpolar\":[{\"type\":\"scatterpolar\",\"marker\":{\"colorbar\":{\"outlinewidth\":1,\"tickcolor\":\"rgb(36,36,36)\",\"ticks\":\"outside\"}}}],\"histogram\":[{\"marker\":{\"line\":{\"color\":\"white\",\"width\":0.6}},\"type\":\"histogram\"}],\"scattergl\":[{\"type\":\"scattergl\",\"marker\":{\"colorbar\":{\"outlinewidth\":1,\"tickcolor\":\"rgb(36,36,36)\",\"ticks\":\"outside\"}}}],\"scatter3d\":[{\"type\":\"scatter3d\",\"line\":{\"colorbar\":{\"outlinewidth\":1,\"tickcolor\":\"rgb(36,36,36)\",\"ticks\":\"outside\"}},\"marker\":{\"colorbar\":{\"outlinewidth\":1,\"tickcolor\":\"rgb(36,36,36)\",\"ticks\":\"outside\"}}}],\"scattermapbox\":[{\"type\":\"scattermapbox\",\"marker\":{\"colorbar\":{\"outlinewidth\":1,\"tickcolor\":\"rgb(36,36,36)\",\"ticks\":\"outside\"}}}],\"scatterternary\":[{\"type\":\"scatterternary\",\"marker\":{\"colorbar\":{\"outlinewidth\":1,\"tickcolor\":\"rgb(36,36,36)\",\"ticks\":\"outside\"}}}],\"scattercarpet\":[{\"type\":\"scattercarpet\",\"marker\":{\"colorbar\":{\"outlinewidth\":1,\"tickcolor\":\"rgb(36,36,36)\",\"ticks\":\"outside\"}}}],\"carpet\":[{\"aaxis\":{\"endlinecolor\":\"rgb(36,36,36)\",\"gridcolor\":\"white\",\"linecolor\":\"white\",\"minorgridcolor\":\"white\",\"startlinecolor\":\"rgb(36,36,36)\"},\"baxis\":{\"endlinecolor\":\"rgb(36,36,36)\",\"gridcolor\":\"white\",\"linecolor\":\"white\",\"minorgridcolor\":\"white\",\"startlinecolor\":\"rgb(36,36,36)\"},\"type\":\"carpet\"}],\"table\":[{\"cells\":{\"fill\":{\"color\":\"rgb(237,237,237)\"},\"line\":{\"color\":\"white\"}},\"header\":{\"fill\":{\"color\":\"rgb(217,217,217)\"},\"line\":{\"color\":\"white\"}},\"type\":\"table\"}],\"barpolar\":[{\"marker\":{\"line\":{\"color\":\"white\",\"width\":0.5},\"pattern\":{\"fillmode\":\"overlay\",\"size\":10,\"solidity\":0.2}},\"type\":\"barpolar\"}],\"pie\":[{\"automargin\":true,\"type\":\"pie\"}]},\"layout\":{\"autotypenumbers\":\"strict\",\"colorway\":[\"#1F77B4\",\"#FF7F0E\",\"#2CA02C\",\"#D62728\",\"#9467BD\",\"#8C564B\",\"#E377C2\",\"#7F7F7F\",\"#BCBD22\",\"#17BECF\"],\"font\":{\"color\":\"rgb(36,36,36)\"},\"hovermode\":\"closest\",\"hoverlabel\":{\"align\":\"left\"},\"paper_bgcolor\":\"white\",\"plot_bgcolor\":\"white\",\"polar\":{\"bgcolor\":\"white\",\"angularaxis\":{\"gridcolor\":\"rgb(232,232,232)\",\"linecolor\":\"rgb(36,36,36)\",\"showgrid\":false,\"showline\":true,\"ticks\":\"outside\"},\"radialaxis\":{\"gridcolor\":\"rgb(232,232,232)\",\"linecolor\":\"rgb(36,36,36)\",\"showgrid\":false,\"showline\":true,\"ticks\":\"outside\"}},\"ternary\":{\"bgcolor\":\"white\",\"aaxis\":{\"gridcolor\":\"rgb(232,232,232)\",\"linecolor\":\"rgb(36,36,36)\",\"showgrid\":false,\"showline\":true,\"ticks\":\"outside\"},\"baxis\":{\"gridcolor\":\"rgb(232,232,232)\",\"linecolor\":\"rgb(36,36,36)\",\"showgrid\":false,\"showline\":true,\"ticks\":\"outside\"},\"caxis\":{\"gridcolor\":\"rgb(232,232,232)\",\"linecolor\":\"rgb(36,36,36)\",\"showgrid\":false,\"showline\":true,\"ticks\":\"outside\"}},\"coloraxis\":{\"colorbar\":{\"outlinewidth\":1,\"tickcolor\":\"rgb(36,36,36)\",\"ticks\":\"outside\"}},\"colorscale\":{\"sequential\":[[0.0,\"#440154\"],[0.1111111111111111,\"#482878\"],[0.2222222222222222,\"#3e4989\"],[0.3333333333333333,\"#31688e\"],[0.4444444444444444,\"#26828e\"],[0.5555555555555556,\"#1f9e89\"],[0.6666666666666666,\"#35b779\"],[0.7777777777777778,\"#6ece58\"],[0.8888888888888888,\"#b5de2b\"],[1.0,\"#fde725\"]],\"sequentialminus\":[[0.0,\"#440154\"],[0.1111111111111111,\"#482878\"],[0.2222222222222222,\"#3e4989\"],[0.3333333333333333,\"#31688e\"],[0.4444444444444444,\"#26828e\"],[0.5555555555555556,\"#1f9e89\"],[0.6666666666666666,\"#35b779\"],[0.7777777777777778,\"#6ece58\"],[0.8888888888888888,\"#b5de2b\"],[1.0,\"#fde725\"]],\"diverging\":[[0.0,\"rgb(103,0,31)\"],[0.1,\"rgb(178,24,43)\"],[0.2,\"rgb(214,96,77)\"],[0.3,\"rgb(244,165,130)\"],[0.4,\"rgb(253,219,199)\"],[0.5,\"rgb(247,247,247)\"],[0.6,\"rgb(209,229,240)\"],[0.7,\"rgb(146,197,222)\"],[0.8,\"rgb(67,147,195)\"],[0.9,\"rgb(33,102,172)\"],[1.0,\"rgb(5,48,97)\"]]},\"xaxis\":{\"gridcolor\":\"rgb(232,232,232)\",\"linecolor\":\"rgb(36,36,36)\",\"showgrid\":false,\"showline\":true,\"ticks\":\"outside\",\"title\":{\"standoff\":15},\"zerolinecolor\":\"rgb(36,36,36)\",\"automargin\":true,\"zeroline\":false},\"yaxis\":{\"gridcolor\":\"rgb(232,232,232)\",\"linecolor\":\"rgb(36,36,36)\",\"showgrid\":false,\"showline\":true,\"ticks\":\"outside\",\"title\":{\"standoff\":15},\"zerolinecolor\":\"rgb(36,36,36)\",\"automargin\":true,\"zeroline\":false},\"scene\":{\"xaxis\":{\"backgroundcolor\":\"white\",\"gridcolor\":\"rgb(232,232,232)\",\"linecolor\":\"rgb(36,36,36)\",\"showbackground\":true,\"showgrid\":false,\"showline\":true,\"ticks\":\"outside\",\"zerolinecolor\":\"rgb(36,36,36)\",\"gridwidth\":2,\"zeroline\":false},\"yaxis\":{\"backgroundcolor\":\"white\",\"gridcolor\":\"rgb(232,232,232)\",\"linecolor\":\"rgb(36,36,36)\",\"showbackground\":true,\"showgrid\":false,\"showline\":true,\"ticks\":\"outside\",\"zerolinecolor\":\"rgb(36,36,36)\",\"gridwidth\":2,\"zeroline\":false},\"zaxis\":{\"backgroundcolor\":\"white\",\"gridcolor\":\"rgb(232,232,232)\",\"linecolor\":\"rgb(36,36,36)\",\"showbackground\":true,\"showgrid\":false,\"showline\":true,\"ticks\":\"outside\",\"zerolinecolor\":\"rgb(36,36,36)\",\"gridwidth\":2,\"zeroline\":false}},\"shapedefaults\":{\"fillcolor\":\"black\",\"line\":{\"width\":0},\"opacity\":0.3},\"annotationdefaults\":{\"arrowhead\":0,\"arrowwidth\":1},\"geo\":{\"bgcolor\":\"white\",\"landcolor\":\"white\",\"subunitcolor\":\"white\",\"showland\":true,\"showlakes\":true,\"lakecolor\":\"white\"},\"title\":{\"x\":0.05},\"mapbox\":{\"style\":\"light\"}}},\"title\":{\"text\":\"Test of Carbonate Correction\"},\"xaxis\":{\"title\":{\"text\":\"Experimental dGf (eV/atom)\"}},\"yaxis\":{\"title\":{\"text\":\"Calculated dGf (eV/atom)\"}}},                        {\"responsive\": true}                    ).then(function(){\n",
       "                            \n",
       "var gd = document.getElementById('82529e3c-68f7-4ebb-8821-14e8fb79182c');\n",
       "var x = new MutationObserver(function (mutations, observer) {{\n",
       "        var display = window.getComputedStyle(gd).display;\n",
       "        if (!display || display === 'none') {{\n",
       "            console.log([gd, 'removed!']);\n",
       "            Plotly.purge(gd);\n",
       "            observer.disconnect();\n",
       "        }}\n",
       "}});\n",
       "\n",
       "// Listen for the removal of the full notebook cells\n",
       "var notebookContainer = gd.closest('#notebook-container');\n",
       "if (notebookContainer) {{\n",
       "    x.observe(notebookContainer, {childList: true});\n",
       "}}\n",
       "\n",
       "// Listen for the clearing of the current output cell\n",
       "var outputEl = gd.closest('.output');\n",
       "if (outputEl) {{\n",
       "    x.observe(outputEl, {childList: true});\n",
       "}}\n",
       "\n",
       "                        })                };                });            </script>        </div>"
      ]
     },
     "metadata": {},
     "output_type": "display_data"
    }
   ],
   "source": [
    "energies_calc = []\n",
    "energies_exp = []\n",
    "names = []\n",
    "\n",
    "for e_exp, e_calc in zip(exp_entries, mp_entries):\n",
    "    energy_exp = e_exp.energy_per_atom\n",
    "    energy_calc = e_calc.energy_per_atom\n",
    "    name = e_calc.composition.reduced_formula\n",
    "    \n",
    "    energies_exp.append(energy_exp)\n",
    "    energies_calc.append(energy_calc)\n",
    "    names.append(name)\n",
    "    \n",
    "df = pandas.DataFrame({\"x\":energies_exp, \"y\":energies_calc, \"name\":names})\n",
    "\n",
    "scatter = px.scatter(df, x=\"x\", y=\"y\", hover_name=\"name\", symbol=\"name\", color=\"name\")\n",
    "line = px.line(x=[-2.75, -0.75], y=[-2.75, -0.75])\n",
    "\n",
    "fig = go.Figure(scatter.data + line.data)\n",
    "fig.update_layout({\"title\": \"Test of Carbonate Correction\",\n",
    "                   \"xaxis_title\":\"Experimental dGf (eV/atom)\",\n",
    "                   \"yaxis_title\":\"Calculated dGf (eV/atom)\"})\n",
    "fig.show()"
   ]
  },
  {
   "cell_type": "code",
   "execution_count": null,
   "id": "d0ab6b50",
   "metadata": {},
   "outputs": [],
   "source": []
  }
 ],
 "metadata": {
  "kernelspec": {
   "display_name": "Python 3 (ipykernel)",
   "language": "python",
   "name": "python3"
  },
  "language_info": {
   "codemirror_mode": {
    "name": "ipython",
    "version": 3
   },
   "file_extension": ".py",
   "mimetype": "text/x-python",
   "name": "python",
   "nbconvert_exporter": "python",
   "pygments_lexer": "ipython3",
   "version": "3.10.5"
  },
  "vscode": {
   "interpreter": {
    "hash": "51968daf085ff40a32d90e32fc0f7ce4155f0a7334d13e643c991e82c056e5b1"
   }
  }
 },
 "nbformat": 4,
 "nbformat_minor": 5
}
