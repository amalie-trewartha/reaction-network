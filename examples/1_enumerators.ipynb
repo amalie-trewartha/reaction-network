{
 "cells": [
  {
   "cell_type": "markdown",
   "id": "d263f580",
   "metadata": {},
   "source": [
    "# Reaction-network: Enumerators (Demo Notebook)\n",
    "\n",
    "### <u> Author:</u> Matthew McDermott (Lawerence Berkeley National Laboratory)\n",
    "Last Updated: 10/20/22\n",
    "\n",
    "This notebook is a lesson on how to use the reaction enumerator classes in the _reaction-network_ package. These enumerators supply all reaction data to be used in reaction network construction (or other analyses).\n",
    "\n",
    "If you use this code in your work, please consider citing the following paper:\n",
    "\n",
    "    McDermott, M. J., Dwaraknath, S. S., and Persson, K. A. (2021). A graph-based network for predicting chemical reaction pathways in solid-state materials synthesis. Nature Communications, 12(1). https://doi.org/10.1038/s41467-021-23339-x"
   ]
  },
  {
   "cell_type": "markdown",
   "id": "529c0d4d",
   "metadata": {},
   "source": [
    "### Imports"
   ]
  },
  {
   "cell_type": "code",
   "execution_count": 1,
   "id": "4f283fcf",
   "metadata": {},
   "outputs": [
    {
     "name": "stderr",
     "output_type": "stream",
     "text": [
      "/Users/mcdermott/opt/miniconda3/envs/rn_dev2/lib/python3.10/site-packages/pymatgen/analysis/phase_diagram.py:26: TqdmExperimentalWarning: Using `tqdm.autonotebook.tqdm` in notebook mode. Use `tqdm.tqdm` instead to force console mode (e.g. in jupyter console)\n",
      "  from tqdm.autonotebook import tqdm\n"
     ]
    }
   ],
   "source": [
    "import logging\n",
    "from pprint import pprint\n",
    "\n",
    "from mp_api.client import MPRester\n",
    "from pymatgen.core.composition import Composition, Element\n",
    "\n",
    "from rxn_network.enumerators.basic import BasicEnumerator, BasicOpenEnumerator\n",
    "from rxn_network.enumerators.minimize import MinimizeGibbsEnumerator, MinimizeGrandPotentialEnumerator\n",
    "from rxn_network.costs.softplus import Softplus\n",
    "from rxn_network.entries.entry_set import GibbsEntrySet\n",
    "from rxn_network.reactions.reaction_set import ReactionSet\n",
    "\n",
    "%load_ext autoreload\n",
    "%autoreload 2"
   ]
  },
  {
   "cell_type": "markdown",
   "id": "7b999074",
   "metadata": {},
   "source": [
    "## Downloading and modifying entries"
   ]
  },
  {
   "cell_type": "markdown",
   "id": "8f5db570",
   "metadata": {},
   "source": [
    "First, we acquire entries for phases in the Y-Mn-O chemical system from the Materials Project (MP), a computed materials database containing calculations for over 130,000 materials."
   ]
  },
  {
   "cell_type": "code",
   "execution_count": 2,
   "id": "7e48b3d9",
   "metadata": {},
   "outputs": [
    {
     "name": "stderr",
     "output_type": "stream",
     "text": [
      "/Users/mcdermott/opt/miniconda3/envs/rn_dev2/lib/python3.10/site-packages/mp_api/client/client.py:144: builtins.UserWarning: Problem loading MPContribs client: [<twisted.python.failure.Failure OpenSSL.SSL.Error: [('STORE routines', '', 'unregistered scheme'), ('system library', '', ''), ('STORE routines', '', 'unregistered scheme'), ('system library', '', ''), ('STORE routines', '', 'unregistered scheme'), ('system library', '', ''), ('SSL routines', '', 'certificate verify failed')]>]\n"
     ]
    },
    {
     "data": {
      "application/vnd.jupyter.widget-view+json": {
       "model_id": "cff4097cfdd5443a820e367485964e97",
       "version_major": 2,
       "version_minor": 0
      },
      "text/plain": [
       "Retrieving ThermoDoc documents:   0%|          | 0/136 [00:00<?, ?it/s]"
      ]
     },
     "metadata": {},
     "output_type": "display_data"
    }
   ],
   "source": [
    "with MPRester() as mpr:  # insert your Materials Project API key here if it's not stored as an environment variable\n",
    "    entries = mpr.get_entries_in_chemsys(\"Y-Mn-O\")"
   ]
  },
  {
   "cell_type": "markdown",
   "id": "825b675b",
   "metadata": {},
   "source": [
    "The `GibbsEntrySet` class allows us to automatically convered `ComputedStructureEntry` objects downloaded from the MP database into `GibbsComputedEntry` objects, where DFT-calculated energies have been converted to an AI-estimated equivalent values of the Gibbs free energies of formation, $\\Delta G_f$ for all entries at the specified temperature.\n",
    "\n",
    "For more information, check out the citation in the documentation for `GibbsComputedEntry`."
   ]
  },
  {
   "cell_type": "code",
   "execution_count": 3,
   "id": "2df768d6",
   "metadata": {},
   "outputs": [],
   "source": [
    "temp = 900  # units: Kelvin\n",
    "gibbs_entries = GibbsEntrySet.from_computed_entries(entries, temp)"
   ]
  },
  {
   "cell_type": "markdown",
   "id": "29089129",
   "metadata": {},
   "source": [
    "We can print the entries by calling `.entries` or `.entries_list`:"
   ]
  },
  {
   "cell_type": "code",
   "execution_count": 4,
   "id": "2aabaca9",
   "metadata": {},
   "outputs": [
    {
     "data": {
      "text/plain": [
       "[GibbsComputedEntry | mp-12957 | O8 (O2)\n",
       " Gibbs Energy (900 K) = 0.0000,\n",
       " GibbsComputedEntry | mp-1238773 | Mn1 O1 (MnO)\n",
       " Gibbs Energy (900 K) = -2.6157,\n",
       " GibbsComputedEntry | mp-1238899 | Mn1 O1 (MnO)\n",
       " Gibbs Energy (900 K) = -2.9909,\n",
       " GibbsComputedEntry | mp-25223 | Mn1 O2 (MnO2)\n",
       " Gibbs Energy (900 K) = -3.7553,\n",
       " GibbsComputedEntry | mp-25424 | Mn1 O2 (MnO2)\n",
       " Gibbs Energy (900 K) = -3.9034,\n",
       " GibbsComputedEntry | mp-1272141 | Mn1 O2 (MnO2)\n",
       " Gibbs Energy (900 K) = -3.9507,\n",
       " GibbsComputedEntry | mp-796077 | Mn1 O2 (MnO2)\n",
       " Gibbs Energy (900 K) = 0.6043,\n",
       " GibbsComputedEntry | mp-1221542 | Mn1 O2 (MnO2)\n",
       " Gibbs Energy (900 K) = -2.4906,\n",
       " GibbsComputedEntry | mp-19006 | Mn2 O2 (MnO)\n",
       " Gibbs Energy (900 K) = -6.1654,\n",
       " GibbsComputedEntry | mp-510732 | Mn2 O4 (MnO2)\n",
       " Gibbs Energy (900 K) = -6.6081,\n",
       " GibbsComputedEntry | mp-755671 | Mn2 O4 (MnO2)\n",
       " Gibbs Energy (900 K) = -7.6123,\n",
       " GibbsComputedEntry | mp-1221574 | Mn2 O4 (MnO2)\n",
       " Gibbs Energy (900 K) = -0.4639,\n",
       " GibbsComputedEntry | mp-1086672 | Mn2 O6 (MnO3)\n",
       " Gibbs Energy (900 K) = -2.3176,\n",
       " GibbsComputedEntry | mp-1221594 | Mn2 O8 (MnO4)\n",
       " Gibbs Energy (900 K) = -0.1028,\n",
       " GibbsComputedEntry | mp-644514 | Mn3 O6 (MnO2)\n",
       " Gibbs Energy (900 K) = -11.1454,\n",
       " GibbsComputedEntry | mp-999539 | Mn4 O4 (MnO)\n",
       " Gibbs Energy (900 K) = -12.5274,\n",
       " GibbsComputedEntry | mp-1232659 | Mn4 O4 (MnO)\n",
       " Gibbs Energy (900 K) = -12.3131,\n",
       " GibbsComputedEntry | mp-1303934 | Mn4 O6 (Mn2O3)\n",
       " Gibbs Energy (900 K) = -14.5129,\n",
       " GibbsComputedEntry | mp-1306224 | Mn4 O6 (Mn2O3)\n",
       " Gibbs Energy (900 K) = -14.6001,\n",
       " GibbsComputedEntry | mp-770543 | Mn4 O6 (Mn2O3)\n",
       " Gibbs Energy (900 K) = -14.4479,\n",
       " GibbsComputedEntry | mp-1371977 | Mn4 O8 (MnO2)\n",
       " Gibbs Energy (900 K) = -12.6768,\n",
       " GibbsComputedEntry | mp-19395 | Mn4 O8 (MnO2)\n",
       " Gibbs Energy (900 K) = -15.3067,\n",
       " GibbsComputedEntry | mp-510408 | Mn4 O8 (MnO2)\n",
       " Gibbs Energy (900 K) = -14.6239,\n",
       " GibbsComputedEntry | mp-25275 | Mn4 O8 (MnO2)\n",
       " Gibbs Energy (900 K) = -14.8641,\n",
       " GibbsComputedEntry | mp-1271850 | Mn4 O8 (MnO2)\n",
       " Gibbs Energy (900 K) = -15.2706,\n",
       " GibbsComputedEntry | mp-33009 | Mn4 O8 (MnO2)\n",
       " Gibbs Energy (900 K) = -14.6159,\n",
       " GibbsComputedEntry | mp-19326 | Mn4 O8 (MnO2)\n",
       " Gibbs Energy (900 K) = -15.0393,\n",
       " GibbsComputedEntry | mp-1407587 | Mn4 O8 (MnO2)\n",
       " Gibbs Energy (900 K) = -12.8098,\n",
       " GibbsComputedEntry | mp-1104282 | Mn4 O10 (Mn2O5)\n",
       " Gibbs Energy (900 K) = -8.5412,\n",
       " GibbsComputedEntry | mp-18922 | Mn5 O8 (Mn5O8)\n",
       " Gibbs Energy (900 K) = -18.7753,\n",
       " GibbsComputedEntry | mp-752536 | Mn5 O8 (Mn5O8)\n",
       " Gibbs Energy (900 K) = -18.0704,\n",
       " GibbsComputedEntry | mp-18759 | Mn6 O8 (Mn3O4)\n",
       " Gibbs Energy (900 K) = -22.0535,\n",
       " GibbsComputedEntry | mp-796336 | Mn6 O12 (MnO2)\n",
       " Gibbs Energy (900 K) = -23.3866,\n",
       " GibbsComputedEntry | mp-796340 | Mn6 O12 (MnO2)\n",
       " Gibbs Energy (900 K) = -23.4214,\n",
       " GibbsComputedEntry | mp-754430 | Mn7 O12 (Mn7O12)\n",
       " Gibbs Energy (900 K) = -25.4780,\n",
       " GibbsComputedEntry | mp-1043363 | Mn8 O12 (Mn2O3)\n",
       " Gibbs Energy (900 K) = -25.9195,\n",
       " GibbsComputedEntry | mp-1354190 | Mn8 O16 (MnO2)\n",
       " Gibbs Energy (900 K) = -29.6905,\n",
       " GibbsComputedEntry | mp-755489 | Mn8 O16 (MnO2)\n",
       " Gibbs Energy (900 K) = -29.5460,\n",
       " GibbsComputedEntry | mp-1221945 | Mn8 O17 (Mn8O17)\n",
       " Gibbs Energy (900 K) = -27.4223,\n",
       " GibbsComputedEntry | mp-1045833 | Mn9 O13 (Mn9O13)\n",
       " Gibbs Energy (900 K) = -28.9201,\n",
       " GibbsComputedEntry | mp-1046066 | Mn10 O14 (Mn5O7)\n",
       " Gibbs Energy (900 K) = -31.7751,\n",
       " GibbsComputedEntry | mp-1180876 | Mn12 O16 (Mn3O4)\n",
       " Gibbs Energy (900 K) = -40.6388,\n",
       " GibbsComputedEntry | mp-638270 | Mn12 O16 (Mn3O4)\n",
       " Gibbs Energy (900 K) = -38.8209,\n",
       " GibbsComputedEntry | mp-1194100 | Mn12 O16 (Mn3O4)\n",
       " Gibbs Energy (900 K) = -38.7835,\n",
       " GibbsComputedEntry | mp-1193728 | Mn12 O16 (Mn3O4)\n",
       " Gibbs Energy (900 K) = -38.7948,\n",
       " GibbsComputedEntry | mp-20141 | Mn12 O16 (Mn3O4)\n",
       " Gibbs Energy (900 K) = -42.2318,\n",
       " GibbsComputedEntry | mp-1180464 | Mn12 O16 (Mn3O4)\n",
       " Gibbs Energy (900 K) = -29.2701,\n",
       " GibbsComputedEntry | mp-1279995 | Mn12 O16 (Mn3O4)\n",
       " Gibbs Energy (900 K) = -42.1824,\n",
       " GibbsComputedEntry | mp-1041066 | Mn12 O24 (MnO2)\n",
       " Gibbs Energy (900 K) = -40.4268,\n",
       " GibbsComputedEntry | mp-1354468 | Mn12 O24 (MnO2)\n",
       " Gibbs Energy (900 K) = -42.3019,\n",
       " GibbsComputedEntry | mp-867971 | Mn15 O32 (Mn15O32)\n",
       " Gibbs Energy (900 K) = -51.1300,\n",
       " GibbsComputedEntry | mp-776603 | Mn15 O32 (Mn15O32)\n",
       " Gibbs Energy (900 K) = -50.1487,\n",
       " GibbsComputedEntry | mp-510604 | Mn16 O24 (Mn2O3)\n",
       " Gibbs Energy (900 K) = -60.2596,\n",
       " GibbsComputedEntry | mp-771717 | Mn16 O24 (Mn2O3)\n",
       " Gibbs Energy (900 K) = -57.0687,\n",
       " GibbsComputedEntry | mp-1182678 | Mn16 O24 (Mn2O3)\n",
       " Gibbs Energy (900 K) = -47.1081,\n",
       " GibbsComputedEntry | mp-1350912 | Mn16 O32 (MnO2)\n",
       " Gibbs Energy (900 K) = -49.2485,\n",
       " GibbsComputedEntry | mp-28338 | Mn16 O56 (Mn2O7)\n",
       " Gibbs Energy (900 K) = -24.4676,\n",
       " GibbsComputedEntry | mp-1222372 | Mn20 O43 (Mn20O43)\n",
       " Gibbs Energy (900 K) = -65.6663,\n",
       " GibbsComputedEntry | mp-766493 | Mn21 O40 (Mn21O40)\n",
       " Gibbs Energy (900 K) = -76.8745,\n",
       " GibbsComputedEntry | mp-849596 | Mn21 O40 (Mn21O40)\n",
       " Gibbs Energy (900 K) = -77.4920,\n",
       " GibbsComputedEntry | mp-705430 | Mn24 O48 (MnO2)\n",
       " Gibbs Energy (900 K) = -84.8186,\n",
       " GibbsComputedEntry | mp-35 | Mn29 (Mn)\n",
       " Gibbs Energy (900 K) = 0.0000,\n",
       " GibbsComputedEntry | mp-1349371 | Mn32 O48 (Mn2O3)\n",
       " Gibbs Energy (900 K) = 109.1439,\n",
       " GibbsComputedEntry | mp-1204718 | Mn32 O48 (Mn2O3)\n",
       " Gibbs Energy (900 K) = -114.3355,\n",
       " GibbsComputedEntry | mp-565203 | Mn32 O48 (Mn2O3)\n",
       " Gibbs Energy (900 K) = -121.0384,\n",
       " GibbsComputedEntry | mp-1203190 | Mn32 O48 (Mn2O3)\n",
       " Gibbs Energy (900 K) = -114.3313,\n",
       " GibbsComputedEntry | mp-1172875 | Mn32 O48 (Mn2O3)\n",
       " Gibbs Energy (900 K) = -121.0591,\n",
       " GibbsComputedEntry | mp-778470 | Mn64 O96 (Mn2O3)\n",
       " Gibbs Energy (900 K) = -230.8093,\n",
       " GibbsComputedEntry | mp-1434307 | Y1 Mn1 O3 (YMnO3)\n",
       " Gibbs Energy (900 K) = -11.1384,\n",
       " GibbsComputedEntry | mp-1062072 | Y1 Mn2 (YMn2)\n",
       " Gibbs Energy (900 K) = 2.2174,\n",
       " GibbsComputedEntry | mp-22508 | Y1 Mn12 (YMn12)\n",
       " Gibbs Energy (900 K) = -0.0997,\n",
       " GibbsComputedEntry | mp-1187855 | Y2 O2 (YO)\n",
       " Gibbs Energy (900 K) = -10.6743,\n",
       " GibbsComputedEntry | mp-13061 | Y2 O3 (Y2O3)\n",
       " Gibbs Energy (900 K) = -16.9694,\n",
       " GibbsComputedEntry | mp-1216050 | Y2 O3 (Y2O3)\n",
       " Gibbs Energy (900 K) = -16.1211,\n",
       " GibbsComputedEntry | mp-1178684 | Y2 O4 (YO2)\n",
       " Gibbs Energy (900 K) = -15.1441,\n",
       " GibbsComputedEntry | mp-1206610 | Y2 O4 (YO2)\n",
       " Gibbs Energy (900 K) = -15.6194,\n",
       " GibbsComputedEntry | mp-1977753 | Y2 O4 (YO2)\n",
       " Gibbs Energy (900 K) = -14.9803,\n",
       " GibbsComputedEntry | mp-1206099 | Y2 O6 (YO3)\n",
       " Gibbs Energy (900 K) = -11.6774,\n",
       " GibbsComputedEntry | mp-19227 | Y2 Mn2 O6 (YMnO3)\n",
       " Gibbs Energy (900 K) = -25.4475,\n",
       " GibbsComputedEntry | mp-558 | Y2 Mn4 (YMn2)\n",
       " Gibbs Energy (900 K) = 1.0549,\n",
       " GibbsComputedEntry | mp-1385591 | Y2 Mn4 O8 (YMn2O4)\n",
       " Gibbs Energy (900 K) = -30.1073,\n",
       " GibbsComputedEntry | mp-1385844 | Y2 Mn4 O8 (YMn2O4)\n",
       " Gibbs Energy (900 K) = -29.4526,\n",
       " GibbsComputedEntry | mp-1045475 | Y2 Mn4 O8 (YMn2O4)\n",
       " Gibbs Energy (900 K) = -30.7946,\n",
       " GibbsComputedEntry | mp-1187739 | Y3 (Y)\n",
       " Gibbs Energy (900 K) = 0.0000,\n",
       " GibbsComputedEntry | mp-673247 | Y4 O6 (Y2O3)\n",
       " Gibbs Energy (900 K) = -29.8227,\n",
       " GibbsComputedEntry | mp-754759 | Y4 O6 (Y2O3)\n",
       " Gibbs Energy (900 K) = -34.2510,\n",
       " GibbsComputedEntry | mp-1102883 | Y4 O8 (YO2)\n",
       " Gibbs Energy (900 K) = -29.9612,\n",
       " GibbsComputedEntry | mp-1189335 | Y4 O12 (YO3)\n",
       " Gibbs Energy (900 K) = -22.8262,\n",
       " GibbsComputedEntry | mp-20699 | Y4 Mn4 O12 (YMnO3)\n",
       " Gibbs Energy (900 K) = -50.6227,\n",
       " GibbsComputedEntry | mp-18831 | Y4 Mn4 O14 (Y2Mn2O7)\n",
       " Gibbs Energy (900 K) = -52.1371,\n",
       " GibbsComputedEntry | mp-1343591 | Y4 Mn6 O18 (Y2Mn3O9)\n",
       " Gibbs Energy (900 K) = -52.8588,\n",
       " GibbsComputedEntry | mp-1336972 | Y4 Mn6 O18 (Y2Mn3O9)\n",
       " Gibbs Energy (900 K) = -52.4096,\n",
       " GibbsComputedEntry | mp-1103127 | Y4 Mn8 (YMn2)\n",
       " Gibbs Energy (900 K) = 1.7725,\n",
       " GibbsComputedEntry | mp-510598 | Y4 Mn8 O20 (YMn2O5)\n",
       " Gibbs Energy (900 K) = -68.6480,\n",
       " GibbsComputedEntry | mp-1045064 | Y4 Mn12 O24 (YMn3O6)\n",
       " Gibbs Energy (900 K) = -76.6829,\n",
       " GibbsComputedEntry | mp-558573 | Y6 O9 (Y2O3)\n",
       " Gibbs Energy (900 K) = -51.3024,\n",
       " GibbsComputedEntry | mp-19385 | Y6 Mn6 O18 (YMnO3)\n",
       " Gibbs Energy (900 K) = -76.9563,\n",
       " GibbsComputedEntry | mp-1355 | Y6 Mn23 (Y6Mn23)\n",
       " Gibbs Energy (900 K) = 2.8803,\n",
       " GibbsComputedEntry | mp-1178770 | Y8 O12 (Y2O3)\n",
       " Gibbs Energy (900 K) = -66.6910,\n",
       " GibbsComputedEntry | mp-777514 | Y8 O12 (Y2O3)\n",
       " Gibbs Energy (900 K) = -67.5535,\n",
       " GibbsComputedEntry | mp-1350656 | Y8 Mn12 O36 (Y2Mn3O9)\n",
       " Gibbs Energy (900 K) = -112.9829,\n",
       " GibbsComputedEntry | mp-775907 | Y12 O18 (Y2O3)\n",
       " Gibbs Energy (900 K) = -102.5557,\n",
       " GibbsComputedEntry | mp-2652 | Y16 O24 (Y2O3)\n",
       " Gibbs Energy (900 K) = -139.2071,\n",
       " GibbsComputedEntry | mp-775906 | Y16 O24 (Y2O3)\n",
       " Gibbs Energy (900 K) = -136.4400,\n",
       " GibbsComputedEntry | mp-1245291 | Y40 O60 (Y2O3)\n",
       " Gibbs Energy (900 K) = -322.4579,\n",
       " GibbsComputedEntry | mp-1244888 | Y40 O60 (Y2O3)\n",
       " Gibbs Energy (900 K) = -324.3756,\n",
       " GibbsComputedEntry | mp-1244949 | Y40 O60 (Y2O3)\n",
       " Gibbs Energy (900 K) = -325.9563,\n",
       " GibbsComputedEntry | mp-1245017 | Y40 O60 (Y2O3)\n",
       " Gibbs Energy (900 K) = -324.8185]"
      ]
     },
     "execution_count": 4,
     "metadata": {},
     "output_type": "execute_result"
    }
   ],
   "source": [
    "gibbs_entries.entries_list  # all entries in the Y-Mn-O system (in alphabetical order)"
   ]
  },
  {
   "cell_type": "markdown",
   "id": "5ecbdd74",
   "metadata": {},
   "source": [
    "The `GibbsEntrySet` class has many helpful functions, such as the following `filter_by_stability()` function, which automatically removes entries which are a specified energy per atom above the convex hull of stability:"
   ]
  },
  {
   "cell_type": "code",
   "execution_count": 5,
   "id": "afe4de87",
   "metadata": {},
   "outputs": [],
   "source": [
    "filtered_entries = gibbs_entries.filter_by_stability(0.025)"
   ]
  },
  {
   "cell_type": "markdown",
   "id": "ac4142dd",
   "metadata": {},
   "source": [
    "You should now see a much shorter list of entries within the Y-Mn-O system (< 25 meV/atom below the hull)"
   ]
  },
  {
   "cell_type": "code",
   "execution_count": 6,
   "id": "905bbbea",
   "metadata": {},
   "outputs": [
    {
     "data": {
      "text/plain": [
       "[GibbsComputedEntry | mp-12957 | O8 (O2)\n",
       " Gibbs Energy (900 K) = 0.0000,\n",
       " GibbsComputedEntry | mp-1272141 | Mn1 O2 (MnO2)\n",
       " Gibbs Energy (900 K) = -3.9507,\n",
       " GibbsComputedEntry | mp-999539 | Mn4 O4 (MnO)\n",
       " Gibbs Energy (900 K) = -12.5274,\n",
       " GibbsComputedEntry | mp-18922 | Mn5 O8 (Mn5O8)\n",
       " Gibbs Energy (900 K) = -18.7753,\n",
       " GibbsComputedEntry | mp-18759 | Mn6 O8 (Mn3O4)\n",
       " Gibbs Energy (900 K) = -22.0535,\n",
       " GibbsComputedEntry | mp-35 | Mn29 (Mn)\n",
       " Gibbs Energy (900 K) = 0.0000,\n",
       " GibbsComputedEntry | mp-1172875 | Mn32 O48 (Mn2O3)\n",
       " Gibbs Energy (900 K) = -121.0591,\n",
       " GibbsComputedEntry | mp-22508 | Y1 Mn12 (YMn12)\n",
       " Gibbs Energy (900 K) = -0.0997,\n",
       " GibbsComputedEntry | mp-1187739 | Y3 (Y)\n",
       " Gibbs Energy (900 K) = 0.0000,\n",
       " GibbsComputedEntry | mp-18831 | Y4 Mn4 O14 (Y2Mn2O7)\n",
       " Gibbs Energy (900 K) = -52.1371,\n",
       " GibbsComputedEntry | mp-510598 | Y4 Mn8 O20 (YMn2O5)\n",
       " Gibbs Energy (900 K) = -68.6480,\n",
       " GibbsComputedEntry | mp-19385 | Y6 Mn6 O18 (YMnO3)\n",
       " Gibbs Energy (900 K) = -76.9563,\n",
       " GibbsComputedEntry | mp-2652 | Y16 O24 (Y2O3)\n",
       " Gibbs Energy (900 K) = -139.2071]"
      ]
     },
     "execution_count": 6,
     "metadata": {},
     "output_type": "execute_result"
    }
   ],
   "source": [
    "filtered_entries.entries_list"
   ]
  },
  {
   "cell_type": "markdown",
   "id": "3a810f32",
   "metadata": {},
   "source": [
    "## Running enumerators\n",
    "\n",
    "There are several types of enumerator classes contained within `rxn_network.enumerators`: These are:\n",
    "\n",
    "1. `BasicEnumerator`: use a combinatorial approach to identify all possible (closed) reactions within a set of entries\n",
    "2. `BasicOpenEnumerator`: use a combinatorial approach to identify all **open** reactions within a set of entries and a list of specified open entries/elements\n",
    "3. `MinimizeGibbsEnumerator`: use a thermodynamic approach to identify all reactions within a set of entries that are predicted by minimizing Gibbs free energy between a set of two reacting phases touching at an interface\n",
    "4. `MinimizeGrandPotentialEnumerator`: use a thermodynamic approach to identify all reactions within a set of entries that are predicted by minimizing the grand potential between a set of two reacting phases touching at an interface with an **open** element at a specified chemical potential\n",
    "\n",
    "### Basic enumerators\n",
    "We first create a basic enumerator object by initializing one from the `BasicEnumerator` class:"
   ]
  },
  {
   "cell_type": "code",
   "execution_count": 7,
   "id": "e92e7cb2",
   "metadata": {},
   "outputs": [],
   "source": [
    "be = BasicEnumerator()"
   ]
  },
  {
   "cell_type": "markdown",
   "id": "edcc5636",
   "metadata": {},
   "source": [
    "The `BasicEnumerator` class, as is true for all other enumerator classes, can be provided with several arguments for customizing the enumerator output. An explanation of some of these is given below:\n",
    "\n",
    "- **precursors**: Optional list of precursor formulas; only reactions\n",
    "    which contain at least these phases as reactants will be enumerated. See\n",
    "    the \"exclusive_precursors\" parameter for more details.\n",
    "- **targets**: Optional list of target formulas; only reactions which include\n",
    "    formation of at least one of these targets will be enumerated. See the\n",
    "    \"exclusive_targets\" parameter for more details.\n",
    "- **calculators**: Optional list of Calculator object names to be initialized; see\n",
    "    calculators module for options (e.g., [\"ChempotDistanceCalculator\"])\n",
    "- **n**: Maximum reactant/product cardinality; i.e., largest possible number of\n",
    "    entries on either side of the reaction. Defaults to 2.\n",
    "- **exclusive_precursors**: Whether to consider only reactions that have reactants \n",
    "    which are a subset of the provided list of precursors. In other\n",
    "    words, if True, this only identifies reactions with reactants selected\n",
    "    from the precursors argument. Defaults to True.\n",
    "- **exclusive_targets**: Whether to consider only reactions that make the\n",
    "    form products that are a subset of the provided list of targets. If\n",
    "    False, this only identifies reactions with no unspecified byproducts.\n",
    "    Defualts to False.\n",
    "- **remove_unbalanced**: Whether to remove reactions which are unbalanced.\n",
    "    Defaults to True.\n",
    "- **remove_changed**: Whether to remove reactions which can only be balanced by\n",
    "    removing a reactant/product or having it change sides. Defaults to True.\n",
    "- **calculate_e_above_hulls**: Whether to calculate e_above_hull for each entry\n",
    "    upon initialization of the entries at the beginning of enumeration.\n",
    "- **quiet**: Whether to run in quiet mode (no progress bar). Defaults to False.\n",
    "\n",
    "Note that the default arguments are good for generating a list of simple (unconstrained) reactions, as we might build for a reaction network. Run the following cell:"
   ]
  },
  {
   "cell_type": "code",
   "execution_count": 8,
   "id": "102063fc",
   "metadata": {},
   "outputs": [
    {
     "name": "stderr",
     "output_type": "stream",
     "text": [
      "2022-10-20 15:04:47,295\tINFO worker.py:1509 -- Started a local Ray instance. View the dashboard at \u001b[1m\u001b[32m127.0.0.1:8265 \u001b[39m\u001b[22m\n",
      "100%|██████████████████████████████████████████████████████████████████████████████████████████████████████████████████████████████████████████████████████████████| 4/4 [00:04<00:00,  1.15s/it]\n"
     ]
    }
   ],
   "source": [
    "all_rxns = be.enumerate(filtered_entries)"
   ]
  },
  {
   "cell_type": "markdown",
   "id": "afc844ff",
   "metadata": {},
   "source": [
    "This should complete somewhat quickly (within a few seconds). As a result, a list of ~700 generated reactions will be stored within the `all_rxns` object:"
   ]
  },
  {
   "cell_type": "code",
   "execution_count": 9,
   "id": "3c67e9ee",
   "metadata": {},
   "outputs": [
    {
     "name": "stdout",
     "output_type": "stream",
     "text": [
      "692\n"
     ]
    }
   ],
   "source": [
    "print(len(all_rxns))"
   ]
  },
  {
   "cell_type": "markdown",
   "id": "6b9ef1b4",
   "metadata": {},
   "source": [
    "The reactions returned by the enumerators are placed in a memory-efficient class called `ReactionSet`. \n",
    "\n",
    "This class stores sets of reactions as arrays. The actual reaction objects  can only be accessed by iterating through the reaction set. Lets print the first 10 reactions:"
   ]
  },
  {
   "cell_type": "code",
   "execution_count": 10,
   "id": "0eae80ef",
   "metadata": {},
   "outputs": [
    {
     "name": "stdout",
     "output_type": "stream",
     "text": [
      "YMn12 -> Y + 12 Mn\n",
      "Y + 12 Mn -> YMn12\n",
      "0.5 Mn3O4 -> O2 + 1.5 Mn\n",
      "O2 + 1.5 Mn -> 0.5 Mn3O4\n",
      "2 Mn3O4 -> Mn + Mn5O8\n",
      "Mn + Mn5O8 -> 2 Mn3O4\n",
      "Mn3O4 -> Mn + 2 MnO2\n",
      "Mn + 2 MnO2 -> Mn3O4\n",
      "3 Mn3O4 -> Mn + 4 Mn2O3\n",
      "Mn + 4 Mn2O3 -> 3 Mn3O4\n",
      "2 Mn3O4 -> O2 + 6 MnO\n",
      "O2 + 6 MnO -> 2 Mn3O4\n"
     ]
    }
   ],
   "source": [
    "for count, r in enumerate(all_rxns):\n",
    "    print(r)\n",
    "    if count>10:\n",
    "        break # first 10 reactions (may be different on your workstation)"
   ]
  },
  {
   "cell_type": "markdown",
   "id": "42e1e246",
   "metadata": {},
   "source": [
    "Looking at the list of reactions above, we see that all reactions are stoichiometrically balanced. If we look at any particular reaction object, we find that the reaction energy and uncertainty are properties which can be easily accessed:"
   ]
  },
  {
   "cell_type": "code",
   "execution_count": 11,
   "id": "138fa836",
   "metadata": {},
   "outputs": [
    {
     "name": "stdout",
     "output_type": "stream",
     "text": [
      "YMn12 -> Y + 12 Mn\n",
      "0.007670494437353557 ± 0.06815401979488214 eV/atom\n"
     ]
    }
   ],
   "source": [
    "r = list(all_rxns.get_rxns())[0]\n",
    "print(r)\n",
    "print(r.energy_per_atom, \"±\", r.energy_uncertainty_per_atom, \"eV/atom\")"
   ]
  },
  {
   "cell_type": "markdown",
   "id": "8d74e8bc",
   "metadata": {},
   "source": [
    "What if you want to enumerate all reactions from a known set of precursors? An inefficient way to do so might be to filter the previous reaction set by your phases of interest.\n",
    "\n",
    "A more efficient solution has been provided. We can supply our precursors when we initialize the `BasicEnumerator` object. This will reduce the number of calculations required significantly."
   ]
  },
  {
   "cell_type": "code",
   "execution_count": 12,
   "id": "c0ccf3bc",
   "metadata": {},
   "outputs": [
    {
     "name": "stderr",
     "output_type": "stream",
     "text": [
      "100%|█████████████████████████████████████████████████████████████████████████████████████████████████████████████████████████████████████████████████████████████| 1/1 [00:00<00:00, 124.01it/s]\n"
     ]
    }
   ],
   "source": [
    "be_precursors = BasicEnumerator(precursors=[\"Y2O3\"])\n",
    "y2o3_rxns_exclusive = be_precursors.enumerate(filtered_entries)"
   ]
  },
  {
   "cell_type": "code",
   "execution_count": 13,
   "id": "551da08b",
   "metadata": {},
   "outputs": [
    {
     "name": "stdout",
     "output_type": "stream",
     "text": [
      "0.5 Y2O3 -> Y + 0.75 O2\n"
     ]
    }
   ],
   "source": [
    "for r in y2o3_rxns_exclusive:\n",
    "    print(r)"
   ]
  },
  {
   "cell_type": "markdown",
   "id": "1c40612e",
   "metadata": {},
   "source": [
    "Note that by default, this only produces reactions which **exclusively** have the provided precursor(s). \n",
    "\n",
    "To include reactions that contain this precursor (and possibly others) set the `exclusive_precursors=False`:"
   ]
  },
  {
   "cell_type": "code",
   "execution_count": 14,
   "id": "d7a90c39",
   "metadata": {},
   "outputs": [
    {
     "name": "stderr",
     "output_type": "stream",
     "text": [
      "100%|██████████████████████████████████████████████████████████████████████████████████████████████████████████████████████████████████████████████████████████████| 4/4 [00:00<00:00,  5.84it/s]\n"
     ]
    }
   ],
   "source": [
    "be_precursors = BasicEnumerator(precursors=[\"Y2O3\"], exclusive_precursors=False)\n",
    "y2o3_rxns = be_precursors.enumerate(filtered_entries)"
   ]
  },
  {
   "cell_type": "markdown",
   "id": "c697190c",
   "metadata": {},
   "source": [
    "We now see a much larger list of reactions, all of which contain Y2O3 as a precursor (and often another phase such as a manganese oxide):"
   ]
  },
  {
   "cell_type": "code",
   "execution_count": 15,
   "id": "3254e746",
   "metadata": {},
   "outputs": [
    {
     "name": "stdout",
     "output_type": "stream",
     "text": [
      "0.5 Y2O3 -> Y + 0.75 O2\n",
      "Mn2O3 + Y2O3 -> 2 YMnO3\n",
      "Y2O3 + 2 MnO2 -> Y2Mn2O7\n",
      "16 Mn + 0.6667 Y2O3 -> O2 + 1.333 YMn12\n",
      "35 Mn + 1.333 Y2O3 -> Mn3O4 + 2.667 YMn12\n",
      "12.94 Mn + 0.5 Y2O3 -> YMn12 + 0.1875 Mn5O8\n",
      "30 Mn + 1.667 Y2O3 -> YMn2O5 + 2.333 YMn12\n",
      "13 Mn + Y2O3 -> YMnO3 + YMn12\n",
      "12.75 Mn + 0.875 Y2O3 -> YMn12 + 0.375 Y2Mn2O7\n",
      "12.75 Mn + 0.5 Y2O3 -> YMn12 + 0.75 MnO2\n",
      "9 Mn + 0.3333 Y2O3 -> MnO + 0.6667 YMn12\n",
      "26 Mn + Y2O3 -> Mn2O3 + 2 YMn12\n",
      "1.125 Mn + 0.5 Y2O3 -> Y + 0.375 Mn3O4\n",
      "0.9375 Mn + 0.5 Y2O3 -> Y + 0.1875 Mn5O8\n",
      "0.8571 Mn + 0.7143 Y2O3 -> Y + 0.4286 YMn2O5\n",
      "Mn + Y2O3 -> Y + YMnO3\n",
      "0.75 Mn + 0.875 Y2O3 -> Y + 0.375 Y2Mn2O7\n",
      "0.75 Mn + 0.5 Y2O3 -> Y + 0.75 MnO2\n",
      "1.5 Mn + 0.5 Y2O3 -> Y + 1.5 MnO\n",
      "Mn + 0.5 Y2O3 -> Y + 0.5 Mn2O3\n",
      "Mn3O4 + 0.5714 Y2O3 -> 1.143 YMn2O5 + 0.7143 Mn\n",
      "Mn5O8 + 1.143 Y2O3 -> 2.286 YMn2O5 + 0.4286 Mn\n",
      "MnO + 0.1429 Y2O3 -> 0.2857 YMn2O5 + 0.4286 Mn\n",
      "Mn2O3 + 0.4286 Y2O3 -> 0.8571 YMn2O5 + 0.2857 Mn\n",
      "Mn3O4 + 1.333 Y2O3 -> 2.667 YMnO3 + 0.3333 Mn\n",
      "MnO + 0.3333 Y2O3 -> 0.6667 YMnO3 + 0.3333 Mn\n",
      "Mn3O4 + Y2O3 -> Mn + Y2Mn2O7\n",
      "Mn5O8 + 2 Y2O3 -> Mn + 2 Y2Mn2O7\n",
      "YMn2O5 + 0.375 Y2O3 -> 0.25 Mn + 0.875 Y2Mn2O7\n",
      "MnO + 0.25 Y2O3 -> 0.5 Mn + 0.25 Y2Mn2O7\n",
      "Mn2O3 + 0.75 Y2O3 -> 0.5 Mn + 0.75 Y2Mn2O7\n",
      "Mn3O4 + 0.125 Y2O3 -> 2.188 O2 + 0.25 YMn12\n",
      "Mn5O8 + 0.2083 Y2O3 -> 4.313 O2 + 0.4167 YMn12\n",
      "Y2O3 + 24 MnO2 -> 25.5 O2 + 2 YMn12\n",
      "MnO + 0.04167 Y2O3 -> 0.5625 O2 + 0.08333 YMn12\n",
      "Mn2O3 + 0.08333 Y2O3 -> 1.625 O2 + 0.1667 YMn12\n",
      "MnO + 0.009524 Y2O3 -> 0.2571 Mn3O4 + 0.01905 YMn12\n",
      "Mn3O4 + 0.01932 Y2O3 -> 0.03865 YMn12 + 0.5072 Mn5O8\n",
      "MnO + 0.01449 Y2O3 -> 0.02899 YMn12 + 0.1304 Mn5O8\n",
      "Mn2O3 + 0.004831 Y2O3 -> 0.009662 YMn12 + 0.3768 Mn5O8\n",
      "0.08571 YMn12 + 0.4571 Y2O3 -> Y + 0.3429 Mn3O4\n",
      "0.07246 YMn12 + 0.4638 Y2O3 -> Y + 0.1739 Mn5O8\n",
      "0.06667 YMn12 + 0.6667 Y2O3 -> Y + 0.4 YMn2O5\n",
      "0.07692 YMn12 + 0.9231 Y2O3 -> Y + 0.9231 YMnO3\n",
      "0.05882 YMn12 + 0.8235 Y2O3 -> Y + 0.3529 Y2Mn2O7\n",
      "0.05882 YMn12 + 0.4706 Y2O3 -> Y + 0.7059 MnO2\n",
      "0.1111 YMn12 + 0.4444 Y2O3 -> Y + 1.333 MnO\n",
      "0.07692 YMn12 + 0.4615 Y2O3 -> Y + 0.4615 Mn2O3\n",
      "Mn3O4 + 0.6111 Y2O3 -> 1.167 YMn2O5 + 0.05556 YMn12\n",
      "Mn5O8 + 1.167 Y2O3 -> 2.3 YMn2O5 + 0.03333 YMn12\n",
      "MnO + 0.1667 Y2O3 -> 0.3 YMn2O5 + 0.03333 YMn12\n",
      "Mn2O3 + 0.4444 Y2O3 -> 0.8667 YMn2O5 + 0.02222 YMn12\n",
      "Mn3O4 + 1.359 Y2O3 -> 2.692 YMnO3 + 0.02564 YMn12\n",
      "MnO + 0.359 Y2O3 -> 0.6923 YMnO3 + 0.02564 YMn12\n",
      "Mn3O4 + 1.069 Y2O3 -> 0.07843 YMn12 + 1.029 Y2Mn2O7\n",
      "Mn5O8 + 2.069 Y2O3 -> 0.07843 YMn12 + 2.029 Y2Mn2O7\n",
      "YMn2O5 + 0.3922 Y2O3 -> 0.01961 YMn12 + 0.8824 Y2Mn2O7\n",
      "MnO + 0.2843 Y2O3 -> 0.03922 YMn12 + 0.2647 Y2Mn2O7\n",
      "Mn2O3 + 0.7843 Y2O3 -> 0.03922 YMn12 + 0.7647 Y2Mn2O7\n",
      "Mn3O4 + 0.03922 Y2O3 -> 0.07843 YMn12 + 2.059 MnO2\n",
      "Mn5O8 + 0.03922 Y2O3 -> 0.07843 YMn12 + 4.059 MnO2\n",
      "MnO + 0.01961 Y2O3 -> 0.03922 YMn12 + 0.5294 MnO2\n",
      "Mn2O3 + 0.01961 Y2O3 -> 0.03922 YMn12 + 1.529 MnO2\n",
      "Mn3O4 + 0.01282 Y2O3 -> 1.346 Mn2O3 + 0.02564 YMn12\n",
      "MnO + 0.01282 Y2O3 -> 0.3462 Mn2O3 + 0.02564 YMn12\n",
      "Y2O3 + 4 MnO2 -> 2 YMn2O5 + 0.5 O2\n",
      "Mn5O8 + 2.5 Y2O3 -> 5 YMnO3 + 0.25 O2\n",
      "YMn2O5 + 0.5 Y2O3 -> 2 YMnO3 + 0.25 O2\n",
      "Y2O3 + 2 MnO2 -> 2 YMnO3 + 0.5 O2\n",
      "MnO + 0.1111 Y2O3 -> 0.2222 Y + 0.3333 Mn3O4\n",
      "1.875 Mn3O4 + 0.5 Y2O3 -> Y + 1.125 Mn5O8\n",
      "1.2 Mn3O4 + 1.4 Y2O3 -> Y + 1.8 YMn2O5\n",
      "3 Mn3O4 + 5 Y2O3 -> Y + 9 YMnO3\n",
      "0.75 Mn3O4 + 1.625 Y2O3 -> Y + 1.125 Y2Mn2O7\n",
      "0.75 Mn3O4 + 0.5 Y2O3 -> Y + 2.25 MnO2\n",
      "3 Mn3O4 + 0.5 Y2O3 -> Y + 4.5 Mn2O3\n",
      "1.5 Mn3O4 + 0.5 Y2O3 -> YMn2O5 + 2.5 MnO\n",
      "0.5 Mn3O4 + 0.5 Y2O3 -> YMnO3 + 0.5 MnO\n",
      "0.5 Mn3O4 + 0.25 Y2O3 -> MnO + 0.25 Y2Mn2O7\n",
      "Mn5O8 + 0.8 Y2O3 -> 0.6 Mn3O4 + 1.6 YMn2O5\n",
      "Mn2O3 + 0.2 Y2O3 -> 0.4 Mn3O4 + 0.4 YMn2O5\n",
      "Mn5O8 + Y2O3 -> Mn3O4 + Y2Mn2O7\n",
      "YMn2O5 + 0.125 Y2O3 -> 0.25 Mn3O4 + 0.625 Y2Mn2O7\n",
      "Mn2O3 + 0.25 Y2O3 -> 0.5 Mn3O4 + 0.25 Y2Mn2O7\n",
      "MnO + 0.2 Y2O3 -> 0.4 Y + 0.2 Mn5O8\n",
      "Mn2O3 + 0.06667 Y2O3 -> 0.1333 Y + 0.4 Mn5O8\n",
      "2 Mn5O8 + 3 Y2O3 -> Y + 5 YMn2O5\n",
      "0.75 Mn5O8 + 2.375 Y2O3 -> Y + 1.875 Y2Mn2O7\n",
      "0.75 Mn5O8 + 0.5 Y2O3 -> Y + 3.75 MnO2\n",
      "Mn5O8 + 2 Y2O3 -> YMn2O5 + 3 YMnO3\n",
      "0.5 Mn5O8 + 0.5 Y2O3 -> YMn2O5 + 0.5 MnO\n",
      "0.6667 Mn5O8 + 0.3333 Y2O3 -> Mn2O3 + 0.6667 YMn2O5\n",
      "0.25 Mn5O8 + 0.625 Y2O3 -> YMnO3 + 0.125 Y2Mn2O7\n",
      "0.25 Mn5O8 + 0.5 Y2O3 -> YMnO3 + 0.25 MnO2\n",
      "0.5 Mn5O8 + 0.75 Y2O3 -> MnO + 0.75 Y2Mn2O7\n",
      "0.5 Mn5O8 + 0.25 Y2O3 -> Mn2O3 + 0.25 Y2Mn2O7\n",
      "MnO + 0.5 Y2O3 -> 0.5 Y + 0.5 YMn2O5\n",
      "Mn2O3 + 0.6667 Y2O3 -> 0.3333 Y + YMn2O5\n",
      "MnO + 0.6667 Y2O3 -> 0.3333 Y + YMnO3\n",
      "YMn2O5 + 0.6667 Y2O3 -> 0.3333 Y + Y2Mn2O7\n",
      "YMnO3 + 0.1667 Y2O3 -> 0.3333 Y + 0.5 Y2Mn2O7\n",
      "MnO + 0.8333 Y2O3 -> 0.6667 Y + 0.5 Y2Mn2O7\n",
      "Mn2O3 + 1.333 Y2O3 -> 0.6667 Y + Y2Mn2O7\n",
      "MnO + 0.3333 Y2O3 -> 0.6667 Y + MnO2\n",
      "Mn2O3 + 0.3333 Y2O3 -> 0.6667 Y + 2 MnO2\n",
      "MnO + 0.1667 Y2O3 -> 0.3333 Y + 0.5 Mn2O3\n",
      "YMn2O5 + 0.5 Y2O3 -> YMnO3 + 0.5 Y2Mn2O7\n",
      "2 YMn2O5 + 0.5 Y2O3 -> MnO + 1.5 Y2Mn2O7\n",
      "1.5 Mn2O3 + 0.5 Y2O3 -> YMn2O5 + MnO\n",
      "Mn2O3 + 0.5 Y2O3 -> MnO + 0.5 Y2Mn2O7\n"
     ]
    }
   ],
   "source": [
    "for r in y2o3_rxns:\n",
    "    print(r)"
   ]
  },
  {
   "cell_type": "markdown",
   "id": "26eef136",
   "metadata": {},
   "source": [
    "This same approach can be used for the target phase(s) as well.\n",
    "\n",
    "With `exclusive_targets=True`:"
   ]
  },
  {
   "cell_type": "code",
   "execution_count": 16,
   "id": "0e0be703",
   "metadata": {},
   "outputs": [
    {
     "name": "stderr",
     "output_type": "stream",
     "text": [
      "100%|██████████████████████████████████████████████████████████████████████████████████████████████████████████████████████████████████████████████████████████████| 4/4 [00:00<00:00, 38.79it/s]\n"
     ]
    }
   ],
   "source": [
    "be_target = BasicEnumerator(targets=[\"YMnO3\"], exclusive_targets=True)\n",
    "ymno3_rxns = be_target.enumerate(filtered_entries)"
   ]
  },
  {
   "cell_type": "code",
   "execution_count": 17,
   "id": "c6263834",
   "metadata": {},
   "outputs": [
    {
     "name": "stdout",
     "output_type": "stream",
     "text": [
      "Mn2O3 + Y2O3 -> 2 YMnO3\n"
     ]
    }
   ],
   "source": [
    "for r in ymno3_rxns:\n",
    "    print(r)"
   ]
  },
  {
   "cell_type": "markdown",
   "id": "27452d91",
   "metadata": {},
   "source": [
    "With `exclusive_targets=False` (the default):"
   ]
  },
  {
   "cell_type": "code",
   "execution_count": 18,
   "id": "89dbc356",
   "metadata": {},
   "outputs": [
    {
     "name": "stderr",
     "output_type": "stream",
     "text": [
      "100%|██████████████████████████████████████████████████████████████████████████████████████████████████████████████████████████████████████████████████████████████| 4/4 [00:00<00:00,  5.52it/s]\n"
     ]
    }
   ],
   "source": [
    "be_target = BasicEnumerator(targets=[\"YMnO3\"])\n",
    "ymno3_rxns = be_target.enumerate(filtered_entries)"
   ]
  },
  {
   "cell_type": "code",
   "execution_count": 19,
   "id": "ede95782",
   "metadata": {},
   "outputs": [
    {
     "name": "stdout",
     "output_type": "stream",
     "text": [
      "YMn2O5 -> MnO2 + YMnO3\n",
      "Mn2O3 + Y2O3 -> 2 YMnO3\n",
      "2 Y2Mn2O7 -> O2 + 4 YMnO3\n",
      "13 Mn + Y2O3 -> YMnO3 + YMn12\n",
      "Mn + Y2O3 -> Y + YMnO3\n",
      "0.5 Mn + YMn2O5 -> YMnO3 + 0.5 Mn3O4\n",
      "0.25 Mn + YMn2O5 -> YMnO3 + 0.25 Mn5O8\n",
      "Mn + YMn2O5 -> YMnO3 + 2 MnO\n",
      "0.5 Mn + 1.5 YMn2O5 -> Mn2O3 + 1.5 YMnO3\n",
      "O2 + 0.6667 YMn12 -> 7.333 Mn + 0.6667 YMnO3\n",
      "Mn3O4 + 1.333 YMn12 -> 17.67 Mn + 1.333 YMnO3\n",
      "Mn5O8 + 2.667 YMn12 -> 34.33 Mn + 2.667 YMnO3\n",
      "YMn2O5 + 0.6667 YMn12 -> 8.333 Mn + 1.667 YMnO3\n",
      "Y2Mn2O7 + 0.3333 YMn12 -> 3.667 Mn + 2.333 YMnO3\n",
      "MnO2 + 0.6667 YMn12 -> 8.333 Mn + 0.6667 YMnO3\n",
      "MnO + 0.3333 YMn12 -> 4.667 Mn + 0.3333 YMnO3\n",
      "Mn2O3 + YMn12 -> 13 Mn + YMnO3\n",
      "Y + 0.75 Mn3O4 -> 1.25 Mn + YMnO3\n",
      "Y2O3 + 0.75 Mn3O4 -> 0.25 Mn + 2 YMnO3\n",
      "Y + 0.375 Mn5O8 -> 0.875 Mn + YMnO3\n",
      "Y + 1.5 YMn2O5 -> 0.5 Mn + 2.5 YMnO3\n",
      "Y + 1.5 MnO2 -> 0.5 Mn + YMnO3\n",
      "Y + 3 MnO -> 2 Mn + YMnO3\n",
      "Mn2O3 + Y -> Mn + YMnO3\n",
      "Y2O3 + 3 MnO -> Mn + 2 YMnO3\n",
      "0.375 Mn + 0.5 Y2Mn2O7 -> YMnO3 + 0.125 Mn3O4\n",
      "0.3125 Mn + 0.5 Y2Mn2O7 -> YMnO3 + 0.0625 Mn5O8\n",
      "0.3333 Mn + 0.6667 Y2Mn2O7 -> YMnO3 + 0.3333 YMn2O5\n",
      "Mn + 2 Y2Mn2O7 -> MnO2 + 4 YMnO3\n",
      "0.5 Mn + 0.5 Y2Mn2O7 -> YMnO3 + 0.5 MnO\n",
      "2 Mn + 3 Y2Mn2O7 -> Mn2O3 + 6 YMnO3\n",
      "8.833 O2 + YMn12 -> YMnO3 + 3.667 Mn3O4\n",
      "10.3 O2 + YMn12 -> YMnO3 + 2.2 Mn5O8\n",
      "1.136 O2 + 0.09091 YMn12 -> MnO2 + 0.09091 YMnO3\n",
      "7 O2 + YMn12 -> YMnO3 + 11 MnO\n",
      "1.773 O2 + 0.1818 YMn12 -> Mn2O3 + 0.1818 YMnO3\n",
      "14 Mn3O4 + YMn12 -> YMnO3 + 53 MnO\n",
      "13.25 Mn5O8 + YMn12 -> YMnO3 + 25.75 Mn3O4\n",
      "4.667 Mn5O8 + YMn12 -> YMnO3 + 34.33 MnO\n",
      "0.3786 Mn5O8 + 0.009709 YMn12 -> Mn2O3 + 0.009709 YMnO3\n",
      "0.9231 Y2O3 + 0.07692 YMn12 -> Y + 0.9231 YMnO3\n",
      "0.9636 YMn2O5 + 0.03636 YMn12 -> YMnO3 + 0.4545 Mn3O4\n",
      "0.981 YMn2O5 + 0.01905 YMn12 -> YMnO3 + 0.2381 Mn5O8\n",
      "0.9333 YMn2O5 + 0.06667 YMn12 -> YMnO3 + 1.667 MnO\n",
      "1.56 YMn2O5 + 0.04 YMn12 -> Mn2O3 + 1.6 YMnO3\n",
      "Y + 0.6792 Mn3O4 -> 0.9057 YMnO3 + 0.09434 YMn12\n",
      "Y2O3 + 0.7358 Mn3O4 -> 1.981 YMnO3 + 0.01887 YMn12\n",
      "Y + 0.3495 Mn5O8 -> 0.932 YMnO3 + 0.06796 YMn12\n",
      "Y + 1.44 YMn2O5 -> 2.4 YMnO3 + 0.04 YMn12\n",
      "Y + 1.44 MnO2 -> 0.96 YMnO3 + 0.04 YMn12\n",
      "Y + 2.571 MnO -> 0.8571 YMnO3 + 0.1429 YMn12\n",
      "Mn2O3 + 1.083 Y -> YMnO3 + 0.08333 YMn12\n",
      "Y2O3 + 2.786 MnO -> 1.929 YMnO3 + 0.07143 YMn12\n",
      "0.4862 Y2Mn2O7 + 0.02752 YMn12 -> YMnO3 + 0.1009 Mn3O4\n",
      "0.4882 Y2Mn2O7 + 0.0237 YMn12 -> YMnO3 + 0.05213 Mn5O8\n",
      "0.625 Y2Mn2O7 + 0.025 YMn12 -> YMnO3 + 0.275 YMn2O5\n",
      "2.273 Y2Mn2O7 + 0.09091 YMn12 -> MnO2 + 4.636 YMnO3\n",
      "0.4828 Y2Mn2O7 + 0.03448 YMn12 -> YMnO3 + 0.3793 MnO\n",
      "3.545 Y2Mn2O7 + 0.1818 YMn12 -> Mn2O3 + 7.273 YMnO3\n",
      "26.5 MnO2 + YMn12 -> YMnO3 + 12.5 Mn3O4\n",
      "51.5 MnO2 + YMn12 -> YMnO3 + 12.5 Mn5O8\n",
      "14 MnO2 + YMn12 -> YMnO3 + 25 MnO\n",
      "1.56 MnO2 + 0.04 YMn12 -> Mn2O3 + 0.04 YMnO3\n",
      "53 Mn2O3 + YMn12 -> YMnO3 + 39 Mn3O4\n",
      "14 Mn2O3 + YMn12 -> YMnO3 + 39 MnO\n",
      "Mn5O8 + 2.5 Y2O3 -> 0.25 O2 + 5 YMnO3\n",
      "YMn2O5 + 0.5 Y2O3 -> 0.25 O2 + 2 YMnO3\n",
      "MnO2 + 0.5 Y2O3 -> 0.25 O2 + YMnO3\n",
      "Y + 2 Mn3O4 -> YMnO3 + 5 MnO\n",
      "5 Y2O3 + 3 Mn3O4 -> Y + 9 YMnO3\n",
      "0.5 Y2O3 + 0.5 Mn3O4 -> YMnO3 + 0.5 MnO\n",
      "YMn2O5 + 0.5 Mn3O4 -> YMnO3 + 0.5 Mn5O8\n",
      "0.5 YMn2O5 + 0.5 Mn3O4 -> Mn2O3 + 0.5 YMnO3\n",
      "Y + 1.25 Mn5O8 -> YMnO3 + 1.75 Mn3O4\n",
      "Y + 2.5 YMn2O5 -> 3.5 YMnO3 + 0.5 Mn3O4\n",
      "Y + 2.5 MnO2 -> YMnO3 + 0.5 Mn3O4\n",
      "Mn2O3 + 0.2 Y -> 0.2 YMnO3 + 0.6 Mn3O4\n",
      "YMn2O5 + 2 MnO -> YMnO3 + Mn3O4\n",
      "Y2Mn2O7 + 3 MnO -> 2 YMnO3 + Mn3O4\n",
      "0.5 Y2Mn2O7 + 0.625 Mn3O4 -> YMnO3 + 0.375 Mn5O8\n",
      "2 Y2Mn2O7 + Mn3O4 -> YMnO3 + 3 YMn2O5\n",
      "0.6667 Y2Mn2O7 + 0.3333 Mn3O4 -> MnO2 + 1.333 YMnO3\n",
      "0.3333 Y2Mn2O7 + 0.6667 Mn3O4 -> Mn2O3 + 0.6667 YMnO3\n",
      "Y + 0.6667 Mn5O8 -> YMnO3 + 2.333 MnO\n",
      "0.1429 Y + 0.4286 Mn5O8 -> Mn2O3 + 0.1429 YMnO3\n",
      "0.3333 Mn5O8 + 0.6667 Y2O3 -> YMnO3 + 0.3333 YMn2O5\n",
      "0.25 Mn5O8 + 0.625 Y2O3 -> YMnO3 + 0.125 Y2Mn2O7\n",
      "Mn5O8 + 2 Y2O3 -> MnO2 + 4 YMnO3\n",
      "Y + 3.5 YMn2O5 -> 4.5 YMnO3 + 0.5 Mn5O8\n",
      "Y + 3.5 MnO2 -> YMnO3 + 0.5 Mn5O8\n",
      "YMn2O5 + 0.6667 MnO -> YMnO3 + 0.3333 Mn5O8\n",
      "Mn2O3 + 0.5 YMn2O5 -> 0.5 YMnO3 + 0.5 Mn5O8\n",
      "Y2Mn2O7 + 1.667 MnO -> 2 YMnO3 + 0.3333 Mn5O8\n",
      "Mn2O3 + 0.2 Y2Mn2O7 -> 0.4 YMnO3 + 0.4 Mn5O8\n",
      "0.2 Mn5O8 + 0.4 Y2Mn2O7 -> MnO2 + 0.8 YMnO3\n",
      "0.3333 Y + 0.6667 YMn2O5 -> YMnO3 + 0.3333 MnO\n",
      "Y + 3 YMn2O5 -> Mn2O3 + 4 YMnO3\n",
      "Y2O3 + 1.5 MnO -> 0.5 Y + 1.5 YMnO3\n",
      "0.3333 Y + 0.5 Y2Mn2O7 -> YMnO3 + 0.1667 Y2O3\n",
      "Y + 2 MnO2 -> YMnO3 + MnO\n",
      "Y + 3 MnO2 -> Mn2O3 + YMnO3\n",
      "2 Mn2O3 + Y -> YMnO3 + 3 MnO\n",
      "YMn2O5 + 0.5 Y2O3 -> YMnO3 + 0.5 Y2Mn2O7\n",
      "Y2Mn2O7 + MnO -> YMnO3 + YMn2O5\n",
      "YMn2O5 + MnO -> Mn2O3 + YMnO3\n",
      "Y2Mn2O7 + MnO -> MnO2 + 2 YMnO3\n",
      "Mn2O3 + Y2Mn2O7 -> 2 MnO2 + 2 YMnO3\n",
      "Y2Mn2O7 + 2 MnO -> Mn2O3 + 2 YMnO3\n"
     ]
    }
   ],
   "source": [
    "for r in ymno3_rxns:\n",
    "    print(r)"
   ]
  },
  {
   "cell_type": "markdown",
   "id": "c2aa527e",
   "metadata": {},
   "source": [
    "And finally, with multiple targets specified (e.g., YMnO3 and O2):"
   ]
  },
  {
   "cell_type": "code",
   "execution_count": 20,
   "id": "74d8cd84",
   "metadata": {},
   "outputs": [
    {
     "name": "stderr",
     "output_type": "stream",
     "text": [
      "100%|██████████████████████████████████████████████████████████████████████████████████████████████████████████████████████████████████████████████████████████████| 4/4 [00:00<00:00, 21.35it/s]\n"
     ]
    }
   ],
   "source": [
    "be_targets = BasicEnumerator(targets=[\"YMnO3\", \"O2\"], exclusive_targets=True)\n",
    "ymno3_rxns_o2 = be_targets.enumerate(filtered_entries)"
   ]
  },
  {
   "cell_type": "code",
   "execution_count": 21,
   "id": "7ac11b74",
   "metadata": {},
   "outputs": [
    {
     "name": "stdout",
     "output_type": "stream",
     "text": [
      "Mn2O3 + Y2O3 -> 2 YMnO3\n",
      "0.5 Y2Mn2O7 -> YMnO3 + 0.25 O2\n",
      "Mn5O8 + 2.5 Y2O3 -> 5 YMnO3 + 0.25 O2\n",
      "YMn2O5 + 0.5 Y2O3 -> 2 YMnO3 + 0.25 O2\n",
      "Y2O3 + 2 MnO2 -> 2 YMnO3 + 0.5 O2\n"
     ]
    }
   ],
   "source": [
    "for r in ymno3_rxns_o2:\n",
    "    print(r)"
   ]
  },
  {
   "cell_type": "markdown",
   "id": "6c399338",
   "metadata": {},
   "source": [
    "#### Open entries"
   ]
  },
  {
   "cell_type": "markdown",
   "id": "ded84ba9",
   "metadata": {},
   "source": [
    "In the previous cell, we showed that it was possible to specify YMnO$_3$ as a target, along with O$_2$. However, because O$_2$ is a gas, it is often desirable to include it as an **open entry** in addition to the 1-2 possible precursors/targets. For example, we may want to specify a reaction as follows:\n",
    "\n",
    "$$ A + B ~ (+~O_2) \\rightarrow C + D ~ (+~O_2) $$\n",
    "\n",
    "To do this, we use the `BasicOpenEnumerator` class, which is an extension to the previous basic enumerator. All of the lessons learned above also apply to this class, although now a list of open entry formulas (e.g., `[\"O2\"]`) must be specified."
   ]
  },
  {
   "cell_type": "code",
   "execution_count": 22,
   "id": "ee20fdee",
   "metadata": {},
   "outputs": [
    {
     "name": "stderr",
     "output_type": "stream",
     "text": [
      "100%|██████████████████████████████████████████████████████████████████████████████████████████████████████████████████████████████████████████████████████████████| 4/4 [00:01<00:00,  2.52it/s]\n"
     ]
    }
   ],
   "source": [
    "be_target_open = BasicOpenEnumerator(open_phases=[\"O2\"], targets=[\"YMnO3\"])\n",
    "ymno3_rxns_open = be_target_open.enumerate(filtered_entries)"
   ]
  },
  {
   "cell_type": "markdown",
   "id": "a012a55e",
   "metadata": {},
   "source": [
    "You will now see that the reactions from before are included in this new list, along with many other open-O$_2$ reactions -- some which even have a total of 3 reactants or 3 products. In other words, the open entry/entries do not count towards the specified $n$ of the reactions."
   ]
  },
  {
   "cell_type": "code",
   "execution_count": 23,
   "id": "c24a9909",
   "metadata": {},
   "outputs": [
    {
     "name": "stdout",
     "output_type": "stream",
     "text": [
      "YMn2O5 -> O2 + YMnO3 + Mn\n",
      "11 YMn2O5 -> YMn12 + 10 YMnO3 + 12.5 O2\n",
      "3 YMn2O5 -> O2 + 3 YMnO3 + Mn3O4\n",
      "5 YMn2O5 -> O2 + 5 YMnO3 + Mn5O8\n",
      "2 YMn2O5 -> O2 + 2 YMnO3 + 2 MnO\n",
      "4 YMn2O5 -> O2 + 2 Mn2O3 + 4 YMnO3\n",
      "Y + 1.5 O2 + Mn -> YMnO3\n",
      "Y2O3 + 1.5 O2 + 2 Mn -> 2 YMnO3\n",
      "YMn12 + 11 Y + 18 O2 -> 12 YMnO3\n",
      "YMn12 + 5.5 Y2O3 + 9.75 O2 -> 12 YMnO3\n",
      "Y + 0.8333 O2 + 0.3333 Mn3O4 -> YMnO3\n",
      "Y2O3 + 0.1667 O2 + 0.6667 Mn3O4 -> 2 YMnO3\n",
      "Y + 0.7 O2 + 0.2 Mn5O8 -> YMnO3\n",
      "Y + 0.5 O2 + YMn2O5 -> 2 YMnO3\n",
      "O2 + 2 Y + 2 MnO2 -> 2 YMnO3\n",
      "Y + O2 + MnO -> YMnO3\n",
      "Mn2O3 + 2 Y + 1.5 O2 -> 2 YMnO3\n",
      "Y2O3 + 0.5 O2 + 2 MnO -> 2 YMnO3\n",
      "2 Y2Mn2O7 -> O2 + 4 YMnO3\n",
      "YMn12 + 1.5 O2 -> YMnO3 + 11 Mn\n",
      "YMn12 + 8.833 O2 -> YMnO3 + 3.667 Mn3O4\n",
      "10 Y2O3 + 4 Mn5O8 -> O2 + 20 YMnO3\n",
      "YMn12 + 10.3 O2 -> YMnO3 + 2.2 Mn5O8\n",
      "2 Y2O3 + 4 YMn2O5 -> O2 + 8 YMnO3\n",
      "2 Y2O3 + 4 MnO2 -> O2 + 4 YMnO3\n",
      "O2 + 0.08 YMn12 -> 0.88 MnO2 + 0.08 YMnO3\n",
      "O2 + 0.1429 YMn12 -> 0.1429 YMnO3 + 1.571 MnO\n",
      "O2 + 0.1026 YMn12 -> 0.5641 Mn2O3 + 0.1026 YMnO3\n"
     ]
    }
   ],
   "source": [
    "for r in ymno3_rxns_open:\n",
    "    print(r)"
   ]
  },
  {
   "cell_type": "markdown",
   "id": "b2ca2f70",
   "metadata": {},
   "source": [
    "It is even possible to specify multiple open entries, allowing for even more complex reactions (such as ones with 4+ reactants or products). For example, specifiyng Y2O3 and O2 as both being open:"
   ]
  },
  {
   "cell_type": "code",
   "execution_count": 24,
   "id": "364b7e48",
   "metadata": {},
   "outputs": [
    {
     "name": "stderr",
     "output_type": "stream",
     "text": [
      "100%|██████████████████████████████████████████████████████████████████████████████████████████████████████████████████████████████████████████████████████████████| 7/7 [00:05<00:00,  1.28it/s]\n"
     ]
    }
   ],
   "source": [
    "be_target_open2 = BasicOpenEnumerator(open_phases=[\"Y2O3\", \"O2\"],targets=[\"YMnO3\"])\n",
    "ymno3_rxns_open2 = be_target_open2.enumerate(filtered_entries)"
   ]
  },
  {
   "cell_type": "code",
   "execution_count": 25,
   "id": "cd48333b",
   "metadata": {},
   "outputs": [
    {
     "name": "stdout",
     "output_type": "stream",
     "text": [
      "YMn2O5 -> O2 + YMnO3 + Mn\n",
      "11 YMn2O5 -> YMn12 + 10 YMnO3 + 12.5 O2\n",
      "3 YMn2O5 -> O2 + 3 YMnO3 + Mn3O4\n",
      "5 YMn2O5 -> O2 + 5 YMnO3 + Mn5O8\n",
      "2 YMn2O5 -> O2 + 2 YMnO3 + 2 MnO\n",
      "4 YMn2O5 -> O2 + 2 Mn2O3 + 4 YMnO3\n",
      "Y2O3 + 1.5 O2 + 2 Mn -> 2 YMnO3\n",
      "YMn12 + 5.5 Y2O3 + 9.75 O2 -> 12 YMnO3\n",
      "Y2O3 + 0.1667 O2 + 0.6667 Mn3O4 -> 2 YMnO3\n",
      "Y2O3 + 0.5 O2 + 2 MnO -> 2 YMnO3\n"
     ]
    }
   ],
   "source": [
    "for i, r in enumerate(ymno3_rxns_open2):\n",
    "    if i==10:  # print only first 10 reactions for brevity\n",
    "        break \n",
    "        \n",
    "    print(r)"
   ]
  },
  {
   "cell_type": "markdown",
   "id": "48507bd1",
   "metadata": {},
   "source": [
    "This may be useful for modeling systems with 2 or more gaseous, liquid, or molten phases, such as $O_2$ and a molten salt (e.g. $LiCl$)"
   ]
  },
  {
   "cell_type": "markdown",
   "id": "677201f1",
   "metadata": {},
   "source": [
    "### Minimize Enumerators\n",
    "\n",
    "The \"minimize\" enumerators produce reactions via a thermodynamic free energy minimization approach, rather than a purely combinatorial one. This means that reactions are produced directly from the compositional phase diagram, where a new convex hull is drawn connecting two compositions within a closed (Gibbs) or open (Grand Potential) system. See the `InterfacialReactivity` class within the _pymatgen_ package for more information.\n",
    "\n",
    "**It is important to note that reactions produced with the minimize enumerators may overlap some with the basic enumerators, but the minimize enumerators have the restriction that all reactions they originally produce must have a negative reaction energy and result in a set of product phases which are stable with respect to each other (i.e. they share a facet of the phase diagram).** That being said, these enumerators (when unrestricted) will also supply the reverse (i.e. positive energy) reaction as well.\n",
    "\n",
    "The `MinimizeGibbsEnumerator` contains similar arguments as the basic enumerators. See the docstrings for updated information:\n",
    "- **precursors**: Optional formulas of precursors.\n",
    "- **targets**: Optional formulas of targets; only reactions which make these targets will be enumerated.\n",
    "- **calculators**: Optional list of Calculator object names; see calculators module for options (e.g., [\"ChempotDistanceCalculator\"])\n",
    "- **exclusive_precursors**: Whether to consider only reactions that have reactants which are a subset of the provided list of precursors. Defaults to True.\n",
    "- **exclusive_targets**: Whether to consider only reactions that make the provided target directly (i.e. with no byproducts). Defualts to False.\n",
    "- **quiet**: Whether to run in quiet mode (no progress bar). Defaults to False."
   ]
  },
  {
   "cell_type": "code",
   "execution_count": 26,
   "id": "11a5f33d",
   "metadata": {},
   "outputs": [],
   "source": [
    "mge = MinimizeGibbsEnumerator()"
   ]
  },
  {
   "cell_type": "markdown",
   "id": "4d3aa769",
   "metadata": {},
   "source": [
    "The default arguments, as before, help produce all reactions in a set of entries, given minimal constraints."
   ]
  },
  {
   "cell_type": "code",
   "execution_count": 27,
   "id": "194c29f1",
   "metadata": {},
   "outputs": [
    {
     "name": "stderr",
     "output_type": "stream",
     "text": [
      "100%|██████████████████████████████████████████████████████████████████████████████████████████████████████████████████████████████████████████████████████████████| 4/4 [00:01<00:00,  2.73it/s]\n"
     ]
    }
   ],
   "source": [
    "rxns = mge.enumerate(filtered_entries)"
   ]
  },
  {
   "cell_type": "code",
   "execution_count": 28,
   "id": "3cb8c511",
   "metadata": {},
   "outputs": [
    {
     "name": "stdout",
     "output_type": "stream",
     "text": [
      "12 Mn + Y -> YMn12\n",
      "0.5 Mn5O8 -> Mn2O3 + 0.5 MnO2\n",
      "Mn + 0.5 O2 -> MnO\n",
      "3 Mn + 2 O2 -> Mn3O4\n",
      "2 Mn + 1.5 O2 -> Mn2O3\n",
      "Mn + O2 -> MnO2\n",
      "0.25 Mn3O4 + 0.25 Mn -> MnO\n",
      "0.125 Mn5O8 + 0.375 Mn -> MnO\n",
      "0.5 Mn5O8 + 0.5 Mn -> Mn3O4\n",
      "0.375 Mn5O8 + 0.125 Mn -> Mn2O3\n"
     ]
    }
   ],
   "source": [
    "for i, r in enumerate(rxns):\n",
    "    if i==10:  # print only first 10 reactions for brevity\n",
    "        break \n",
    "        \n",
    "    print(r)"
   ]
  },
  {
   "cell_type": "markdown",
   "id": "889437d2",
   "metadata": {},
   "source": [
    "And as before, we can specify various combinations of precursors and targets, as well as whether or not they should be \"exclusive\"."
   ]
  },
  {
   "cell_type": "code",
   "execution_count": 29,
   "id": "aee5a933",
   "metadata": {},
   "outputs": [
    {
     "name": "stderr",
     "output_type": "stream",
     "text": [
      "100%|██████████████████████████████████████████████████████████████████████████████████████████████████████████████████████████████████████████████████████████████| 4/4 [00:00<00:00, 34.42it/s]\n"
     ]
    }
   ],
   "source": [
    "mge_precursors = MinimizeGibbsEnumerator(precursors=[\"Y2O3\"], exclusive_precursors=False)\n",
    "rxns = mge_precursors.enumerate(filtered_entries)"
   ]
  },
  {
   "cell_type": "code",
   "execution_count": 30,
   "id": "bd95a67e",
   "metadata": {},
   "outputs": [
    {
     "name": "stdout",
     "output_type": "stream",
     "text": [
      "0.5 Mn3O4 + 0.5 Y2O3 -> YMnO3 + 0.5 MnO\n",
      "0.6667 Mn5O8 + 0.3333 Y2O3 -> Mn2O3 + 0.6667 YMn2O5\n",
      "0.625 Mn5O8 + 0.5 Y2O3 -> YMn2O5 + 0.375 Mn3O4\n",
      "0.3333 Mn5O8 + 0.6667 Y2O3 -> YMnO3 + 0.3333 YMn2O5\n",
      "2 MnO2 + Y2O3 -> Y2Mn2O7\n",
      "2 MnO2 + 0.5 Y2O3 -> YMn2O5 + 0.25 O2\n",
      "0.5 Mn2O3 + 0.5 Y2O3 -> YMnO3\n",
      "2.5 Mn2O3 + 0.5 Y2O3 -> YMn2O5 + Mn3O4\n"
     ]
    }
   ],
   "source": [
    "for r in rxns:\n",
    "    print(r)"
   ]
  },
  {
   "cell_type": "code",
   "execution_count": 31,
   "id": "c1e26790",
   "metadata": {},
   "outputs": [
    {
     "name": "stderr",
     "output_type": "stream",
     "text": [
      "100%|██████████████████████████████████████████████████████████████████████████████████████████████████████████████████████████████████████████████████████████████| 4/4 [00:00<00:00, 79.36it/s]\n"
     ]
    }
   ],
   "source": [
    "mge_precursors = MinimizeGibbsEnumerator(precursors=[\"Y2O3\", \"Mn2O3\"])\n",
    "rxns = mge_precursors.enumerate(filtered_entries)"
   ]
  },
  {
   "cell_type": "code",
   "execution_count": 32,
   "id": "77cadadb",
   "metadata": {},
   "outputs": [
    {
     "name": "stdout",
     "output_type": "stream",
     "text": [
      "2.5 Mn2O3 + 0.5 Y2O3 -> YMn2O5 + Mn3O4\n",
      "0.5 Mn2O3 + 0.5 Y2O3 -> YMnO3\n"
     ]
    }
   ],
   "source": [
    "for r in rxns:\n",
    "    print(r)"
   ]
  },
  {
   "cell_type": "code",
   "execution_count": 33,
   "id": "b61398c4",
   "metadata": {},
   "outputs": [
    {
     "name": "stderr",
     "output_type": "stream",
     "text": [
      "100%|██████████████████████████████████████████████████████████████████████████████████████████████████████████████████████████████████████████████████████████████| 4/4 [00:00<00:00,  6.45it/s]\n"
     ]
    }
   ],
   "source": [
    "mge_targets = MinimizeGibbsEnumerator(targets=[\"YMnO3\"], exclusive_targets=True)\n",
    "rxns = mge_targets.enumerate(filtered_entries)"
   ]
  },
  {
   "cell_type": "code",
   "execution_count": 34,
   "id": "f4a639ac",
   "metadata": {},
   "outputs": [
    {
     "name": "stdout",
     "output_type": "stream",
     "text": [
      "0.5 Mn2O3 + 0.5 Y2O3 -> YMnO3\n"
     ]
    }
   ],
   "source": [
    "for r in rxns:\n",
    "    print(r)"
   ]
  },
  {
   "cell_type": "code",
   "execution_count": 35,
   "id": "50cab6a4",
   "metadata": {},
   "outputs": [
    {
     "name": "stderr",
     "output_type": "stream",
     "text": [
      "100%|██████████████████████████████████████████████████████████████████████████████████████████████████████████████████████████████████████████████████████████████| 4/4 [00:00<00:00,  7.37it/s]\n"
     ]
    }
   ],
   "source": [
    "mge_targets = MinimizeGibbsEnumerator(targets=[\"YMnO3\"], exclusive_targets=False)\n",
    "rxns = mge_targets.enumerate(filtered_entries)"
   ]
  },
  {
   "cell_type": "code",
   "execution_count": 36,
   "id": "a8359687",
   "metadata": {},
   "outputs": [
    {
     "name": "stdout",
     "output_type": "stream",
     "text": [
      "Mn + YMn2O5 -> YMnO3 + 2 MnO\n",
      "0.5 Mn + YMn2O5 -> YMnO3 + 0.5 Mn3O4\n",
      "0.5 Mn + 0.5 Y2Mn2O7 -> YMnO3 + 0.5 MnO\n",
      "0.375 Mn + 0.5 Y2Mn2O7 -> YMnO3 + 0.125 Mn3O4\n",
      "0.3333 Mn + 0.6667 Y2Mn2O7 -> YMnO3 + 0.3333 YMn2O5\n",
      "YMn12 + 8.833 O2 -> YMnO3 + 3.667 Mn3O4\n",
      "YMn12 + 7 O2 -> YMnO3 + 11 MnO\n",
      "YMn12 + 14 Mn3O4 -> YMnO3 + 53 MnO\n",
      "YMn12 + 13.25 Mn5O8 -> YMnO3 + 25.75 Mn3O4\n",
      "YMn12 + 4.667 Mn5O8 -> YMnO3 + 34.33 MnO\n",
      "0.03636 YMn12 + 0.9636 YMn2O5 -> YMnO3 + 0.4545 Mn3O4\n",
      "0.06667 YMn12 + 0.9333 YMn2O5 -> YMnO3 + 1.667 MnO\n",
      "0.025 YMn12 + 0.625 Y2Mn2O7 -> YMnO3 + 0.275 YMn2O5\n",
      "0.02752 YMn12 + 0.4862 Y2Mn2O7 -> YMnO3 + 0.1009 Mn3O4\n",
      "0.03448 YMn12 + 0.4828 Y2Mn2O7 -> YMnO3 + 0.3793 MnO\n",
      "YMn12 + 26.5 MnO2 -> YMnO3 + 12.5 Mn3O4\n",
      "YMn12 + 14 MnO2 -> YMnO3 + 25 MnO\n",
      "YMn12 + 53 Mn2O3 -> YMnO3 + 39 Mn3O4\n",
      "YMn12 + 14 Mn2O3 -> YMnO3 + 39 MnO\n",
      "2 Mn3O4 + Y -> YMnO3 + 5 MnO\n",
      "0.5 Mn3O4 + 0.5 Y2O3 -> YMnO3 + 0.5 MnO\n",
      "Mn3O4 + 2 Y2Mn2O7 -> YMnO3 + 3 YMn2O5\n",
      "0.6667 Mn5O8 + Y -> YMnO3 + 2.333 MnO\n",
      "1.25 Mn5O8 + Y -> YMnO3 + 1.75 Mn3O4\n",
      "0.3333 Mn5O8 + 0.6667 Y2O3 -> YMnO3 + 0.3333 YMn2O5\n",
      "0.3333 Y + 0.6667 YMn2O5 -> YMnO3 + 0.3333 MnO\n",
      "0.2857 Y + 0.7143 YMn2O5 -> YMnO3 + 0.1429 Mn3O4\n",
      "0.3333 Y + 0.5 Y2Mn2O7 -> YMnO3 + 0.1667 Y2O3\n",
      "2 MnO2 + Y -> YMnO3 + MnO\n",
      "2.5 MnO2 + Y -> YMnO3 + 0.5 Mn3O4\n",
      "2 Mn2O3 + Y -> YMnO3 + 3 MnO\n",
      "5 Mn2O3 + Y -> YMnO3 + 3 Mn3O4\n",
      "0.5 Mn2O3 + 0.5 Y2O3 -> YMnO3\n",
      "2 MnO + YMn2O5 -> YMnO3 + Mn3O4\n",
      "MnO + Y2Mn2O7 -> YMnO3 + YMn2O5\n",
      "1.5 MnO + 0.5 Y2Mn2O7 -> YMnO3 + 0.5 Mn3O4\n"
     ]
    }
   ],
   "source": [
    "for r in rxns:\n",
    "    print(r)"
   ]
  },
  {
   "cell_type": "markdown",
   "id": "c8d2739f",
   "metadata": {},
   "source": [
    "#### Open entries\n",
    "\n",
    "And once again, as before, we can do all the same analysis with open entries. This time, the grand potential is used as the thermodynamic free energy which is minimized:\n",
    "\n",
    "$$ \\Phi = G - \\mu_iN_i $$\n",
    "\n",
    "Where $i$ is the open species with chemical potential $\\mu_i$ with a molar amount $N_i$."
   ]
  },
  {
   "cell_type": "code",
   "execution_count": 37,
   "id": "ed9d72f2",
   "metadata": {},
   "outputs": [
    {
     "name": "stderr",
     "output_type": "stream",
     "text": [
      "100%|██████████████████████████████████████████████████████████████████████████████████████████████████████████████████████████████████████████████████████████████| 3/3 [00:00<00:00,  6.32it/s]\n"
     ]
    }
   ],
   "source": [
    "mgpe = MinimizeGrandPotentialEnumerator(open_elem=Element(\"O\"), mu=0)\n",
    "open_rxns = mgpe.enumerate(filtered_entries)"
   ]
  },
  {
   "cell_type": "code",
   "execution_count": 38,
   "id": "d71bbdb6",
   "metadata": {},
   "outputs": [
    {
     "name": "stdout",
     "output_type": "stream",
     "text": [
      "Mn + O2 -> MnO2\n",
      "0.3333 Mn3O4 + 0.3333 O2 -> MnO2\n",
      "0.2 Mn5O8 + 0.2 O2 -> MnO2\n",
      "MnO + YMnO3 + 0.5 O2 -> YMn2O5\n",
      "MnO + 0.5 O2 -> MnO2\n",
      "0.5 Mn2O3 + 0.25 O2 -> MnO2\n",
      "0.5 Mn2O3 + YMnO3 + 0.25 O2 -> YMn2O5\n",
      "4 MnO2 + 2 Y2Mn2O7 -> O2 + 4 YMn2O5\n",
      "MnO + 0.5 Y2Mn2O7 + 0.25 O2 -> YMn2O5\n",
      "YMn12 + 12.5 O2 -> YMn2O5 + 10 MnO2\n",
      "2 YMnO3 + 0.5 O2 -> Y2Mn2O7\n",
      "2 Mn + Y + 2.5 O2 -> YMn2O5\n",
      "2 Mn + 2 Y + 3.5 O2 -> Y2Mn2O7\n",
      "2 Y + 1.5 O2 -> Y2O3\n",
      "2 Mn + 0.5 Y2O3 + 1.75 O2 -> YMn2O5\n",
      "2 Mn + Y2O3 + 2 O2 -> Y2Mn2O7\n",
      "Mn + YMnO3 + O2 -> YMn2O5\n",
      "Mn + 0.5 Y2Mn2O7 + 0.75 O2 -> YMn2O5\n",
      "0.1667 YMn12 + 0.8333 Y + 2.5 O2 -> YMn2O5\n",
      "0.1667 YMn12 + 1.833 Y + 3.5 O2 -> Y2Mn2O7\n",
      "0.1667 YMn12 + 0.9167 Y2O3 + 2.125 O2 -> Y2Mn2O7\n",
      "0.1667 YMn12 + 0.4167 Y2O3 + 1.875 O2 -> YMn2O5\n",
      "0.09091 YMn12 + 0.9091 YMnO3 + 1.136 O2 -> YMn2O5\n",
      "0.09091 YMn12 + 0.4545 Y2Mn2O7 + 0.9091 O2 -> YMn2O5\n",
      "0.6667 Mn3O4 + Y + 1.167 O2 -> YMn2O5\n",
      "0.6667 Mn3O4 + 2 Y + 2.167 O2 -> Y2Mn2O7\n",
      "0.6667 Mn3O4 + Y2O3 + 0.6667 O2 -> Y2Mn2O7\n",
      "0.6667 Mn3O4 + 0.5 Y2O3 + 0.4167 O2 -> YMn2O5\n",
      "0.3333 Mn3O4 + YMnO3 + 0.3333 O2 -> YMn2O5\n",
      "0.3333 Mn3O4 + 0.5 Y2Mn2O7 + 0.08333 O2 -> YMn2O5\n",
      "0.4 Mn5O8 + Y + 0.9 O2 -> YMn2O5\n",
      "0.4 Mn5O8 + 2 Y + 1.9 O2 -> Y2Mn2O7\n",
      "0.4 Mn5O8 + 0.5 Y2O3 + 0.15 O2 -> YMn2O5\n",
      "0.4 Mn5O8 + Y2O3 + 0.4 O2 -> Y2Mn2O7\n",
      "0.2 Mn5O8 + YMnO3 + 0.2 O2 -> YMn2O5\n",
      "4 Mn5O8 + 10 Y2Mn2O7 -> O2 + 20 YMn2O5\n",
      "Y + YMn2O5 + O2 -> Y2Mn2O7\n",
      "2 MnO2 + Y + 0.5 O2 -> YMn2O5\n",
      "2 MnO2 + 2 Y + 1.5 O2 -> Y2Mn2O7\n",
      "2 MnO + Y + 1.5 O2 -> YMn2O5\n",
      "2 MnO + 2 Y + 2.5 O2 -> Y2Mn2O7\n",
      "Mn2O3 + Y + O2 -> YMn2O5\n",
      "Mn2O3 + 2 Y + 2 O2 -> Y2Mn2O7\n",
      "0.5 Y2O3 + YMn2O5 + 0.25 O2 -> Y2Mn2O7\n",
      "8 MnO2 + 2 Y2O3 -> O2 + 4 YMn2O5\n",
      "2 MnO + Y2O3 + O2 -> Y2Mn2O7\n",
      "2 MnO + 0.5 Y2O3 + 0.75 O2 -> YMn2O5\n",
      "Mn2O3 + Y2O3 + 0.5 O2 -> Y2Mn2O7\n",
      "Mn2O3 + 0.5 Y2O3 + 0.25 O2 -> YMn2O5\n"
     ]
    }
   ],
   "source": [
    "for r in open_rxns:\n",
    "    print(r)"
   ]
  },
  {
   "cell_type": "markdown",
   "id": "3a487f9d",
   "metadata": {},
   "source": [
    "Note that the reaction objects returned are **NOT** (by default) configured to report their energy as a change in the grand potential.\n",
    "\n",
    "To configure this, we need to transform these reactions to `OpenComputedReaction` objects. This class allows for easy specification of reactions where one of the elements is assigned a chemical potential.\n",
    "\n",
    "This can be easily done by creating a new `ReactionSet` from the old one and specifying an open element and chemical potential during creation:"
   ]
  },
  {
   "cell_type": "code",
   "execution_count": 60,
   "id": "c1b9757a",
   "metadata": {},
   "outputs": [],
   "source": [
    "new_open_rxns = ReactionSet.from_rxns(open_rxns, open_elem=\"O\", chempot=0.0)"
   ]
  },
  {
   "cell_type": "markdown",
   "id": "1ad06d42",
   "metadata": {},
   "source": [
    "We should now see that `(mu_O=0.0)` appears in the repr of the object:"
   ]
  },
  {
   "cell_type": "code",
   "execution_count": 40,
   "id": "cc8c2fc0",
   "metadata": {},
   "outputs": [
    {
     "name": "stdout",
     "output_type": "stream",
     "text": [
      "OpenComputedReaction\n"
     ]
    },
    {
     "data": {
      "text/plain": [
       "Mn + O2 -> MnO2 (mu_O=0.0)"
      ]
     },
     "execution_count": 40,
     "metadata": {},
     "output_type": "execute_result"
    }
   ],
   "source": [
    "sample_open_rxn = list(new_open_rxns)[0]\n",
    "print(sample_open_rxn.__class__.__name__)\n",
    "\n",
    "sample_open_rxn"
   ]
  },
  {
   "cell_type": "markdown",
   "id": "8f6ff7b4",
   "metadata": {},
   "source": [
    "We can also, as before, customize which precursors and targets are specified:"
   ]
  },
  {
   "cell_type": "code",
   "execution_count": 41,
   "id": "d28a8606",
   "metadata": {},
   "outputs": [
    {
     "name": "stderr",
     "output_type": "stream",
     "text": [
      "100%|██████████████████████████████████████████████████████████████████████████████████████████████████████████████████████████████████████████████████████████████| 3/3 [00:00<00:00, 20.38it/s]\n"
     ]
    }
   ],
   "source": [
    "mgpe_precursors = MinimizeGrandPotentialEnumerator(open_elem=Element(\"O\"), mu=0,\n",
    "                                                   precursors=[\"Y2O3\"], exclusive_precursors=False)\n",
    "open_rxns_precursors = mgpe_precursors.enumerate(filtered_entries)"
   ]
  },
  {
   "cell_type": "code",
   "execution_count": 42,
   "id": "41f31a0e",
   "metadata": {},
   "outputs": [
    {
     "name": "stdout",
     "output_type": "stream",
     "text": [
      "2 Mn + 0.5 Y2O3 + 1.75 O2 -> YMn2O5\n",
      "2 Mn + Y2O3 + 2 O2 -> Y2Mn2O7\n",
      "0.1667 YMn12 + 0.9167 Y2O3 + 2.125 O2 -> Y2Mn2O7\n",
      "0.1667 YMn12 + 0.4167 Y2O3 + 1.875 O2 -> YMn2O5\n",
      "0.6667 Mn3O4 + Y2O3 + 0.6667 O2 -> Y2Mn2O7\n",
      "0.6667 Mn3O4 + 0.5 Y2O3 + 0.4167 O2 -> YMn2O5\n",
      "0.4 Mn5O8 + 0.5 Y2O3 + 0.15 O2 -> YMn2O5\n",
      "0.4 Mn5O8 + Y2O3 + 0.4 O2 -> Y2Mn2O7\n",
      "0.5 Y2O3 + YMn2O5 + 0.25 O2 -> Y2Mn2O7\n",
      "8 MnO2 + 2 Y2O3 -> O2 + 4 YMn2O5\n",
      "2 MnO + Y2O3 + O2 -> Y2Mn2O7\n",
      "2 MnO + 0.5 Y2O3 + 0.75 O2 -> YMn2O5\n",
      "Mn2O3 + Y2O3 + 0.5 O2 -> Y2Mn2O7\n",
      "Mn2O3 + 0.5 Y2O3 + 0.25 O2 -> YMn2O5\n"
     ]
    }
   ],
   "source": [
    "for r in open_rxns_precursors:\n",
    "    print(r)"
   ]
  },
  {
   "cell_type": "code",
   "execution_count": 43,
   "id": "f859e421",
   "metadata": {},
   "outputs": [
    {
     "name": "stderr",
     "output_type": "stream",
     "text": [
      "100%|██████████████████████████████████████████████████████████████████████████████████████████████████████████████████████████████████████████████████████████████| 3/3 [00:00<00:00,  6.15it/s]\n"
     ]
    }
   ],
   "source": [
    "mgpe_precursors = MinimizeGrandPotentialEnumerator(open_elem=Element(\"O\"), mu=0,\n",
    "                                                   targets=[\"Y2Mn2O7\"])\n",
    "open_rxns_targets = mgpe_precursors.enumerate(filtered_entries)"
   ]
  },
  {
   "cell_type": "code",
   "execution_count": 44,
   "id": "9ef3c55b",
   "metadata": {},
   "outputs": [
    {
     "name": "stdout",
     "output_type": "stream",
     "text": [
      "2 YMnO3 + 0.5 O2 -> Y2Mn2O7\n",
      "2 Mn + 2 Y + 3.5 O2 -> Y2Mn2O7\n",
      "2 Mn + Y2O3 + 2 O2 -> Y2Mn2O7\n",
      "0.1667 YMn12 + 1.833 Y + 3.5 O2 -> Y2Mn2O7\n",
      "0.1667 YMn12 + 0.9167 Y2O3 + 2.125 O2 -> Y2Mn2O7\n",
      "0.6667 Mn3O4 + 2 Y + 2.167 O2 -> Y2Mn2O7\n",
      "0.6667 Mn3O4 + Y2O3 + 0.6667 O2 -> Y2Mn2O7\n",
      "0.4 Mn5O8 + 2 Y + 1.9 O2 -> Y2Mn2O7\n",
      "0.4 Mn5O8 + Y2O3 + 0.4 O2 -> Y2Mn2O7\n",
      "Y + YMn2O5 + O2 -> Y2Mn2O7\n",
      "2 MnO2 + 2 Y + 1.5 O2 -> Y2Mn2O7\n",
      "2 MnO + 2 Y + 2.5 O2 -> Y2Mn2O7\n",
      "Mn2O3 + 2 Y + 2 O2 -> Y2Mn2O7\n",
      "0.5 Y2O3 + YMn2O5 + 0.25 O2 -> Y2Mn2O7\n",
      "2 MnO + Y2O3 + O2 -> Y2Mn2O7\n",
      "Mn2O3 + Y2O3 + 0.5 O2 -> Y2Mn2O7\n"
     ]
    }
   ],
   "source": [
    "for r in open_rxns_targets:\n",
    "    print(r)"
   ]
  },
  {
   "cell_type": "markdown",
   "id": "a89b08c0",
   "metadata": {},
   "source": [
    "Note that setting the chemical potential to a value outside of the range of stability of the target (e.g., `mu_O = -3`, causes the enumerator to yield no reactions:"
   ]
  },
  {
   "cell_type": "code",
   "execution_count": 45,
   "id": "6faafecf",
   "metadata": {},
   "outputs": [
    {
     "name": "stderr",
     "output_type": "stream",
     "text": [
      "100%|██████████████████████████████████████████████████████████████████████████████████████████████████████████████████████████████████████████████████████████████| 3/3 [00:00<00:00,  7.51it/s]\n"
     ]
    }
   ],
   "source": [
    "mgpe_precursors = MinimizeGrandPotentialEnumerator(open_elem=Element(\"O\"), mu=-3,\n",
    "                                                   targets=[\"Y2Mn2O7\"])\n",
    "open_rxns_targets = mgpe_precursors.enumerate(filtered_entries)"
   ]
  },
  {
   "cell_type": "code",
   "execution_count": 46,
   "id": "2e982b33",
   "metadata": {},
   "outputs": [
    {
     "name": "stdout",
     "output_type": "stream",
     "text": [
      "0\n"
     ]
    }
   ],
   "source": [
    "print(len(open_rxns_targets))"
   ]
  },
  {
   "cell_type": "markdown",
   "id": "5c50f106",
   "metadata": {},
   "source": [
    "It is encouraged for you to try out what you have learned above on your own system of interest. Please feel free to reach out if you have any questions. You can either email the package maintainer or raise an Issue here: https://github.com/GENESIS-EFRC/reaction-network/issues"
   ]
  },
  {
   "cell_type": "markdown",
   "id": "f04bd0fe",
   "metadata": {},
   "source": [
    "## Running enumerators with the _jobflow_ package\n",
    "\n",
    "The _jobflow_ package is used to develop and run computational workflows. The _reaction-network_ package has several jobs (and flows) written using jobflow.\n",
    "\n",
    "The `ReactionEnumerationMaker` (see below) has been created to run a list of enumerators on a provided entry set. This job can be used either by itself or as part of a larger flow. The latter will be showed in the next example notebook on reaction network creation."
   ]
  },
  {
   "cell_type": "code",
   "execution_count": 47,
   "id": "eb27b96a",
   "metadata": {},
   "outputs": [],
   "source": [
    "from jobflow.managers.local import run_locally\n",
    "from rxn_network.jobs.core import ReactionEnumerationMaker"
   ]
  },
  {
   "cell_type": "code",
   "execution_count": 56,
   "id": "55d1e274",
   "metadata": {},
   "outputs": [],
   "source": [
    "maker = ReactionEnumerationMaker()\n",
    "job = maker.make([BasicEnumerator()], filtered_entries)"
   ]
  },
  {
   "cell_type": "markdown",
   "id": "2cb84f20",
   "metadata": {},
   "source": [
    "The job can now be run either locally (as shown here) or launched on a remote workstation using the _fireworks_ package. Please see the jobflow documentation for more info on how to do this: https://materialsproject.github.io/jobflow/.\n",
    "\n",
    "The following cell will only work if you have configured your jobflow settings correctly (which means providing connection information for a database so that jobflow knows where to store its outputs!)"
   ]
  },
  {
   "cell_type": "code",
   "execution_count": 57,
   "id": "470d992a",
   "metadata": {},
   "outputs": [
    {
     "name": "stdout",
     "output_type": "stream",
     "text": [
      "2022-10-20 15:08:12,827 INFO Started executing jobs locally\n",
      "2022-10-20 15:08:12,831 INFO Starting job - enumerate_reactions (604d00cc-066c-4cb0-a3a3-3c9d6cd6334b)\n",
      "2022-10-20 15:08:12,835 INFO rxn_network.jobs.core Running enumerators...\n",
      "2022-10-20 15:08:12,836 INFO rxn_network.jobs.utils Running BasicEnumerator\n"
     ]
    },
    {
     "name": "stderr",
     "output_type": "stream",
     "text": [
      "100%|██████████████████████████████████████████████████████████████████████████████████████████████████████████████████████████████████████████████████████████████| 4/4 [00:01<00:00,  3.06it/s]"
     ]
    },
    {
     "name": "stdout",
     "output_type": "stream",
     "text": [
      "2022-10-20 15:08:14,164 INFO rxn_network.jobs.utils Adding 692 reactions to reaction set\n",
      "2022-10-20 15:08:14,164 INFO rxn_network.jobs.utils Completed reaction enumeration. Filtering duplicates...\n",
      "2022-10-20 15:08:14,170 INFO rxn_network.jobs.core Building task document...\n"
     ]
    },
    {
     "name": "stderr",
     "output_type": "stream",
     "text": [
      "\n"
     ]
    },
    {
     "name": "stdout",
     "output_type": "stream",
     "text": [
      "2022-10-20 15:08:14,547 INFO Finished job - enumerate_reactions (604d00cc-066c-4cb0-a3a3-3c9d6cd6334b)\n",
      "2022-10-20 15:08:14,548 INFO Finished executing jobs locally\n"
     ]
    }
   ],
   "source": [
    "output = run_locally(job)"
   ]
  },
  {
   "cell_type": "markdown",
   "id": "46242cba",
   "metadata": {},
   "source": [
    "The final reaction set can be accessed from the output dictionary like such:"
   ]
  },
  {
   "cell_type": "code",
   "execution_count": 58,
   "id": "24192ccd",
   "metadata": {},
   "outputs": [
    {
     "data": {
      "text/plain": [
       "<rxn_network.reactions.reaction_set.ReactionSet at 0x1d64745b0>"
      ]
     },
     "execution_count": 58,
     "metadata": {},
     "output_type": "execute_result"
    }
   ],
   "source": [
    "output[job.uuid][1].output.rxns"
   ]
  },
  {
   "cell_type": "markdown",
   "id": "3fc8c940",
   "metadata": {},
   "source": [
    "### Thank you!"
   ]
  },
  {
   "cell_type": "markdown",
   "id": "aa8a228a",
   "metadata": {},
   "source": [
    "We hope this notebook was helpful in introducing the enumerator classes found in the _reaction-network_ package. If any significant errors are encountered, please first double-check that your settings are configured properly (e.g., proper installation of all dependencies, acquisition of a Materials Project API key, etc.). \n",
    "\n",
    "If the error persists, then please raise an Issue here: https://github.com/GENESIS-EFRC/reaction-network/issues"
   ]
  },
  {
   "cell_type": "code",
   "execution_count": null,
   "id": "d417defa",
   "metadata": {},
   "outputs": [],
   "source": []
  }
 ],
 "metadata": {
  "kernelspec": {
   "display_name": "Python 3.10.5 ('rn_dev2')",
   "language": "python",
   "name": "python3"
  },
  "language_info": {
   "codemirror_mode": {
    "name": "ipython",
    "version": 3
   },
   "file_extension": ".py",
   "mimetype": "text/x-python",
   "name": "python",
   "nbconvert_exporter": "python",
   "pygments_lexer": "ipython3",
   "version": "3.10.5"
  },
  "vscode": {
   "interpreter": {
    "hash": "5d5292815e8c21b9811b09f4fe6fb9adaf69c51506b184e6b5ace51a90d68f4f"
   }
  }
 },
 "nbformat": 4,
 "nbformat_minor": 5
}
